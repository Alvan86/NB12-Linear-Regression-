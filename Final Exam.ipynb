{
 "cells": [
  {
   "cell_type": "markdown",
   "metadata": {
    "deletable": false,
    "editable": false,
    "nbgrader": {
     "grade": false,
     "locked": true,
     "solution": false
    },
    "tags": [
     "notebook_header"
    ]
   },
   "source": [
    "# Final Exam, Spring 2023: Bike Share\n",
    "\n",
    "Revision history:\n",
    "- 1.1: Added clarification note to [ex7]\n",
    "- 1.0.1: Fixed typos (no code changes) [ex5, ex7, ex8]\n",
    "- 1.0: Initial release\n",
    "\n",
    "*All of the header information is important. Please read it.*\n",
    "\n",
    "**Topics, number of exercises:** This problem builds on your knowledge of Python, pandas, graphs, and clustering. It has **nine (9)** exercises, numbered 0 to **8**. There are **18** available points. However, to earn 100% the threshold is **12** points. (Therefore, once you hit **12** points, you can stop. There is no extra credit for exceeding this threshold.)\n",
    "\n",
    "**Exercise ordering:** Each exercise builds logically on previous exercises, but you may solve them in any order. That is, if you can't solve an exercise, you can still move on and try the next one. Use this to your advantage, as the exercises are **not** necessarily ordered in terms of difficulty. Higher point values generally indicate more difficult exercises. \n",
    "\n",
    "**Demo cells:** Code cells starting with the comment `### define demo inputs` load results from prior exercises applied to the entire data set and use those to build demo inputs. These must be run for subsequent demos to work properly, but they do not affect the test cells. The data loaded in these cells may be rather large (at least in terms of human readability). You are free to print or otherwise use Python to explore them, but we did not print them in the starter code.\n",
    "\n",
    "**Debugging you code:** Right before each exercise test cell, there is a block of text explaining the variables available to you for debugging. You may use these to test your code and can print/display them as needed (careful when printing large objects, you may want to print the head or chunks of rows at a time).\n",
    "\n",
    "**Exercise point breakdown:**\n",
    "\n",
    "- Exercise 0: **1** point\n",
    "- Exercise 1: **2** points\n",
    "- Exercise 2: **2** points\n",
    "- Exercise 3: **1** point — **FREE** (no coding but you **must** submit to the autograder to earn it)\n",
    "- Exercise 4: **1** point\n",
    "- Exercise 5: **3** points\n",
    "- Exercise 6: **4** points\n",
    "- Exercise 7: **2** points\n",
    "- Exercise 8: **2** points\n",
    "\n",
    "**Final reminders:** \n",
    "\n",
    "- Submit after **every exercise**\n",
    "- Review the generated grade report after you submit to see what errors were returned\n",
    "- Stay calm, skip problems as needed, and take short breaks at your leisure"
   ]
  },
  {
   "cell_type": "markdown",
   "metadata": {
    "deletable": false,
    "editable": false,
    "nbgrader": {
     "grade": false,
     "locked": true,
     "solution": false
    },
    "tags": [
     "topic_intro"
    ]
   },
   "source": [
    "# Introduction: Bike-share planning #\n",
    "\n",
    "The New York City metropolitan area has a bike-sharing service called [Citi Bike](https://citibikenyc.com). They need your help analyzing the [data they've collected](https://citibikenyc.com/system-data) about how riders are using the service.\n",
    "\n",
    "The input data consists of **trip records**. A trip record shows when a user (\"rider\") picked up a bike and when she returned the bike, possibly at two different stations. Here is a quick visualization of the data: dots are stations and blue lines indicate trips between a pair of stations. (The color and thickness are scaled by how many trips occurred between two spots; you'll write code to reconstruct this picture later.)\n",
    "\n",
    "![Example viz: path frequences](resource/asnlib/public/path-frequencies.png)\n",
    "\n",
    "You will help the NYC government with two analytics tasks:\n",
    "\n",
    "1. analyzing bike inventory, and\n",
    "2. deciding where to place advertisements for local small-businesses.\n",
    "\n",
    "Good luck—the city of New York thanks you!"
   ]
  },
  {
   "cell_type": "markdown",
   "metadata": {
    "deletable": false,
    "editable": false,
    "nbgrader": {
     "grade": false,
     "locked": true,
     "solution": false
    }
   },
   "source": [
    "# Setup #\n",
    "\n",
    "To get started, run the code cell below. It will load a few modules you may find helpful."
   ]
  },
  {
   "cell_type": "code",
   "execution_count": 66,
   "metadata": {
    "ExecuteTime": {
     "end_time": "2023-04-27T23:49:52.784750Z",
     "start_time": "2023-04-27T23:49:52.211026Z"
    },
    "deletable": false,
    "editable": false,
    "nbgrader": {
     "grade": false,
     "locked": true,
     "solution": false
    },
    "tags": [
     "global_imports"
    ]
   },
   "outputs": [
    {
     "name": "stdout",
     "output_type": "stream",
     "text": [
      "\n",
      "=== Package versions in your environment ===\n",
      "* Python: 3.8.7 (default, Jan 25 2021, 11:14:52)  [GCC 5.5.0 20171010]\n",
      "* pandas: 1.4.0\n",
      "* numpy: 1.22.1\n",
      "* scipy: 1.7.3\n",
      "* cse6040: 23.04.26\n"
     ]
    }
   ],
   "source": [
    "### Global Imports\n",
    "###\n",
    "### AUTOGRADER TEST - DO NOT REMOVE\n",
    "###\n",
    "\n",
    "\n",
    "import sys\n",
    "import numpy as np\n",
    "import pandas as pd\n",
    "import scipy as sp\n",
    "\n",
    "import cse6040\n",
    "import cse6040.utils\n",
    "\n",
    "print(\"\\n=== Package versions in your environment ===\")\n",
    "print(\"* Python: \" +  sys.version.replace('\\n', ' '))\n",
    "print(f\"* pandas: {pd.__version__}\")\n",
    "print(f\"* numpy: {np.__version__}\")\n",
    "print(f\"* scipy: {sp.__version__}\")\n",
    "print(f\"* cse6040: {cse6040.__version__}\")"
   ]
  },
  {
   "cell_type": "markdown",
   "metadata": {
    "deletable": false,
    "editable": false,
    "nbgrader": {
     "grade": false,
     "locked": true,
     "solution": false
    }
   },
   "source": [
    "# Part A: Basic dataset cleaning #"
   ]
  },
  {
   "cell_type": "markdown",
   "metadata": {
    "deletable": false,
    "editable": false,
    "nbgrader": {
     "grade": false,
     "locked": true,
     "solution": false
    }
   },
   "source": [
    "Let's start by loading and inspecting the dataset, which will be loaded into a pandas dataframe named `trips`:"
   ]
  },
  {
   "cell_type": "code",
   "execution_count": 67,
   "metadata": {
    "ExecuteTime": {
     "end_time": "2023-04-27T23:49:53.720800Z",
     "start_time": "2023-04-27T23:49:52.786048Z"
    },
    "deletable": false,
    "editable": false,
    "nbgrader": {
     "grade": false,
     "locked": true,
     "solution": false
    }
   },
   "outputs": [
    {
     "name": "stdout",
     "output_type": "stream",
     "text": [
      "Loading CSV file, 'resource/asnlib/publicdata/JC-202206-citibike-tripdata.csv'...\n",
      "  ==> Done! Found 103,299 records (rows).\n",
      "Loading CSV file, 'resource/asnlib/publicdata/JC-202207-citibike-tripdata.csv'...\n",
      "  ==> Done! Found 108,502 records (rows).\n",
      "Loading CSV file, 'resource/asnlib/publicdata/JC-202208-citibike-tripdata.csv'...\n",
      "  ==> Done! Found 115,231 records (rows).\n",
      "\n",
      "Total number of rows: 327,032. Here are the first few:\n"
     ]
    },
    {
     "data": {
      "text/html": [
       "<div>\n",
       "<style scoped>\n",
       "    .dataframe tbody tr th:only-of-type {\n",
       "        vertical-align: middle;\n",
       "    }\n",
       "\n",
       "    .dataframe tbody tr th {\n",
       "        vertical-align: top;\n",
       "    }\n",
       "\n",
       "    .dataframe thead th {\n",
       "        text-align: right;\n",
       "    }\n",
       "</style>\n",
       "<table border=\"1\" class=\"dataframe\">\n",
       "  <thead>\n",
       "    <tr style=\"text-align: right;\">\n",
       "      <th></th>\n",
       "      <th>ride_id</th>\n",
       "      <th>rideable_type</th>\n",
       "      <th>started_at</th>\n",
       "      <th>ended_at</th>\n",
       "      <th>start_station_name</th>\n",
       "      <th>start_station_id</th>\n",
       "      <th>end_station_name</th>\n",
       "      <th>end_station_id</th>\n",
       "      <th>start_lat</th>\n",
       "      <th>start_lng</th>\n",
       "      <th>end_lat</th>\n",
       "      <th>end_lng</th>\n",
       "      <th>member_casual</th>\n",
       "    </tr>\n",
       "  </thead>\n",
       "  <tbody>\n",
       "    <tr>\n",
       "      <th>0</th>\n",
       "      <td>EEA3CD3B084370F4</td>\n",
       "      <td>classic_bike</td>\n",
       "      <td>2022-06-30 19:17:16</td>\n",
       "      <td>2022-06-30 19:27:13</td>\n",
       "      <td>Clinton St &amp; Newark St</td>\n",
       "      <td>HB409</td>\n",
       "      <td>Grand St &amp; 14 St</td>\n",
       "      <td>HB506</td>\n",
       "      <td>40.737430</td>\n",
       "      <td>-74.035710</td>\n",
       "      <td>40.754090</td>\n",
       "      <td>-74.031600</td>\n",
       "      <td>casual</td>\n",
       "    </tr>\n",
       "    <tr>\n",
       "      <th>1</th>\n",
       "      <td>BF568C9B3C5FAE94</td>\n",
       "      <td>classic_bike</td>\n",
       "      <td>2022-06-02 12:46:44</td>\n",
       "      <td>2022-06-02 15:08:33</td>\n",
       "      <td>Clinton St &amp; Newark St</td>\n",
       "      <td>HB409</td>\n",
       "      <td>Grand St &amp; 14 St</td>\n",
       "      <td>HB506</td>\n",
       "      <td>40.737430</td>\n",
       "      <td>-74.035710</td>\n",
       "      <td>40.754090</td>\n",
       "      <td>-74.031600</td>\n",
       "      <td>casual</td>\n",
       "    </tr>\n",
       "    <tr>\n",
       "      <th>2</th>\n",
       "      <td>DF6B06D460481A7E</td>\n",
       "      <td>classic_bike</td>\n",
       "      <td>2022-06-05 14:17:34</td>\n",
       "      <td>2022-06-05 14:27:12</td>\n",
       "      <td>Clinton St &amp; Newark St</td>\n",
       "      <td>HB409</td>\n",
       "      <td>Grand St &amp; 14 St</td>\n",
       "      <td>HB506</td>\n",
       "      <td>40.737430</td>\n",
       "      <td>-74.035710</td>\n",
       "      <td>40.754090</td>\n",
       "      <td>-74.031600</td>\n",
       "      <td>casual</td>\n",
       "    </tr>\n",
       "    <tr>\n",
       "      <th>3</th>\n",
       "      <td>A26CDB92CDF7E0EE</td>\n",
       "      <td>electric_bike</td>\n",
       "      <td>2022-06-01 18:57:12</td>\n",
       "      <td>2022-06-01 19:05:58</td>\n",
       "      <td>Clinton St &amp; Newark St</td>\n",
       "      <td>HB409</td>\n",
       "      <td>Pershing Field</td>\n",
       "      <td>JC024</td>\n",
       "      <td>40.737430</td>\n",
       "      <td>-74.035710</td>\n",
       "      <td>40.742677</td>\n",
       "      <td>-74.051789</td>\n",
       "      <td>member</td>\n",
       "    </tr>\n",
       "    <tr>\n",
       "      <th>4</th>\n",
       "      <td>A2A50E81031E9E7F</td>\n",
       "      <td>electric_bike</td>\n",
       "      <td>2022-06-14 22:45:53</td>\n",
       "      <td>2022-06-14 22:49:39</td>\n",
       "      <td>Oakland Ave</td>\n",
       "      <td>JC022</td>\n",
       "      <td>Pershing Field</td>\n",
       "      <td>JC024</td>\n",
       "      <td>40.737604</td>\n",
       "      <td>-74.052478</td>\n",
       "      <td>40.742677</td>\n",
       "      <td>-74.051789</td>\n",
       "      <td>member</td>\n",
       "    </tr>\n",
       "  </tbody>\n",
       "</table>\n",
       "</div>"
      ],
      "text/plain": [
       "            ride_id  rideable_type          started_at            ended_at  \\\n",
       "0  EEA3CD3B084370F4   classic_bike 2022-06-30 19:17:16 2022-06-30 19:27:13   \n",
       "1  BF568C9B3C5FAE94   classic_bike 2022-06-02 12:46:44 2022-06-02 15:08:33   \n",
       "2  DF6B06D460481A7E   classic_bike 2022-06-05 14:17:34 2022-06-05 14:27:12   \n",
       "3  A26CDB92CDF7E0EE  electric_bike 2022-06-01 18:57:12 2022-06-01 19:05:58   \n",
       "4  A2A50E81031E9E7F  electric_bike 2022-06-14 22:45:53 2022-06-14 22:49:39   \n",
       "\n",
       "       start_station_name start_station_id  end_station_name end_station_id  \\\n",
       "0  Clinton St & Newark St            HB409  Grand St & 14 St          HB506   \n",
       "1  Clinton St & Newark St            HB409  Grand St & 14 St          HB506   \n",
       "2  Clinton St & Newark St            HB409  Grand St & 14 St          HB506   \n",
       "3  Clinton St & Newark St            HB409    Pershing Field          JC024   \n",
       "4             Oakland Ave            JC022    Pershing Field          JC024   \n",
       "\n",
       "   start_lat  start_lng    end_lat    end_lng member_casual  \n",
       "0  40.737430 -74.035710  40.754090 -74.031600        casual  \n",
       "1  40.737430 -74.035710  40.754090 -74.031600        casual  \n",
       "2  40.737430 -74.035710  40.754090 -74.031600        casual  \n",
       "3  40.737430 -74.035710  40.742677 -74.051789        member  \n",
       "4  40.737604 -74.052478  40.742677 -74.051789        member  "
      ]
     },
     "execution_count": 67,
     "metadata": {},
     "output_type": "execute_result"
    }
   ],
   "source": [
    "trips_raw = pd.concat([cse6040.utils.load_csv(f\"JC-2022{mm:02d}-citibike-tripdata.csv\", verbose=True, abort_on_error=True) \\\n",
    "                   for mm in [6, 7, 8]], ignore_index=True)\n",
    "trips_raw['started_at'] = pd.to_datetime(trips_raw['started_at'])\n",
    "trips_raw['ended_at'] = pd.to_datetime(trips_raw['ended_at'])\n",
    "print(f\"\\nTotal number of rows: {len(trips_raw):,}. Here are the first few:\")\n",
    "trips_raw.head()"
   ]
  },
  {
   "cell_type": "markdown",
   "metadata": {
    "deletable": false,
    "editable": false,
    "nbgrader": {
     "grade": false,
     "locked": true,
     "solution": false
    }
   },
   "source": [
    "**Trip records (\"trips\") & riders**: Each record (row) of the `trips` dataframe corresponds to a trip that a **rider** took. The main information you'll need is the following:\n",
    "- The rider went to the bike station named `'start_station_name'` at the day and time given by `'started_at'`. The (longitude, latitude) coordinates of that station are given by (`'start_lng'`, `'start_lat'`).\n",
    "- The rider then used the bike until `'ended_at'`, at which time they returned the bike to the station named `'end_station_name'`. The geographic coordinates of the endpoint are (`'end_lng'`, `'end_lat'`)."
   ]
  },
  {
   "cell_type": "markdown",
   "metadata": {
    "deletable": false,
    "editable": false,
    "nbgrader": {
     "grade": false,
     "locked": true,
     "solution": false
    },
    "tags": [
     "exercise_text"
    ]
   },
   "source": [
    "## **Exercise 0** (1 pt): `clean_string` ##\n",
    "\n",
    "Recall that a Python string can have some special whitespace characters. These are \"escaped,\" meaning there is a backslash (`\\`) in front. For example, a tab character is the escaped sequence, `'\\t'`:"
   ]
  },
  {
   "cell_type": "code",
   "execution_count": 68,
   "metadata": {
    "ExecuteTime": {
     "end_time": "2023-04-27T23:49:53.736716Z",
     "start_time": "2023-04-27T23:49:53.721736Z"
    },
    "deletable": false,
    "editable": false,
    "nbgrader": {
     "grade": false,
     "locked": true,
     "solution": false
    }
   },
   "outputs": [
    {
     "name": "stdout",
     "output_type": "stream",
     "text": [
      "abc\txyz\n"
     ]
    }
   ],
   "source": [
    "print('abc\\txyz')"
   ]
  },
  {
   "cell_type": "markdown",
   "metadata": {
    "deletable": false,
    "editable": false,
    "nbgrader": {
     "grade": false,
     "locked": true,
     "solution": false
    },
    "tags": [
     "exercise_text"
    ]
   },
   "source": [
    "The station names may contain such escaped sequences. However, one weird case is that they can **also** contain the **actual** slash-and-t characters:"
   ]
  },
  {
   "cell_type": "code",
   "execution_count": 69,
   "metadata": {
    "ExecuteTime": {
     "end_time": "2023-04-27T23:49:53.755815Z",
     "start_time": "2023-04-27T23:49:53.738403Z"
    },
    "deletable": false,
    "editable": false,
    "nbgrader": {
     "grade": false,
     "locked": true,
     "solution": false
    }
   },
   "outputs": [
    {
     "name": "stdout",
     "output_type": "stream",
     "text": [
      "'Murray St\\\\t& West St'\n"
     ]
    }
   ],
   "source": [
    "print(repr(trips_raw['end_station_name'].loc[215_008]))"
   ]
  },
  {
   "cell_type": "markdown",
   "metadata": {
    "deletable": false,
    "editable": false,
    "nbgrader": {
     "grade": false,
     "locked": true,
     "solution": false
    },
    "tags": [
     "exercise_text"
    ]
   },
   "source": [
    "Notice that the example above contains the substring `'\\\\t'`.\n",
    "\n",
    "Complete the function, `clean_string(s)`, to preprocess a string and replace both instances of escaped-tabs (`'\\t'`) and the escaped-slash-and-tee (`'\\\\t'`) with a single space. In addition, your function should replace substrings of consecutive whitespace characters with a single space. See the example below.\n",
    "\n",
    "**Inputs**: A Python string, `s`.\n",
    "\n",
    "**Your task**:\n",
    "- Replace instances of `'\\\\t'` with a single space.\n",
    "- Replace consecutive whitespace (could be `'\\t'`, `'\\n'`, etc.) with a single space.\n",
    "- Trim any leading or trailing whitespace.\n",
    "\n",
    "**Output**: Return the Python-string result."
   ]
  },
  {
   "cell_type": "code",
   "execution_count": 70,
   "metadata": {
    "ExecuteTime": {
     "end_time": "2023-04-27T23:49:53.774413Z",
     "start_time": "2023-04-27T23:49:53.756870Z"
    },
    "collapsed": true,
    "deletable": false,
    "editable": false,
    "nbgrader": {
     "grade": false,
     "locked": true,
     "solution": false
    },
    "tags": [
     "demo_data"
    ]
   },
   "outputs": [],
   "source": [
    "### Demo input ###\n",
    "\n",
    "demo_s_ex1 = '  abc\\\\t\\t  \\n f38 456  \\n\\t  ' # Note: '\\t' and '\\n' are actual whitespace"
   ]
  },
  {
   "cell_type": "markdown",
   "metadata": {
    "deletable": false,
    "editable": false,
    "nbgrader": {
     "grade": false,
     "locked": true,
     "solution": false
    },
    "tags": [
     "demo_output_md"
    ]
   },
   "source": [
    "For the demo input shown above, the result would be:\n",
    "```python\n",
    "'abc f38 456'\n",
    "```"
   ]
  },
  {
   "cell_type": "code",
   "execution_count": 71,
   "metadata": {
    "ExecuteTime": {
     "end_time": "2023-04-27T23:49:53.793530Z",
     "start_time": "2023-04-27T23:49:53.775329Z"
    },
    "tags": [
     "exercise_solution"
    ]
   },
   "outputs": [
    {
     "data": {
      "text/plain": [
       "'abc f38 456'"
      ]
     },
     "execution_count": 71,
     "metadata": {},
     "output_type": "execute_result"
    }
   ],
   "source": [
    "### Exercise 0 solution\n",
    "def clean_string(s):\n",
    "    \n",
    "    import re\n",
    "    \n",
    "    s = s.replace('\\\\t', ' ') # s = s.replace(r'\\t', ' ')\n",
    "    s = re.sub('[\\s]+', ' ', s) # s = sub(r'\\s+', ' ', s)\n",
    "    s = s.strip()\n",
    "    \n",
    "    return s\n",
    "    \n",
    "### demo function call ###\n",
    "clean_string(demo_s_ex1)"
   ]
  },
  {
   "cell_type": "markdown",
   "metadata": {
    "deletable": false,
    "editable": false,
    "nbgrader": {
     "grade": false,
     "locked": true,
     "solution": false
    },
    "tags": [
     "test_data_boilerplate"
    ]
   },
   "source": [
    "<!-- Test Cell Boilerplate -->\n",
    "The cell below will test your solution for Exercise 0. The testing variables will be available for debugging under the following names in a dictionary format.\n",
    "- `input_vars` - Input variables for your solution. \n",
    "- `original_input_vars` - Copy of input variables from prior to running your solution. These _should_ be the same as `input_vars` - otherwise the inputs were modified by your solution.\n",
    "- `returned_output_vars` - Outputs returned by your solution.\n",
    "- `true_output_vars` - The expected output. This _should_ \"match\" `returned_output_vars` based on the question requirements - otherwise, your solution is not returning the correct output. "
   ]
  },
  {
   "cell_type": "code",
   "execution_count": 72,
   "metadata": {
    "ExecuteTime": {
     "end_time": "2023-04-27T23:49:58.196465Z",
     "start_time": "2023-04-27T23:49:58.172626Z"
    },
    "deletable": false,
    "editable": false,
    "nbgrader": {
     "grade": true,
     "grade_id": "ex0",
     "locked": true,
     "points": "1",
     "solution": false
    },
    "tags": []
   },
   "outputs": [
    {
     "name": "stdout",
     "output_type": "stream",
     "text": [
      "Passed! Please submit.\n"
     ]
    }
   ],
   "source": [
    "### test_cell_ex0\n",
    "###\n",
    "### AUTOGRADER TEST - DO NOT REMOVE\n",
    "###\n",
    "from tester_fw.testers import Tester\n",
    "\n",
    "conf = {\n",
    "    'case_file':'tc_0', \n",
    "    'func': clean_string, # replace this with the function defined above\n",
    "    'inputs':{ # input config dict. keys are parameter names\n",
    "        's':{\n",
    "            'dtype':'str', # data type of param.\n",
    "            'check_modified':False,\n",
    "        }\n",
    "    },\n",
    "    'outputs':{\n",
    "        'output_0':{\n",
    "            'index':0,\n",
    "            'dtype':'str',\n",
    "            'check_dtype': True,\n",
    "            'check_col_dtypes': True, # Ignored if dtype is not df\n",
    "            'check_col_order': True, # Ignored if dtype is not df\n",
    "            'check_row_order': True, # Ignored if dtype is not df\n",
    "            'float_tolerance': 10 ** (-6)\n",
    "        }\n",
    "    }\n",
    "}\n",
    "tester = Tester(conf, key=b'gy_fxnwg2syYRI07RIp8Lm6YY57OL1pZUkVTOC0T43Q=', path='resource/asnlib/publicdata/')\n",
    "for _ in range(70):\n",
    "    try:\n",
    "        tester.run_test()\n",
    "        (input_vars, original_input_vars, returned_output_vars, true_output_vars) = tester.get_test_vars()\n",
    "    except:\n",
    "        (input_vars, original_input_vars, returned_output_vars, true_output_vars) = tester.get_test_vars()\n",
    "        raise\n",
    "\n",
    "###\n",
    "### AUTOGRADER TEST - DO NOT REMOVE\n",
    "###\n",
    "print('Passed! Please submit.')"
   ]
  },
  {
   "cell_type": "markdown",
   "metadata": {
    "deletable": false,
    "editable": false,
    "nbgrader": {
     "grade": false,
     "locked": true,
     "solution": false
    },
    "tags": [
     "exercise_text"
    ]
   },
   "source": [
    "## **Exercise 1** (2 pts): `geo_filter` ##\n",
    "\n",
    "Every station has geographic (longitude, latitude) coordinates associated with it. Suppose we only want to consider stations whose coordinates fall within a given rectangle. Complete the function `geo_filter(df, a, b)`, below, to assist in this task.\n",
    "\n",
    "**Inputs**:\n",
    "- `df`: A dataframe containing at least the columns `'start_lng'`, `'start_lat'`, `'end_lng'`, and `'end_lat'`.\n",
    "- `a`: A Python pair (tuple) with two coordinates, `(a_lng, a_lat)`.\n",
    "- `b`: A Python pair (tuple) with two coordinates, `(b_lng, b_lat)`.\n",
    "\n",
    "**Your task**: Suppose `(x, y)` are the longitude-latitude coordinates of a station. We only want to keep trips where `a_lng <= x <= b_lng` and `a_lat <= y <= b_lat`.\n",
    "\n",
    "Since each row of `df` has a starting station and an ending station, you need to check both stations. Only keep rows where **both** stations lie within the rectangle.\n",
    "\n",
    "**Output**: Your function should return a **new** dataframe that has only the rows from `df` matching the criteria explained above.\n",
    "\n",
    "**Notes**:\n",
    "1. You may assume that `a_lng <= b_lng` and `a_lat <= b_lat`.\n",
    "2. An empty dataframe (no rows match) is a possible outcome."
   ]
  },
  {
   "cell_type": "code",
   "execution_count": 73,
   "metadata": {
    "ExecuteTime": {
     "end_time": "2023-04-27T23:49:58.220493Z",
     "start_time": "2023-04-27T23:49:58.197450Z"
    },
    "deletable": false,
    "editable": false,
    "nbgrader": {
     "grade": false,
     "locked": true,
     "solution": false
    },
    "tags": [
     "demo_data"
    ]
   },
   "outputs": [
    {
     "name": "stdout",
     "output_type": "stream",
     "text": [
      "=== Demo inputs ===\n"
     ]
    },
    {
     "data": {
      "text/html": [
       "<div>\n",
       "<style scoped>\n",
       "    .dataframe tbody tr th:only-of-type {\n",
       "        vertical-align: middle;\n",
       "    }\n",
       "\n",
       "    .dataframe tbody tr th {\n",
       "        vertical-align: top;\n",
       "    }\n",
       "\n",
       "    .dataframe thead th {\n",
       "        text-align: right;\n",
       "    }\n",
       "</style>\n",
       "<table border=\"1\" class=\"dataframe\">\n",
       "  <thead>\n",
       "    <tr style=\"text-align: right;\">\n",
       "      <th></th>\n",
       "      <th>ride_id</th>\n",
       "      <th>start_lng</th>\n",
       "      <th>start_lat</th>\n",
       "      <th>end_lng</th>\n",
       "      <th>end_lat</th>\n",
       "    </tr>\n",
       "  </thead>\n",
       "  <tbody>\n",
       "    <tr>\n",
       "      <th>0</th>\n",
       "      <td>DD0EAAE52F0A2B4E</td>\n",
       "      <td>-74.0355</td>\n",
       "      <td>40.7243</td>\n",
       "      <td>-74.0278</td>\n",
       "      <td>40.7370</td>\n",
       "    </tr>\n",
       "    <tr>\n",
       "      <th>1</th>\n",
       "      <td>C9BA237315EBF5C6</td>\n",
       "      <td>-74.0272</td>\n",
       "      <td>40.7500</td>\n",
       "      <td>-74.0310</td>\n",
       "      <td>40.7374</td>\n",
       "    </tr>\n",
       "    <tr>\n",
       "      <th>2</th>\n",
       "      <td>BE74FEAC74D6F7E9</td>\n",
       "      <td>-74.0557</td>\n",
       "      <td>40.7112</td>\n",
       "      <td>-74.0428</td>\n",
       "      <td>40.7146</td>\n",
       "    </tr>\n",
       "    <tr>\n",
       "      <th>3</th>\n",
       "      <td>445646A328047667</td>\n",
       "      <td>-74.0442</td>\n",
       "      <td>40.7276</td>\n",
       "      <td>-74.0431</td>\n",
       "      <td>40.7196</td>\n",
       "    </tr>\n",
       "  </tbody>\n",
       "</table>\n",
       "</div>"
      ],
      "text/plain": [
       "            ride_id  start_lng  start_lat  end_lng  end_lat\n",
       "0  DD0EAAE52F0A2B4E   -74.0355    40.7243 -74.0278  40.7370\n",
       "1  C9BA237315EBF5C6   -74.0272    40.7500 -74.0310  40.7374\n",
       "2  BE74FEAC74D6F7E9   -74.0557    40.7112 -74.0428  40.7146\n",
       "3  445646A328047667   -74.0442    40.7276 -74.0431  40.7196"
      ]
     },
     "metadata": {},
     "output_type": "display_data"
    },
    {
     "name": "stdout",
     "output_type": "stream",
     "text": [
      "a = (-74.0668, 40.7011)\n",
      "b = (-74.0256, 40.7486)\n"
     ]
    }
   ],
   "source": [
    "### Define demo inputs ###\n",
    "\n",
    "demo_a_ex1 = (-74.0668, 40.7011)\n",
    "demo_b_ex1 = (-74.0256, 40.7486)\n",
    "\n",
    "demo_df_ex1 = pd.DataFrame({\n",
    "    'ride_id': ['DD0EAAE52F0A2B4E', 'C9BA237315EBF5C6', 'BE74FEAC74D6F7E9', '445646A328047667']\n",
    "    , 'start_lng': [-74.0355, -74.0272, -74.0557, -74.0442]\n",
    "    , 'start_lat': [40.7243, 40.75, 40.7112, 40.7276]\n",
    "    , 'end_lng': [-74.0278, -74.031, -74.0428, -74.0431]\n",
    "    , 'end_lat': [40.737, 40.7374, 40.7146, 40.7196]\n",
    "})\n",
    "\n",
    "print(\"=== Demo inputs ===\")\n",
    "display(demo_df_ex1)\n",
    "print(\"a =\", demo_a_ex1)\n",
    "print(\"b =\", demo_b_ex1)"
   ]
  },
  {
   "cell_type": "markdown",
   "metadata": {
    "deletable": false,
    "editable": false,
    "nbgrader": {
     "grade": false,
     "locked": true,
     "solution": false
    },
    "tags": [
     "demo_output_md"
    ]
   },
   "source": [
    "For the demo inputs above, a correct `geo_filter` function would return the following:\n",
    "\n",
    "| ride_id          |   start_lng |   start_lat |   end_lng |   end_lat |\n",
    "|:-----------------|------------:|------------:|----------:|----------:|\n",
    "| DD0EAAE52F0A2B4E |    -74.0355 |     40.7243 |  -74.0278 |   40.737  |\n",
    "| BE74FEAC74D6F7E9 |    -74.0557 |     40.7112 |  -74.0428 |   40.7146 |\n",
    "| 445646A328047667 |    -74.0442 |     40.7276 |  -74.0431 |   40.7196 |\n",
    "\n",
    "Observe that row 1 does not appear in the output. That's because the starting latitude, 40.7500, falls outside the target range of (40.7011, 40.74857)."
   ]
  },
  {
   "cell_type": "code",
   "execution_count": 74,
   "metadata": {
    "ExecuteTime": {
     "end_time": "2023-04-27T23:49:58.243992Z",
     "start_time": "2023-04-27T23:49:58.223209Z"
    },
    "collapsed": true,
    "tags": [
     "exercise_solution"
    ]
   },
   "outputs": [],
   "source": [
    "### Exercise 1 solution\n",
    "def geo_filter(df, a, b):\n",
    "    \n",
    "    a_lng, a_lat = a  \n",
    "    b_lng, b_lat = b\n",
    "    \n",
    "    start = (df['start_lng'] >= a_lng) & (df['start_lng'] <= b_lng) & \\\n",
    "            (df['start_lat'] >= a_lat) & (df['start_lat'] <= b_lat)\n",
    "      \n",
    "    \n",
    "    end = (df['end_lng'] >= a_lng) & (df['end_lng'] <= b_lng) & \\\n",
    "            (df['end_lat'] >= a_lat) & (df['end_lat'] <= b_lat)\n",
    "        \n",
    "    \n",
    "    filtered_df = df[start & end]\n",
    "    \n",
    "    return filtered_df  \n",
    "\n",
    "#     keepers = True\n",
    "#     for lng, lat in [('start_lng', 'start_lat'), ('end_lng', 'end_lat')]:\n",
    "#         keepers &= (a[0] <= df[lng]) & (df[lng] <= b[0])\n",
    "#         keepers &= (a[1] <= df[lat]) & (df[lat] <= b[1])\n",
    "#     return df[keepers].copy()\n",
    "        \n",
    "### demo function call ###"
   ]
  },
  {
   "cell_type": "markdown",
   "metadata": {
    "deletable": false,
    "editable": false,
    "nbgrader": {
     "grade": false,
     "locked": true,
     "solution": false
    },
    "tags": [
     "test_data_boilerplate"
    ]
   },
   "source": [
    "<!-- Test Cell Boilerplate -->\n",
    "The cell below will test your solution for Exercise 1. The testing variables will be available for debugging under the following names in a dictionary format.\n",
    "- `input_vars` - Input variables for your solution. \n",
    "- `original_input_vars` - Copy of input variables from prior to running your solution. These _should_ be the same as `input_vars` - otherwise the inputs were modified by your solution.\n",
    "- `returned_output_vars` - Outputs returned by your solution.\n",
    "- `true_output_vars` - The expected output. This _should_ \"match\" `returned_output_vars` based on the question requirements - otherwise, your solution is not returning the correct output. "
   ]
  },
  {
   "cell_type": "code",
   "execution_count": 75,
   "metadata": {
    "ExecuteTime": {
     "end_time": "2023-04-27T23:50:05.845954Z",
     "start_time": "2023-04-27T23:50:05.533166Z"
    },
    "deletable": false,
    "editable": false,
    "nbgrader": {
     "grade": true,
     "grade_id": "ex1",
     "locked": true,
     "points": "2",
     "solution": false
    },
    "tags": []
   },
   "outputs": [
    {
     "name": "stdout",
     "output_type": "stream",
     "text": [
      "Passed! Please submit.\n"
     ]
    }
   ],
   "source": [
    "### test_cell_ex1\n",
    "###\n",
    "### AUTOGRADER TEST - DO NOT REMOVE\n",
    "###\n",
    "from tester_fw.testers import Tester\n",
    "\n",
    "conf = {\n",
    "    'case_file':'tc_1', \n",
    "    'func': geo_filter, # replace this with the function defined above\n",
    "    'inputs':{ # input config dict. keys are parameter names\n",
    "        'df':{\n",
    "            'dtype':'df', # data type of param.\n",
    "            'check_modified':True,\n",
    "        },\n",
    "        'a': {\n",
    "            'dtype': 'tuple',\n",
    "            'check_modified': False\n",
    "        },\n",
    "        'b': {\n",
    "            'dtype': 'tuple',\n",
    "            'check_modified': False\n",
    "        }\n",
    "    },\n",
    "    'outputs':{\n",
    "        'output_0':{\n",
    "            'index':0,\n",
    "            'dtype':'df',\n",
    "            'check_dtype': True,\n",
    "            'check_col_dtypes': True, # Ignored if dtype is not df\n",
    "            'check_col_order': False, # Ignored if dtype is not df\n",
    "            'check_row_order': False, # Ignored if dtype is not df\n",
    "            'float_tolerance': 10 ** (-6)\n",
    "        }\n",
    "    }\n",
    "}\n",
    "tester = Tester(conf, key=b'gy_fxnwg2syYRI07RIp8Lm6YY57OL1pZUkVTOC0T43Q=', path='resource/asnlib/publicdata/')\n",
    "for _ in range(70):\n",
    "    try:\n",
    "        tester.run_test()\n",
    "        (input_vars, original_input_vars, returned_output_vars, true_output_vars) = tester.get_test_vars()\n",
    "    except:\n",
    "        (input_vars, original_input_vars, returned_output_vars, true_output_vars) = tester.get_test_vars()\n",
    "        raise\n",
    "\n",
    "###\n",
    "### AUTOGRADER TEST - DO NOT REMOVE\n",
    "###\n",
    "print('Passed! Please submit.')"
   ]
  },
  {
   "cell_type": "markdown",
   "metadata": {
    "ExecuteTime": {
     "end_time": "2023-04-27T01:11:52.395715Z",
     "start_time": "2023-04-27T01:11:52.355649Z"
    },
    "deletable": false,
    "editable": false,
    "nbgrader": {
     "grade": false,
     "locked": true,
     "solution": false
    }
   },
   "source": [
    "## Run me (Ex. 0 & 1) ##\n",
    "\n",
    "Correct implementations of `clean_string` (Exercise 0) and `geo_filter` (Exercise 1), when run on `trips_raw`, would produce the dataframe below, called `trips`. We will use this dataframe in subsequent demos, so please run the cell below."
   ]
  },
  {
   "cell_type": "code",
   "execution_count": 76,
   "metadata": {
    "ExecuteTime": {
     "end_time": "2023-04-27T23:50:05.968302Z",
     "start_time": "2023-04-27T23:50:05.847088Z"
    },
    "deletable": false,
    "editable": false,
    "nbgrader": {
     "grade": false,
     "locked": true,
     "solution": false
    }
   },
   "outputs": [
    {
     "name": "stdout",
     "output_type": "stream",
     "text": [
      "=== Cleaned and geographically filtered `trips` ===\n"
     ]
    },
    {
     "data": {
      "text/html": [
       "<div>\n",
       "<style scoped>\n",
       "    .dataframe tbody tr th:only-of-type {\n",
       "        vertical-align: middle;\n",
       "    }\n",
       "\n",
       "    .dataframe tbody tr th {\n",
       "        vertical-align: top;\n",
       "    }\n",
       "\n",
       "    .dataframe thead th {\n",
       "        text-align: right;\n",
       "    }\n",
       "</style>\n",
       "<table border=\"1\" class=\"dataframe\">\n",
       "  <thead>\n",
       "    <tr style=\"text-align: right;\">\n",
       "      <th></th>\n",
       "      <th>ride_id</th>\n",
       "      <th>rideable_type</th>\n",
       "      <th>started_at</th>\n",
       "      <th>ended_at</th>\n",
       "      <th>start_station_name</th>\n",
       "      <th>start_station_id</th>\n",
       "      <th>end_station_name</th>\n",
       "      <th>end_station_id</th>\n",
       "      <th>start_lat</th>\n",
       "      <th>start_lng</th>\n",
       "      <th>end_lat</th>\n",
       "      <th>end_lng</th>\n",
       "      <th>member_casual</th>\n",
       "    </tr>\n",
       "  </thead>\n",
       "  <tbody>\n",
       "    <tr>\n",
       "      <th>0</th>\n",
       "      <td>EEA3CD3B084370F4</td>\n",
       "      <td>classic_bike</td>\n",
       "      <td>2022-06-30 19:17:16</td>\n",
       "      <td>2022-06-30 19:27:13</td>\n",
       "      <td>Clinton St &amp; Newark St</td>\n",
       "      <td>HB409</td>\n",
       "      <td>Grand St &amp; 14 St</td>\n",
       "      <td>HB506</td>\n",
       "      <td>40.737430</td>\n",
       "      <td>-74.035710</td>\n",
       "      <td>40.754090</td>\n",
       "      <td>-74.031600</td>\n",
       "      <td>casual</td>\n",
       "    </tr>\n",
       "    <tr>\n",
       "      <th>1</th>\n",
       "      <td>BF568C9B3C5FAE94</td>\n",
       "      <td>classic_bike</td>\n",
       "      <td>2022-06-02 12:46:44</td>\n",
       "      <td>2022-06-02 15:08:33</td>\n",
       "      <td>Clinton St &amp; Newark St</td>\n",
       "      <td>HB409</td>\n",
       "      <td>Grand St &amp; 14 St</td>\n",
       "      <td>HB506</td>\n",
       "      <td>40.737430</td>\n",
       "      <td>-74.035710</td>\n",
       "      <td>40.754090</td>\n",
       "      <td>-74.031600</td>\n",
       "      <td>casual</td>\n",
       "    </tr>\n",
       "    <tr>\n",
       "      <th>2</th>\n",
       "      <td>DF6B06D460481A7E</td>\n",
       "      <td>classic_bike</td>\n",
       "      <td>2022-06-05 14:17:34</td>\n",
       "      <td>2022-06-05 14:27:12</td>\n",
       "      <td>Clinton St &amp; Newark St</td>\n",
       "      <td>HB409</td>\n",
       "      <td>Grand St &amp; 14 St</td>\n",
       "      <td>HB506</td>\n",
       "      <td>40.737430</td>\n",
       "      <td>-74.035710</td>\n",
       "      <td>40.754090</td>\n",
       "      <td>-74.031600</td>\n",
       "      <td>casual</td>\n",
       "    </tr>\n",
       "    <tr>\n",
       "      <th>3</th>\n",
       "      <td>A26CDB92CDF7E0EE</td>\n",
       "      <td>electric_bike</td>\n",
       "      <td>2022-06-01 18:57:12</td>\n",
       "      <td>2022-06-01 19:05:58</td>\n",
       "      <td>Clinton St &amp; Newark St</td>\n",
       "      <td>HB409</td>\n",
       "      <td>Pershing Field</td>\n",
       "      <td>JC024</td>\n",
       "      <td>40.737430</td>\n",
       "      <td>-74.035710</td>\n",
       "      <td>40.742677</td>\n",
       "      <td>-74.051789</td>\n",
       "      <td>member</td>\n",
       "    </tr>\n",
       "    <tr>\n",
       "      <th>4</th>\n",
       "      <td>A2A50E81031E9E7F</td>\n",
       "      <td>electric_bike</td>\n",
       "      <td>2022-06-14 22:45:53</td>\n",
       "      <td>2022-06-14 22:49:39</td>\n",
       "      <td>Oakland Ave</td>\n",
       "      <td>JC022</td>\n",
       "      <td>Pershing Field</td>\n",
       "      <td>JC024</td>\n",
       "      <td>40.737604</td>\n",
       "      <td>-74.052478</td>\n",
       "      <td>40.742677</td>\n",
       "      <td>-74.051789</td>\n",
       "      <td>member</td>\n",
       "    </tr>\n",
       "  </tbody>\n",
       "</table>\n",
       "</div>"
      ],
      "text/plain": [
       "            ride_id  rideable_type          started_at            ended_at  \\\n",
       "0  EEA3CD3B084370F4   classic_bike 2022-06-30 19:17:16 2022-06-30 19:27:13   \n",
       "1  BF568C9B3C5FAE94   classic_bike 2022-06-02 12:46:44 2022-06-02 15:08:33   \n",
       "2  DF6B06D460481A7E   classic_bike 2022-06-05 14:17:34 2022-06-05 14:27:12   \n",
       "3  A26CDB92CDF7E0EE  electric_bike 2022-06-01 18:57:12 2022-06-01 19:05:58   \n",
       "4  A2A50E81031E9E7F  electric_bike 2022-06-14 22:45:53 2022-06-14 22:49:39   \n",
       "\n",
       "       start_station_name start_station_id  end_station_name end_station_id  \\\n",
       "0  Clinton St & Newark St            HB409  Grand St & 14 St          HB506   \n",
       "1  Clinton St & Newark St            HB409  Grand St & 14 St          HB506   \n",
       "2  Clinton St & Newark St            HB409  Grand St & 14 St          HB506   \n",
       "3  Clinton St & Newark St            HB409    Pershing Field          JC024   \n",
       "4             Oakland Ave            JC022    Pershing Field          JC024   \n",
       "\n",
       "   start_lat  start_lng    end_lat    end_lng member_casual  \n",
       "0  40.737430 -74.035710  40.754090 -74.031600        casual  \n",
       "1  40.737430 -74.035710  40.754090 -74.031600        casual  \n",
       "2  40.737430 -74.035710  40.754090 -74.031600        casual  \n",
       "3  40.737430 -74.035710  40.742677 -74.051789        member  \n",
       "4  40.737604 -74.052478  40.742677 -74.051789        member  "
      ]
     },
     "execution_count": 76,
     "metadata": {},
     "output_type": "execute_result"
    }
   ],
   "source": [
    "trips = cse6040.utils.load_df_from_file(\"ex1-trips.df\")\n",
    "print(f\"=== Cleaned and geographically filtered `trips` ===\")\n",
    "trips.head()"
   ]
  },
  {
   "cell_type": "markdown",
   "metadata": {
    "deletable": false,
    "editable": false,
    "nbgrader": {
     "grade": false,
     "locked": true,
     "solution": false
    }
   },
   "source": [
    "# Part B: Initial statistical analyses #\n",
    "\n",
    "Now that we have a clean set of trip records in a region of interest, let's do some analysis."
   ]
  },
  {
   "cell_type": "markdown",
   "metadata": {
    "deletable": false,
    "editable": false,
    "nbgrader": {
     "grade": false,
     "locked": true,
     "solution": false
    },
    "tags": [
     "exercise_text"
    ]
   },
   "source": [
    "## **Exercise 2** (2 pts): `hist_dow` ##\n",
    "\n",
    "The NYC city planners have asked you to calculate which days of the week are most popular. Luckily, the ride starting-times are stored as `datetime64` objects, which you can verify by running the next cell:"
   ]
  },
  {
   "cell_type": "code",
   "execution_count": 77,
   "metadata": {
    "ExecuteTime": {
     "end_time": "2023-04-27T23:50:06.068745Z",
     "start_time": "2023-04-27T23:50:06.050177Z"
    },
    "deletable": false,
    "editable": false,
    "nbgrader": {
     "grade": false,
     "locked": true,
     "solution": false
    }
   },
   "outputs": [
    {
     "name": "stdout",
     "output_type": "stream",
     "text": [
      "0        2022-06-30 19:17:16\n",
      "1        2022-06-02 12:46:44\n",
      "2        2022-06-05 14:17:34\n",
      "3        2022-06-01 18:57:12\n",
      "4        2022-06-14 22:45:53\n",
      "                 ...        \n",
      "325935   2022-08-03 19:00:22\n",
      "325936   2022-08-31 18:42:27\n",
      "325937   2022-08-24 14:26:28\n",
      "325938   2022-08-24 18:50:31\n",
      "325939   2022-08-31 08:52:20\n",
      "Name: started_at, Length: 325587, dtype: datetime64[ns]\n"
     ]
    }
   ],
   "source": [
    "print(trips['started_at'])"
   ]
  },
  {
   "cell_type": "markdown",
   "metadata": {
    "deletable": false,
    "editable": false,
    "nbgrader": {
     "grade": false,
     "locked": true,
     "solution": false
    }
   },
   "source": [
    "There is a property that allows you to query the day of the week via an accessor, `.day_of_week`. Here are two ways to get its value: one for an individual item of the `Series`, and one for the entire `Series`:"
   ]
  },
  {
   "cell_type": "code",
   "execution_count": 78,
   "metadata": {
    "ExecuteTime": {
     "end_time": "2023-04-27T23:50:06.097997Z",
     "start_time": "2023-04-27T23:50:06.069757Z"
    },
    "deletable": false,
    "editable": false,
    "nbgrader": {
     "grade": false,
     "locked": true,
     "solution": false
    }
   },
   "outputs": [
    {
     "name": "stdout",
     "output_type": "stream",
     "text": [
      "=== Access method 1 (for one value) ===\n",
      "3\n",
      "\n",
      "=== Access method 2 (for the entire `Series`) ===\n",
      "0         3\n",
      "1         3\n",
      "2         6\n",
      "3         2\n",
      "4         1\n",
      "         ..\n",
      "325935    2\n",
      "325936    2\n",
      "325937    2\n",
      "325938    2\n",
      "325939    2\n",
      "Name: started_at, Length: 325587, dtype: int64\n"
     ]
    }
   ],
   "source": [
    "print(\"=== Access method 1 (for one value) ===\")\n",
    "print(trips['started_at'].iloc[0].day_of_week)\n",
    "\n",
    "print(\"\\n=== Access method 2 (for the entire `Series`) ===\")\n",
    "print(trips['started_at'].dt.day_of_week)"
   ]
  },
  {
   "cell_type": "markdown",
   "metadata": {
    "deletable": false,
    "editable": false,
    "nbgrader": {
     "grade": false,
     "locked": true,
     "solution": false
    }
   },
   "source": [
    "However, note that `.day_of_week` returns an _integer_ value. Your task is to write a function, `hist_dow(df)`, to count how frequently each day of the week occurs, but reinterpret it as a human-readable text string.\n",
    "\n",
    "**Input**: The input `df` is a pandas dataframe with at least one column named `'started_at'` and possibly other columns.\n",
    "\n",
    "**Your task**: Extract the day of week integer from each datetime value. Then reinterpret these: 0 is Monday, 1 is Tuesday, 2 is Wednesday, ..., and 6 is Sunday. Lastly, count how frequently each day of the week occurs.\n",
    "\n",
    "**Output**: Return a **new** pandas dataframe with two columns:\n",
    "1. `dow`: The day of the week as a human-readable string, i.e., `'Monday'` (integer 0), `'Tuesday'` (integer 1), `'Wednesday'` (2), `'Thursday'` (3), `'Friday'` (4), `'Saturday'` (5), and `'Sunday'` (6).\n",
    "2. `count`: The number of times that the day of week occurs.\n",
    "\n",
    "**Notes**: The demo below appears sorted, but there are no sorting requirements on the rows returned."
   ]
  },
  {
   "cell_type": "code",
   "execution_count": 79,
   "metadata": {
    "ExecuteTime": {
     "end_time": "2023-04-27T23:50:06.120448Z",
     "start_time": "2023-04-27T23:50:06.099159Z"
    },
    "deletable": false,
    "editable": false,
    "nbgrader": {
     "grade": false,
     "locked": true,
     "solution": false
    },
    "tags": [
     "demo_data"
    ]
   },
   "outputs": [
    {
     "data": {
      "text/html": [
       "<div>\n",
       "<style scoped>\n",
       "    .dataframe tbody tr th:only-of-type {\n",
       "        vertical-align: middle;\n",
       "    }\n",
       "\n",
       "    .dataframe tbody tr th {\n",
       "        vertical-align: top;\n",
       "    }\n",
       "\n",
       "    .dataframe thead th {\n",
       "        text-align: right;\n",
       "    }\n",
       "</style>\n",
       "<table border=\"1\" class=\"dataframe\">\n",
       "  <thead>\n",
       "    <tr style=\"text-align: right;\">\n",
       "      <th></th>\n",
       "      <th>ride_id</th>\n",
       "      <th>started_at</th>\n",
       "      <th>ended_at</th>\n",
       "    </tr>\n",
       "  </thead>\n",
       "  <tbody>\n",
       "    <tr>\n",
       "      <th>0</th>\n",
       "      <td>EEA3CD3B084370F4</td>\n",
       "      <td>2022-06-30 19:17:16</td>\n",
       "      <td>2022-06-30 19:27:13</td>\n",
       "    </tr>\n",
       "    <tr>\n",
       "      <th>1</th>\n",
       "      <td>BF568C9B3C5FAE94</td>\n",
       "      <td>2022-06-02 12:46:44</td>\n",
       "      <td>2022-06-02 15:08:33</td>\n",
       "    </tr>\n",
       "    <tr>\n",
       "      <th>2</th>\n",
       "      <td>DF6B06D460481A7E</td>\n",
       "      <td>2022-06-05 14:17:34</td>\n",
       "      <td>2022-06-05 14:27:12</td>\n",
       "    </tr>\n",
       "    <tr>\n",
       "      <th>3</th>\n",
       "      <td>A26CDB92CDF7E0EE</td>\n",
       "      <td>2022-06-01 18:57:12</td>\n",
       "      <td>2022-06-01 19:05:58</td>\n",
       "    </tr>\n",
       "    <tr>\n",
       "      <th>4</th>\n",
       "      <td>A2A50E81031E9E7F</td>\n",
       "      <td>2022-06-14 22:45:53</td>\n",
       "      <td>2022-06-14 22:49:39</td>\n",
       "    </tr>\n",
       "    <tr>\n",
       "      <th>5</th>\n",
       "      <td>22AED8640C1CF106</td>\n",
       "      <td>2022-06-20 17:30:28</td>\n",
       "      <td>2022-06-20 17:38:46</td>\n",
       "    </tr>\n",
       "    <tr>\n",
       "      <th>6</th>\n",
       "      <td>217F45CDC32EE6AE</td>\n",
       "      <td>2022-06-07 19:16:50</td>\n",
       "      <td>2022-06-07 19:24:46</td>\n",
       "    </tr>\n",
       "    <tr>\n",
       "      <th>7</th>\n",
       "      <td>D97C18F663FFE5CD</td>\n",
       "      <td>2022-06-10 15:57:29</td>\n",
       "      <td>2022-06-10 16:06:58</td>\n",
       "    </tr>\n",
       "    <tr>\n",
       "      <th>8</th>\n",
       "      <td>8F83ABBE1D101BDE</td>\n",
       "      <td>2022-06-09 11:39:39</td>\n",
       "      <td>2022-06-09 11:44:21</td>\n",
       "    </tr>\n",
       "    <tr>\n",
       "      <th>9</th>\n",
       "      <td>CCFB6B53ECCE5AB2</td>\n",
       "      <td>2022-06-24 17:26:38</td>\n",
       "      <td>2022-06-24 17:33:26</td>\n",
       "    </tr>\n",
       "  </tbody>\n",
       "</table>\n",
       "</div>"
      ],
      "text/plain": [
       "            ride_id          started_at            ended_at\n",
       "0  EEA3CD3B084370F4 2022-06-30 19:17:16 2022-06-30 19:27:13\n",
       "1  BF568C9B3C5FAE94 2022-06-02 12:46:44 2022-06-02 15:08:33\n",
       "2  DF6B06D460481A7E 2022-06-05 14:17:34 2022-06-05 14:27:12\n",
       "3  A26CDB92CDF7E0EE 2022-06-01 18:57:12 2022-06-01 19:05:58\n",
       "4  A2A50E81031E9E7F 2022-06-14 22:45:53 2022-06-14 22:49:39\n",
       "5  22AED8640C1CF106 2022-06-20 17:30:28 2022-06-20 17:38:46\n",
       "6  217F45CDC32EE6AE 2022-06-07 19:16:50 2022-06-07 19:24:46\n",
       "7  D97C18F663FFE5CD 2022-06-10 15:57:29 2022-06-10 16:06:58\n",
       "8  8F83ABBE1D101BDE 2022-06-09 11:39:39 2022-06-09 11:44:21\n",
       "9  CCFB6B53ECCE5AB2 2022-06-24 17:26:38 2022-06-24 17:33:26"
      ]
     },
     "execution_count": 79,
     "metadata": {},
     "output_type": "execute_result"
    }
   ],
   "source": [
    "### Define demo inputs ###\n",
    "\n",
    "demo_df_ex2 = cse6040.utils.load_df_from_file('ex2-demo_df_ex2.df')\n",
    "demo_df_ex2"
   ]
  },
  {
   "cell_type": "markdown",
   "metadata": {
    "deletable": false,
    "editable": false,
    "nbgrader": {
     "grade": false,
     "locked": true,
     "solution": false
    },
    "tags": [
     "demo_output_md"
    ]
   },
   "source": [
    "A correct implementation of `hist_dow` would produce the following result on the demo input:\n",
    "\n",
    "| dow       |   count |\n",
    "|:----------|--------:|\n",
    "| Thursday  |       3 |\n",
    "| Tuesday   |       2 |\n",
    "| Friday    |       2 |\n",
    "| Sunday    |       1 |\n",
    "| Wednesday |       1 |\n",
    "| Monday    |       1 |"
   ]
  },
  {
   "cell_type": "code",
   "execution_count": 80,
   "metadata": {
    "ExecuteTime": {
     "end_time": "2023-04-27T23:50:06.142874Z",
     "start_time": "2023-04-27T23:50:06.121507Z"
    },
    "tags": [
     "exercise_solution"
    ]
   },
   "outputs": [
    {
     "data": {
      "text/html": [
       "<div>\n",
       "<style scoped>\n",
       "    .dataframe tbody tr th:only-of-type {\n",
       "        vertical-align: middle;\n",
       "    }\n",
       "\n",
       "    .dataframe tbody tr th {\n",
       "        vertical-align: top;\n",
       "    }\n",
       "\n",
       "    .dataframe thead th {\n",
       "        text-align: right;\n",
       "    }\n",
       "</style>\n",
       "<table border=\"1\" class=\"dataframe\">\n",
       "  <thead>\n",
       "    <tr style=\"text-align: right;\">\n",
       "      <th></th>\n",
       "      <th>dow</th>\n",
       "      <th>count</th>\n",
       "    </tr>\n",
       "  </thead>\n",
       "  <tbody>\n",
       "    <tr>\n",
       "      <th>0</th>\n",
       "      <td>Thursday</td>\n",
       "      <td>3</td>\n",
       "    </tr>\n",
       "    <tr>\n",
       "      <th>1</th>\n",
       "      <td>Tuesday</td>\n",
       "      <td>2</td>\n",
       "    </tr>\n",
       "    <tr>\n",
       "      <th>2</th>\n",
       "      <td>Friday</td>\n",
       "      <td>2</td>\n",
       "    </tr>\n",
       "    <tr>\n",
       "      <th>3</th>\n",
       "      <td>Sunday</td>\n",
       "      <td>1</td>\n",
       "    </tr>\n",
       "    <tr>\n",
       "      <th>4</th>\n",
       "      <td>Wednesday</td>\n",
       "      <td>1</td>\n",
       "    </tr>\n",
       "    <tr>\n",
       "      <th>5</th>\n",
       "      <td>Monday</td>\n",
       "      <td>1</td>\n",
       "    </tr>\n",
       "  </tbody>\n",
       "</table>\n",
       "</div>"
      ],
      "text/plain": [
       "         dow  count\n",
       "0   Thursday      3\n",
       "1    Tuesday      2\n",
       "2     Friday      2\n",
       "3     Sunday      1\n",
       "4  Wednesday      1\n",
       "5     Monday      1"
      ]
     },
     "execution_count": 80,
     "metadata": {},
     "output_type": "execute_result"
    }
   ],
   "source": [
    "### Exercise 2 solution\n",
    "def hist_dow(df):\n",
    "    \n",
    "    dic = {0: 'Monday', 1: 'Tuesday', 2: 'Wednesday', 3: 'Thursday', 4: 'Friday', 5: 'Saturday', 6: 'Sunday'}\n",
    "    \n",
    "    df_new = df.copy()\n",
    "    \n",
    "    df_new['dow'] = df_new['started_at'].dt.day_of_week.map(dic)\n",
    "    \n",
    "    count = df_new['dow'].value_counts().reset_index()\n",
    "    \n",
    "    count = count.rename(columns = {'index':'dow', 'dow':'count'})\n",
    "  \n",
    "    return count\n",
    " \n",
    "#     map_dow = ['Monday', 'Tuesday', 'Wednesday', 'Thursday', 'Friday', 'Saturday', 'Sunday']\n",
    "#     counts = df['started_at'].apply(lambda e: map_dow[e.day_of_week]).value_counts()\n",
    "#     counts.name = 'count'\n",
    "#     counts = counts.to_frame().reset_index().rename(columns={'index': 'dow'})\n",
    "#     return counts\n",
    "\n",
    "### demo function call ###\n",
    "hist_dow(demo_df_ex2)"
   ]
  },
  {
   "cell_type": "markdown",
   "metadata": {
    "deletable": false,
    "editable": false,
    "nbgrader": {
     "grade": false,
     "locked": true,
     "solution": false
    },
    "tags": [
     "test_data_boilerplate"
    ]
   },
   "source": [
    "<!-- Test Cell Boilerplate -->\n",
    "The cell below will test your solution for Exercise 2. The testing variables will be available for debugging under the following names in a dictionary format.\n",
    "- `input_vars` - Input variables for your solution. \n",
    "- `original_input_vars` - Copy of input variables from prior to running your solution. These _should_ be the same as `input_vars` - otherwise the inputs were modified by your solution.\n",
    "- `returned_output_vars` - Outputs returned by your solution.\n",
    "- `true_output_vars` - The expected output. This _should_ \"match\" `returned_output_vars` based on the question requirements - otherwise, your solution is not returning the correct output. "
   ]
  },
  {
   "cell_type": "code",
   "execution_count": 81,
   "metadata": {
    "ExecuteTime": {
     "end_time": "2023-04-27T23:50:10.394029Z",
     "start_time": "2023-04-27T23:50:10.164580Z"
    },
    "deletable": false,
    "editable": false,
    "nbgrader": {
     "grade": true,
     "grade_id": "ex2",
     "locked": true,
     "points": "2",
     "solution": false
    },
    "tags": []
   },
   "outputs": [
    {
     "name": "stdout",
     "output_type": "stream",
     "text": [
      "Passed! Please submit.\n"
     ]
    }
   ],
   "source": [
    "### test_cell_ex2\n",
    "###\n",
    "### AUTOGRADER TEST - DO NOT REMOVE\n",
    "###\n",
    "from tester_fw.testers import Tester\n",
    "\n",
    "conf = {\n",
    "    'case_file':'tc_2', \n",
    "    'func': hist_dow, # replace this with the function defined above\n",
    "    'inputs':{ # input config dict. keys are parameter names\n",
    "        'df':{\n",
    "            'dtype':'df', # data type of param.\n",
    "            'check_modified':True,\n",
    "        }\n",
    "    },\n",
    "    'outputs':{\n",
    "        'output_0':{\n",
    "            'index':0,\n",
    "            'dtype':'df',\n",
    "            'check_dtype': True,\n",
    "            'check_col_dtypes': True, # Ignored if dtype is not df\n",
    "            'check_col_order': False, # Ignored if dtype is not df\n",
    "            'check_row_order': False, # Ignored if dtype is not df\n",
    "            'float_tolerance': 10 ** (-6)\n",
    "        }\n",
    "    }\n",
    "}\n",
    "tester = Tester(conf, key=b'gy_fxnwg2syYRI07RIp8Lm6YY57OL1pZUkVTOC0T43Q=', path='resource/asnlib/publicdata/')\n",
    "for _ in range(70):\n",
    "    try:\n",
    "        tester.run_test()\n",
    "        (input_vars, original_input_vars, returned_output_vars, true_output_vars) = tester.get_test_vars()\n",
    "    except:\n",
    "        (input_vars, original_input_vars, returned_output_vars, true_output_vars) = tester.get_test_vars()\n",
    "        raise\n",
    "\n",
    "###\n",
    "### AUTOGRADER TEST - DO NOT REMOVE\n",
    "###\n",
    "print('Passed! Please submit.')"
   ]
  },
  {
   "cell_type": "markdown",
   "metadata": {
    "deletable": false,
    "editable": false,
    "nbgrader": {
     "grade": false,
     "locked": true,
     "solution": false
    },
    "tags": [
     "exercise_text"
    ]
   },
   "source": [
    "## **Exercise 3** (1 FREE pt): `datetime` math ##\n",
    "\n",
    "In this \"free\" exercise, you just need to learn a little bit about some basic operations on the `datetime64` objects you encountered in Exercise 2. Technically, these are a part of [Numpy](https://numpy.org/doc/stable/reference/arrays.datetime.html), but pandas uses them, too, as you saw above."
   ]
  },
  {
   "cell_type": "markdown",
   "metadata": {
    "deletable": false,
    "editable": false,
    "nbgrader": {
     "grade": false,
     "locked": true,
     "solution": false
    }
   },
   "source": [
    "Recall the starting times from example of Exercise 2, extracted here as a `Series`:"
   ]
  },
  {
   "cell_type": "code",
   "execution_count": 82,
   "metadata": {
    "ExecuteTime": {
     "end_time": "2023-04-27T23:50:10.413419Z",
     "start_time": "2023-04-27T23:50:10.395132Z"
    },
    "deletable": false,
    "editable": false,
    "nbgrader": {
     "grade": false,
     "locked": true,
     "solution": false
    }
   },
   "outputs": [
    {
     "data": {
      "text/plain": [
       "0   2022-06-30 19:17:16\n",
       "1   2022-06-02 12:46:44\n",
       "2   2022-06-05 14:17:34\n",
       "3   2022-06-01 18:57:12\n",
       "4   2022-06-14 22:45:53\n",
       "5   2022-06-20 17:30:28\n",
       "6   2022-06-07 19:16:50\n",
       "7   2022-06-10 15:57:29\n",
       "8   2022-06-09 11:39:39\n",
       "9   2022-06-24 17:26:38\n",
       "Name: started_at, dtype: datetime64[ns]"
      ]
     },
     "execution_count": 82,
     "metadata": {},
     "output_type": "execute_result"
    }
   ],
   "source": [
    "demo_df_ex2['started_at']"
   ]
  },
  {
   "cell_type": "markdown",
   "metadata": {
    "deletable": false,
    "editable": false,
    "nbgrader": {
     "grade": false,
     "locked": true,
     "solution": false
    }
   },
   "source": [
    "These `datetime64` objects can be compared. For example:"
   ]
  },
  {
   "cell_type": "code",
   "execution_count": 83,
   "metadata": {
    "ExecuteTime": {
     "end_time": "2023-04-27T23:50:10.433171Z",
     "start_time": "2023-04-27T23:50:10.414557Z"
    },
    "deletable": false,
    "editable": false,
    "nbgrader": {
     "grade": false,
     "locked": true,
     "solution": false
    }
   },
   "outputs": [
    {
     "name": "stdout",
     "output_type": "stream",
     "text": [
      "Time 1: 2022-06-30 19:17:16\n",
      "Time 2: 2022-06-02 12:46:44\n",
      "Time 1 less than Time 2? False\n"
     ]
    }
   ],
   "source": [
    "print(\"Time 1:\", demo_df_ex2['started_at'].iloc[0])\n",
    "print(\"Time 2:\", demo_df_ex2['started_at'].iloc[1])\n",
    "print(\"Time 1 less than Time 2?\", demo_df_ex2['started_at'].iloc[0] < demo_df_ex2['started_at'].iloc[1])"
   ]
  },
  {
   "cell_type": "markdown",
   "metadata": {
    "deletable": false,
    "editable": false,
    "nbgrader": {
     "grade": false,
     "locked": true,
     "solution": false
    }
   },
   "source": [
    "You can also do basic math on them, which produces a special `timedelta` object:"
   ]
  },
  {
   "cell_type": "code",
   "execution_count": 84,
   "metadata": {
    "ExecuteTime": {
     "end_time": "2023-04-27T23:50:10.453777Z",
     "start_time": "2023-04-27T23:50:10.434119Z"
    },
    "deletable": false,
    "editable": false,
    "nbgrader": {
     "grade": false,
     "locked": true,
     "solution": false
    }
   },
   "outputs": [
    {
     "data": {
      "text/plain": [
       "Timedelta('28 days 06:30:32')"
      ]
     },
     "execution_count": 84,
     "metadata": {},
     "output_type": "execute_result"
    }
   ],
   "source": [
    "demo_df_ex2['started_at'].iloc[0] - demo_df_ex2['started_at'].iloc[1]"
   ]
  },
  {
   "cell_type": "markdown",
   "metadata": {
    "deletable": false,
    "editable": false,
    "nbgrader": {
     "grade": false,
     "locked": true,
     "solution": false
    }
   },
   "source": [
    "In the printout above, the value of the `timedelta` has been pretty-printed into a human-readable form. But for our analysis, we may need other values, for example, hours or minutes. In such scenarios, here is a handy fact: if you convert a timedelta into an integer, you will get its value in **nanoseconds**. From there, you can convert it to other units, for instance, like seconds. Here is an example, where we first get the values of a `Series` as a Numpy array and then convert the `dtype` to `int`:"
   ]
  },
  {
   "cell_type": "code",
   "execution_count": 85,
   "metadata": {
    "ExecuteTime": {
     "end_time": "2023-04-27T23:50:10.474332Z",
     "start_time": "2023-04-27T23:50:10.454791Z"
    },
    "deletable": false,
    "editable": false,
    "nbgrader": {
     "grade": false,
     "locked": true,
     "solution": false
    }
   },
   "outputs": [
    {
     "data": {
      "text/plain": [
       "array([1656616636000000000, 1654174004000000000, 1654438654000000000,\n",
       "       1654109832000000000, 1655246753000000000, 1655746228000000000,\n",
       "       1654629410000000000, 1654876649000000000, 1654774779000000000,\n",
       "       1656091598000000000])"
      ]
     },
     "execution_count": 85,
     "metadata": {},
     "output_type": "execute_result"
    }
   ],
   "source": [
    "demo_df_ex2['started_at'].values.astype(int) # Times in nanoseconds"
   ]
  },
  {
   "cell_type": "markdown",
   "metadata": {
    "deletable": false,
    "editable": false,
    "nbgrader": {
     "grade": false,
     "locked": true,
     "solution": false
    },
    "tags": [
     "test_data_boilerplate"
    ]
   },
   "source": [
    "That's it!\n",
    "\n",
    "**To get your free point**, run the test cell below."
   ]
  },
  {
   "cell_type": "code",
   "execution_count": 86,
   "metadata": {
    "ExecuteTime": {
     "end_time": "2023-04-27T23:50:10.494766Z",
     "start_time": "2023-04-27T23:50:10.475433Z"
    },
    "deletable": false,
    "editable": false,
    "nbgrader": {
     "grade": true,
     "grade_id": "ex3",
     "locked": true,
     "points": "1",
     "solution": false
    },
    "tags": []
   },
   "outputs": [
    {
     "name": "stdout",
     "output_type": "stream",
     "text": [
      "Passed! Please submit to get your free points on this exercise.\n"
     ]
    }
   ],
   "source": [
    "### test_cell_ex3 — FREE POINTS! ###\n",
    "\n",
    "print('Passed! Please submit to get your free points on this exercise.')"
   ]
  },
  {
   "cell_type": "markdown",
   "metadata": {
    "deletable": false,
    "editable": false,
    "nbgrader": {
     "grade": false,
     "locked": true,
     "solution": false
    },
    "tags": [
     "exercise_text"
    ]
   },
   "source": [
    "## **Exercise 4** (1 pt): `calc_interarrival_times` ##\n",
    "\n",
    "Your next task is to calculate how much time elapses **between** the arrival of riders at stations, which is called the **interarrival time**.\n",
    "\n",
    "For example, suppose you are told that there are three trips, one for a ride starting at 9:30 am, another starting at 8:30 am, and the third at 9:15 am. The _ordered_ sequence of these arrivals is 8:30 am, 9:15 am, and 9:30 am; there are two _interarrival times_: 45 minutes (9:15 am \"minus\" 8:30 am) and 15 minutes (9:30 am minus 9:15 am).\n",
    "\n",
    "Complete the function, `calc_interarrival_times(series)`, below.\n",
    "\n",
    "**Input**: The input is a pandas `Series` object containing `datetime64` values.\n",
    "\n",
    "**Your task**: Order these values, then compute the interarrival times. Convert these into to **minutes** (refer to Exercise 3).\n",
    "\n",
    "**Output**: Return a Numpy array of floating-point values, which are the interarrival times in minutes."
   ]
  },
  {
   "cell_type": "code",
   "execution_count": 87,
   "metadata": {
    "ExecuteTime": {
     "end_time": "2023-04-27T23:50:10.515929Z",
     "start_time": "2023-04-27T23:50:10.496661Z"
    },
    "deletable": false,
    "editable": false,
    "nbgrader": {
     "grade": false,
     "locked": true,
     "solution": false
    },
    "tags": [
     "demo_data"
    ]
   },
   "outputs": [
    {
     "data": {
      "text/plain": [
       "0   2022-06-30 19:17:16\n",
       "1   2022-06-02 12:46:44\n",
       "2   2022-06-05 14:17:34\n",
       "3   2022-06-01 18:57:12\n",
       "4   2022-06-14 22:45:53\n",
       "5   2022-06-20 17:30:28\n",
       "6   2022-06-07 19:16:50\n",
       "7   2022-06-10 15:57:29\n",
       "8   2022-06-09 11:39:39\n",
       "9   2022-06-24 17:26:38\n",
       "Name: started_at, dtype: datetime64[ns]"
      ]
     },
     "execution_count": 87,
     "metadata": {},
     "output_type": "execute_result"
    }
   ],
   "source": [
    "### Define demo inputs ###\n",
    "\n",
    "demo_series_ex3 = demo_df_ex2['started_at'].copy()\n",
    "demo_series_ex3"
   ]
  },
  {
   "cell_type": "markdown",
   "metadata": {
    "deletable": false,
    "editable": false,
    "nbgrader": {
     "grade": false,
     "locked": true,
     "solution": false
    },
    "tags": [
     "demo_output_md"
    ]
   },
   "source": [
    "For the preceding example, the interarrival times—as a Numpy array with values in minutes (stored as floating-point values)—would be:\n",
    "\n",
    "```python\n",
    "array([1069.53333333, 4410.83333333, 3179.26666667, 2422.81666667,\n",
    "       1697.83333333, 6168.4       , 8324.58333333, 5756.16666667,\n",
    "       8750.63333333])\n",
    "```\n",
    "\n",
    "For example, the first interarrival time comes from `2022-06-02 12:46:44` minus `2022-06-01 18:57:12`, which is roughly between 17 and 18 hours, or 1020 and 1080 minutes. That explains the value `1069.533...` that you see above."
   ]
  },
  {
   "cell_type": "code",
   "execution_count": 88,
   "metadata": {
    "ExecuteTime": {
     "end_time": "2023-04-27T23:50:10.536657Z",
     "start_time": "2023-04-27T23:50:10.516952Z"
    },
    "tags": [
     "exercise_solution"
    ]
   },
   "outputs": [
    {
     "data": {
      "text/plain": [
       "array([1069.53333333, 4410.83333333, 3179.26666667, 2422.81666667,\n",
       "       1697.83333333, 6168.4       , 8324.58333333, 5756.16666667,\n",
       "       8750.63333333])"
      ]
     },
     "execution_count": 88,
     "metadata": {},
     "output_type": "execute_result"
    }
   ],
   "source": [
    "### Exercise 4 solution\n",
    "def calc_interarrival_times(series):\n",
    "    \n",
    "    df = pd.DataFrame({'time': series})\n",
    "    \n",
    "    df = df.sort_values(by='time')\n",
    "    \n",
    "    interarrival_times = np.diff(df['time'])/np.timedelta64(1,'m')\n",
    "    \n",
    "    return interarrival_times\n",
    "\n",
    "\n",
    "    #return series.sort_values().diff().dropna().values.astype(int)*1e-9/60\n",
    "    \n",
    "### demo function call ###\n",
    "calc_interarrival_times(demo_series_ex3)"
   ]
  },
  {
   "cell_type": "markdown",
   "metadata": {
    "deletable": false,
    "editable": false,
    "nbgrader": {
     "grade": false,
     "locked": true,
     "solution": false
    },
    "tags": [
     "test_data_boilerplate"
    ]
   },
   "source": [
    "<!-- Test Cell Boilerplate -->\n",
    "The cell below will test your solution for Exercise 4. The testing variables will be available for debugging under the following names in a dictionary format.\n",
    "- `input_vars` - Input variables for your solution. \n",
    "- `original_input_vars` - Copy of input variables from prior to running your solution. These _should_ be the same as `input_vars` - otherwise the inputs were modified by your solution.\n",
    "- `returned_output_vars` - Outputs returned by your solution.\n",
    "- `true_output_vars` - The expected output. This _should_ \"match\" `returned_output_vars` based on the question requirements - otherwise, your solution is not returning the correct output. "
   ]
  },
  {
   "cell_type": "code",
   "execution_count": 89,
   "metadata": {
    "ExecuteTime": {
     "end_time": "2023-04-27T23:50:15.908889Z",
     "start_time": "2023-04-27T23:50:15.851569Z"
    },
    "deletable": false,
    "editable": false,
    "nbgrader": {
     "grade": true,
     "grade_id": "ex4",
     "locked": true,
     "points": "1",
     "solution": false
    },
    "tags": []
   },
   "outputs": [
    {
     "name": "stdout",
     "output_type": "stream",
     "text": [
      "Passed! Please submit.\n"
     ]
    }
   ],
   "source": [
    "### test_cell_ex4\n",
    "###\n",
    "### AUTOGRADER TEST - DO NOT REMOVE\n",
    "###\n",
    "from tester_fw.testers import Tester\n",
    "\n",
    "conf = {\n",
    "    'case_file':'tc_4', \n",
    "    'func': calc_interarrival_times, # replace this with the function defined above\n",
    "    'inputs':{ # input config dict. keys are parameter names\n",
    "        'series':{\n",
    "            'dtype':'series', # data type of param.\n",
    "            'check_modified':True,\n",
    "        }\n",
    "    },\n",
    "    'outputs':{\n",
    "        'output_0':{\n",
    "            'index':0,\n",
    "            'dtype':'array',\n",
    "            'check_dtype': True,\n",
    "            'check_col_dtypes': True, # Ignored if dtype is not df\n",
    "            'check_col_order': True, # Ignored if dtype is not df\n",
    "            'check_row_order': True, # Ignored if dtype is not df\n",
    "            'float_tolerance': 10 ** (-6)\n",
    "        }\n",
    "    }\n",
    "}\n",
    "tester = Tester(conf, key=b'gy_fxnwg2syYRI07RIp8Lm6YY57OL1pZUkVTOC0T43Q=', path='resource/asnlib/publicdata/')\n",
    "for _ in range(70):\n",
    "    try:\n",
    "        tester.run_test()\n",
    "        (input_vars, original_input_vars, returned_output_vars, true_output_vars) = tester.get_test_vars()\n",
    "    except:\n",
    "        (input_vars, original_input_vars, returned_output_vars, true_output_vars) = tester.get_test_vars()\n",
    "        raise\n",
    "\n",
    "###\n",
    "### AUTOGRADER TEST - DO NOT REMOVE\n",
    "###\n",
    "print('Passed! Please submit.')"
   ]
  },
  {
   "cell_type": "markdown",
   "metadata": {
    "ExecuteTime": {
     "end_time": "2023-04-27T01:11:52.395715Z",
     "start_time": "2023-04-27T01:11:52.355649Z"
    }
   },
   "source": [
    "## **Run me**: Interarrival statistics ##\n",
    "\n",
    "With a correct implementation of `calc_interarrival_times`, one can study the statistical properties of interarrival times. The test cell below shows what interarrival times look at the system level (ignoring stations)."
   ]
  },
  {
   "cell_type": "code",
   "execution_count": 90,
   "metadata": {
    "ExecuteTime": {
     "end_time": "2023-04-27T23:50:15.940048Z",
     "start_time": "2023-04-27T23:50:15.910172Z"
    }
   },
   "outputs": [
    {
     "name": "stdout",
     "output_type": "stream",
     "text": [
      "Statistical properties of system-wide interarrival times (in minutes):\n"
     ]
    },
    {
     "data": {
      "text/plain": [
       "count    325586.000000\n",
       "mean          0.406874\n",
       "std           1.127853\n",
       "min           0.000000\n",
       "25%           0.083333\n",
       "50%           0.200000\n",
       "75%           0.433333\n",
       "max          88.283333\n",
       "dtype: float64"
      ]
     },
     "execution_count": 90,
     "metadata": {},
     "output_type": "execute_result"
    }
   ],
   "source": [
    "print(\"Statistical properties of system-wide interarrival times (in minutes):\")\n",
    "sys_iats = cse6040.utils.load_obj_from_file('ex4-iats.ndarray')\n",
    "pd.Series(sys_iats).describe()"
   ]
  },
  {
   "cell_type": "markdown",
   "metadata": {},
   "source": [
    "Observe that a rider picks up a bike in the system every 0.4 minutes (24 seconds) on average—that shows pretty good utilization of the bike-share system."
   ]
  },
  {
   "cell_type": "markdown",
   "metadata": {
    "deletable": false,
    "editable": false,
    "nbgrader": {
     "grade": false,
     "locked": true,
     "solution": false
    },
    "tags": [
     "exercise_text"
    ]
   },
   "source": [
    "## **Exercise 5** (3 pts): `calc_trip_stats` ##\n",
    "\n",
    "There are several more statistics we'd like to know about the trips themselves. Complete `calc_trip_stats(df)`, below, to carry out these calculations.\n",
    "\n",
    "**Input**: A dataframe, `df`, with these columns:\n",
    "- `'start_station_name'`: The name of the starting station\n",
    "- `'started_at'`: The trip's starting time (a `datetime64` object)\n",
    "- `'end_station_name'`: The name of the ending station\n",
    "- `'ended_at'`: The trip's ending time (a `datetime64` object)\n",
    "\n",
    "**Your task**: For every **pair** of (starting, ending) stations, calculate the following:\n",
    "- The number of trips that go from the given starting station to the ending station\n",
    "- The mean trip time (average difference between `'ended_at'` and `'started_at'`) **in minutes**\n",
    "\n",
    "**Output**: Return a new dataframe with the following columns:\n",
    "- `'start'`: The starting station name\n",
    "- `'end'`: The ending station name\n",
    "- `'count'`: The number of trips originating at `'start'` and ending at `'end'`\n",
    "- `'mean'`: The average trip time for this pair (in minutes)\n",
    "\n",
    "**Notes**: The order of rows and columns should not matter."
   ]
  },
  {
   "cell_type": "code",
   "execution_count": 91,
   "metadata": {
    "ExecuteTime": {
     "end_time": "2023-04-27T23:50:15.963396Z",
     "start_time": "2023-04-27T23:50:15.940931Z"
    },
    "deletable": false,
    "editable": false,
    "nbgrader": {
     "grade": false,
     "locked": true,
     "solution": false
    },
    "tags": [
     "demo_data"
    ]
   },
   "outputs": [
    {
     "data": {
      "text/html": [
       "<div>\n",
       "<style scoped>\n",
       "    .dataframe tbody tr th:only-of-type {\n",
       "        vertical-align: middle;\n",
       "    }\n",
       "\n",
       "    .dataframe tbody tr th {\n",
       "        vertical-align: top;\n",
       "    }\n",
       "\n",
       "    .dataframe thead th {\n",
       "        text-align: right;\n",
       "    }\n",
       "</style>\n",
       "<table border=\"1\" class=\"dataframe\">\n",
       "  <thead>\n",
       "    <tr style=\"text-align: right;\">\n",
       "      <th></th>\n",
       "      <th>start_station_name</th>\n",
       "      <th>started_at</th>\n",
       "      <th>end_station_name</th>\n",
       "      <th>ended_at</th>\n",
       "    </tr>\n",
       "  </thead>\n",
       "  <tbody>\n",
       "    <tr>\n",
       "      <th>0</th>\n",
       "      <td>6 St &amp; Grand St</td>\n",
       "      <td>2022-07-30 23:58:00</td>\n",
       "      <td>11 St &amp; Washington St</td>\n",
       "      <td>2022-07-31 00:34:40</td>\n",
       "    </tr>\n",
       "    <tr>\n",
       "      <th>1</th>\n",
       "      <td>Church Sq Park - 5 St &amp; Park Ave</td>\n",
       "      <td>2022-08-15 15:52:45</td>\n",
       "      <td>11 St &amp; Washington St</td>\n",
       "      <td>2022-08-15 15:56:40</td>\n",
       "    </tr>\n",
       "    <tr>\n",
       "      <th>2</th>\n",
       "      <td>11 St &amp; Washington St</td>\n",
       "      <td>2022-07-29 19:10:50</td>\n",
       "      <td>11 St &amp; Washington St</td>\n",
       "      <td>2022-07-29 21:19:42</td>\n",
       "    </tr>\n",
       "    <tr>\n",
       "      <th>3</th>\n",
       "      <td>11 St &amp; Washington St</td>\n",
       "      <td>2022-06-09 08:05:23</td>\n",
       "      <td>Washington St</td>\n",
       "      <td>2022-06-09 08:21:58</td>\n",
       "    </tr>\n",
       "    <tr>\n",
       "      <th>4</th>\n",
       "      <td>11 St &amp; Washington St</td>\n",
       "      <td>2022-07-12 19:53:06</td>\n",
       "      <td>Hoboken Ave at Monmouth St</td>\n",
       "      <td>2022-07-12 20:03:54</td>\n",
       "    </tr>\n",
       "    <tr>\n",
       "      <th>5</th>\n",
       "      <td>11 St &amp; Washington St</td>\n",
       "      <td>2022-06-25 10:14:23</td>\n",
       "      <td>Mama Johnson Field - 4 St &amp; Jackson St</td>\n",
       "      <td>2022-06-25 10:24:32</td>\n",
       "    </tr>\n",
       "    <tr>\n",
       "      <th>6</th>\n",
       "      <td>11 St &amp; Washington St</td>\n",
       "      <td>2022-08-12 17:34:22</td>\n",
       "      <td>Marin Light Rail</td>\n",
       "      <td>2022-08-12 18:22:53</td>\n",
       "    </tr>\n",
       "    <tr>\n",
       "      <th>7</th>\n",
       "      <td>11 St &amp; Washington St</td>\n",
       "      <td>2022-07-22 18:03:50</td>\n",
       "      <td>Clinton St &amp; Newark St</td>\n",
       "      <td>2022-07-22 18:11:02</td>\n",
       "    </tr>\n",
       "    <tr>\n",
       "      <th>8</th>\n",
       "      <td>11 St &amp; Washington St</td>\n",
       "      <td>2022-06-18 19:19:05</td>\n",
       "      <td>Bloomfield St &amp; 15 St</td>\n",
       "      <td>2022-06-18 19:21:35</td>\n",
       "    </tr>\n",
       "    <tr>\n",
       "      <th>9</th>\n",
       "      <td>6 St &amp; Grand St</td>\n",
       "      <td>2022-08-07 13:04:09</td>\n",
       "      <td>11 St &amp; Washington St</td>\n",
       "      <td>2022-08-07 13:09:59</td>\n",
       "    </tr>\n",
       "    <tr>\n",
       "      <th>10</th>\n",
       "      <td>11 St &amp; Washington St</td>\n",
       "      <td>2022-08-27 14:16:15</td>\n",
       "      <td>Hoboken Ave at Monmouth St</td>\n",
       "      <td>2022-08-27 14:27:19</td>\n",
       "    </tr>\n",
       "    <tr>\n",
       "      <th>11</th>\n",
       "      <td>11 St &amp; Washington St</td>\n",
       "      <td>2022-07-13 12:43:47</td>\n",
       "      <td>Bloomfield St &amp; 15 St</td>\n",
       "      <td>2022-07-13 12:46:26</td>\n",
       "    </tr>\n",
       "    <tr>\n",
       "      <th>12</th>\n",
       "      <td>11 St &amp; Washington St</td>\n",
       "      <td>2022-08-20 16:53:59</td>\n",
       "      <td>Hudson St &amp; 4 St</td>\n",
       "      <td>2022-08-20 16:57:52</td>\n",
       "    </tr>\n",
       "    <tr>\n",
       "      <th>13</th>\n",
       "      <td>11 St &amp; Washington St</td>\n",
       "      <td>2022-06-21 12:49:29</td>\n",
       "      <td>Brunswick St</td>\n",
       "      <td>2022-06-21 13:13:05</td>\n",
       "    </tr>\n",
       "    <tr>\n",
       "      <th>14</th>\n",
       "      <td>Madison St &amp; 10 St</td>\n",
       "      <td>2022-06-09 11:39:32</td>\n",
       "      <td>11 St &amp; Washington St</td>\n",
       "      <td>2022-06-09 11:42:31</td>\n",
       "    </tr>\n",
       "    <tr>\n",
       "      <th>15</th>\n",
       "      <td>11 St &amp; Washington St</td>\n",
       "      <td>2022-06-18 20:00:23</td>\n",
       "      <td>Hudson St &amp; 4 St</td>\n",
       "      <td>2022-06-18 20:04:07</td>\n",
       "    </tr>\n",
       "    <tr>\n",
       "      <th>16</th>\n",
       "      <td>Hudson St &amp; 4 St</td>\n",
       "      <td>2022-06-10 23:04:15</td>\n",
       "      <td>11 St &amp; Washington St</td>\n",
       "      <td>2022-06-10 23:15:29</td>\n",
       "    </tr>\n",
       "    <tr>\n",
       "      <th>17</th>\n",
       "      <td>11 St &amp; Washington St</td>\n",
       "      <td>2022-07-26 14:20:15</td>\n",
       "      <td>Hudson St &amp; 4 St</td>\n",
       "      <td>2022-07-26 14:24:31</td>\n",
       "    </tr>\n",
       "  </tbody>\n",
       "</table>\n",
       "</div>"
      ],
      "text/plain": [
       "                  start_station_name          started_at  \\\n",
       "0                    6 St & Grand St 2022-07-30 23:58:00   \n",
       "1   Church Sq Park - 5 St & Park Ave 2022-08-15 15:52:45   \n",
       "2              11 St & Washington St 2022-07-29 19:10:50   \n",
       "3              11 St & Washington St 2022-06-09 08:05:23   \n",
       "4              11 St & Washington St 2022-07-12 19:53:06   \n",
       "5              11 St & Washington St 2022-06-25 10:14:23   \n",
       "6              11 St & Washington St 2022-08-12 17:34:22   \n",
       "7              11 St & Washington St 2022-07-22 18:03:50   \n",
       "8              11 St & Washington St 2022-06-18 19:19:05   \n",
       "9                    6 St & Grand St 2022-08-07 13:04:09   \n",
       "10             11 St & Washington St 2022-08-27 14:16:15   \n",
       "11             11 St & Washington St 2022-07-13 12:43:47   \n",
       "12             11 St & Washington St 2022-08-20 16:53:59   \n",
       "13             11 St & Washington St 2022-06-21 12:49:29   \n",
       "14                Madison St & 10 St 2022-06-09 11:39:32   \n",
       "15             11 St & Washington St 2022-06-18 20:00:23   \n",
       "16                  Hudson St & 4 St 2022-06-10 23:04:15   \n",
       "17             11 St & Washington St 2022-07-26 14:20:15   \n",
       "\n",
       "                          end_station_name            ended_at  \n",
       "0                    11 St & Washington St 2022-07-31 00:34:40  \n",
       "1                    11 St & Washington St 2022-08-15 15:56:40  \n",
       "2                    11 St & Washington St 2022-07-29 21:19:42  \n",
       "3                            Washington St 2022-06-09 08:21:58  \n",
       "4               Hoboken Ave at Monmouth St 2022-07-12 20:03:54  \n",
       "5   Mama Johnson Field - 4 St & Jackson St 2022-06-25 10:24:32  \n",
       "6                         Marin Light Rail 2022-08-12 18:22:53  \n",
       "7                   Clinton St & Newark St 2022-07-22 18:11:02  \n",
       "8                    Bloomfield St & 15 St 2022-06-18 19:21:35  \n",
       "9                    11 St & Washington St 2022-08-07 13:09:59  \n",
       "10              Hoboken Ave at Monmouth St 2022-08-27 14:27:19  \n",
       "11                   Bloomfield St & 15 St 2022-07-13 12:46:26  \n",
       "12                        Hudson St & 4 St 2022-08-20 16:57:52  \n",
       "13                            Brunswick St 2022-06-21 13:13:05  \n",
       "14                   11 St & Washington St 2022-06-09 11:42:31  \n",
       "15                        Hudson St & 4 St 2022-06-18 20:04:07  \n",
       "16                   11 St & Washington St 2022-06-10 23:15:29  \n",
       "17                        Hudson St & 4 St 2022-07-26 14:24:31  "
      ]
     },
     "execution_count": 91,
     "metadata": {},
     "output_type": "execute_result"
    }
   ],
   "source": [
    "### Define demo inputs ###\n",
    "\n",
    "demo_df_ex5 = cse6040.utils.load_df_from_file('ex5-demo_df_ex5.df')\n",
    "demo_df_ex5"
   ]
  },
  {
   "cell_type": "markdown",
   "metadata": {
    "deletable": false,
    "editable": false,
    "nbgrader": {
     "grade": false,
     "locked": true,
     "solution": false
    },
    "tags": [
     "demo_output_md"
    ]
   },
   "source": [
    "A correct solution of `calc_trip_stats`, when run on the above sample, should produce the result:\n",
    "\n",
    "| start                            | end                                    |   count |      mean |\n",
    "|:---------------------------------|:---------------------------------------|--------:|----------:|\n",
    "| 11 St & Washington St            | 11 St & Washington St                  |       1 | 128.867   |\n",
    "| 11 St & Washington St            | Bloomfield St & 15 St                  |       2 |   2.575   |\n",
    "| 11 St & Washington St            | Brunswick St                           |       1 |  23.6     |\n",
    "| 11 St & Washington St            | Clinton St & Newark St                 |       1 |   7.2     |\n",
    "| 11 St & Washington St            | Hoboken Ave at Monmouth St             |       2 |  10.9333  |\n",
    "| 11 St & Washington St            | Hudson St & 4 St                       |       3 |   3.96111 |\n",
    "| 11 St & Washington St            | Mama Johnson Field - 4 St & Jackson St |       1 |  10.15    |\n",
    "| 11 St & Washington St            | Marin Light Rail                       |       1 |  48.5167  |\n",
    "| 11 St & Washington St            | Washington St                          |       1 |  16.5833  |\n",
    "| 6 St & Grand St                  | 11 St & Washington St                  |       2 |  21.25    |\n",
    "| Church Sq Park - 5 St & Park Ave | 11 St & Washington St                  |       1 |   3.91667 |\n",
    "| Hudson St & 4 St                 | 11 St & Washington St                  |       1 |  11.2333  |\n",
    "| Madison St & 10 St               | 11 St & Washington St                  |       1 |   2.98333 |"
   ]
  },
  {
   "cell_type": "markdown",
   "metadata": {
    "deletable": false,
    "editable": false,
    "nbgrader": {
     "grade": false,
     "locked": true,
     "solution": false
    },
    "tags": [
     "test_data_boilerplate"
    ]
   },
   "source": [
    "<!-- Test Cell Boilerplate -->\n",
    "The cell below will test your solution for Exercise 5. The testing variables will be available for debugging under the following names in a dictionary format.\n",
    "- `input_vars` - Input variables for your solution. \n",
    "- `original_input_vars` - Copy of input variables from prior to running your solution. These _should_ be the same as `input_vars` - otherwise the inputs were modified by your solution.\n",
    "- `returned_output_vars` - Outputs returned by your solution.\n",
    "- `true_output_vars` - The expected output. This _should_ \"match\" `returned_output_vars` based on the question requirements - otherwise, your solution is not returning the correct output. "
   ]
  },
  {
   "cell_type": "code",
   "execution_count": 92,
   "metadata": {
    "ExecuteTime": {
     "end_time": "2023-04-27T23:50:15.992381Z",
     "start_time": "2023-04-27T23:50:15.965023Z"
    },
    "tags": [
     "exercise_solution"
    ]
   },
   "outputs": [
    {
     "data": {
      "text/html": [
       "<div>\n",
       "<style scoped>\n",
       "    .dataframe tbody tr th:only-of-type {\n",
       "        vertical-align: middle;\n",
       "    }\n",
       "\n",
       "    .dataframe tbody tr th {\n",
       "        vertical-align: top;\n",
       "    }\n",
       "\n",
       "    .dataframe thead th {\n",
       "        text-align: right;\n",
       "    }\n",
       "</style>\n",
       "<table border=\"1\" class=\"dataframe\">\n",
       "  <thead>\n",
       "    <tr style=\"text-align: right;\">\n",
       "      <th></th>\n",
       "      <th>start</th>\n",
       "      <th>end</th>\n",
       "      <th>count</th>\n",
       "      <th>mean</th>\n",
       "    </tr>\n",
       "  </thead>\n",
       "  <tbody>\n",
       "    <tr>\n",
       "      <th>0</th>\n",
       "      <td>11 St &amp; Washington St</td>\n",
       "      <td>11 St &amp; Washington St</td>\n",
       "      <td>1</td>\n",
       "      <td>128.866667</td>\n",
       "    </tr>\n",
       "    <tr>\n",
       "      <th>1</th>\n",
       "      <td>11 St &amp; Washington St</td>\n",
       "      <td>Bloomfield St &amp; 15 St</td>\n",
       "      <td>2</td>\n",
       "      <td>2.575000</td>\n",
       "    </tr>\n",
       "    <tr>\n",
       "      <th>2</th>\n",
       "      <td>11 St &amp; Washington St</td>\n",
       "      <td>Brunswick St</td>\n",
       "      <td>1</td>\n",
       "      <td>23.600000</td>\n",
       "    </tr>\n",
       "    <tr>\n",
       "      <th>3</th>\n",
       "      <td>11 St &amp; Washington St</td>\n",
       "      <td>Clinton St &amp; Newark St</td>\n",
       "      <td>1</td>\n",
       "      <td>7.200000</td>\n",
       "    </tr>\n",
       "    <tr>\n",
       "      <th>4</th>\n",
       "      <td>11 St &amp; Washington St</td>\n",
       "      <td>Hoboken Ave at Monmouth St</td>\n",
       "      <td>2</td>\n",
       "      <td>10.933333</td>\n",
       "    </tr>\n",
       "    <tr>\n",
       "      <th>5</th>\n",
       "      <td>11 St &amp; Washington St</td>\n",
       "      <td>Hudson St &amp; 4 St</td>\n",
       "      <td>3</td>\n",
       "      <td>3.961111</td>\n",
       "    </tr>\n",
       "    <tr>\n",
       "      <th>6</th>\n",
       "      <td>11 St &amp; Washington St</td>\n",
       "      <td>Mama Johnson Field - 4 St &amp; Jackson St</td>\n",
       "      <td>1</td>\n",
       "      <td>10.150000</td>\n",
       "    </tr>\n",
       "    <tr>\n",
       "      <th>7</th>\n",
       "      <td>11 St &amp; Washington St</td>\n",
       "      <td>Marin Light Rail</td>\n",
       "      <td>1</td>\n",
       "      <td>48.516667</td>\n",
       "    </tr>\n",
       "    <tr>\n",
       "      <th>8</th>\n",
       "      <td>11 St &amp; Washington St</td>\n",
       "      <td>Washington St</td>\n",
       "      <td>1</td>\n",
       "      <td>16.583333</td>\n",
       "    </tr>\n",
       "    <tr>\n",
       "      <th>9</th>\n",
       "      <td>6 St &amp; Grand St</td>\n",
       "      <td>11 St &amp; Washington St</td>\n",
       "      <td>2</td>\n",
       "      <td>21.250000</td>\n",
       "    </tr>\n",
       "    <tr>\n",
       "      <th>10</th>\n",
       "      <td>Church Sq Park - 5 St &amp; Park Ave</td>\n",
       "      <td>11 St &amp; Washington St</td>\n",
       "      <td>1</td>\n",
       "      <td>3.916667</td>\n",
       "    </tr>\n",
       "    <tr>\n",
       "      <th>11</th>\n",
       "      <td>Hudson St &amp; 4 St</td>\n",
       "      <td>11 St &amp; Washington St</td>\n",
       "      <td>1</td>\n",
       "      <td>11.233333</td>\n",
       "    </tr>\n",
       "    <tr>\n",
       "      <th>12</th>\n",
       "      <td>Madison St &amp; 10 St</td>\n",
       "      <td>11 St &amp; Washington St</td>\n",
       "      <td>1</td>\n",
       "      <td>2.983333</td>\n",
       "    </tr>\n",
       "  </tbody>\n",
       "</table>\n",
       "</div>"
      ],
      "text/plain": [
       "                               start                                     end  \\\n",
       "0              11 St & Washington St                   11 St & Washington St   \n",
       "1              11 St & Washington St                   Bloomfield St & 15 St   \n",
       "2              11 St & Washington St                            Brunswick St   \n",
       "3              11 St & Washington St                  Clinton St & Newark St   \n",
       "4              11 St & Washington St              Hoboken Ave at Monmouth St   \n",
       "5              11 St & Washington St                        Hudson St & 4 St   \n",
       "6              11 St & Washington St  Mama Johnson Field - 4 St & Jackson St   \n",
       "7              11 St & Washington St                        Marin Light Rail   \n",
       "8              11 St & Washington St                           Washington St   \n",
       "9                    6 St & Grand St                   11 St & Washington St   \n",
       "10  Church Sq Park - 5 St & Park Ave                   11 St & Washington St   \n",
       "11                  Hudson St & 4 St                   11 St & Washington St   \n",
       "12                Madison St & 10 St                   11 St & Washington St   \n",
       "\n",
       "    count        mean  \n",
       "0       1  128.866667  \n",
       "1       2    2.575000  \n",
       "2       1   23.600000  \n",
       "3       1    7.200000  \n",
       "4       2   10.933333  \n",
       "5       3    3.961111  \n",
       "6       1   10.150000  \n",
       "7       1   48.516667  \n",
       "8       1   16.583333  \n",
       "9       2   21.250000  \n",
       "10      1    3.916667  \n",
       "11      1   11.233333  \n",
       "12      1    2.983333  "
      ]
     },
     "execution_count": 92,
     "metadata": {},
     "output_type": "execute_result"
    }
   ],
   "source": [
    "### Exercise 5 solution ###\n",
    "def calc_trip_stats(df):\n",
    "    \n",
    "    df_new = df.copy()\n",
    "    \n",
    "    df_new['time'] = (df_new['ended_at'] - df_new['started_at'])/ pd.Timedelta(minutes=1)\n",
    "    \n",
    "    count =  df_new.groupby(['start_station_name','end_station_name']).size().reset_index(name='count')\n",
    "\n",
    "    mean =  df_new.groupby(['start_station_name','end_station_name']).mean()['time'].reset_index(name='mean')\n",
    "\n",
    "    result = count.merge(mean, on=['start_station_name','end_station_name'])\n",
    "    \n",
    "    result = result.rename(columns={'start_station_name': 'start', 'end_station_name': 'end'})\n",
    "    \n",
    "    return result\n",
    "  \n",
    "\n",
    "#     df = df.copy()\n",
    "#     df['dt'] = (df['ended_at'] - df['started_at']).astype(int) * 1e-9 / 60\n",
    "#     pairs = df.rename(columns={'start_station_name': 'start', 'end_station_name': 'end'}) \\\n",
    "#               .groupby(['start', 'end'])\n",
    "#     counts = pairs.size().to_frame().rename(columns={0: 'count'}).reset_index()\n",
    "#     stats = pairs['dt'].aggregate('mean').reset_index().rename(columns={'dt': 'mean'})\n",
    "#     return counts.merge(stats, on=['start', 'end'])\n",
    "\n",
    "### demo function call ###\n",
    "calc_trip_stats(demo_df_ex5)\n",
    "# call the function defined above using the demo inputs.\n",
    "# print the result"
   ]
  },
  {
   "cell_type": "code",
   "execution_count": 93,
   "metadata": {
    "ExecuteTime": {
     "end_time": "2023-04-27T23:50:17.623671Z",
     "start_time": "2023-04-27T23:50:17.136622Z"
    },
    "deletable": false,
    "editable": false,
    "nbgrader": {
     "grade": true,
     "grade_id": "ex5",
     "locked": true,
     "points": "3",
     "solution": false
    },
    "tags": []
   },
   "outputs": [
    {
     "name": "stdout",
     "output_type": "stream",
     "text": [
      "Passed! Please submit.\n"
     ]
    }
   ],
   "source": [
    "### test_cell_ex5 ###\n",
    "###\n",
    "### AUTOGRADER TEST - DO NOT REMOVE\n",
    "###\n",
    "from tester_fw.testers import Tester\n",
    "\n",
    "conf = {\n",
    "    'case_file':'tc_5', \n",
    "    'func': calc_trip_stats, # replace this with the function defined above\n",
    "    'inputs':{ # input config dict. keys are parameter names\n",
    "        'df':{\n",
    "            'dtype':'df', # data type of param.\n",
    "            'check_modified':True,\n",
    "        }\n",
    "    },\n",
    "    'outputs':{\n",
    "        'output_0':{\n",
    "            'index':0,\n",
    "            'dtype':'df',\n",
    "            'check_dtype': True,\n",
    "            'check_col_dtypes': True, # Ignored if dtype is not df\n",
    "            'check_col_order': False, # Ignored if dtype is not df\n",
    "            'check_row_order': False, # Ignored if dtype is not df\n",
    "            'float_tolerance': 10 ** (-6)\n",
    "        }\n",
    "    }\n",
    "}\n",
    "tester = Tester(conf, key=b'gy_fxnwg2syYRI07RIp8Lm6YY57OL1pZUkVTOC0T43Q=', path='resource/asnlib/publicdata/')\n",
    "for _ in range(70):\n",
    "    try:\n",
    "        tester.run_test()\n",
    "        (input_vars, original_input_vars, returned_output_vars, true_output_vars) = tester.get_test_vars()\n",
    "    except:\n",
    "        (input_vars, original_input_vars, returned_output_vars, true_output_vars) = tester.get_test_vars()\n",
    "        raise\n",
    "\n",
    "###\n",
    "### AUTOGRADER TEST - DO NOT REMOVE\n",
    "###\n",
    "print('Passed! Please submit.')"
   ]
  },
  {
   "cell_type": "markdown",
   "metadata": {
    "ExecuteTime": {
     "end_time": "2023-04-27T01:11:52.395715Z",
     "start_time": "2023-04-27T01:11:52.355649Z"
    }
   },
   "source": [
    "## **Run me**: Trip stats ##\n",
    "\n",
    "With a correct implementation of `calc_trip_stats`, one could calculate trip statistics for the full `trips` dataset. Here is a sample of statistics for some of the most frequent trips."
   ]
  },
  {
   "cell_type": "code",
   "execution_count": 94,
   "metadata": {
    "ExecuteTime": {
     "end_time": "2023-04-27T23:50:17.646677Z",
     "start_time": "2023-04-27T23:50:17.624662Z"
    }
   },
   "outputs": [
    {
     "name": "stdout",
     "output_type": "stream",
     "text": [
      "Statistical properties of system-wide interarrival times (in minutes):\n"
     ]
    },
    {
     "data": {
      "text/html": [
       "<div>\n",
       "<style scoped>\n",
       "    .dataframe tbody tr th:only-of-type {\n",
       "        vertical-align: middle;\n",
       "    }\n",
       "\n",
       "    .dataframe tbody tr th {\n",
       "        vertical-align: top;\n",
       "    }\n",
       "\n",
       "    .dataframe thead th {\n",
       "        text-align: right;\n",
       "    }\n",
       "</style>\n",
       "<table border=\"1\" class=\"dataframe\">\n",
       "  <thead>\n",
       "    <tr style=\"text-align: right;\">\n",
       "      <th></th>\n",
       "      <th>start</th>\n",
       "      <th>end</th>\n",
       "      <th>count</th>\n",
       "      <th>mean</th>\n",
       "    </tr>\n",
       "  </thead>\n",
       "  <tbody>\n",
       "    <tr>\n",
       "      <th>5436</th>\n",
       "      <td>South Waterfront Walkway - Sinatra Dr &amp; 1 St</td>\n",
       "      <td>South Waterfront Walkway - Sinatra Dr &amp; 1 St</td>\n",
       "      <td>2663</td>\n",
       "      <td>35.921817</td>\n",
       "    </tr>\n",
       "    <tr>\n",
       "      <th>3143</th>\n",
       "      <td>Hoboken Terminal - Hudson St &amp; Hudson Pl</td>\n",
       "      <td>Hoboken Ave at Monmouth St</td>\n",
       "      <td>1906</td>\n",
       "      <td>9.926915</td>\n",
       "    </tr>\n",
       "    <tr>\n",
       "      <th>3905</th>\n",
       "      <td>Liberty Light Rail</td>\n",
       "      <td>Liberty Light Rail</td>\n",
       "      <td>1824</td>\n",
       "      <td>58.231213</td>\n",
       "    </tr>\n",
       "    <tr>\n",
       "      <th>132</th>\n",
       "      <td>12 St &amp; Sinatra Dr N</td>\n",
       "      <td>South Waterfront Walkway - Sinatra Dr &amp; 1 St</td>\n",
       "      <td>1625</td>\n",
       "      <td>14.311046</td>\n",
       "    </tr>\n",
       "    <tr>\n",
       "      <th>72</th>\n",
       "      <td>12 St &amp; Sinatra Dr N</td>\n",
       "      <td>12 St &amp; Sinatra Dr N</td>\n",
       "      <td>1622</td>\n",
       "      <td>39.599270</td>\n",
       "    </tr>\n",
       "  </tbody>\n",
       "</table>\n",
       "</div>"
      ],
      "text/plain": [
       "                                             start  \\\n",
       "5436  South Waterfront Walkway - Sinatra Dr & 1 St   \n",
       "3143      Hoboken Terminal - Hudson St & Hudson Pl   \n",
       "3905                            Liberty Light Rail   \n",
       "132                           12 St & Sinatra Dr N   \n",
       "72                            12 St & Sinatra Dr N   \n",
       "\n",
       "                                               end  count       mean  \n",
       "5436  South Waterfront Walkway - Sinatra Dr & 1 St   2663  35.921817  \n",
       "3143                    Hoboken Ave at Monmouth St   1906   9.926915  \n",
       "3905                            Liberty Light Rail   1824  58.231213  \n",
       "132   South Waterfront Walkway - Sinatra Dr & 1 St   1625  14.311046  \n",
       "72                            12 St & Sinatra Dr N   1622  39.599270  "
      ]
     },
     "execution_count": 94,
     "metadata": {},
     "output_type": "execute_result"
    }
   ],
   "source": [
    "print(\"Statistical properties of system-wide interarrival times (in minutes):\")\n",
    "trip_stats = cse6040.utils.load_df_from_file('ex5-trip_stats.df')\n",
    "trip_stats.sort_values(['count', 'start'], ascending=False).head()"
   ]
  },
  {
   "cell_type": "markdown",
   "metadata": {},
   "source": [
    "# Part C: Inventory analysis #"
   ]
  },
  {
   "cell_type": "markdown",
   "metadata": {},
   "source": [
    "An important analysis question is how many bikes are in available and in use at any moment of time? The next exercise asks you to write code to figure that out.\n",
    "\n",
    "To start, suppose we have the following trip records:"
   ]
  },
  {
   "cell_type": "code",
   "execution_count": 95,
   "metadata": {
    "ExecuteTime": {
     "end_time": "2023-04-27T23:50:17.669937Z",
     "start_time": "2023-04-27T23:50:17.647813Z"
    }
   },
   "outputs": [
    {
     "data": {
      "text/html": [
       "<div>\n",
       "<style scoped>\n",
       "    .dataframe tbody tr th:only-of-type {\n",
       "        vertical-align: middle;\n",
       "    }\n",
       "\n",
       "    .dataframe tbody tr th {\n",
       "        vertical-align: top;\n",
       "    }\n",
       "\n",
       "    .dataframe thead th {\n",
       "        text-align: right;\n",
       "    }\n",
       "</style>\n",
       "<table border=\"1\" class=\"dataframe\">\n",
       "  <thead>\n",
       "    <tr style=\"text-align: right;\">\n",
       "      <th></th>\n",
       "      <th>start_station_name</th>\n",
       "      <th>started_at</th>\n",
       "      <th>end_station_name</th>\n",
       "      <th>ended_at</th>\n",
       "    </tr>\n",
       "  </thead>\n",
       "  <tbody>\n",
       "    <tr>\n",
       "      <th>0</th>\n",
       "      <td>A</td>\n",
       "      <td>2022-06-01 08:00:00</td>\n",
       "      <td>B</td>\n",
       "      <td>2022-06-01 12:30:00</td>\n",
       "    </tr>\n",
       "    <tr>\n",
       "      <th>1</th>\n",
       "      <td>A</td>\n",
       "      <td>2022-06-01 09:15:00</td>\n",
       "      <td>A</td>\n",
       "      <td>2022-06-01 09:45:00</td>\n",
       "    </tr>\n",
       "    <tr>\n",
       "      <th>2</th>\n",
       "      <td>A</td>\n",
       "      <td>2022-06-01 10:00:00</td>\n",
       "      <td>C</td>\n",
       "      <td>2022-06-01 16:30:00</td>\n",
       "    </tr>\n",
       "    <tr>\n",
       "      <th>3</th>\n",
       "      <td>B</td>\n",
       "      <td>2022-06-01 11:15:00</td>\n",
       "      <td>A</td>\n",
       "      <td>2022-06-01 12:00:00</td>\n",
       "    </tr>\n",
       "  </tbody>\n",
       "</table>\n",
       "</div>"
      ],
      "text/plain": [
       "  start_station_name          started_at end_station_name            ended_at\n",
       "0                  A 2022-06-01 08:00:00                B 2022-06-01 12:30:00\n",
       "1                  A 2022-06-01 09:15:00                A 2022-06-01 09:45:00\n",
       "2                  A 2022-06-01 10:00:00                C 2022-06-01 16:30:00\n",
       "3                  B 2022-06-01 11:15:00                A 2022-06-01 12:00:00"
      ]
     },
     "execution_count": 95,
     "metadata": {},
     "output_type": "execute_result"
    }
   ],
   "source": [
    "demo_trips = pd.DataFrame([('A', np.datetime64('2022-06-01T08:00'), 'B', np.datetime64('2022-06-01T12:30')),\n",
    "                           ('A', np.datetime64('2022-06-01T09:15'), 'A', np.datetime64('2022-06-01T09:45')),\n",
    "                           ('A', np.datetime64('2022-06-01T10:00'), 'C', np.datetime64('2022-06-01T16:30')),\n",
    "                           ('B', np.datetime64('2022-06-01T11:15'), 'A', np.datetime64('2022-06-01T12:00'))],\n",
    "                          columns=['start_station_name', 'started_at', 'end_station_name', 'ended_at'])\n",
    "demo_trips"
   ]
  },
  {
   "cell_type": "markdown",
   "metadata": {
    "deletable": false,
    "editable": false,
    "nbgrader": {
     "grade": false,
     "locked": true,
     "solution": false
    }
   },
   "source": [
    "**Net inventory.** In this example, observe that all trips took place on June 1, so let's focus on the sequence of \"pick up\" and \"drop off\" times at station `'A'`.\n",
    "\n",
    "At any moment in time, the **net inventory** of bikes at a given station is the change in the number of bikes, starting with a net inventory of 0 bikes:\n",
    "- Initial net inventory: 0 bikes\n",
    "- Pick up at 8:00 (row 0): Net inventory = -1 bikes\n",
    "- Pick up at 9:15 (row 1): Net inventory = -2 bikes\n",
    "- Drop off at 9:45 (row 1): Net inventory = -1 bikes\n",
    "- Pick up at 10:00 (row 2): Net inventory = -2 bikes\n",
    "- Drop off at 12:00 (row 3): Net inventory = -1 bikes\n",
    "\n",
    "Similarly, at station B, the net inventory is:\n",
    "- Initial net inventory: 0 bikes\n",
    "- Pick up at 11:15 (row 3): -1 bikes\n",
    "- Drop off at 12:30 (row 0): 0 bikes\n",
    "\n",
    "Lastly, at station C:\n",
    "- Initial net inventory: 0 bikes\n",
    "- Drop off at 16:30: 1 bike"
   ]
  },
  {
   "cell_type": "markdown",
   "metadata": {
    "deletable": false,
    "editable": false,
    "nbgrader": {
     "grade": false,
     "locked": true,
     "solution": false
    },
    "tags": [
     "exercise_text"
    ]
   },
   "source": [
    "## **Exercise 6** (4 pts): `calc_net_inventory` ##\n",
    "\n",
    "Complete the function `calc_net_inventory(df)` so that it calculates the net inventory at each station at each pick-up and drop-off times.\n",
    "\n",
    "**Inputs**: A dataframe, `df`, with four columns: `'start_station_name'`, `'started_at'`, `'end_station_name'`, `'ended_at'`.\n",
    "\n",
    "**Your task**: For each station, let the initial net inventory be 0. Then determine the sequence of pick-up and drop-off times. Lastly, calculate the net inventory at each of those times.\n",
    "\n",
    "**Output**: Return a dataframe with three columns:\n",
    "- `'name'`: The name of the station, a string.\n",
    "- `'time'`: The time of a pick-up or drop-off event, a `datetime64` object.\n",
    "- `'netinv'`: The net inventory at that time, an integer.\n",
    "\n",
    "**Notes**:\n",
    "1. The _initial_ net inventory of 0 is conceptual and should **not** appear explicitly as a row in your output. (The net inventory at a pick-up or drop-off can be 0 and should be retained.) See the demo below.\n",
    "1. Although trips all occur on the same day in the above example, real inputs may span arbitrary windows of time.\n",
    "1. The order of rows and columns in the output does not matter."
   ]
  },
  {
   "cell_type": "code",
   "execution_count": 96,
   "metadata": {
    "ExecuteTime": {
     "end_time": "2023-04-27T23:50:17.693225Z",
     "start_time": "2023-04-27T23:50:17.670943Z"
    },
    "deletable": false,
    "editable": false,
    "nbgrader": {
     "grade": false,
     "locked": true,
     "solution": false
    },
    "tags": [
     "demo_data"
    ]
   },
   "outputs": [
    {
     "data": {
      "text/html": [
       "<div>\n",
       "<style scoped>\n",
       "    .dataframe tbody tr th:only-of-type {\n",
       "        vertical-align: middle;\n",
       "    }\n",
       "\n",
       "    .dataframe tbody tr th {\n",
       "        vertical-align: top;\n",
       "    }\n",
       "\n",
       "    .dataframe thead th {\n",
       "        text-align: right;\n",
       "    }\n",
       "</style>\n",
       "<table border=\"1\" class=\"dataframe\">\n",
       "  <thead>\n",
       "    <tr style=\"text-align: right;\">\n",
       "      <th></th>\n",
       "      <th>start_station_name</th>\n",
       "      <th>started_at</th>\n",
       "      <th>end_station_name</th>\n",
       "      <th>ended_at</th>\n",
       "    </tr>\n",
       "  </thead>\n",
       "  <tbody>\n",
       "    <tr>\n",
       "      <th>0</th>\n",
       "      <td>A</td>\n",
       "      <td>2022-06-01 08:00:00</td>\n",
       "      <td>B</td>\n",
       "      <td>2022-06-01 12:30:00</td>\n",
       "    </tr>\n",
       "    <tr>\n",
       "      <th>1</th>\n",
       "      <td>A</td>\n",
       "      <td>2022-06-01 09:15:00</td>\n",
       "      <td>A</td>\n",
       "      <td>2022-06-01 09:45:00</td>\n",
       "    </tr>\n",
       "    <tr>\n",
       "      <th>2</th>\n",
       "      <td>A</td>\n",
       "      <td>2022-06-01 10:00:00</td>\n",
       "      <td>C</td>\n",
       "      <td>2022-06-01 16:30:00</td>\n",
       "    </tr>\n",
       "    <tr>\n",
       "      <th>3</th>\n",
       "      <td>B</td>\n",
       "      <td>2022-06-01 11:15:00</td>\n",
       "      <td>A</td>\n",
       "      <td>2022-06-01 12:00:00</td>\n",
       "    </tr>\n",
       "  </tbody>\n",
       "</table>\n",
       "</div>"
      ],
      "text/plain": [
       "  start_station_name          started_at end_station_name            ended_at\n",
       "0                  A 2022-06-01 08:00:00                B 2022-06-01 12:30:00\n",
       "1                  A 2022-06-01 09:15:00                A 2022-06-01 09:45:00\n",
       "2                  A 2022-06-01 10:00:00                C 2022-06-01 16:30:00\n",
       "3                  B 2022-06-01 11:15:00                A 2022-06-01 12:00:00"
      ]
     },
     "execution_count": 96,
     "metadata": {},
     "output_type": "execute_result"
    }
   ],
   "source": [
    "### Define demo inputs ###\n",
    "\n",
    "demo_trips_ex6 = \\\n",
    "    pd.DataFrame([('A', np.datetime64('2022-06-01T08:00'), 'B', np.datetime64('2022-06-01T12:30')),\n",
    "                  ('A', np.datetime64('2022-06-01T09:15'), 'A', np.datetime64('2022-06-01T09:45')),\n",
    "                  ('A', np.datetime64('2022-06-01T10:00'), 'C', np.datetime64('2022-06-01T16:30')),\n",
    "                  ('B', np.datetime64('2022-06-01T11:15'), 'A', np.datetime64('2022-06-01T12:00'))],\n",
    "                 columns=['start_station_name', 'started_at', 'end_station_name', 'ended_at'])\n",
    "demo_trips_ex6"
   ]
  },
  {
   "cell_type": "markdown",
   "metadata": {
    "deletable": false,
    "editable": false,
    "nbgrader": {
     "grade": false,
     "locked": true,
     "solution": false
    },
    "tags": [
     "demo_output_md"
    ]
   },
   "source": [
    "A correct implementation of `calc_net_inventory` would produce the following:\n",
    "\n",
    "| name   | time                | netinv |\n",
    "|:-------|:--------------------|-------:|\n",
    "| A      | 2022-06-01 08:00:00 |     -1 |\n",
    "| A      | 2022-06-01 09:15:00 |     -2 |\n",
    "| A      | 2022-06-01 09:45:00 |     -1 |\n",
    "| A      | 2022-06-01 10:00:00 |     -2 |\n",
    "| A      | 2022-06-01 12:00:00 |     -1 |\n",
    "| B      | 2022-06-01 11:15:00 |     -1 |\n",
    "| B      | 2022-06-01 12:30:00 |      0 |\n",
    "| C      | 2022-06-01 16:30:00 |      1 |"
   ]
  },
  {
   "cell_type": "code",
   "execution_count": 97,
   "metadata": {
    "ExecuteTime": {
     "end_time": "2023-04-27T23:50:17.722032Z",
     "start_time": "2023-04-27T23:50:17.694070Z"
    },
    "tags": [
     "exercise_solution"
    ]
   },
   "outputs": [
    {
     "data": {
      "text/html": [
       "<div>\n",
       "<style scoped>\n",
       "    .dataframe tbody tr th:only-of-type {\n",
       "        vertical-align: middle;\n",
       "    }\n",
       "\n",
       "    .dataframe tbody tr th {\n",
       "        vertical-align: top;\n",
       "    }\n",
       "\n",
       "    .dataframe thead th {\n",
       "        text-align: right;\n",
       "    }\n",
       "</style>\n",
       "<table border=\"1\" class=\"dataframe\">\n",
       "  <thead>\n",
       "    <tr style=\"text-align: right;\">\n",
       "      <th></th>\n",
       "      <th>name</th>\n",
       "      <th>time</th>\n",
       "      <th>netinv</th>\n",
       "    </tr>\n",
       "  </thead>\n",
       "  <tbody>\n",
       "    <tr>\n",
       "      <th>0</th>\n",
       "      <td>A</td>\n",
       "      <td>2022-06-01 08:00:00</td>\n",
       "      <td>-1</td>\n",
       "    </tr>\n",
       "    <tr>\n",
       "      <th>1</th>\n",
       "      <td>A</td>\n",
       "      <td>2022-06-01 09:15:00</td>\n",
       "      <td>-2</td>\n",
       "    </tr>\n",
       "    <tr>\n",
       "      <th>2</th>\n",
       "      <td>A</td>\n",
       "      <td>2022-06-01 09:45:00</td>\n",
       "      <td>-1</td>\n",
       "    </tr>\n",
       "    <tr>\n",
       "      <th>3</th>\n",
       "      <td>A</td>\n",
       "      <td>2022-06-01 10:00:00</td>\n",
       "      <td>-2</td>\n",
       "    </tr>\n",
       "    <tr>\n",
       "      <th>4</th>\n",
       "      <td>A</td>\n",
       "      <td>2022-06-01 12:00:00</td>\n",
       "      <td>-1</td>\n",
       "    </tr>\n",
       "    <tr>\n",
       "      <th>5</th>\n",
       "      <td>B</td>\n",
       "      <td>2022-06-01 11:15:00</td>\n",
       "      <td>-1</td>\n",
       "    </tr>\n",
       "    <tr>\n",
       "      <th>6</th>\n",
       "      <td>B</td>\n",
       "      <td>2022-06-01 12:30:00</td>\n",
       "      <td>0</td>\n",
       "    </tr>\n",
       "    <tr>\n",
       "      <th>7</th>\n",
       "      <td>C</td>\n",
       "      <td>2022-06-01 16:30:00</td>\n",
       "      <td>1</td>\n",
       "    </tr>\n",
       "  </tbody>\n",
       "</table>\n",
       "</div>"
      ],
      "text/plain": [
       "  name                time  netinv\n",
       "0    A 2022-06-01 08:00:00      -1\n",
       "1    A 2022-06-01 09:15:00      -2\n",
       "2    A 2022-06-01 09:45:00      -1\n",
       "3    A 2022-06-01 10:00:00      -2\n",
       "4    A 2022-06-01 12:00:00      -1\n",
       "5    B 2022-06-01 11:15:00      -1\n",
       "6    B 2022-06-01 12:30:00       0\n",
       "7    C 2022-06-01 16:30:00       1"
      ]
     },
     "execution_count": 97,
     "metadata": {},
     "output_type": "execute_result"
    }
   ],
   "source": [
    "### Exercise 6 solution ###\n",
    "def calc_net_inventory(df):\n",
    "       \n",
    "    pickups = df[['start_station_name','started_at']].rename(columns={'start_station_name':'name', 'started_at': 'time'})\n",
    "    pickups['changes'] = -1\n",
    "    dropoffs = df[['end_station_name','ended_at']].rename(columns={'end_station_name':'name', 'ended_at': 'time'})\n",
    "    dropoffs['changes'] = 1\n",
    "\n",
    "    result = pd.concat([pickups, dropoffs])\n",
    "    \n",
    "    def helper(df1):\n",
    "        \n",
    "        result = df1.sort_values('time')\n",
    "        result['netinv'] = result['changes'].expanding().sum().astype(int)\n",
    "        return result\n",
    "\n",
    "    result = result.groupby('name').apply(helper).reset_index(drop=True)\n",
    "    \n",
    "    result = result[['name', 'time', 'netinv']]\n",
    "    \n",
    "    return result\n",
    "\n",
    "demo_trips_ex6\n",
    "### demo function call ###\n",
    "calc_net_inventory(demo_trips_ex6)"
   ]
  },
  {
   "cell_type": "markdown",
   "metadata": {
    "deletable": false,
    "editable": false,
    "nbgrader": {
     "grade": false,
     "locked": true,
     "solution": false
    },
    "tags": [
     "test_data_boilerplate"
    ]
   },
   "source": [
    "<!-- Test Cell Boilerplate -->\n",
    "The cell below will test your solution for Exercise 5. The testing variables will be available for debugging under the following names in a dictionary format.\n",
    "- `input_vars` - Input variables for your solution. \n",
    "- `original_input_vars` - Copy of input variables from prior to running your solution. These _should_ be the same as `input_vars` - otherwise the inputs were modified by your solution.\n",
    "- `returned_output_vars` - Outputs returned by your solution.\n",
    "- `true_output_vars` - The expected output. This _should_ \"match\" `returned_output_vars` based on the question requirements - otherwise, your solution is not returning the correct output. "
   ]
  },
  {
   "cell_type": "code",
   "execution_count": 98,
   "metadata": {
    "ExecuteTime": {
     "end_time": "2023-04-27T23:50:27.096891Z",
     "start_time": "2023-04-27T23:50:25.803764Z"
    },
    "deletable": false,
    "editable": false,
    "nbgrader": {
     "grade": true,
     "grade_id": "ex6",
     "locked": true,
     "points": "4",
     "solution": false
    },
    "tags": []
   },
   "outputs": [
    {
     "name": "stdout",
     "output_type": "stream",
     "text": [
      "Passed! Please submit.\n"
     ]
    }
   ],
   "source": [
    "### test_cell_ex6\n",
    "###\n",
    "### AUTOGRADER TEST - DO NOT REMOVE\n",
    "###\n",
    "from tester_fw.testers import Tester\n",
    "\n",
    "conf = {\n",
    "    'case_file':'tc_6', \n",
    "    'func': calc_net_inventory, # replace this with the function defined above\n",
    "    'inputs':{ # input config dict. keys are parameter names\n",
    "        'df':{\n",
    "            'dtype':'df', # data type of param.\n",
    "            'check_modified':True,\n",
    "        }\n",
    "    },\n",
    "    'outputs':{\n",
    "        'output_0':{\n",
    "            'index':0,\n",
    "            'dtype':'df',\n",
    "            'check_dtype': True,\n",
    "            'check_col_dtypes': True, # Ignored if dtype is not df\n",
    "            'check_col_order': False, # Ignored if dtype is not df\n",
    "            'check_row_order': False, # Ignored if dtype is not df\n",
    "            'float_tolerance': 10 ** (-6)\n",
    "        }\n",
    "    }\n",
    "}\n",
    "tester = Tester(conf, key=b'gy_fxnwg2syYRI07RIp8Lm6YY57OL1pZUkVTOC0T43Q=', path='resource/asnlib/publicdata/')\n",
    "for _ in range(70):\n",
    "    try:\n",
    "        tester.run_test()\n",
    "        (input_vars, original_input_vars, returned_output_vars, true_output_vars) = tester.get_test_vars()\n",
    "    except:\n",
    "        (input_vars, original_input_vars, returned_output_vars, true_output_vars) = tester.get_test_vars()\n",
    "        raise\n",
    "\n",
    "###\n",
    "### AUTOGRADER TEST - DO NOT REMOVE\n",
    "###\n",
    "print('Passed! Please submit.')"
   ]
  },
  {
   "cell_type": "markdown",
   "metadata": {
    "ExecuteTime": {
     "end_time": "2023-04-27T01:11:52.395715Z",
     "start_time": "2023-04-27T01:11:52.355649Z"
    },
    "deletable": false,
    "editable": false,
    "nbgrader": {
     "grade": false,
     "locked": true,
     "solution": false
    }
   },
   "source": [
    "## **Run me**: Net inventories ##\n",
    "\n",
    "With a correct implementation of `calc_net_inventory`, one could calculate net inventories for the full `trips` dataset. The code cell below visualizes this inventory for a sample station."
   ]
  },
  {
   "cell_type": "code",
   "execution_count": 99,
   "metadata": {
    "ExecuteTime": {
     "end_time": "2023-04-27T23:50:27.373212Z",
     "start_time": "2023-04-27T23:50:27.097889Z"
    },
    "deletable": false,
    "editable": false,
    "nbgrader": {
     "grade": false,
     "locked": true,
     "solution": false
    }
   },
   "outputs": [
    {
     "name": "stdout",
     "output_type": "stream",
     "text": [
      "Statistical properties of system-wide interarrival times (in minutes):\n"
     ]
    },
    {
     "data": {
      "image/png": "[encoded data removed]",
      "text/plain": [
       "<Figure size 576x324 with 1 Axes>"
      ]
     },
     "metadata": {
      "needs_background": "light"
     },
     "output_type": "display_data"
    }
   ],
   "source": [
    "print(\"Statistical properties of system-wide interarrival times (in minutes):\")\n",
    "netinv = cse6040.utils.load_df_from_file('ex6-netinv.df')\n",
    "#netinv_example_station = 'Jackson Square'\n",
    "netinv_example_station = 'Clinton St & Newark St'\n",
    "netinv_example = netinv[netinv['name'] == netinv_example_station]\n",
    "cse6040.utils.viz_availability(netinv_example,\n",
    "                               title=f\"Net inventory at station '{netinv_example_station}'\",\n",
    "                               col_avail='netinv',\n",
    "                               markersize=1)\n",
    "pass"
   ]
  },
  {
   "cell_type": "markdown",
   "metadata": {
    "deletable": false,
    "editable": false,
    "nbgrader": {
     "grade": false,
     "locked": true,
     "solution": false
    }
   },
   "source": [
    "# Part D: Ad placement #\n",
    "\n",
    "The city has asked if you can help place advertisements for local businesses and services at various stations. To be more strategic, they want to group—or _cluster_—stations that are commonly visited together. In the next exercise, we'll run try a certain kind of clustering analysis called **spectral clustering**.\n",
    "\n",
    "A spectral clustering method needs as input a graph (of vertices and connecting edges among them). In the next exercise, you'll construct that input."
   ]
  },
  {
   "cell_type": "markdown",
   "metadata": {
    "deletable": false,
    "editable": false,
    "nbgrader": {
     "grade": false,
     "locked": true,
     "solution": false
    },
    "tags": [
     "exercise_text"
    ]
   },
   "source": [
    "## **Exercise 7** (2 pts): `build_edges` ##\n",
    "\n",
    "To run the spectral clustering algorithm, we first need to construct an edge list. An edge list is a Python list of tuples `(a, b, w)` where `a` is a starting vertex, `b` is the ending vertex, and `w` is a \"weight\" that measures the importance of that connection.\n",
    "\n",
    "Complete the function `build_edges(df)` to construct such an edge list from trip statistics computed in Exercise 5. (You did something similar in Midterm 2!)\n",
    "\n",
    "**Inputs**: The input is a dataframe with the following columns:\n",
    "- `'start'`: The name of the starting station.\n",
    "- `'end'`: The name of the ending station.\n",
    "- `'count'`: The number of times that (start, end) pair occurred.\n",
    "\n",
    "**Your task**: Construct a Python list of tuples `(a, b, w)` where\n",
    "- `a` is starting station name\n",
    "- `b` is the ending station name\n",
    "- `w` is the original count (`'count'`) divided by the sum of all counts that originate at `a`.\n",
    "\n",
    "See the demo for an example.\n",
    "\n",
    "**Output**: Return the Python list of tuples as described above.\n",
    "\n",
    "**Notes**: There is no ordering requirement; prior to checking your result, we will sort both your output and our expected outputs lexicographically."
   ]
  },
  {
   "cell_type": "code",
   "execution_count": 100,
   "metadata": {
    "ExecuteTime": {
     "end_time": "2023-04-27T23:50:27.397372Z",
     "start_time": "2023-04-27T23:50:27.374347Z"
    },
    "deletable": false,
    "editable": false,
    "nbgrader": {
     "grade": false,
     "locked": true,
     "solution": false
    },
    "tags": [
     "demo_data"
    ]
   },
   "outputs": [
    {
     "data": {
      "text/html": [
       "<div>\n",
       "<style scoped>\n",
       "    .dataframe tbody tr th:only-of-type {\n",
       "        vertical-align: middle;\n",
       "    }\n",
       "\n",
       "    .dataframe tbody tr th {\n",
       "        vertical-align: top;\n",
       "    }\n",
       "\n",
       "    .dataframe thead th {\n",
       "        text-align: right;\n",
       "    }\n",
       "</style>\n",
       "<table border=\"1\" class=\"dataframe\">\n",
       "  <thead>\n",
       "    <tr style=\"text-align: right;\">\n",
       "      <th></th>\n",
       "      <th>start</th>\n",
       "      <th>end</th>\n",
       "      <th>count</th>\n",
       "    </tr>\n",
       "  </thead>\n",
       "  <tbody>\n",
       "    <tr>\n",
       "      <th>0</th>\n",
       "      <td>Montgomery St</td>\n",
       "      <td>11 St &amp; Washington St</td>\n",
       "      <td>1</td>\n",
       "    </tr>\n",
       "    <tr>\n",
       "      <th>1</th>\n",
       "      <td>11 St &amp; Washington St</td>\n",
       "      <td>Bergen Ave &amp; Stegman St</td>\n",
       "      <td>1</td>\n",
       "    </tr>\n",
       "    <tr>\n",
       "      <th>2</th>\n",
       "      <td>7 St &amp; Monroe St</td>\n",
       "      <td>11 St &amp; Washington St</td>\n",
       "      <td>85</td>\n",
       "    </tr>\n",
       "    <tr>\n",
       "      <th>3</th>\n",
       "      <td>Hoboken Ave at Monmouth St</td>\n",
       "      <td>11 St &amp; Washington St</td>\n",
       "      <td>94</td>\n",
       "    </tr>\n",
       "    <tr>\n",
       "      <th>4</th>\n",
       "      <td>Southwest Park - Jackson St &amp; Observer Hwy</td>\n",
       "      <td>11 St &amp; Washington St</td>\n",
       "      <td>61</td>\n",
       "    </tr>\n",
       "    <tr>\n",
       "      <th>5</th>\n",
       "      <td>11 St &amp; Washington St</td>\n",
       "      <td>Dixon Mills</td>\n",
       "      <td>6</td>\n",
       "    </tr>\n",
       "    <tr>\n",
       "      <th>6</th>\n",
       "      <td>Marshall St &amp; 2 St</td>\n",
       "      <td>11 St &amp; Washington St</td>\n",
       "      <td>78</td>\n",
       "    </tr>\n",
       "    <tr>\n",
       "      <th>7</th>\n",
       "      <td>11 St &amp; Washington St</td>\n",
       "      <td>Riverview Park</td>\n",
       "      <td>15</td>\n",
       "    </tr>\n",
       "    <tr>\n",
       "      <th>8</th>\n",
       "      <td>Stevens - River Ter &amp; 6 St</td>\n",
       "      <td>11 St &amp; Washington St</td>\n",
       "      <td>78</td>\n",
       "    </tr>\n",
       "    <tr>\n",
       "      <th>9</th>\n",
       "      <td>11 St &amp; Washington St</td>\n",
       "      <td>Grand St</td>\n",
       "      <td>3</td>\n",
       "    </tr>\n",
       "  </tbody>\n",
       "</table>\n",
       "</div>"
      ],
      "text/plain": [
       "                                        start                      end  count\n",
       "0                               Montgomery St    11 St & Washington St      1\n",
       "1                       11 St & Washington St  Bergen Ave & Stegman St      1\n",
       "2                            7 St & Monroe St    11 St & Washington St     85\n",
       "3                  Hoboken Ave at Monmouth St    11 St & Washington St     94\n",
       "4  Southwest Park - Jackson St & Observer Hwy    11 St & Washington St     61\n",
       "5                       11 St & Washington St              Dixon Mills      6\n",
       "6                          Marshall St & 2 St    11 St & Washington St     78\n",
       "7                       11 St & Washington St           Riverview Park     15\n",
       "8                  Stevens - River Ter & 6 St    11 St & Washington St     78\n",
       "9                       11 St & Washington St                 Grand St      3"
      ]
     },
     "execution_count": 100,
     "metadata": {},
     "output_type": "execute_result"
    }
   ],
   "source": [
    "### Define demo inputs ###\n",
    "\n",
    "demo_df_ex7 = cse6040.utils.load_df_from_file('ex7-demo_df_ex7.df')\n",
    "demo_df_ex7"
   ]
  },
  {
   "cell_type": "markdown",
   "metadata": {
    "deletable": false,
    "editable": false,
    "nbgrader": {
     "grade": false,
     "locked": true,
     "solution": false
    },
    "tags": [
     "demo_output_md"
    ]
   },
   "source": [
    "Given the demo input shown above, a correct implementation of `build_edges` would produce the following:\n",
    "\n",
    "```python\n",
    "[('11 St & Washington St', 'Bergen Ave & Stegman St', 0.04),\n",
    " ('11 St & Washington St', 'Dixon Mills', 0.24),\n",
    " ('11 St & Washington St', 'Grand St', 0.12),\n",
    " ('11 St & Washington St', 'Riverview Park', 0.6),\n",
    " ('7 St & Monroe St', '11 St & Washington St', 1.0),\n",
    " ('Hoboken Ave at Monmouth St', '11 St & Washington St', 1.0),\n",
    " ('Marshall St & 2 St', '11 St & Washington St', 1.0),\n",
    " ('Montgomery St', '11 St & Washington St', 1.0),\n",
    " ('Southwest Park - Jackson St & Observer Hwy', '11 St & Washington St', 1.0),\n",
    " ('Stevens - River Ter & 6 St', '11 St & Washington St', 1.0)]\n",
    "```\n",
    "\n",
    "> _Note:_ This output happens to be sorted, but that is not a requirement."
   ]
  },
  {
   "cell_type": "code",
   "execution_count": 101,
   "metadata": {
    "ExecuteTime": {
     "end_time": "2023-04-27T23:50:27.424200Z",
     "start_time": "2023-04-27T23:50:27.398720Z"
    },
    "tags": [
     "exercise_solution"
    ]
   },
   "outputs": [
    {
     "data": {
      "text/plain": [
       "[('Montgomery St', '11 St & Washington St', 1.0),\n",
       " ('11 St & Washington St', 'Bergen Ave & Stegman St', 0.04),\n",
       " ('7 St & Monroe St', '11 St & Washington St', 1.0),\n",
       " ('Hoboken Ave at Monmouth St', '11 St & Washington St', 1.0),\n",
       " ('Southwest Park - Jackson St & Observer Hwy', '11 St & Washington St', 1.0),\n",
       " ('11 St & Washington St', 'Dixon Mills', 0.24),\n",
       " ('Marshall St & 2 St', '11 St & Washington St', 1.0),\n",
       " ('11 St & Washington St', 'Riverview Park', 0.6),\n",
       " ('Stevens - River Ter & 6 St', '11 St & Washington St', 1.0),\n",
       " ('11 St & Washington St', 'Grand St', 0.12)]"
      ]
     },
     "execution_count": 101,
     "metadata": {},
     "output_type": "execute_result"
    }
   ],
   "source": [
    "### Exercise 7 solution\n",
    "def build_edges(df):\n",
    "    \n",
    "    edges = []\n",
    "    \n",
    "    a_count = df[['start', 'count']].groupby('start').sum()\n",
    "    #a_count = df.groupby('start').agg({'count': 'sum'})\n",
    "    \n",
    "    for _, row in df.iterrows():\n",
    "        start = row['start']\n",
    "        end = row['end']\n",
    "        count = row['count']\n",
    "        \n",
    "        weight = count/a_count.loc[start]['count']\n",
    "        \n",
    "        edges.append((start, end, weight))\n",
    "    \n",
    "    return edges\n",
    "\n",
    "\n",
    "#     start_counts = df[['start', 'count']].groupby('start').sum().reset_index() \\\n",
    "#                    .rename(columns={'count': 'outgoing'})\n",
    "#     edges_df = df.merge(start_counts, on='start')\n",
    "#     edges_df['weight'] = edges_df['count'] / edges_df['outgoing']\n",
    "#     edges_df = edges_df[['start', 'end', 'weight']]\n",
    "#     edges = sorted([(s, e, w) for s, e, w in edges_df.itertuples(index=False)])\n",
    "#     return edges\n",
    "    \n",
    "### demo function call ###\n",
    "build_edges(demo_df_ex7)"
   ]
  },
  {
   "cell_type": "markdown",
   "metadata": {
    "deletable": false,
    "editable": false,
    "nbgrader": {
     "grade": false,
     "locked": true,
     "solution": false
    },
    "tags": [
     "test_data_boilerplate"
    ]
   },
   "source": [
    "<!-- Test Cell Boilerplate -->\n",
    "The cell below will test your solution for Exercise 7. The testing variables will be available for debugging under the following names in a dictionary format.\n",
    "- `input_vars` - Input variables for your solution. \n",
    "- `original_input_vars` - Copy of input variables from prior to running your solution. These _should_ be the same as `input_vars` - otherwise the inputs were modified by your solution.\n",
    "- `returned_output_vars` - Outputs returned by your solution.\n",
    "- `true_output_vars` - The expected output. This _should_ \"match\" `returned_output_vars` based on the question requirements - otherwise, your solution is not returning the correct output. "
   ]
  },
  {
   "cell_type": "code",
   "execution_count": 102,
   "metadata": {
    "ExecuteTime": {
     "end_time": "2023-04-27T23:50:29.141436Z",
     "start_time": "2023-04-27T23:50:28.829753Z"
    },
    "deletable": false,
    "editable": false,
    "nbgrader": {
     "grade": true,
     "grade_id": "ex7",
     "locked": true,
     "points": "2",
     "solution": false
    },
    "tags": []
   },
   "outputs": [
    {
     "name": "stdout",
     "output_type": "stream",
     "text": [
      "Passed! Please submit.\n"
     ]
    }
   ],
   "source": [
    "### test_cell_ex7\n",
    "###\n",
    "### AUTOGRADER TEST - DO NOT REMOVE\n",
    "###\n",
    "from tester_fw.testers import Tester\n",
    "\n",
    "conf = {\n",
    "    'case_file':'tc_7', \n",
    "    'func': lambda df: sorted(build_edges(df)), # replace this with the function defined above\n",
    "    'inputs':{ # input config dict. keys are parameter names\n",
    "        'df':{\n",
    "            'dtype':'df', # data type of param.\n",
    "            'check_modified':True,\n",
    "        }\n",
    "    },\n",
    "    'outputs':{\n",
    "        'output_0':{\n",
    "            'index':0,\n",
    "            'dtype':'list',\n",
    "            'check_dtype': True,\n",
    "            'check_col_dtypes': True, # Ignored if dtype is not df\n",
    "            'check_col_order': True, # Ignored if dtype is not df\n",
    "            'check_row_order': True, # Ignored if dtype is not df\n",
    "            'float_tolerance': 10 ** (-6)\n",
    "        }\n",
    "    }\n",
    "}\n",
    "tester = Tester(conf, key=b'gy_fxnwg2syYRI07RIp8Lm6YY57OL1pZUkVTOC0T43Q=', path='resource/asnlib/publicdata/')\n",
    "for _ in range(70):\n",
    "    try:\n",
    "        tester.run_test()\n",
    "        (input_vars, original_input_vars, returned_output_vars, true_output_vars) = tester.get_test_vars()\n",
    "    except:\n",
    "        (input_vars, original_input_vars, returned_output_vars, true_output_vars) = tester.get_test_vars()\n",
    "        raise\n",
    "\n",
    "###\n",
    "### AUTOGRADER TEST - DO NOT REMOVE\n",
    "###\n",
    "print('Passed! Please submit.')"
   ]
  },
  {
   "cell_type": "markdown",
   "metadata": {
    "ExecuteTime": {
     "end_time": "2023-04-27T01:11:52.395715Z",
     "start_time": "2023-04-27T01:11:52.355649Z"
    }
   },
   "source": [
    "## **Run me**: Clustering ##\n",
    "\n",
    "With a correct implementation of `build_edges`, one can construct a sparse matrix and run the [sklearn spectral clustering method](https://scikit-learn.org/stable/modules/generated/sklearn.cluster.SpectralClustering.html).\n",
    "\n",
    "We did that for you, constructing three clusters, summarized in the following result:"
   ]
  },
  {
   "cell_type": "code",
   "execution_count": 103,
   "metadata": {
    "ExecuteTime": {
     "end_time": "2023-04-27T23:50:29.170979Z",
     "start_time": "2023-04-27T23:50:29.142345Z"
    },
    "deletable": false,
    "editable": false,
    "nbgrader": {
     "grade": false,
     "locked": true,
     "solution": false
    }
   },
   "outputs": [
    {
     "data": {
      "text/plain": [
       "array([1, 1, 1, 1, 1, 1, 1, 1, 1, 1, 2, 2, 2, 1, 0, 0, 2, 1, 0, 1, 1, 1,\n",
       "       0, 0, 1, 0, 0, 2, 2, 0, 1, 0, 0, 0, 1, 2, 1, 1, 1, 1, 0, 0, 0, 2,\n",
       "       0, 2, 0, 2, 1, 1, 1, 0, 0, 1, 0, 0, 0, 0, 0, 0, 2, 0, 2, 1, 1, 1,\n",
       "       1, 0, 0, 0, 1, 2, 2, 2, 0, 2, 2, 2, 2, 2, 2, 0])"
      ]
     },
     "execution_count": 103,
     "metadata": {},
     "output_type": "execute_result"
    }
   ],
   "source": [
    "station_clusters = cse6040.utils.load_obj_from_file(\"ex7-clustering.array\")\n",
    "station_clusters"
   ]
  },
  {
   "cell_type": "markdown",
   "metadata": {
    "deletable": false,
    "editable": false,
    "nbgrader": {
     "grade": false,
     "locked": true,
     "solution": false
    }
   },
   "source": [
    "Each element is a station. The value is an integer cluster ID (0, 1, or 2). Of course, this raw clustering result is not very useful. In the next exercise, you'll merge it with the data we have so we can visualize the clusters."
   ]
  },
  {
   "cell_type": "markdown",
   "metadata": {
    "deletable": false,
    "editable": false,
    "nbgrader": {
     "grade": false,
     "locked": true,
     "solution": false
    },
    "tags": [
     "exercise_text"
    ]
   },
   "source": [
    "## **Exercise 8** (2 pts): `merge_cluster_info` ##\n",
    "\n",
    "Complete the function `merge_cluster_info(locs, clusters, stid_to_name)` so that it combines station location and cluster assignment data into a single dataframe for subsequent analysis.\n",
    "\n",
    "**Inputs**:\n",
    "- `locs`: A dataframe with three columns:\n",
    "  * `'name'`: A station name\n",
    "  * `'lng'`: Its geographic longitude\n",
    "  * `'lat'`: Its geographic latitude\n",
    "- `clusters`: A Numpy array of integers, where the station whose ID is `i` is assigned to the cluster whose ID is `clusters[i]`.\n",
    "- `stid_to_name`: A dictionary mapping each integer station IDs `i` to its station name `stid_to_name[i]`.\n",
    "\n",
    "**Your task**: The `stid_to_name` dictionary tells you how to map station IDs to names. Using this information, associate each station's location with its cluster ID.\n",
    "\n",
    "**Output**: Return a new dataframe with the following columns:\n",
    "- `'name'`: The station name (string)\n",
    "- `'lng'`: The station's geographic longitude (float)\n",
    "- `'lat'`: The station's geographic latitude (float)\n",
    "- `'cluster'`: The station's cluster ID"
   ]
  },
  {
   "cell_type": "code",
   "execution_count": 104,
   "metadata": {
    "ExecuteTime": {
     "end_time": "2023-04-27T23:50:29.233552Z",
     "start_time": "2023-04-27T23:50:29.201062Z"
    },
    "deletable": false,
    "editable": false,
    "nbgrader": {
     "grade": false,
     "locked": true,
     "solution": false
    },
    "tags": [
     "demo_data"
    ]
   },
   "outputs": [
    {
     "data": {
      "text/html": [
       "<div>\n",
       "<style scoped>\n",
       "    .dataframe tbody tr th:only-of-type {\n",
       "        vertical-align: middle;\n",
       "    }\n",
       "\n",
       "    .dataframe tbody tr th {\n",
       "        vertical-align: top;\n",
       "    }\n",
       "\n",
       "    .dataframe thead th {\n",
       "        text-align: right;\n",
       "    }\n",
       "</style>\n",
       "<table border=\"1\" class=\"dataframe\">\n",
       "  <thead>\n",
       "    <tr style=\"text-align: right;\">\n",
       "      <th></th>\n",
       "      <th>name</th>\n",
       "      <th>lng</th>\n",
       "      <th>lat</th>\n",
       "    </tr>\n",
       "  </thead>\n",
       "  <tbody>\n",
       "    <tr>\n",
       "      <th>0</th>\n",
       "      <td>JCBS Depot</td>\n",
       "      <td>-74.068601</td>\n",
       "      <td>40.709651</td>\n",
       "    </tr>\n",
       "    <tr>\n",
       "      <th>1</th>\n",
       "      <td>Lafayette Park</td>\n",
       "      <td>-74.062857</td>\n",
       "      <td>40.713467</td>\n",
       "    </tr>\n",
       "    <tr>\n",
       "      <th>2</th>\n",
       "      <td>Leonard Gordon Park</td>\n",
       "      <td>-74.057263</td>\n",
       "      <td>40.745906</td>\n",
       "    </tr>\n",
       "    <tr>\n",
       "      <th>3</th>\n",
       "      <td>Hoboken Terminal - Hudson St &amp; Hudson Pl</td>\n",
       "      <td>-74.030307</td>\n",
       "      <td>40.735937</td>\n",
       "    </tr>\n",
       "    <tr>\n",
       "      <th>4</th>\n",
       "      <td>Morris Canal</td>\n",
       "      <td>-74.038515</td>\n",
       "      <td>40.712412</td>\n",
       "    </tr>\n",
       "    <tr>\n",
       "      <th>5</th>\n",
       "      <td>South Waterfront Walkway - Sinatra Dr &amp; 1 St</td>\n",
       "      <td>-74.027780</td>\n",
       "      <td>40.736987</td>\n",
       "    </tr>\n",
       "    <tr>\n",
       "      <th>6</th>\n",
       "      <td>Columbus Drive</td>\n",
       "      <td>-74.038909</td>\n",
       "      <td>40.718369</td>\n",
       "    </tr>\n",
       "  </tbody>\n",
       "</table>\n",
       "</div>"
      ],
      "text/plain": [
       "                                           name        lng        lat\n",
       "0                                    JCBS Depot -74.068601  40.709651\n",
       "1                                Lafayette Park -74.062857  40.713467\n",
       "2                           Leonard Gordon Park -74.057263  40.745906\n",
       "3      Hoboken Terminal - Hudson St & Hudson Pl -74.030307  40.735937\n",
       "4                                  Morris Canal -74.038515  40.712412\n",
       "5  South Waterfront Walkway - Sinatra Dr & 1 St -74.027780  40.736987\n",
       "6                                Columbus Drive -74.038909  40.718369"
      ]
     },
     "metadata": {},
     "output_type": "display_data"
    },
    {
     "name": "stdout",
     "output_type": "stream",
     "text": [
      "[1 1 1 0 1 0 0]\n"
     ]
    },
    {
     "data": {
      "text/plain": [
       "{0: 'Leonard Gordon Park',\n",
       " 1: 'Morris Canal',\n",
       " 2: 'Columbus Drive',\n",
       " 3: 'JCBS Depot',\n",
       " 4: 'Lafayette Park',\n",
       " 5: 'South Waterfront Walkway - Sinatra Dr & 1 St',\n",
       " 6: 'Hoboken Terminal - Hudson St & Hudson Pl'}"
      ]
     },
     "execution_count": 104,
     "metadata": {},
     "output_type": "execute_result"
    }
   ],
   "source": [
    "### Define demo inputs ###\n",
    "demo_locs_ex8 = cse6040.utils.load_obj_from_file('ex8.locs')\n",
    "display(demo_locs_ex8)\n",
    "\n",
    "demo_clusters_ex8 = cse6040.utils.load_obj_from_file('ex8.clusters')\n",
    "print(demo_clusters_ex8)\n",
    "\n",
    "demo_stid_to_name_ex8 = cse6040.utils.load_obj_from_file('ex8.stid_to_name')\n",
    "demo_stid_to_name_ex8"
   ]
  },
  {
   "cell_type": "markdown",
   "metadata": {
    "deletable": false,
    "editable": false,
    "nbgrader": {
     "grade": false,
     "locked": true,
     "solution": false
    },
    "tags": [
     "demo_output_md"
    ]
   },
   "source": [
    "A correct implementation of `merge_cluster_info`, run on the demo data above, would produce:\n",
    "\n",
    "| name                                         |      lng |     lat |   cluster |\n",
    "|:---------------------------------------------|---------:|--------:|----------:|\n",
    "| Lafayette Park                               | -74.0629 | 40.7135 |         1 |\n",
    "| Hoboken Terminal - Hudson St & Hudson Pl     | -74.0303 | 40.7359 |         0 |\n",
    "| Morris Canal                                 | -74.0385 | 40.7124 |         1 |\n",
    "| JCBS Depot                                   | -74.0686 | 40.7097 |         0 |\n",
    "| Columbus Drive                               | -74.0389 | 40.7184 |         1 |\n",
    "| Leonard Gordon Park                          | -74.0573 | 40.7459 |         1 |\n",
    "| South Waterfront Walkway - Sinatra Dr & 1 St | -74.0278 | 40.737  |         0 |\n",
    "\n",
    "For example, observe from the demo inputs that `'Columbus Drive'` is assigned the station ID of `2`. Therefore, its cluster ID is the value `demo_cluster_ex8[2] == 1`. Similarly, `'JCBS Depot'` is assigned the station ID of `3`. Its cluster ID is `demo_cluster_ex8[3] == 0`."
   ]
  },
  {
   "cell_type": "code",
   "execution_count": 105,
   "metadata": {
    "ExecuteTime": {
     "end_time": "2023-04-27T23:50:29.262439Z",
     "start_time": "2023-04-27T23:50:29.234529Z"
    },
    "tags": [
     "exercise_solution"
    ]
   },
   "outputs": [
    {
     "data": {
      "text/html": [
       "<div>\n",
       "<style scoped>\n",
       "    .dataframe tbody tr th:only-of-type {\n",
       "        vertical-align: middle;\n",
       "    }\n",
       "\n",
       "    .dataframe tbody tr th {\n",
       "        vertical-align: top;\n",
       "    }\n",
       "\n",
       "    .dataframe thead th {\n",
       "        text-align: right;\n",
       "    }\n",
       "</style>\n",
       "<table border=\"1\" class=\"dataframe\">\n",
       "  <thead>\n",
       "    <tr style=\"text-align: right;\">\n",
       "      <th></th>\n",
       "      <th>name</th>\n",
       "      <th>lng</th>\n",
       "      <th>lat</th>\n",
       "      <th>cluster</th>\n",
       "    </tr>\n",
       "  </thead>\n",
       "  <tbody>\n",
       "    <tr>\n",
       "      <th>0</th>\n",
       "      <td>JCBS Depot</td>\n",
       "      <td>-74.068601</td>\n",
       "      <td>40.709651</td>\n",
       "      <td>0</td>\n",
       "    </tr>\n",
       "    <tr>\n",
       "      <th>1</th>\n",
       "      <td>Lafayette Park</td>\n",
       "      <td>-74.062857</td>\n",
       "      <td>40.713467</td>\n",
       "      <td>1</td>\n",
       "    </tr>\n",
       "    <tr>\n",
       "      <th>2</th>\n",
       "      <td>Leonard Gordon Park</td>\n",
       "      <td>-74.057263</td>\n",
       "      <td>40.745906</td>\n",
       "      <td>1</td>\n",
       "    </tr>\n",
       "    <tr>\n",
       "      <th>3</th>\n",
       "      <td>Hoboken Terminal - Hudson St &amp; Hudson Pl</td>\n",
       "      <td>-74.030307</td>\n",
       "      <td>40.735937</td>\n",
       "      <td>0</td>\n",
       "    </tr>\n",
       "    <tr>\n",
       "      <th>4</th>\n",
       "      <td>Morris Canal</td>\n",
       "      <td>-74.038515</td>\n",
       "      <td>40.712412</td>\n",
       "      <td>1</td>\n",
       "    </tr>\n",
       "    <tr>\n",
       "      <th>5</th>\n",
       "      <td>South Waterfront Walkway - Sinatra Dr &amp; 1 St</td>\n",
       "      <td>-74.027780</td>\n",
       "      <td>40.736987</td>\n",
       "      <td>0</td>\n",
       "    </tr>\n",
       "    <tr>\n",
       "      <th>6</th>\n",
       "      <td>Columbus Drive</td>\n",
       "      <td>-74.038909</td>\n",
       "      <td>40.718369</td>\n",
       "      <td>1</td>\n",
       "    </tr>\n",
       "  </tbody>\n",
       "</table>\n",
       "</div>"
      ],
      "text/plain": [
       "                                           name        lng        lat  cluster\n",
       "0                                    JCBS Depot -74.068601  40.709651        0\n",
       "1                                Lafayette Park -74.062857  40.713467        1\n",
       "2                           Leonard Gordon Park -74.057263  40.745906        1\n",
       "3      Hoboken Terminal - Hudson St & Hudson Pl -74.030307  40.735937        0\n",
       "4                                  Morris Canal -74.038515  40.712412        1\n",
       "5  South Waterfront Walkway - Sinatra Dr & 1 St -74.027780  40.736987        0\n",
       "6                                Columbus Drive -74.038909  40.718369        1"
      ]
     },
     "execution_count": 105,
     "metadata": {},
     "output_type": "execute_result"
    }
   ],
   "source": [
    "### Exercise 8 solution\n",
    "def merge_cluster_info(locs, clusters, stid_to_name):\n",
    "    \n",
    "    locs2 = locs.copy()\n",
    "    \n",
    "    dic = dict(zip(stid_to_name.values(), stid_to_name.keys()))\n",
    "      \n",
    "    def func(x):\n",
    "        \n",
    "        return clusters[dic[x['name']]]\n",
    "    \n",
    "    locs2['cluster'] = locs2.apply(func, axis=1)\n",
    "    \n",
    "    return locs2\n",
    "        \n",
    "\n",
    "    \n",
    "#     cdf = pd.DataFrame({'stid': np.arange(len(clusters)),\n",
    "#                         'cluster': clusters})\n",
    "#     cdf['name'] = cdf['stid'].apply(stid_to_name.get)\n",
    "#     return locs.merge(cdf, on=['name']).drop(columns=['stid'])\n",
    "\n",
    "### demo function call ###\n",
    "merge_cluster_info(demo_locs_ex8, demo_clusters_ex8, demo_stid_to_name_ex8)"
   ]
  },
  {
   "cell_type": "markdown",
   "metadata": {
    "deletable": false,
    "editable": false,
    "nbgrader": {
     "grade": false,
     "locked": true,
     "solution": false
    },
    "tags": [
     "test_data_boilerplate"
    ]
   },
   "source": [
    "<!-- Test Cell Boilerplate -->\n",
    "The cell below will test your solution for Exercise 8. The testing variables will be available for debugging under the following names in a dictionary format.\n",
    "- `input_vars` - Input variables for your solution. \n",
    "- `original_input_vars` - Copy of input variables from prior to running your solution. These _should_ be the same as `input_vars` - otherwise the inputs were modified by your solution.\n",
    "- `returned_output_vars` - Outputs returned by your solution.\n",
    "- `true_output_vars` - The expected output. This _should_ \"match\" `returned_output_vars` based on the question requirements - otherwise, your solution is not returning the correct output. "
   ]
  },
  {
   "cell_type": "code",
   "execution_count": 106,
   "metadata": {
    "ExecuteTime": {
     "end_time": "2023-04-27T23:50:30.150692Z",
     "start_time": "2023-04-27T23:50:29.803154Z"
    },
    "deletable": false,
    "editable": false,
    "nbgrader": {
     "grade": true,
     "grade_id": "ex8",
     "locked": true,
     "points": "2",
     "solution": false
    },
    "tags": []
   },
   "outputs": [
    {
     "name": "stdout",
     "output_type": "stream",
     "text": [
      "Passed! Please submit.\n"
     ]
    }
   ],
   "source": [
    "### test_cell_ex8\n",
    "###\n",
    "### AUTOGRADER TEST - DO NOT REMOVE\n",
    "###\n",
    "from tester_fw.testers import Tester\n",
    "\n",
    "conf = {\n",
    "    'case_file':'tc_8', \n",
    "    'func': merge_cluster_info, # replace this with the function defined above\n",
    "    'inputs':{ # input config dict. keys are parameter names\n",
    "        'locs':{\n",
    "            'dtype':'df', # data type of param.\n",
    "            'check_modified':True,\n",
    "        },\n",
    "        'clusters': {\n",
    "            'dtype': 'array',\n",
    "            'check_modified': True\n",
    "        },\n",
    "        'stid_to_name': {\n",
    "            'dtype': 'dict',\n",
    "            'check_modified': True\n",
    "        }\n",
    "    },\n",
    "    'outputs':{\n",
    "        'output_0':{\n",
    "            'index':0,\n",
    "            'dtype':'df',\n",
    "            'check_dtype': True,\n",
    "            'check_col_dtypes': True, # Ignored if dtype is not df\n",
    "            'check_col_order': False, # Ignored if dtype is not df\n",
    "            'check_row_order': False, # Ignored if dtype is not df\n",
    "            'float_tolerance': 10 ** (-6)\n",
    "        }\n",
    "    }\n",
    "}\n",
    "tester = Tester(conf, key=b'gy_fxnwg2syYRI07RIp8Lm6YY57OL1pZUkVTOC0T43Q=', path='resource/asnlib/publicdata/')\n",
    "for _ in range(70):\n",
    "    try:\n",
    "        tester.run_test()\n",
    "        (input_vars, original_input_vars, returned_output_vars, true_output_vars) = tester.get_test_vars()\n",
    "    except:\n",
    "        (input_vars, original_input_vars, returned_output_vars, true_output_vars) = tester.get_test_vars()\n",
    "        raise\n",
    "\n",
    "###\n",
    "### AUTOGRADER TEST - DO NOT REMOVE\n",
    "###\n",
    "print('Passed! Please submit.')"
   ]
  },
  {
   "cell_type": "markdown",
   "metadata": {},
   "source": [
    "## Cluster visualization ##\n",
    "\n",
    "If you had a correct solution to Exercise 8, you would see that the 3-way spectral clustering produced the following grouping of bike stations:\n",
    "\n",
    "![Bike-station clustering](resource/asnlib/public/station-clustering.png)"
   ]
  },
  {
   "cell_type": "markdown",
   "metadata": {
    "deletable": false,
    "editable": false,
    "nbgrader": {
     "grade": false,
     "locked": true,
     "solution": false
    },
    "tags": [
     "fin"
    ]
   },
   "source": [
    "**Fin.** If you have made it this far, congratulations on completing the exam. **Don't forget to submit!**"
   ]
  }
 ],
 "metadata": {
  "interpreter": {
   "hash": "f2b38b6e01547e8f771d473ea2b8718fd0728eea782e4c924ed8783f739d4a6c"
  },
  "kernelspec": {
   "display_name": "Python 3.8",
   "language": "python",
   "name": "python38"
  },
  "language_info": {
   "codemirror_mode": {
    "name": "ipython",
    "version": 3
   },
   "file_extension": ".py",
   "mimetype": "text/x-python",
   "name": "python",
   "nbconvert_exporter": "python",
   "pygments_lexer": "ipython3",
   "version": "3.8.7"
  },
  "toc": {
   "base_numbering": 1,
   "nav_menu": [],
   "number_sections": true,
   "sideBar": true,
   "skip_h1_title": false,
   "title_cell": "Table of Contents",
   "title_sidebar": "Contents",
   "toc_cell": false,
   "toc_position": {
    "height": "calc(100% - 180px)",
    "left": "10px",
    "top": "150px",
    "width": "165px"
   },
   "toc_section_display": true,
   "toc_window_display": true
  }
 },
 "nbformat": 4,
 "nbformat_minor": 5
}
