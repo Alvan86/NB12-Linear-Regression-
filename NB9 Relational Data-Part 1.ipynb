{
 "cells": [
  {
   "cell_type": "markdown",
   "metadata": {
    "deletable": false,
    "editable": false,
    "nbgrader": {
     "grade": false,
     "locked": true,
     "solution": false
    },
    "nbpresent": {
     "id": "ac05e2a5-19d3-459a-be72-15ac33423f4f"
    }
   },
   "source": [
    "# Part 1: NYC 311 calls\n",
    "\n",
    "This notebook derives from a [demo by the makers of plot.ly](https://plot.ly/ipython-notebooks/big-data-analytics-with-pandas-and-sqlite/). We've adapted it to use [Bokeh (and HoloViews)](http://bokeh.pydata.org/en/latest/).\n",
    "\n",
    "You will start with a large database of complaints filed by residents of New York City via 311 calls. The full dataset is available at the [NYC open data portal](https://data.cityofnewyork.us/Social-Services/311-Service-Requests-from-2010-to-Present/erm2-nwe9). Our subset is about 6 GB and 10 million complaints, so you can infer that a) you might not want to read it all into memory at once, and b) NYC residents have a lot to complain about. (Maybe only conclusion \"a\" is valid.) The notebook then combines the use of `sqlite`, `pandas`, and `bokeh`."
   ]
  },
  {
   "cell_type": "markdown",
   "metadata": {
    "deletable": false,
    "editable": false,
    "nbgrader": {
     "grade": false,
     "locked": true,
     "solution": false
    }
   },
   "source": [
    "## Module setup\n",
    "\n",
    "Before diving in, run the following cells to preload some functions you'll need later. These include a few functions from Notebook 7."
   ]
  },
  {
   "cell_type": "code",
   "execution_count": 3,
   "metadata": {
    "deletable": false,
    "editable": false,
    "nbgrader": {
     "grade": false,
     "locked": true,
     "solution": false
    },
    "nbpresent": {
     "id": "19cc7eb8-4336-46cc-b3e3-fe64f194fc73"
    }
   },
   "outputs": [
    {
     "name": "stdout",
     "output_type": "stream",
     "text": [
      "3.8.7 (default, Jan 25 2021, 11:14:52) \n",
      "[GCC 5.5.0 20171010]\n"
     ]
    }
   ],
   "source": [
    "import sys\n",
    "print(sys.version) # Print Python version -- On Vocareum, it should be 3.7+\n",
    "\n",
    "from IPython.display import display\n",
    "import pandas as pd\n",
    "\n",
    "from nb7utils import canonicalize_tibble, tibbles_are_equivalent, cast"
   ]
  },
  {
   "cell_type": "markdown",
   "metadata": {
    "deletable": false,
    "editable": false,
    "nbgrader": {
     "grade": false,
     "locked": true,
     "solution": false
    }
   },
   "source": [
    "Lastly, some of the test cells will need some auxiliary files, which the following code cell will check for and, if they are missing, download."
   ]
  },
  {
   "cell_type": "code",
   "execution_count": null,
   "metadata": {
    "deletable": false,
    "editable": false,
    "nbgrader": {
     "grade": false,
     "locked": true,
     "solution": false
    }
   },
   "outputs": [],
   "source": [
    "from nb9utils import download, get_path, auxfiles\n",
    "\n",
    "for filename, checksum in auxfiles.items():\n",
    "    download(filename, checksum=checksum, url_suffix=\"lab9-sql/\")\n",
    "    \n",
    "print(\"(Auxiliary files appear to be ready.)\")"
   ]
  },
  {
   "cell_type": "markdown",
   "metadata": {
    "deletable": false,
    "editable": false,
    "nbgrader": {
     "grade": false,
     "locked": true,
     "solution": false
    },
    "nbpresent": {
     "id": "e1cd3bf9-e15d-4d7a-98d0-33ba5f0d3bc8"
    }
   },
   "source": [
    "## Viz setup\n",
    "\n",
    "This notebook includes some simple visualizations. This section just ensures you have the right software setup to follow along."
   ]
  },
  {
   "cell_type": "code",
   "execution_count": 5,
   "metadata": {
    "collapsed": true,
    "deletable": false,
    "editable": false,
    "nbgrader": {
     "grade": false,
     "locked": true,
     "solution": false
    }
   },
   "outputs": [],
   "source": [
    "from nb9utils import make_barchart, make_stacked_barchart\n",
    "from bokeh.io import show"
   ]
  },
  {
   "cell_type": "code",
   "execution_count": 6,
   "metadata": {
    "deletable": false,
    "editable": false,
    "nbgrader": {
     "grade": false,
     "locked": true,
     "solution": false
    }
   },
   "outputs": [
    {
     "data": {
      "text/html": [
       "<div>\n",
       "<style scoped>\n",
       "    .dataframe tbody tr th:only-of-type {\n",
       "        vertical-align: middle;\n",
       "    }\n",
       "\n",
       "    .dataframe tbody tr th {\n",
       "        vertical-align: top;\n",
       "    }\n",
       "\n",
       "    .dataframe thead th {\n",
       "        text-align: right;\n",
       "    }\n",
       "</style>\n",
       "<table border=\"1\" class=\"dataframe\">\n",
       "  <thead>\n",
       "    <tr style=\"text-align: right;\">\n",
       "      <th>category</th>\n",
       "      <th>cat1</th>\n",
       "      <th>cat2</th>\n",
       "      <th>cat3</th>\n",
       "    </tr>\n",
       "    <tr>\n",
       "      <th>week</th>\n",
       "      <th></th>\n",
       "      <th></th>\n",
       "      <th></th>\n",
       "    </tr>\n",
       "  </thead>\n",
       "  <tbody>\n",
       "    <tr>\n",
       "      <th>201720</th>\n",
       "      <td>20</td>\n",
       "      <td>30</td>\n",
       "      <td>40</td>\n",
       "    </tr>\n",
       "    <tr>\n",
       "      <th>201721</th>\n",
       "      <td>20</td>\n",
       "      <td>0</td>\n",
       "      <td>40</td>\n",
       "    </tr>\n",
       "    <tr>\n",
       "      <th>201722</th>\n",
       "      <td>50</td>\n",
       "      <td>60</td>\n",
       "      <td>10</td>\n",
       "    </tr>\n",
       "  </tbody>\n",
       "</table>\n",
       "</div>"
      ],
      "text/plain": [
       "category  cat1  cat2  cat3\n",
       "week                      \n",
       "201720      20    30    40\n",
       "201721      20     0    40\n",
       "201722      50    60    10"
      ]
     },
     "execution_count": 6,
     "metadata": {},
     "output_type": "execute_result"
    }
   ],
   "source": [
    "def demo_bar():\n",
    "    from bokeh.plotting import figure\n",
    "    from bokeh.models import ColumnDataSource\n",
    "    data = [\n",
    "        ['201720', 'cat1', 20],\n",
    "        ['201720', 'cat2', 30],\n",
    "        ['201720', 'cat3', 40],\n",
    "        ['201721', 'cat1', 20],\n",
    "        ['201721', 'cat2', 0],\n",
    "        ['201721', 'cat3', 40],\n",
    "        ['201722', 'cat1', 50],\n",
    "        ['201722', 'cat2', 60],\n",
    "        ['201722', 'cat3', 10],\n",
    "    ]\n",
    "    df = pd.DataFrame(data, columns=['week', 'category', 'count'])\n",
    "    pt = df.pivot('week', 'category', 'count')\n",
    "    pt.cumsum(axis=1)\n",
    "    return df, pt\n",
    "\n",
    "df_demo, pt_demo = demo_bar()\n",
    "pt_demo"
   ]
  },
  {
   "cell_type": "code",
   "execution_count": 7,
   "metadata": {
    "deletable": false,
    "editable": false,
    "nbgrader": {
     "grade": false,
     "locked": true,
     "solution": false
    }
   },
   "outputs": [
    {
     "name": "stderr",
     "output_type": "stream",
     "text": [
      "BokehDeprecationWarning: 'legend' keyword is deprecated, use explicit 'legend_label', 'legend_field', or 'legend_group' keywords instead\n",
      "BokehDeprecationWarning: 'legend' keyword is deprecated, use explicit 'legend_label', 'legend_field', or 'legend_group' keywords instead\n",
      "BokehDeprecationWarning: 'legend' keyword is deprecated, use explicit 'legend_label', 'legend_field', or 'legend_group' keywords instead\n"
     ]
    },
    {
     "data": {
      "text/html": [
       "\n",
       "\n",
       "\n",
       "\n",
       "\n",
       "\n",
       "  <div class=\"bk-root\" id=\"1cab573f-b3e6-41dc-8b67-30a73d7cc26b\" data-root-id=\"1003\"></div>\n"
      ]
     },
     "metadata": {},
     "output_type": "display_data"
    },
    {
     "data": {
      "application/javascript": [
       "(function(root) {\n",
       "  function embed_document(root) {\n",
       "    \n",
       "  var docs_json = {\"8bbedd3f-72d6-4bbb-b940-876f9489fa67\":{\"roots\":{\"references\":[{\"attributes\":{\"below\":[{\"id\":\"1013\"}],\"center\":[{\"id\":\"1015\"},{\"id\":\"1019\"},{\"id\":\"1047\"}],\"left\":[{\"id\":\"1016\"}],\"plot_height\":500,\"plot_width\":800,\"renderers\":[{\"id\":\"1037\"},{\"id\":\"1052\"},{\"id\":\"1068\"}],\"title\":{\"id\":\"1004\"},\"toolbar\":{\"id\":\"1027\"},\"x_range\":{\"id\":\"1002\"},\"x_scale\":{\"id\":\"1009\"},\"y_range\":{\"id\":\"1007\"},\"y_scale\":{\"id\":\"1011\"}},\"id\":\"1003\",\"subtype\":\"Figure\",\"type\":\"Plot\"},{\"attributes\":{\"label\":{\"value\":\"cat3\"},\"renderers\":[{\"id\":\"1068\"}]},\"id\":\"1082\",\"type\":\"LegendItem\"},{\"attributes\":{},\"id\":\"1009\",\"type\":\"CategoricalScale\"},{\"attributes\":{},\"id\":\"1062\",\"type\":\"Selection\"},{\"attributes\":{},\"id\":\"1079\",\"type\":\"UnionRenderers\"},{\"attributes\":{\"bottom_units\":\"screen\",\"fill_alpha\":0.5,\"fill_color\":\"lightgrey\",\"left_units\":\"screen\",\"level\":\"overlay\",\"line_alpha\":1.0,\"line_color\":\"black\",\"line_dash\":[4,4],\"line_width\":2,\"right_units\":\"screen\",\"top_units\":\"screen\"},\"id\":\"1026\",\"type\":\"BoxAnnotation\"},{\"attributes\":{\"text\":\"count\"},\"id\":\"1004\",\"type\":\"Title\"},{\"attributes\":{\"label\":{\"value\":\"cat1\"},\"renderers\":[{\"id\":\"1037\"}]},\"id\":\"1048\",\"type\":\"LegendItem\"},{\"attributes\":{},\"id\":\"1040\",\"type\":\"CategoricalTickFormatter\"},{\"attributes\":{},\"id\":\"1014\",\"type\":\"CategoricalTicker\"},{\"attributes\":{},\"id\":\"1080\",\"type\":\"Selection\"},{\"attributes\":{\"axis\":{\"id\":\"1013\"},\"ticker\":null},\"id\":\"1015\",\"type\":\"Grid\"},{\"attributes\":{},\"id\":\"1011\",\"type\":\"LinearScale\"},{\"attributes\":{\"factors\":[\"201720\",\"201721\",\"201722\"]},\"id\":\"1002\",\"type\":\"FactorRange\"},{\"attributes\":{\"axis_label\":\"week\",\"formatter\":{\"id\":\"1040\"},\"ticker\":{\"id\":\"1014\"}},\"id\":\"1013\",\"type\":\"CategoricalAxis\"},{\"attributes\":{},\"id\":\"1021\",\"type\":\"WheelZoomTool\"},{\"attributes\":{\"axis_label\":\"category\",\"formatter\":{\"id\":\"1042\"},\"ticker\":{\"id\":\"1017\"}},\"id\":\"1016\",\"type\":\"LinearAxis\"},{\"attributes\":{\"axis\":{\"id\":\"1016\"},\"dimension\":1,\"ticker\":null},\"id\":\"1019\",\"type\":\"Grid\"},{\"attributes\":{},\"id\":\"1017\",\"type\":\"BasicTicker\"},{\"attributes\":{},\"id\":\"1007\",\"type\":\"DataRange1d\"},{\"attributes\":{\"bottom\":{\"field\":\"bottom\"},\"fill_color\":{\"value\":\"green\"},\"line_color\":{\"value\":\"green\"},\"top\":{\"field\":\"top\"},\"width\":{\"value\":0.2},\"x\":{\"field\":\"x\"}},\"id\":\"1066\",\"type\":\"VBar\"},{\"attributes\":{\"bottom\":{\"field\":\"bottom\"},\"fill_color\":{\"value\":\"blue\"},\"line_color\":{\"value\":\"blue\"},\"top\":{\"field\":\"top\"},\"width\":{\"value\":0.2},\"x\":{\"field\":\"x\"}},\"id\":\"1050\",\"type\":\"VBar\"},{\"attributes\":{},\"id\":\"1042\",\"type\":\"BasicTickFormatter\"},{\"attributes\":{},\"id\":\"1020\",\"type\":\"PanTool\"},{\"attributes\":{\"data\":{\"bottom\":[20,20,50],\"top\":[50,20,110],\"x\":[\"201720\",\"201721\",\"201722\"]},\"selected\":{\"id\":\"1062\"},\"selection_policy\":{\"id\":\"1061\"}},\"id\":\"1049\",\"type\":\"ColumnDataSource\"},{\"attributes\":{\"bottom\":{\"field\":\"bottom\"},\"fill_alpha\":{\"value\":0.1},\"fill_color\":{\"value\":\"green\"},\"line_alpha\":{\"value\":0.1},\"line_color\":{\"value\":\"green\"},\"top\":{\"field\":\"top\"},\"width\":{\"value\":0.2},\"x\":{\"field\":\"x\"}},\"id\":\"1067\",\"type\":\"VBar\"},{\"attributes\":{\"bottom\":{\"field\":\"bottom\"},\"fill_alpha\":{\"value\":0.1},\"fill_color\":{\"value\":\"blue\"},\"line_alpha\":{\"value\":0.1},\"line_color\":{\"value\":\"blue\"},\"top\":{\"field\":\"top\"},\"width\":{\"value\":0.2},\"x\":{\"field\":\"x\"}},\"id\":\"1051\",\"type\":\"VBar\"},{\"attributes\":{\"data\":{\"bottom\":[50,20,110],\"top\":[90,60,120],\"x\":[\"201720\",\"201721\",\"201722\"]},\"selected\":{\"id\":\"1080\"},\"selection_policy\":{\"id\":\"1079\"}},\"id\":\"1065\",\"type\":\"ColumnDataSource\"},{\"attributes\":{\"label\":{\"value\":\"cat2\"},\"renderers\":[{\"id\":\"1052\"}]},\"id\":\"1064\",\"type\":\"LegendItem\"},{\"attributes\":{},\"id\":\"1025\",\"type\":\"HelpTool\"},{\"attributes\":{\"overlay\":{\"id\":\"1026\"}},\"id\":\"1022\",\"type\":\"BoxZoomTool\"},{\"attributes\":{},\"id\":\"1023\",\"type\":\"SaveTool\"},{\"attributes\":{\"source\":{\"id\":\"1049\"}},\"id\":\"1053\",\"type\":\"CDSView\"},{\"attributes\":{},\"id\":\"1024\",\"type\":\"ResetTool\"},{\"attributes\":{\"data_source\":{\"id\":\"1049\"},\"glyph\":{\"id\":\"1050\"},\"hover_glyph\":null,\"muted_glyph\":null,\"nonselection_glyph\":{\"id\":\"1051\"},\"selection_glyph\":null,\"view\":{\"id\":\"1053\"}},\"id\":\"1052\",\"type\":\"GlyphRenderer\"},{\"attributes\":{\"active_drag\":\"auto\",\"active_inspect\":\"auto\",\"active_multi\":null,\"active_scroll\":\"auto\",\"active_tap\":\"auto\",\"tools\":[{\"id\":\"1020\"},{\"id\":\"1021\"},{\"id\":\"1022\"},{\"id\":\"1023\"},{\"id\":\"1024\"},{\"id\":\"1025\"}]},\"id\":\"1027\",\"type\":\"Toolbar\"},{\"attributes\":{\"data_source\":{\"id\":\"1034\"},\"glyph\":{\"id\":\"1035\"},\"hover_glyph\":null,\"muted_glyph\":null,\"nonselection_glyph\":{\"id\":\"1036\"},\"selection_glyph\":null,\"view\":{\"id\":\"1038\"}},\"id\":\"1037\",\"type\":\"GlyphRenderer\"},{\"attributes\":{},\"id\":\"1044\",\"type\":\"UnionRenderers\"},{\"attributes\":{\"source\":{\"id\":\"1034\"}},\"id\":\"1038\",\"type\":\"CDSView\"},{\"attributes\":{},\"id\":\"1045\",\"type\":\"Selection\"},{\"attributes\":{\"source\":{\"id\":\"1065\"}},\"id\":\"1069\",\"type\":\"CDSView\"},{\"attributes\":{\"data_source\":{\"id\":\"1065\"},\"glyph\":{\"id\":\"1066\"},\"hover_glyph\":null,\"muted_glyph\":null,\"nonselection_glyph\":{\"id\":\"1067\"},\"selection_glyph\":null,\"view\":{\"id\":\"1069\"}},\"id\":\"1068\",\"type\":\"GlyphRenderer\"},{\"attributes\":{\"items\":[{\"id\":\"1048\"},{\"id\":\"1064\"},{\"id\":\"1082\"}]},\"id\":\"1047\",\"type\":\"Legend\"},{\"attributes\":{\"data\":{\"top\":[20,20,50],\"x\":[\"201720\",\"201721\",\"201722\"]},\"selected\":{\"id\":\"1045\"},\"selection_policy\":{\"id\":\"1044\"}},\"id\":\"1034\",\"type\":\"ColumnDataSource\"},{\"attributes\":{\"fill_color\":{\"value\":\"red\"},\"line_color\":{\"value\":\"red\"},\"top\":{\"field\":\"top\"},\"width\":{\"value\":0.2},\"x\":{\"field\":\"x\"}},\"id\":\"1035\",\"type\":\"VBar\"},{\"attributes\":{\"fill_alpha\":{\"value\":0.1},\"fill_color\":{\"value\":\"red\"},\"line_alpha\":{\"value\":0.1},\"line_color\":{\"value\":\"red\"},\"top\":{\"field\":\"top\"},\"width\":{\"value\":0.2},\"x\":{\"field\":\"x\"}},\"id\":\"1036\",\"type\":\"VBar\"},{\"attributes\":{},\"id\":\"1061\",\"type\":\"UnionRenderers\"}],\"root_ids\":[\"1003\"]},\"title\":\"Bokeh Application\",\"version\":\"2.2.3\"}};\n",
       "  var render_items = [{\"docid\":\"8bbedd3f-72d6-4bbb-b940-876f9489fa67\",\"root_ids\":[\"1003\"],\"roots\":{\"1003\":\"1cab573f-b3e6-41dc-8b67-30a73d7cc26b\"}}];\n",
       "  root.Bokeh.embed.embed_items_notebook(docs_json, render_items);\n",
       "\n",
       "  }\n",
       "  if (root.Bokeh !== undefined) {\n",
       "    embed_document(root);\n",
       "  } else {\n",
       "    var attempts = 0;\n",
       "    var timer = setInterval(function(root) {\n",
       "      if (root.Bokeh !== undefined) {\n",
       "        clearInterval(timer);\n",
       "        embed_document(root);\n",
       "      } else {\n",
       "        attempts++;\n",
       "        if (attempts > 100) {\n",
       "          clearInterval(timer);\n",
       "          console.log(\"Bokeh: ERROR: Unable to run BokehJS code because BokehJS library is missing\");\n",
       "        }\n",
       "      }\n",
       "    }, 10, root)\n",
       "  }\n",
       "})(window);"
      ],
      "application/vnd.bokehjs_exec.v0+json": ""
     },
     "metadata": {
      "application/vnd.bokehjs_exec.v0+json": {
       "id": "1003"
      }
     },
     "output_type": "display_data"
    }
   ],
   "source": [
    "def demo_stacked_bar(pt):\n",
    "    from bokeh.models.ranges import FactorRange\n",
    "    from bokeh.io import show\n",
    "    from bokeh.plotting import figure\n",
    "    p = figure(title=\"count\",\n",
    "               x_axis_label='week', y_axis_label='category',\n",
    "               x_range = FactorRange(factors=list(pt.index)),\n",
    "               plot_height=500, plot_width=800)\n",
    "    p.vbar(x=pt.index, bottom=0, top=pt.cat1, width=0.2, color='red', legend='cat1')\n",
    "    p.vbar(x=pt.index, bottom=pt.cat1, top=pt.cat2+pt.cat1, width=0.2, color='blue', legend='cat2')\n",
    "    p.vbar(x=pt.index, bottom=pt.cat2+pt.cat1,top=pt.cat3+pt.cat2+pt.cat1, width=0.2, color='green', legend='cat3')\n",
    "    return p\n",
    "    \n",
    "show(demo_stacked_bar(pt_demo))"
   ]
  },
  {
   "cell_type": "code",
   "execution_count": 8,
   "metadata": {
    "deletable": false,
    "editable": false,
    "nbgrader": {
     "grade": false,
     "locked": true,
     "solution": false
    },
    "nbpresent": {
     "id": "44a7ba22-db47-4da9-bf5c-1fae5abe3119"
    },
    "scrolled": true
   },
   "outputs": [
    {
     "data": {
      "text/html": [
       "<div>\n",
       "<style scoped>\n",
       "    .dataframe tbody tr th:only-of-type {\n",
       "        vertical-align: middle;\n",
       "    }\n",
       "\n",
       "    .dataframe tbody tr th {\n",
       "        vertical-align: top;\n",
       "    }\n",
       "\n",
       "    .dataframe thead th {\n",
       "        text-align: right;\n",
       "    }\n",
       "</style>\n",
       "<table border=\"1\" class=\"dataframe\">\n",
       "  <thead>\n",
       "    <tr style=\"text-align: right;\">\n",
       "      <th></th>\n",
       "      <th>Names</th>\n",
       "      <th>Births</th>\n",
       "    </tr>\n",
       "  </thead>\n",
       "  <tbody>\n",
       "    <tr>\n",
       "      <th>0</th>\n",
       "      <td>Bob</td>\n",
       "      <td>968</td>\n",
       "    </tr>\n",
       "    <tr>\n",
       "      <th>1</th>\n",
       "      <td>Jessica</td>\n",
       "      <td>155</td>\n",
       "    </tr>\n",
       "    <tr>\n",
       "      <th>2</th>\n",
       "      <td>Mary</td>\n",
       "      <td>77</td>\n",
       "    </tr>\n",
       "    <tr>\n",
       "      <th>3</th>\n",
       "      <td>John</td>\n",
       "      <td>578</td>\n",
       "    </tr>\n",
       "    <tr>\n",
       "      <th>4</th>\n",
       "      <td>Mel</td>\n",
       "      <td>973</td>\n",
       "    </tr>\n",
       "  </tbody>\n",
       "</table>\n",
       "</div>"
      ],
      "text/plain": [
       "     Names  Births\n",
       "0      Bob     968\n",
       "1  Jessica     155\n",
       "2     Mary      77\n",
       "3     John     578\n",
       "4      Mel     973"
      ]
     },
     "metadata": {},
     "output_type": "display_data"
    }
   ],
   "source": [
    "# Build a Pandas data frame\n",
    "names = ['Bob','Jessica','Mary','John','Mel']\n",
    "births = [968, 155, 77, 578, 973]\n",
    "name_birth_pairs = list(zip(names, births))\n",
    "baby_names = pd.DataFrame(data=name_birth_pairs, columns=['Names', 'Births'])\n",
    "display(baby_names)"
   ]
  },
  {
   "cell_type": "code",
   "execution_count": 9,
   "metadata": {
    "deletable": false,
    "editable": false,
    "nbgrader": {
     "grade": false,
     "locked": true,
     "solution": false
    },
    "nbpresent": {
     "id": "11732f28-b968-4f34-95fe-df6198342524"
    }
   },
   "outputs": [
    {
     "data": {
      "text/html": [
       "\n",
       "\n",
       "\n",
       "\n",
       "\n",
       "\n",
       "  <div class=\"bk-root\" id=\"80b03d49-4c52-440b-817b-cbbf826ddba8\" data-root-id=\"1155\"></div>\n"
      ]
     },
     "metadata": {},
     "output_type": "display_data"
    },
    {
     "data": {
      "application/javascript": [
       "(function(root) {\n",
       "  function embed_document(root) {\n",
       "    \n",
       "  var docs_json = {\"a2c4b86e-e8a1-48c7-a28c-f02c94c0e98e\":{\"roots\":{\"references\":[{\"attributes\":{\"below\":[{\"id\":\"1164\"}],\"center\":[{\"id\":\"1166\"},{\"id\":\"1170\"}],\"left\":[{\"id\":\"1167\"}],\"plot_height\":320,\"plot_width\":640,\"renderers\":[{\"id\":\"1188\"}],\"title\":{\"id\":\"1202\"},\"toolbar\":{\"id\":\"1178\"},\"x_range\":{\"id\":\"1156\"},\"x_scale\":{\"id\":\"1160\"},\"y_range\":{\"id\":\"1158\"},\"y_scale\":{\"id\":\"1162\"}},\"id\":\"1155\",\"subtype\":\"Figure\",\"type\":\"Plot\"},{\"attributes\":{\"text\":\"\"},\"id\":\"1202\",\"type\":\"Title\"},{\"attributes\":{\"factors\":[\"Bob\",\"Jessica\",\"Mary\",\"John\",\"Mel\"]},\"id\":\"1156\",\"type\":\"FactorRange\"},{\"attributes\":{},\"id\":\"1208\",\"type\":\"UnionRenderers\"},{\"attributes\":{\"bottom_units\":\"screen\",\"fill_alpha\":0.5,\"fill_color\":\"lightgrey\",\"left_units\":\"screen\",\"level\":\"overlay\",\"line_alpha\":1.0,\"line_color\":\"black\",\"line_dash\":[4,4],\"line_width\":2,\"right_units\":\"screen\",\"top_units\":\"screen\"},\"id\":\"1177\",\"type\":\"BoxAnnotation\"},{\"attributes\":{},\"id\":\"1206\",\"type\":\"BasicTickFormatter\"},{\"attributes\":{},\"id\":\"1209\",\"type\":\"Selection\"},{\"attributes\":{},\"id\":\"1158\",\"type\":\"DataRange1d\"},{\"attributes\":{\"formatter\":{\"id\":\"1206\"},\"ticker\":{\"id\":\"1168\"}},\"id\":\"1167\",\"type\":\"LinearAxis\"},{\"attributes\":{},\"id\":\"1204\",\"type\":\"CategoricalTickFormatter\"},{\"attributes\":{\"data\":{\"top\":[968,155,77,578,973],\"x\":[\"Bob\",\"Jessica\",\"Mary\",\"John\",\"Mel\"]},\"selected\":{\"id\":\"1209\"},\"selection_policy\":{\"id\":\"1208\"}},\"id\":\"1185\",\"type\":\"ColumnDataSource\"},{\"attributes\":{},\"id\":\"1176\",\"type\":\"HelpTool\"},{\"attributes\":{\"formatter\":{\"id\":\"1204\"},\"ticker\":{\"id\":\"1165\"}},\"id\":\"1164\",\"type\":\"CategoricalAxis\"},{\"attributes\":{},\"id\":\"1162\",\"type\":\"LinearScale\"},{\"attributes\":{},\"id\":\"1174\",\"type\":\"SaveTool\"},{\"attributes\":{},\"id\":\"1175\",\"type\":\"ResetTool\"},{\"attributes\":{},\"id\":\"1172\",\"type\":\"WheelZoomTool\"},{\"attributes\":{\"axis\":{\"id\":\"1167\"},\"dimension\":1,\"ticker\":null},\"id\":\"1170\",\"type\":\"Grid\"},{\"attributes\":{\"axis\":{\"id\":\"1164\"},\"ticker\":null},\"id\":\"1166\",\"type\":\"Grid\"},{\"attributes\":{\"active_drag\":\"auto\",\"active_inspect\":\"auto\",\"active_multi\":null,\"active_scroll\":\"auto\",\"active_tap\":\"auto\",\"tools\":[{\"id\":\"1171\"},{\"id\":\"1172\"},{\"id\":\"1173\"},{\"id\":\"1174\"},{\"id\":\"1175\"},{\"id\":\"1176\"}]},\"id\":\"1178\",\"type\":\"Toolbar\"},{\"attributes\":{\"overlay\":{\"id\":\"1177\"}},\"id\":\"1173\",\"type\":\"BoxZoomTool\"},{\"attributes\":{},\"id\":\"1165\",\"type\":\"CategoricalTicker\"},{\"attributes\":{\"source\":{\"id\":\"1185\"}},\"id\":\"1189\",\"type\":\"CDSView\"},{\"attributes\":{},\"id\":\"1168\",\"type\":\"BasicTicker\"},{\"attributes\":{\"data_source\":{\"id\":\"1185\"},\"glyph\":{\"id\":\"1186\"},\"hover_glyph\":null,\"muted_glyph\":null,\"nonselection_glyph\":{\"id\":\"1187\"},\"selection_glyph\":null,\"view\":{\"id\":\"1189\"}},\"id\":\"1188\",\"type\":\"GlyphRenderer\"},{\"attributes\":{\"fill_alpha\":{\"value\":0.1},\"fill_color\":{\"value\":\"#1f77b4\"},\"line_alpha\":{\"value\":0.1},\"line_color\":{\"value\":\"#1f77b4\"},\"top\":{\"field\":\"top\"},\"width\":{\"value\":0.9},\"x\":{\"field\":\"x\"}},\"id\":\"1187\",\"type\":\"VBar\"},{\"attributes\":{},\"id\":\"1160\",\"type\":\"CategoricalScale\"},{\"attributes\":{\"fill_color\":{\"value\":\"#1f77b4\"},\"line_color\":{\"value\":\"#1f77b4\"},\"top\":{\"field\":\"top\"},\"width\":{\"value\":0.9},\"x\":{\"field\":\"x\"}},\"id\":\"1186\",\"type\":\"VBar\"},{\"attributes\":{},\"id\":\"1171\",\"type\":\"PanTool\"}],\"root_ids\":[\"1155\"]},\"title\":\"Bokeh Application\",\"version\":\"2.2.3\"}};\n",
       "  var render_items = [{\"docid\":\"a2c4b86e-e8a1-48c7-a28c-f02c94c0e98e\",\"root_ids\":[\"1155\"],\"roots\":{\"1155\":\"80b03d49-4c52-440b-817b-cbbf826ddba8\"}}];\n",
       "  root.Bokeh.embed.embed_items_notebook(docs_json, render_items);\n",
       "\n",
       "  }\n",
       "  if (root.Bokeh !== undefined) {\n",
       "    embed_document(root);\n",
       "  } else {\n",
       "    var attempts = 0;\n",
       "    var timer = setInterval(function(root) {\n",
       "      if (root.Bokeh !== undefined) {\n",
       "        clearInterval(timer);\n",
       "        embed_document(root);\n",
       "      } else {\n",
       "        attempts++;\n",
       "        if (attempts > 100) {\n",
       "          clearInterval(timer);\n",
       "          console.log(\"Bokeh: ERROR: Unable to run BokehJS code because BokehJS library is missing\");\n",
       "        }\n",
       "      }\n",
       "    }, 10, root)\n",
       "  }\n",
       "})(window);"
      ],
      "application/vnd.bokehjs_exec.v0+json": ""
     },
     "metadata": {
      "application/vnd.bokehjs_exec.v0+json": {
       "id": "1155"
      }
     },
     "output_type": "display_data"
    }
   ],
   "source": [
    "p = make_barchart(baby_names, 'Names', 'Births', kwargs_figure={'plot_width': 640, 'plot_height': 320})\n",
    "show(p)"
   ]
  },
  {
   "cell_type": "markdown",
   "metadata": {
    "deletable": false,
    "editable": false,
    "nbgrader": {
     "grade": false,
     "locked": true,
     "solution": false
    }
   },
   "source": [
    "## Data setup\n",
    "\n",
    "You'll also need the NYC 311 calls dataset. What we've provided is actually a small subset (about 250+ MiB) of the full data as of 2015.\n",
    "\n",
    "> If you are not running on Vocareum, you will need to download this file manually from the following link and place it locally in a (nested) subdirectory or folder named `resource/asnlib/publicdata`.\n",
    ">\n",
    "> [Link to the pre-constructed NYC 311 Database on MS OneDrive](https://onedrive.live.com/download?cid=FD520DDC6BE92730&resid=FD520DDC6BE92730%21616&authkey=AEeP_4E1uh-vyDE)"
   ]
  },
  {
   "cell_type": "code",
   "execution_count": 10,
   "metadata": {
    "deletable": false,
    "editable": false,
    "nbgrader": {
     "grade": false,
     "locked": true,
     "solution": false
    }
   },
   "outputs": [
    {
     "name": "stdout",
     "output_type": "stream",
     "text": [
      "[https://onedrive.live.com/download?cid=FD520DDC6BE92730&resid=FD520DDC6BE92730%21616&authkey=AEeP_4E1uh-vyDENYC-311-2M.db]\n",
      "==> 'resource/asnlib/publicdata/NYC-311-2M.db' is already available.\n",
      "==> Checksum test passes: f48eba2fb06e8ece7479461ea8c6dee9\n",
      "==> 'resource/asnlib/publicdata/NYC-311-2M.db' is ready!\n",
      "\n"
     ]
    }
   ],
   "source": [
    "from nb9utils import download_nyc311db\n",
    "DB_FILENAME = download_nyc311db()"
   ]
  },
  {
   "cell_type": "markdown",
   "metadata": {
    "deletable": false,
    "editable": false,
    "nbgrader": {
     "grade": false,
     "locked": true,
     "solution": false
    }
   },
   "source": [
    "**Connecting.** Let's open up a connection to this dataset."
   ]
  },
  {
   "cell_type": "code",
   "execution_count": 11,
   "metadata": {
    "collapsed": true,
    "deletable": false,
    "editable": false,
    "nbgrader": {
     "grade": false,
     "locked": true,
     "solution": false
    },
    "nbpresent": {
     "id": "e2134172-76ad-4ffb-86c9-161df8a53355"
    }
   },
   "outputs": [],
   "source": [
    "# Connect\n",
    "import sqlite3 as db\n",
    "disk_engine = db.connect('file:{}?mode=ro'.format(DB_FILENAME), uri=True)"
   ]
  },
  {
   "cell_type": "markdown",
   "metadata": {
    "deletable": false,
    "editable": false,
    "nbgrader": {
     "grade": false,
     "locked": true,
     "solution": false
    },
    "nbpresent": {
     "id": "31873b5c-d2fc-4d92-853a-9a4bb84b0510"
    }
   },
   "source": [
    "**Preview the data.** This sample database has just a single table, named `data`. Let's query it and see how long it takes to read. To carry out the query, we will use the SQL reader built into `pandas`."
   ]
  },
  {
   "cell_type": "code",
   "execution_count": 12,
   "metadata": {
    "deletable": false,
    "editable": false,
    "nbgrader": {
     "grade": false,
     "locked": true,
     "solution": false
    },
    "nbpresent": {
     "id": "f6dbf63b-4745-4f56-8d73-d4ce71e68f7c"
    }
   },
   "outputs": [
    {
     "name": "stdout",
     "output_type": "stream",
     "text": [
      "Reading ...\n",
      "==> Took 5.48385 seconds.\n"
     ]
    },
    {
     "data": {
      "text/html": [
       "<div>\n",
       "<style scoped>\n",
       "    .dataframe tbody tr th:only-of-type {\n",
       "        vertical-align: middle;\n",
       "    }\n",
       "\n",
       "    .dataframe tbody tr th {\n",
       "        vertical-align: top;\n",
       "    }\n",
       "\n",
       "    .dataframe thead th {\n",
       "        text-align: right;\n",
       "    }\n",
       "</style>\n",
       "<table border=\"1\" class=\"dataframe\">\n",
       "  <thead>\n",
       "    <tr style=\"text-align: right;\">\n",
       "      <th></th>\n",
       "      <th>index</th>\n",
       "      <th>CreatedDate</th>\n",
       "      <th>ClosedDate</th>\n",
       "      <th>Agency</th>\n",
       "      <th>ComplaintType</th>\n",
       "      <th>Descriptor</th>\n",
       "      <th>City</th>\n",
       "    </tr>\n",
       "  </thead>\n",
       "  <tbody>\n",
       "    <tr>\n",
       "      <th>0</th>\n",
       "      <td>1</td>\n",
       "      <td>2015-09-15 02:14:04.000000</td>\n",
       "      <td>None</td>\n",
       "      <td>NYPD</td>\n",
       "      <td>Illegal Parking</td>\n",
       "      <td>Blocked Hydrant</td>\n",
       "      <td>None</td>\n",
       "    </tr>\n",
       "    <tr>\n",
       "      <th>1</th>\n",
       "      <td>2</td>\n",
       "      <td>2015-09-15 02:12:49.000000</td>\n",
       "      <td>None</td>\n",
       "      <td>NYPD</td>\n",
       "      <td>Noise - Street/Sidewalk</td>\n",
       "      <td>Loud Talking</td>\n",
       "      <td>NEW YORK</td>\n",
       "    </tr>\n",
       "    <tr>\n",
       "      <th>2</th>\n",
       "      <td>3</td>\n",
       "      <td>2015-09-15 02:11:19.000000</td>\n",
       "      <td>None</td>\n",
       "      <td>NYPD</td>\n",
       "      <td>Noise - Street/Sidewalk</td>\n",
       "      <td>Loud Talking</td>\n",
       "      <td>NEW YORK</td>\n",
       "    </tr>\n",
       "    <tr>\n",
       "      <th>3</th>\n",
       "      <td>4</td>\n",
       "      <td>2015-09-15 02:09:46.000000</td>\n",
       "      <td>None</td>\n",
       "      <td>NYPD</td>\n",
       "      <td>Noise - Commercial</td>\n",
       "      <td>Loud Talking</td>\n",
       "      <td>BRONX</td>\n",
       "    </tr>\n",
       "    <tr>\n",
       "      <th>4</th>\n",
       "      <td>5</td>\n",
       "      <td>2015-09-15 02:08:01.000000</td>\n",
       "      <td>2015-09-15 02:08:18.000000</td>\n",
       "      <td>DHS</td>\n",
       "      <td>Homeless Person Assistance</td>\n",
       "      <td>Status Call</td>\n",
       "      <td>NEW YORK</td>\n",
       "    </tr>\n",
       "  </tbody>\n",
       "</table>\n",
       "</div>"
      ],
      "text/plain": [
       "   index                 CreatedDate                  ClosedDate Agency  \\\n",
       "0      1  2015-09-15 02:14:04.000000                        None   NYPD   \n",
       "1      2  2015-09-15 02:12:49.000000                        None   NYPD   \n",
       "2      3  2015-09-15 02:11:19.000000                        None   NYPD   \n",
       "3      4  2015-09-15 02:09:46.000000                        None   NYPD   \n",
       "4      5  2015-09-15 02:08:01.000000  2015-09-15 02:08:18.000000    DHS   \n",
       "\n",
       "                ComplaintType       Descriptor      City  \n",
       "0             Illegal Parking  Blocked Hydrant      None  \n",
       "1     Noise - Street/Sidewalk     Loud Talking  NEW YORK  \n",
       "2     Noise - Street/Sidewalk     Loud Talking  NEW YORK  \n",
       "3          Noise - Commercial     Loud Talking     BRONX  \n",
       "4  Homeless Person Assistance      Status Call  NEW YORK  "
      ]
     },
     "execution_count": 12,
     "metadata": {},
     "output_type": "execute_result"
    }
   ],
   "source": [
    "import time\n",
    "\n",
    "print (\"Reading ...\")\n",
    "start_time = time.time ()\n",
    "\n",
    "# Perform SQL query through the disk_engine connection.\n",
    "# The return value is a pandas data frame.\n",
    "df = pd.read_sql_query ('select * from data', disk_engine)\n",
    "\n",
    "elapsed_time = time.time () - start_time\n",
    "print (\"==> Took %g seconds.\" % elapsed_time)\n",
    "\n",
    "# Dump the first few rows\n",
    "df.head()"
   ]
  },
  {
   "cell_type": "markdown",
   "metadata": {
    "deletable": false,
    "editable": false,
    "nbgrader": {
     "grade": false,
     "locked": true,
     "solution": false
    },
    "nbpresent": {
     "id": "90bcd6d3-b28a-4d65-8967-1fe09939c407"
    }
   },
   "source": [
    "**Partial queries: `LIMIT` clause.** The preceding command was overkill for what we wanted, which was just to preview the table. Instead, we could have used the `LIMIT` option to ask for just a few results."
   ]
  },
  {
   "cell_type": "code",
   "execution_count": 13,
   "metadata": {
    "deletable": false,
    "editable": false,
    "nbgrader": {
     "grade": false,
     "locked": true,
     "solution": false
    },
    "nbpresent": {
     "id": "d2e06725-6f72-4b90-858c-80861cd77086"
    }
   },
   "outputs": [
    {
     "name": "stdout",
     "output_type": "stream",
     "text": [
      "==> LIMIT version took 0.0313876 seconds.\n"
     ]
    },
    {
     "data": {
      "text/html": [
       "<div>\n",
       "<style scoped>\n",
       "    .dataframe tbody tr th:only-of-type {\n",
       "        vertical-align: middle;\n",
       "    }\n",
       "\n",
       "    .dataframe tbody tr th {\n",
       "        vertical-align: top;\n",
       "    }\n",
       "\n",
       "    .dataframe thead th {\n",
       "        text-align: right;\n",
       "    }\n",
       "</style>\n",
       "<table border=\"1\" class=\"dataframe\">\n",
       "  <thead>\n",
       "    <tr style=\"text-align: right;\">\n",
       "      <th></th>\n",
       "      <th>index</th>\n",
       "      <th>CreatedDate</th>\n",
       "      <th>ClosedDate</th>\n",
       "      <th>Agency</th>\n",
       "      <th>ComplaintType</th>\n",
       "      <th>Descriptor</th>\n",
       "      <th>City</th>\n",
       "    </tr>\n",
       "  </thead>\n",
       "  <tbody>\n",
       "    <tr>\n",
       "      <th>0</th>\n",
       "      <td>1</td>\n",
       "      <td>2015-09-15 02:14:04.000000</td>\n",
       "      <td>None</td>\n",
       "      <td>NYPD</td>\n",
       "      <td>Illegal Parking</td>\n",
       "      <td>Blocked Hydrant</td>\n",
       "      <td>None</td>\n",
       "    </tr>\n",
       "    <tr>\n",
       "      <th>1</th>\n",
       "      <td>2</td>\n",
       "      <td>2015-09-15 02:12:49.000000</td>\n",
       "      <td>None</td>\n",
       "      <td>NYPD</td>\n",
       "      <td>Noise - Street/Sidewalk</td>\n",
       "      <td>Loud Talking</td>\n",
       "      <td>NEW YORK</td>\n",
       "    </tr>\n",
       "    <tr>\n",
       "      <th>2</th>\n",
       "      <td>3</td>\n",
       "      <td>2015-09-15 02:11:19.000000</td>\n",
       "      <td>None</td>\n",
       "      <td>NYPD</td>\n",
       "      <td>Noise - Street/Sidewalk</td>\n",
       "      <td>Loud Talking</td>\n",
       "      <td>NEW YORK</td>\n",
       "    </tr>\n",
       "    <tr>\n",
       "      <th>3</th>\n",
       "      <td>4</td>\n",
       "      <td>2015-09-15 02:09:46.000000</td>\n",
       "      <td>None</td>\n",
       "      <td>NYPD</td>\n",
       "      <td>Noise - Commercial</td>\n",
       "      <td>Loud Talking</td>\n",
       "      <td>BRONX</td>\n",
       "    </tr>\n",
       "    <tr>\n",
       "      <th>4</th>\n",
       "      <td>5</td>\n",
       "      <td>2015-09-15 02:08:01.000000</td>\n",
       "      <td>2015-09-15 02:08:18.000000</td>\n",
       "      <td>DHS</td>\n",
       "      <td>Homeless Person Assistance</td>\n",
       "      <td>Status Call</td>\n",
       "      <td>NEW YORK</td>\n",
       "    </tr>\n",
       "  </tbody>\n",
       "</table>\n",
       "</div>"
      ],
      "text/plain": [
       "   index                 CreatedDate                  ClosedDate Agency  \\\n",
       "0      1  2015-09-15 02:14:04.000000                        None   NYPD   \n",
       "1      2  2015-09-15 02:12:49.000000                        None   NYPD   \n",
       "2      3  2015-09-15 02:11:19.000000                        None   NYPD   \n",
       "3      4  2015-09-15 02:09:46.000000                        None   NYPD   \n",
       "4      5  2015-09-15 02:08:01.000000  2015-09-15 02:08:18.000000    DHS   \n",
       "\n",
       "                ComplaintType       Descriptor      City  \n",
       "0             Illegal Parking  Blocked Hydrant      None  \n",
       "1     Noise - Street/Sidewalk     Loud Talking  NEW YORK  \n",
       "2     Noise - Street/Sidewalk     Loud Talking  NEW YORK  \n",
       "3          Noise - Commercial     Loud Talking     BRONX  \n",
       "4  Homeless Person Assistance      Status Call  NEW YORK  "
      ]
     },
     "execution_count": 13,
     "metadata": {},
     "output_type": "execute_result"
    }
   ],
   "source": [
    "query = '''\n",
    "  SELECT *\n",
    "    FROM data\n",
    "    LIMIT 5\n",
    "'''\n",
    "start_time = time.time ()\n",
    "df = pd.read_sql_query (query, disk_engine)\n",
    "elapsed_time = time.time () - start_time\n",
    "print (\"==> LIMIT version took %g seconds.\" % elapsed_time)\n",
    "\n",
    "df"
   ]
  },
  {
   "cell_type": "markdown",
   "metadata": {
    "deletable": false,
    "editable": false,
    "nbgrader": {
     "grade": false,
     "locked": true,
     "solution": false
    },
    "nbpresent": {
     "id": "35d500f1-b17b-48cf-ab12-1267d8aeb485"
    }
   },
   "source": [
    "**Finding unique values: `DISTINCT` qualifier.** Another common idiom is to ask for the unique values of some attribute, for which you can use the `DISTINCT` qualifier."
   ]
  },
  {
   "cell_type": "code",
   "execution_count": 14,
   "metadata": {
    "deletable": false,
    "editable": false,
    "nbgrader": {
     "grade": false,
     "locked": true,
     "solution": false
    },
    "nbpresent": {
     "id": "a9206a4f-7d5e-4055-9221-cbd3c52fd6e2"
    }
   },
   "outputs": [
    {
     "name": "stdout",
     "output_type": "stream",
     "text": [
      "Found 547 unique cities. The first few are:\n"
     ]
    },
    {
     "data": {
      "text/html": [
       "<div>\n",
       "<style scoped>\n",
       "    .dataframe tbody tr th:only-of-type {\n",
       "        vertical-align: middle;\n",
       "    }\n",
       "\n",
       "    .dataframe tbody tr th {\n",
       "        vertical-align: top;\n",
       "    }\n",
       "\n",
       "    .dataframe thead th {\n",
       "        text-align: right;\n",
       "    }\n",
       "</style>\n",
       "<table border=\"1\" class=\"dataframe\">\n",
       "  <thead>\n",
       "    <tr style=\"text-align: right;\">\n",
       "      <th></th>\n",
       "      <th>City</th>\n",
       "    </tr>\n",
       "  </thead>\n",
       "  <tbody>\n",
       "    <tr>\n",
       "      <th>0</th>\n",
       "      <td>None</td>\n",
       "    </tr>\n",
       "    <tr>\n",
       "      <th>1</th>\n",
       "      <td>NEW YORK</td>\n",
       "    </tr>\n",
       "    <tr>\n",
       "      <th>2</th>\n",
       "      <td>BRONX</td>\n",
       "    </tr>\n",
       "    <tr>\n",
       "      <th>3</th>\n",
       "      <td>STATEN ISLAND</td>\n",
       "    </tr>\n",
       "    <tr>\n",
       "      <th>4</th>\n",
       "      <td>ELMHURST</td>\n",
       "    </tr>\n",
       "  </tbody>\n",
       "</table>\n",
       "</div>"
      ],
      "text/plain": [
       "            City\n",
       "0           None\n",
       "1       NEW YORK\n",
       "2          BRONX\n",
       "3  STATEN ISLAND\n",
       "4       ELMHURST"
      ]
     },
     "execution_count": 14,
     "metadata": {},
     "output_type": "execute_result"
    }
   ],
   "source": [
    "query = 'SELECT DISTINCT City FROM data'\n",
    "df = pd.read_sql_query(query, disk_engine)\n",
    "\n",
    "print(\"Found {} unique cities. The first few are:\".format(len(df)))\n",
    "df.head()"
   ]
  },
  {
   "cell_type": "markdown",
   "metadata": {
    "deletable": false,
    "editable": false,
    "nbgrader": {
     "grade": false,
     "locked": true,
     "solution": false
    }
   },
   "source": [
    "However, `DISTINCT` applied to strings is case-sensitive. We'll deal with that momentarily."
   ]
  },
  {
   "cell_type": "markdown",
   "metadata": {
    "deletable": false,
    "editable": false,
    "nbgrader": {
     "grade": false,
     "locked": true,
     "solution": false
    },
    "nbpresent": {
     "id": "202da090-d21b-4e0c-ab74-e82da32305a6"
    }
   },
   "source": [
    "**Grouping Information: GROUP BY operator.** The GROUP BY operator lets you group information using a particular column or multiple columns of the table. The output generated is more of a pivot table."
   ]
  },
  {
   "cell_type": "code",
   "execution_count": 15,
   "metadata": {
    "deletable": false,
    "editable": false,
    "nbgrader": {
     "grade": false,
     "locked": true,
     "solution": false
    },
    "nbpresent": {
     "id": "07d42c35-bfc1-4083-b851-af26039ab7d0"
    },
    "scrolled": true
   },
   "outputs": [
    {
     "name": "stdout",
     "output_type": "stream",
     "text": [
      "(200, 3)\n"
     ]
    },
    {
     "data": {
      "text/html": [
       "<div>\n",
       "<style scoped>\n",
       "    .dataframe tbody tr th:only-of-type {\n",
       "        vertical-align: middle;\n",
       "    }\n",
       "\n",
       "    .dataframe tbody tr th {\n",
       "        vertical-align: top;\n",
       "    }\n",
       "\n",
       "    .dataframe thead th {\n",
       "        text-align: right;\n",
       "    }\n",
       "</style>\n",
       "<table border=\"1\" class=\"dataframe\">\n",
       "  <thead>\n",
       "    <tr style=\"text-align: right;\">\n",
       "      <th></th>\n",
       "      <th>ComplaintType</th>\n",
       "      <th>Descriptor</th>\n",
       "      <th>Agency</th>\n",
       "    </tr>\n",
       "  </thead>\n",
       "  <tbody>\n",
       "    <tr>\n",
       "      <th>0</th>\n",
       "      <td>AGENCY</td>\n",
       "      <td>HOUSING QUALITY STANDARDS</td>\n",
       "      <td>HPD</td>\n",
       "    </tr>\n",
       "    <tr>\n",
       "      <th>1</th>\n",
       "      <td>APPLIANCE</td>\n",
       "      <td>ELECTRIC/GAS RANGE</td>\n",
       "      <td>HPD</td>\n",
       "    </tr>\n",
       "    <tr>\n",
       "      <th>2</th>\n",
       "      <td>Adopt-A-Basket</td>\n",
       "      <td>10A Adopt-A-Basket</td>\n",
       "      <td>DSNY</td>\n",
       "    </tr>\n",
       "    <tr>\n",
       "      <th>3</th>\n",
       "      <td>Agency Issues</td>\n",
       "      <td>Bike Share</td>\n",
       "      <td>DOT</td>\n",
       "    </tr>\n",
       "    <tr>\n",
       "      <th>4</th>\n",
       "      <td>Air Quality</td>\n",
       "      <td>Air: Odor/Fumes, Vehicle Idling (AD3)</td>\n",
       "      <td>DEP</td>\n",
       "    </tr>\n",
       "  </tbody>\n",
       "</table>\n",
       "</div>"
      ],
      "text/plain": [
       "    ComplaintType                             Descriptor Agency\n",
       "0          AGENCY              HOUSING QUALITY STANDARDS    HPD\n",
       "1       APPLIANCE                     ELECTRIC/GAS RANGE    HPD\n",
       "2  Adopt-A-Basket                     10A Adopt-A-Basket   DSNY\n",
       "3   Agency Issues                             Bike Share    DOT\n",
       "4     Air Quality  Air: Odor/Fumes, Vehicle Idling (AD3)    DEP"
      ]
     },
     "execution_count": 15,
     "metadata": {},
     "output_type": "execute_result"
    }
   ],
   "source": [
    "query = '''\n",
    "  SELECT ComplaintType, Descriptor, Agency\n",
    "    FROM data\n",
    "    GROUP BY ComplaintType\n",
    "'''\n",
    "\n",
    "df = pd.read_sql_query(query, disk_engine)\n",
    "print(df.shape)\n",
    "df.head()\n"
   ]
  },
  {
   "cell_type": "markdown",
   "metadata": {
    "deletable": false,
    "editable": false,
    "nbgrader": {
     "grade": false,
     "locked": true,
     "solution": false
    }
   },
   "source": [
    "**`GROUP BY` aggregations.** A common pattern is to combine grouping with aggregation. For example, suppose we want to count how many times each complaint occurs. Here is one way to do it."
   ]
  },
  {
   "cell_type": "code",
   "execution_count": 16,
   "metadata": {
    "deletable": false,
    "editable": false,
    "nbgrader": {
     "grade": false,
     "locked": true,
     "solution": false
    }
   },
   "outputs": [
    {
     "data": {
      "text/html": [
       "<div>\n",
       "<style scoped>\n",
       "    .dataframe tbody tr th:only-of-type {\n",
       "        vertical-align: middle;\n",
       "    }\n",
       "\n",
       "    .dataframe tbody tr th {\n",
       "        vertical-align: top;\n",
       "    }\n",
       "\n",
       "    .dataframe thead th {\n",
       "        text-align: right;\n",
       "    }\n",
       "</style>\n",
       "<table border=\"1\" class=\"dataframe\">\n",
       "  <thead>\n",
       "    <tr style=\"text-align: right;\">\n",
       "      <th></th>\n",
       "      <th>ComplaintType</th>\n",
       "      <th>COUNT(*)</th>\n",
       "    </tr>\n",
       "  </thead>\n",
       "  <tbody>\n",
       "    <tr>\n",
       "      <th>0</th>\n",
       "      <td>AGENCY</td>\n",
       "      <td>2</td>\n",
       "    </tr>\n",
       "    <tr>\n",
       "      <th>1</th>\n",
       "      <td>APPLIANCE</td>\n",
       "      <td>11263</td>\n",
       "    </tr>\n",
       "    <tr>\n",
       "      <th>2</th>\n",
       "      <td>Adopt-A-Basket</td>\n",
       "      <td>50</td>\n",
       "    </tr>\n",
       "    <tr>\n",
       "      <th>3</th>\n",
       "      <td>Agency Issues</td>\n",
       "      <td>7428</td>\n",
       "    </tr>\n",
       "    <tr>\n",
       "      <th>4</th>\n",
       "      <td>Air Quality</td>\n",
       "      <td>8151</td>\n",
       "    </tr>\n",
       "  </tbody>\n",
       "</table>\n",
       "</div>"
      ],
      "text/plain": [
       "    ComplaintType  COUNT(*)\n",
       "0          AGENCY         2\n",
       "1       APPLIANCE     11263\n",
       "2  Adopt-A-Basket        50\n",
       "3   Agency Issues      7428\n",
       "4     Air Quality      8151"
      ]
     },
     "execution_count": 16,
     "metadata": {},
     "output_type": "execute_result"
    }
   ],
   "source": [
    "query = '''\n",
    "  SELECT ComplaintType, COUNT(*)\n",
    "    FROM data\n",
    "    GROUP BY ComplaintType\n",
    "    LIMIT 10\n",
    "'''\n",
    "\n",
    "df = pd.read_sql_query(query, disk_engine)\n",
    "df.head()"
   ]
  },
  {
   "cell_type": "markdown",
   "metadata": {
    "deletable": false,
    "editable": false,
    "nbgrader": {
     "grade": false,
     "locked": true,
     "solution": false
    }
   },
   "source": [
    "**Character-case conversions.** From the two preceding examples, observe that the strings employ a mix of case conventions (i.e., lowercase vs. uppercase vs. mixed case). A convenient way to query and \"normalize\" case is to apply SQL's `UPPER()` and `LOWER()` functions. Here is an example:"
   ]
  },
  {
   "cell_type": "code",
   "execution_count": 17,
   "metadata": {
    "deletable": false,
    "editable": false,
    "nbgrader": {
     "grade": false,
     "locked": true,
     "solution": false
    }
   },
   "outputs": [
    {
     "data": {
      "text/html": [
       "<div>\n",
       "<style scoped>\n",
       "    .dataframe tbody tr th:only-of-type {\n",
       "        vertical-align: middle;\n",
       "    }\n",
       "\n",
       "    .dataframe tbody tr th {\n",
       "        vertical-align: top;\n",
       "    }\n",
       "\n",
       "    .dataframe thead th {\n",
       "        text-align: right;\n",
       "    }\n",
       "</style>\n",
       "<table border=\"1\" class=\"dataframe\">\n",
       "  <thead>\n",
       "    <tr style=\"text-align: right;\">\n",
       "      <th></th>\n",
       "      <th>LOWER(ComplaintType)</th>\n",
       "      <th>LOWER(Descriptor)</th>\n",
       "      <th>LOWER(Agency)</th>\n",
       "    </tr>\n",
       "  </thead>\n",
       "  <tbody>\n",
       "    <tr>\n",
       "      <th>0</th>\n",
       "      <td>adopt-a-basket</td>\n",
       "      <td>10a adopt-a-basket</td>\n",
       "      <td>dsny</td>\n",
       "    </tr>\n",
       "    <tr>\n",
       "      <th>1</th>\n",
       "      <td>agency</td>\n",
       "      <td>housing quality standards</td>\n",
       "      <td>hpd</td>\n",
       "    </tr>\n",
       "    <tr>\n",
       "      <th>2</th>\n",
       "      <td>agency issues</td>\n",
       "      <td>bike share</td>\n",
       "      <td>dot</td>\n",
       "    </tr>\n",
       "    <tr>\n",
       "      <th>3</th>\n",
       "      <td>air quality</td>\n",
       "      <td>air: odor/fumes, vehicle idling (ad3)</td>\n",
       "      <td>dep</td>\n",
       "    </tr>\n",
       "    <tr>\n",
       "      <th>4</th>\n",
       "      <td>animal abuse</td>\n",
       "      <td>other (complaint details)</td>\n",
       "      <td>nypd</td>\n",
       "    </tr>\n",
       "  </tbody>\n",
       "</table>\n",
       "</div>"
      ],
      "text/plain": [
       "  LOWER(ComplaintType)                      LOWER(Descriptor) LOWER(Agency)\n",
       "0       adopt-a-basket                     10a adopt-a-basket          dsny\n",
       "1               agency              housing quality standards           hpd\n",
       "2        agency issues                             bike share           dot\n",
       "3          air quality  air: odor/fumes, vehicle idling (ad3)           dep\n",
       "4         animal abuse              other (complaint details)          nypd"
      ]
     },
     "execution_count": 17,
     "metadata": {},
     "output_type": "execute_result"
    }
   ],
   "source": [
    "query = '''\n",
    "  SELECT LOWER(ComplaintType), LOWER(Descriptor), LOWER(Agency)\n",
    "    FROM data\n",
    "    GROUP BY LOWER(ComplaintType)\n",
    "    LIMIT 10\n",
    "'''\n",
    "\n",
    "df = pd.read_sql_query(query, disk_engine)\n",
    "df.head()"
   ]
  },
  {
   "cell_type": "markdown",
   "metadata": {
    "deletable": false,
    "editable": false,
    "nbgrader": {
     "grade": false,
     "locked": true,
     "solution": false
    }
   },
   "source": [
    "**Filtered aggregations: `HAVING` clauses.** A common pattern for aggregation queries (e.g., `GROUP BY` plus `COUNT()`) is to filter the grouped results. You cannot do that with a `WHERE` clause alone, because `WHERE` is applied *before* grouping.\n",
    "\n",
    "As an example, recall that some `ComplaintType` values are in all uppercase whereas some use mixed case. Since we didn't inspect all of them, there might even be some are all lowercase. Worse, you would expect some inconsistencies. For instance, it turns out that both `\"Plumbing\"` (mixed case) and `\"PLUMBING\"` (all caps) appear. Here is a pair of queries that makes this point."
   ]
  },
  {
   "cell_type": "code",
   "execution_count": 18,
   "metadata": {
    "deletable": false,
    "editable": false,
    "nbgrader": {
     "grade": false,
     "locked": true,
     "solution": false
    }
   },
   "outputs": [
    {
     "name": "stdout",
     "output_type": "stream",
     "text": [
      "Found 200 unique `ComplaintType` strings.\n"
     ]
    },
    {
     "data": {
      "text/html": [
       "<div>\n",
       "<style scoped>\n",
       "    .dataframe tbody tr th:only-of-type {\n",
       "        vertical-align: middle;\n",
       "    }\n",
       "\n",
       "    .dataframe tbody tr th {\n",
       "        vertical-align: top;\n",
       "    }\n",
       "\n",
       "    .dataframe thead th {\n",
       "        text-align: right;\n",
       "    }\n",
       "</style>\n",
       "<table border=\"1\" class=\"dataframe\">\n",
       "  <thead>\n",
       "    <tr style=\"text-align: right;\">\n",
       "      <th></th>\n",
       "      <th>ComplaintType</th>\n",
       "    </tr>\n",
       "  </thead>\n",
       "  <tbody>\n",
       "    <tr>\n",
       "      <th>0</th>\n",
       "      <td>Illegal Parking</td>\n",
       "    </tr>\n",
       "    <tr>\n",
       "      <th>1</th>\n",
       "      <td>Noise - Street/Sidewalk</td>\n",
       "    </tr>\n",
       "    <tr>\n",
       "      <th>2</th>\n",
       "      <td>Noise - Commercial</td>\n",
       "    </tr>\n",
       "    <tr>\n",
       "      <th>3</th>\n",
       "      <td>Homeless Person Assistance</td>\n",
       "    </tr>\n",
       "    <tr>\n",
       "      <th>4</th>\n",
       "      <td>Highway Condition</td>\n",
       "    </tr>\n",
       "  </tbody>\n",
       "</table>\n",
       "</div>"
      ],
      "text/plain": [
       "                ComplaintType\n",
       "0             Illegal Parking\n",
       "1     Noise - Street/Sidewalk\n",
       "2          Noise - Commercial\n",
       "3  Homeless Person Assistance\n",
       "4           Highway Condition"
      ]
     },
     "metadata": {},
     "output_type": "display_data"
    },
    {
     "name": "stdout",
     "output_type": "stream",
     "text": [
      "\n",
      "Found 198 unique `LOWER(ComplaintType)` strings.\n"
     ]
    },
    {
     "data": {
      "text/html": [
       "<div>\n",
       "<style scoped>\n",
       "    .dataframe tbody tr th:only-of-type {\n",
       "        vertical-align: middle;\n",
       "    }\n",
       "\n",
       "    .dataframe tbody tr th {\n",
       "        vertical-align: top;\n",
       "    }\n",
       "\n",
       "    .dataframe thead th {\n",
       "        text-align: right;\n",
       "    }\n",
       "</style>\n",
       "<table border=\"1\" class=\"dataframe\">\n",
       "  <thead>\n",
       "    <tr style=\"text-align: right;\">\n",
       "      <th></th>\n",
       "      <th>LOWER(ComplaintType)</th>\n",
       "    </tr>\n",
       "  </thead>\n",
       "  <tbody>\n",
       "    <tr>\n",
       "      <th>0</th>\n",
       "      <td>illegal parking</td>\n",
       "    </tr>\n",
       "    <tr>\n",
       "      <th>1</th>\n",
       "      <td>noise - street/sidewalk</td>\n",
       "    </tr>\n",
       "    <tr>\n",
       "      <th>2</th>\n",
       "      <td>noise - commercial</td>\n",
       "    </tr>\n",
       "    <tr>\n",
       "      <th>3</th>\n",
       "      <td>homeless person assistance</td>\n",
       "    </tr>\n",
       "    <tr>\n",
       "      <th>4</th>\n",
       "      <td>highway condition</td>\n",
       "    </tr>\n",
       "  </tbody>\n",
       "</table>\n",
       "</div>"
      ],
      "text/plain": [
       "         LOWER(ComplaintType)\n",
       "0             illegal parking\n",
       "1     noise - street/sidewalk\n",
       "2          noise - commercial\n",
       "3  homeless person assistance\n",
       "4           highway condition"
      ]
     },
     "metadata": {},
     "output_type": "display_data"
    },
    {
     "name": "stdout",
     "output_type": "stream",
     "text": [
      "\n",
      "==> Therefore, there are 2 cases that are duplicated. Which ones?\n"
     ]
    }
   ],
   "source": [
    "query0 = \"SELECT DISTINCT ComplaintType FROM data\"\n",
    "df0 = pd.read_sql_query(query0, disk_engine)\n",
    "print(\"Found {} unique `ComplaintType` strings.\".format(len(df0)))\n",
    "display(df0.head())\n",
    "\n",
    "query1 = \"SELECT DISTINCT LOWER(ComplaintType) FROM data\"\n",
    "df1 = pd.read_sql_query(query1, disk_engine)\n",
    "print(\"\\nFound {} unique `LOWER(ComplaintType)` strings.\".format(len(df1)))\n",
    "display(df1.head())\n",
    "\n",
    "print(\"\\n==> Therefore, there are {} cases that are duplicated. Which ones?\".format(len(df0) - len(df1)))"
   ]
  },
  {
   "cell_type": "markdown",
   "metadata": {
    "deletable": false,
    "editable": false,
    "nbgrader": {
     "grade": false,
     "locked": true,
     "solution": false
    }
   },
   "source": [
    "What if we wanted a query that identifies these inconsistent capitalizations? Here is one way to do it, which demonstrates the `HAVING` clause. (It also uses a **nested query**, that is, it performs one query and then selects immediately from that result.) Can you read it and figure out what it is doing and why it works?"
   ]
  },
  {
   "cell_type": "code",
   "execution_count": 19,
   "metadata": {
    "deletable": false,
    "editable": false,
    "nbgrader": {
     "grade": false,
     "locked": true,
     "solution": false
    }
   },
   "outputs": [
    {
     "data": {
      "text/html": [
       "<div>\n",
       "<style scoped>\n",
       "    .dataframe tbody tr th:only-of-type {\n",
       "        vertical-align: middle;\n",
       "    }\n",
       "\n",
       "    .dataframe tbody tr th {\n",
       "        vertical-align: top;\n",
       "    }\n",
       "\n",
       "    .dataframe thead th {\n",
       "        text-align: right;\n",
       "    }\n",
       "</style>\n",
       "<table border=\"1\" class=\"dataframe\">\n",
       "  <thead>\n",
       "    <tr style=\"text-align: right;\">\n",
       "      <th></th>\n",
       "      <th>ComplaintType</th>\n",
       "      <th>COUNT(*)</th>\n",
       "    </tr>\n",
       "  </thead>\n",
       "  <tbody>\n",
       "    <tr>\n",
       "      <th>0</th>\n",
       "      <td>Elevator</td>\n",
       "      <td>2</td>\n",
       "    </tr>\n",
       "    <tr>\n",
       "      <th>1</th>\n",
       "      <td>PLUMBING</td>\n",
       "      <td>2</td>\n",
       "    </tr>\n",
       "  </tbody>\n",
       "</table>\n",
       "</div>"
      ],
      "text/plain": [
       "  ComplaintType  COUNT(*)\n",
       "0      Elevator         2\n",
       "1      PLUMBING         2"
      ]
     },
     "execution_count": 19,
     "metadata": {},
     "output_type": "execute_result"
    }
   ],
   "source": [
    "query2 = '''\n",
    "    SELECT ComplaintType, COUNT(*)\n",
    "      FROM (SELECT DISTINCT ComplaintType FROM data)\n",
    "      GROUP BY LOWER(ComplaintType)\n",
    "      HAVING COUNT(*) >= 2\n",
    "'''\n",
    "df2 = pd.read_sql_query(query2, disk_engine)\n",
    "df2"
   ]
  },
  {
   "cell_type": "markdown",
   "metadata": {
    "deletable": false,
    "editable": false,
    "nbgrader": {
     "grade": false,
     "locked": true,
     "solution": false
    }
   },
   "source": [
    "You should see that \"elevator\" and \"plumbing\" complaints use inconsistent case, which we can then verify directly using the next technique, the `IN` operator."
   ]
  },
  {
   "cell_type": "markdown",
   "metadata": {
    "deletable": false,
    "editable": false,
    "nbgrader": {
     "grade": false,
     "locked": true,
     "solution": false
    },
    "nbpresent": {
     "id": "de9b4364-16ef-4c59-8d9a-1c6749c93f19"
    }
   },
   "source": [
    "**Set membership: `IN` operator.** Another common idiom is to ask for rows whose attributes fall within a set, for which you can use the `IN` operator. Let's use it to see the two inconsistent-capitalization complaint types from above."
   ]
  },
  {
   "cell_type": "code",
   "execution_count": 20,
   "metadata": {
    "deletable": false,
    "editable": false,
    "nbgrader": {
     "grade": false,
     "locked": true,
     "solution": false
    }
   },
   "outputs": [
    {
     "data": {
      "text/html": [
       "<div>\n",
       "<style scoped>\n",
       "    .dataframe tbody tr th:only-of-type {\n",
       "        vertical-align: middle;\n",
       "    }\n",
       "\n",
       "    .dataframe tbody tr th {\n",
       "        vertical-align: top;\n",
       "    }\n",
       "\n",
       "    .dataframe thead th {\n",
       "        text-align: right;\n",
       "    }\n",
       "</style>\n",
       "<table border=\"1\" class=\"dataframe\">\n",
       "  <thead>\n",
       "    <tr style=\"text-align: right;\">\n",
       "      <th></th>\n",
       "      <th>ComplaintType</th>\n",
       "    </tr>\n",
       "  </thead>\n",
       "  <tbody>\n",
       "    <tr>\n",
       "      <th>0</th>\n",
       "      <td>PLUMBING</td>\n",
       "    </tr>\n",
       "    <tr>\n",
       "      <th>1</th>\n",
       "      <td>Elevator</td>\n",
       "    </tr>\n",
       "    <tr>\n",
       "      <th>2</th>\n",
       "      <td>Plumbing</td>\n",
       "    </tr>\n",
       "    <tr>\n",
       "      <th>3</th>\n",
       "      <td>ELEVATOR</td>\n",
       "    </tr>\n",
       "  </tbody>\n",
       "</table>\n",
       "</div>"
      ],
      "text/plain": [
       "  ComplaintType\n",
       "0      PLUMBING\n",
       "1      Elevator\n",
       "2      Plumbing\n",
       "3      ELEVATOR"
      ]
     },
     "execution_count": 20,
     "metadata": {},
     "output_type": "execute_result"
    }
   ],
   "source": [
    "query = '''\n",
    "    SELECT DISTINCT ComplaintType\n",
    "      FROM data\n",
    "      WHERE LOWER(ComplaintType) IN (\"plumbing\", \"elevator\")\n",
    "'''\n",
    "df = pd.read_sql_query(query, disk_engine)\n",
    "df.head()"
   ]
  },
  {
   "cell_type": "markdown",
   "metadata": {
    "deletable": false,
    "editable": false,
    "nbgrader": {
     "grade": false,
     "locked": true,
     "solution": false
    },
    "nbpresent": {
     "id": "b1c2afab-abbf-47c7-9938-7aa36d3382d7"
    }
   },
   "source": [
    "**Renaming columns: `AS` operator.** Sometimes you might want to rename a result column. For instance, the following query counts the number of complaints by \"Agency,\" using the `COUNT(*)` function and `GROUP BY` clause, which we discussed in an earlier lab. If you wish to refer to the counts column of the resulting data frame, you can give it a more \"friendly\" name using the `AS` operator."
   ]
  },
  {
   "cell_type": "code",
   "execution_count": 21,
   "metadata": {
    "deletable": false,
    "editable": false,
    "nbgrader": {
     "grade": false,
     "locked": true,
     "solution": false
    },
    "nbpresent": {
     "id": "9b495c9d-28a8-4074-a2ff-43e5481a9d5f"
    }
   },
   "outputs": [
    {
     "data": {
      "text/html": [
       "<div>\n",
       "<style scoped>\n",
       "    .dataframe tbody tr th:only-of-type {\n",
       "        vertical-align: middle;\n",
       "    }\n",
       "\n",
       "    .dataframe tbody tr th {\n",
       "        vertical-align: top;\n",
       "    }\n",
       "\n",
       "    .dataframe thead th {\n",
       "        text-align: right;\n",
       "    }\n",
       "</style>\n",
       "<table border=\"1\" class=\"dataframe\">\n",
       "  <thead>\n",
       "    <tr style=\"text-align: right;\">\n",
       "      <th></th>\n",
       "      <th>Agency</th>\n",
       "      <th>NumComplaints</th>\n",
       "    </tr>\n",
       "  </thead>\n",
       "  <tbody>\n",
       "    <tr>\n",
       "      <th>0</th>\n",
       "      <td>3-1-1</td>\n",
       "      <td>1289</td>\n",
       "    </tr>\n",
       "    <tr>\n",
       "      <th>1</th>\n",
       "      <td>ACS</td>\n",
       "      <td>3</td>\n",
       "    </tr>\n",
       "    <tr>\n",
       "      <th>2</th>\n",
       "      <td>AJC</td>\n",
       "      <td>6</td>\n",
       "    </tr>\n",
       "    <tr>\n",
       "      <th>3</th>\n",
       "      <td>CAU</td>\n",
       "      <td>1</td>\n",
       "    </tr>\n",
       "    <tr>\n",
       "      <th>4</th>\n",
       "      <td>CCRB</td>\n",
       "      <td>1</td>\n",
       "    </tr>\n",
       "  </tbody>\n",
       "</table>\n",
       "</div>"
      ],
      "text/plain": [
       "  Agency  NumComplaints\n",
       "0  3-1-1           1289\n",
       "1    ACS              3\n",
       "2    AJC              6\n",
       "3    CAU              1\n",
       "4   CCRB              1"
      ]
     },
     "execution_count": 21,
     "metadata": {},
     "output_type": "execute_result"
    }
   ],
   "source": [
    "query = '''\n",
    "  SELECT Agency, COUNT(*) AS NumComplaints\n",
    "    FROM data\n",
    "    GROUP BY Agency\n",
    "'''\n",
    "df = pd.read_sql_query(query, disk_engine)\n",
    "df.head()"
   ]
  },
  {
   "cell_type": "markdown",
   "metadata": {
    "deletable": false,
    "editable": false,
    "nbgrader": {
     "grade": false,
     "locked": true,
     "solution": false
    },
    "nbpresent": {
     "id": "b27b5f58-ffc9-4e1c-bf5b-76149575dfa5"
    }
   },
   "source": [
    "**Ordering results: `ORDER BY` clause.** You can also order the results. For instance, suppose we want to execute the previous query by number of complaints."
   ]
  },
  {
   "cell_type": "code",
   "execution_count": 22,
   "metadata": {
    "deletable": false,
    "editable": false,
    "nbgrader": {
     "grade": false,
     "locked": true,
     "solution": false
    },
    "nbpresent": {
     "id": "2f09ad6d-3920-465c-ac44-6438fc3f3ee5"
    }
   },
   "outputs": [
    {
     "data": {
      "text/html": [
       "<div>\n",
       "<style scoped>\n",
       "    .dataframe tbody tr th:only-of-type {\n",
       "        vertical-align: middle;\n",
       "    }\n",
       "\n",
       "    .dataframe tbody tr th {\n",
       "        vertical-align: top;\n",
       "    }\n",
       "\n",
       "    .dataframe thead th {\n",
       "        text-align: right;\n",
       "    }\n",
       "</style>\n",
       "<table border=\"1\" class=\"dataframe\">\n",
       "  <thead>\n",
       "    <tr style=\"text-align: right;\">\n",
       "      <th></th>\n",
       "      <th>Agency</th>\n",
       "      <th>NumComplaints</th>\n",
       "    </tr>\n",
       "  </thead>\n",
       "  <tbody>\n",
       "    <tr>\n",
       "      <th>45</th>\n",
       "      <td>DSNY</td>\n",
       "      <td>152004</td>\n",
       "    </tr>\n",
       "    <tr>\n",
       "      <th>46</th>\n",
       "      <td>DEP</td>\n",
       "      <td>181121</td>\n",
       "    </tr>\n",
       "    <tr>\n",
       "      <th>47</th>\n",
       "      <td>DOT</td>\n",
       "      <td>322969</td>\n",
       "    </tr>\n",
       "    <tr>\n",
       "      <th>48</th>\n",
       "      <td>NYPD</td>\n",
       "      <td>340694</td>\n",
       "    </tr>\n",
       "    <tr>\n",
       "      <th>49</th>\n",
       "      <td>HPD</td>\n",
       "      <td>640096</td>\n",
       "    </tr>\n",
       "  </tbody>\n",
       "</table>\n",
       "</div>"
      ],
      "text/plain": [
       "   Agency  NumComplaints\n",
       "45   DSNY         152004\n",
       "46    DEP         181121\n",
       "47    DOT         322969\n",
       "48   NYPD         340694\n",
       "49    HPD         640096"
      ]
     },
     "execution_count": 22,
     "metadata": {},
     "output_type": "execute_result"
    }
   ],
   "source": [
    "query = '''\n",
    "  SELECT Agency, COUNT(*) AS NumComplaints\n",
    "    FROM data\n",
    "    GROUP BY UPPER(Agency)\n",
    "    ORDER BY NumComplaints\n",
    "'''\n",
    "df = pd.read_sql_query(query, disk_engine)\n",
    "df.tail()"
   ]
  },
  {
   "cell_type": "markdown",
   "metadata": {
    "deletable": false,
    "editable": false,
    "nbgrader": {
     "grade": false,
     "locked": true,
     "solution": false
    },
    "nbpresent": {
     "id": "1cb6f520-9cda-49ef-bf62-1863dad7414a"
    }
   },
   "source": [
    "Note that the above example prints the bottom (tail) of the data frame. You could have also asked for the query results in reverse (descending) order, by prefixing the `ORDER BY` attribute with a `-` (minus) symbol. Alternatively, you can use `DESC` to achieve the same result."
   ]
  },
  {
   "cell_type": "code",
   "execution_count": 23,
   "metadata": {
    "deletable": false,
    "editable": false,
    "nbgrader": {
     "grade": false,
     "locked": true,
     "solution": false
    },
    "nbpresent": {
     "id": "304e200a-2d98-482c-8f29-c011ec2c5482"
    }
   },
   "outputs": [
    {
     "data": {
      "text/html": [
       "<div>\n",
       "<style scoped>\n",
       "    .dataframe tbody tr th:only-of-type {\n",
       "        vertical-align: middle;\n",
       "    }\n",
       "\n",
       "    .dataframe tbody tr th {\n",
       "        vertical-align: top;\n",
       "    }\n",
       "\n",
       "    .dataframe thead th {\n",
       "        text-align: right;\n",
       "    }\n",
       "</style>\n",
       "<table border=\"1\" class=\"dataframe\">\n",
       "  <thead>\n",
       "    <tr style=\"text-align: right;\">\n",
       "      <th></th>\n",
       "      <th>Agency</th>\n",
       "      <th>NumComplaints</th>\n",
       "    </tr>\n",
       "  </thead>\n",
       "  <tbody>\n",
       "    <tr>\n",
       "      <th>0</th>\n",
       "      <td>HPD</td>\n",
       "      <td>640096</td>\n",
       "    </tr>\n",
       "    <tr>\n",
       "      <th>1</th>\n",
       "      <td>NYPD</td>\n",
       "      <td>340694</td>\n",
       "    </tr>\n",
       "    <tr>\n",
       "      <th>2</th>\n",
       "      <td>DOT</td>\n",
       "      <td>322969</td>\n",
       "    </tr>\n",
       "    <tr>\n",
       "      <th>3</th>\n",
       "      <td>DEP</td>\n",
       "      <td>181121</td>\n",
       "    </tr>\n",
       "    <tr>\n",
       "      <th>4</th>\n",
       "      <td>DSNY</td>\n",
       "      <td>152004</td>\n",
       "    </tr>\n",
       "  </tbody>\n",
       "</table>\n",
       "</div>"
      ],
      "text/plain": [
       "  Agency  NumComplaints\n",
       "0    HPD         640096\n",
       "1   NYPD         340694\n",
       "2    DOT         322969\n",
       "3    DEP         181121\n",
       "4   DSNY         152004"
      ]
     },
     "execution_count": 23,
     "metadata": {},
     "output_type": "execute_result"
    }
   ],
   "source": [
    "query = '''\n",
    "  SELECT Agency, COUNT(*) AS NumComplaints\n",
    "    FROM data\n",
    "    GROUP BY UPPER(Agency)\n",
    "    ORDER BY -NumComplaints\n",
    "'''\n",
    "\n",
    "# Alternative: query =\n",
    "'''\n",
    "SELECT Agency, COUNT(*) AS NumComplaints \n",
    "    FROM data \n",
    "    GROUP BY UPPER(Agency)\n",
    "    ORDER BY NumComplaints DESC \n",
    "'''\n",
    "\n",
    "df = pd.read_sql_query(query, disk_engine)\n",
    "df.head()"
   ]
  },
  {
   "cell_type": "markdown",
   "metadata": {
    "deletable": false,
    "editable": false,
    "nbgrader": {
     "grade": false,
     "locked": true,
     "solution": false
    },
    "nbpresent": {
     "id": "aeaca6a3-b097-4844-8174-07fca9d185cc"
    }
   },
   "source": [
    "And of course we can plot all of this data!\n",
    "\n",
    "**Exercise 0** (ungraded). Run the following code cell, which will create an interactive bar chart from the data in the previous query."
   ]
  },
  {
   "cell_type": "code",
   "execution_count": 24,
   "metadata": {
    "deletable": false,
    "editable": false,
    "nbgrader": {
     "grade": true,
     "grade_id": "exercise_0",
     "locked": true,
     "points": "0",
     "schema_version": 1,
     "solution": false
    }
   },
   "outputs": [
    {
     "data": {
      "text/html": [
       "\n",
       "\n",
       "\n",
       "\n",
       "\n",
       "\n",
       "  <div class=\"bk-root\" id=\"fc9eae16-907c-4bfe-a599-43f4bed27d82\" data-root-id=\"1256\"></div>\n"
      ]
     },
     "metadata": {},
     "output_type": "display_data"
    },
    {
     "data": {
      "application/javascript": [
       "(function(root) {\n",
       "  function embed_document(root) {\n",
       "    \n",
       "  var docs_json = {\"ef995913-bc3a-412c-b50e-4124257fe463\":{\"roots\":{\"references\":[{\"attributes\":{\"below\":[{\"id\":\"1267\"}],\"center\":[{\"id\":\"1269\"},{\"id\":\"1273\"}],\"left\":[{\"id\":\"1270\"}],\"plot_height\":320,\"plot_width\":800,\"renderers\":[{\"id\":\"1291\"}],\"title\":{\"id\":\"1257\"},\"toolbar\":{\"id\":\"1281\"},\"x_range\":{\"id\":\"1259\"},\"x_scale\":{\"id\":\"1263\"},\"y_range\":{\"id\":\"1261\"},\"y_scale\":{\"id\":\"1265\"}},\"id\":\"1256\",\"subtype\":\"Figure\",\"type\":\"Plot\"},{\"attributes\":{\"fill_alpha\":{\"value\":0.1},\"fill_color\":{\"value\":\"#1f77b4\"},\"line_alpha\":{\"value\":0.1},\"line_color\":{\"value\":\"#1f77b4\"},\"top\":{\"field\":\"top\"},\"width\":{\"value\":0.9},\"x\":{\"field\":\"x\"}},\"id\":\"1290\",\"type\":\"VBar\"},{\"attributes\":{},\"id\":\"1279\",\"type\":\"HelpTool\"},{\"attributes\":{},\"id\":\"1275\",\"type\":\"WheelZoomTool\"},{\"attributes\":{},\"id\":\"1274\",\"type\":\"PanTool\"},{\"attributes\":{\"active_drag\":\"auto\",\"active_inspect\":\"auto\",\"active_multi\":null,\"active_scroll\":\"auto\",\"active_tap\":\"auto\",\"tools\":[{\"id\":\"1274\"},{\"id\":\"1275\"},{\"id\":\"1276\"},{\"id\":\"1277\"},{\"id\":\"1278\"},{\"id\":\"1279\"}]},\"id\":\"1281\",\"type\":\"Toolbar\"},{\"attributes\":{\"overlay\":{\"id\":\"1280\"}},\"id\":\"1276\",\"type\":\"BoxZoomTool\"},{\"attributes\":{},\"id\":\"1277\",\"type\":\"SaveTool\"},{\"attributes\":{\"fill_color\":{\"value\":\"#1f77b4\"},\"line_color\":{\"value\":\"#1f77b4\"},\"top\":{\"field\":\"top\"},\"width\":{\"value\":0.9},\"x\":{\"field\":\"x\"}},\"id\":\"1289\",\"type\":\"VBar\"},{\"attributes\":{},\"id\":\"1263\",\"type\":\"CategoricalScale\"},{\"attributes\":{\"source\":{\"id\":\"1288\"}},\"id\":\"1292\",\"type\":\"CDSView\"},{\"attributes\":{},\"id\":\"1278\",\"type\":\"ResetTool\"},{\"attributes\":{\"data\":{\"top\":[640096,340694,322969,181121,152004,87532,73499,57808,41915,27482,24214,20731,12282,7057,4559,1715,1679,1289,488,406],\"x\":[\"HPD\",\"NYPD\",\"DOT\",\"DEP\",\"DSNY\",\"DOB\",\"DPR\",\"DOHMH\",\"DOF\",\"HRA\",\"TLC\",\"DCA\",\"CHALL\",\"FDNY\",\"DHS\",\"EDC\",\"DOE\",\"3-1-1\",\"DOITT\",\"DFTA\"]},\"selected\":{\"id\":\"1320\"},\"selection_policy\":{\"id\":\"1319\"}},\"id\":\"1288\",\"type\":\"ColumnDataSource\"},{\"attributes\":{},\"id\":\"1315\",\"type\":\"CategoricalTickFormatter\"},{\"attributes\":{},\"id\":\"1268\",\"type\":\"CategoricalTicker\"},{\"attributes\":{},\"id\":\"1317\",\"type\":\"BasicTickFormatter\"},{\"attributes\":{},\"id\":\"1271\",\"type\":\"BasicTicker\"},{\"attributes\":{\"data_source\":{\"id\":\"1288\"},\"glyph\":{\"id\":\"1289\"},\"hover_glyph\":null,\"muted_glyph\":null,\"nonselection_glyph\":{\"id\":\"1290\"},\"selection_glyph\":null,\"view\":{\"id\":\"1292\"}},\"id\":\"1291\",\"type\":\"GlyphRenderer\"},{\"attributes\":{\"factors\":[\"HPD\",\"NYPD\",\"DOT\",\"DEP\",\"DSNY\",\"DOB\",\"DPR\",\"DOHMH\",\"DOF\",\"HRA\",\"TLC\",\"DCA\",\"CHALL\",\"FDNY\",\"DHS\",\"EDC\",\"DOE\",\"3-1-1\",\"DOITT\",\"DFTA\"]},\"id\":\"1259\",\"type\":\"FactorRange\"},{\"attributes\":{\"bottom_units\":\"screen\",\"fill_alpha\":0.5,\"fill_color\":\"lightgrey\",\"left_units\":\"screen\",\"level\":\"overlay\",\"line_alpha\":1.0,\"line_color\":\"black\",\"line_dash\":[4,4],\"line_width\":2,\"right_units\":\"screen\",\"top_units\":\"screen\"},\"id\":\"1280\",\"type\":\"BoxAnnotation\"},{\"attributes\":{\"text\":\"Top 20 agencies by number of complaints\"},\"id\":\"1257\",\"type\":\"Title\"},{\"attributes\":{},\"id\":\"1319\",\"type\":\"UnionRenderers\"},{\"attributes\":{},\"id\":\"1261\",\"type\":\"DataRange1d\"},{\"attributes\":{},\"id\":\"1320\",\"type\":\"Selection\"},{\"attributes\":{\"formatter\":{\"id\":\"1315\"},\"major_label_orientation\":0.66,\"ticker\":{\"id\":\"1268\"}},\"id\":\"1267\",\"type\":\"CategoricalAxis\"},{\"attributes\":{\"axis\":{\"id\":\"1267\"},\"ticker\":null},\"id\":\"1269\",\"type\":\"Grid\"},{\"attributes\":{\"axis\":{\"id\":\"1270\"},\"dimension\":1,\"ticker\":null},\"id\":\"1273\",\"type\":\"Grid\"},{\"attributes\":{},\"id\":\"1265\",\"type\":\"LinearScale\"},{\"attributes\":{\"formatter\":{\"id\":\"1317\"},\"ticker\":{\"id\":\"1271\"}},\"id\":\"1270\",\"type\":\"LinearAxis\"}],\"root_ids\":[\"1256\"]},\"title\":\"Bokeh Application\",\"version\":\"2.2.3\"}};\n",
       "  var render_items = [{\"docid\":\"ef995913-bc3a-412c-b50e-4124257fe463\",\"root_ids\":[\"1256\"],\"roots\":{\"1256\":\"fc9eae16-907c-4bfe-a599-43f4bed27d82\"}}];\n",
       "  root.Bokeh.embed.embed_items_notebook(docs_json, render_items);\n",
       "\n",
       "  }\n",
       "  if (root.Bokeh !== undefined) {\n",
       "    embed_document(root);\n",
       "  } else {\n",
       "    var attempts = 0;\n",
       "    var timer = setInterval(function(root) {\n",
       "      if (root.Bokeh !== undefined) {\n",
       "        clearInterval(timer);\n",
       "        embed_document(root);\n",
       "      } else {\n",
       "        attempts++;\n",
       "        if (attempts > 100) {\n",
       "          clearInterval(timer);\n",
       "          console.log(\"Bokeh: ERROR: Unable to run BokehJS code because BokehJS library is missing\");\n",
       "        }\n",
       "      }\n",
       "    }, 10, root)\n",
       "  }\n",
       "})(window);"
      ],
      "application/vnd.bokehjs_exec.v0+json": ""
     },
     "metadata": {
      "application/vnd.bokehjs_exec.v0+json": {
       "id": "1256"
      }
     },
     "output_type": "display_data"
    }
   ],
   "source": [
    "p = make_barchart(df[:20], 'Agency', 'NumComplaints',\n",
    "                  {'title': 'Top 20 agencies by number of complaints',\n",
    "                   'plot_width': 800, 'plot_height': 320})\n",
    "p.xaxis.major_label_orientation = 0.66\n",
    "show(p)"
   ]
  },
  {
   "cell_type": "markdown",
   "metadata": {
    "deletable": false,
    "editable": false,
    "nbgrader": {
     "grade": false,
     "locked": true,
     "solution": false
    },
    "nbpresent": {
     "id": "c2798673-ea3c-4699-a6e3-d260ea898fe7"
    }
   },
   "source": [
    "**Exercise 1** (2 points). Create a string, `query`, containing an SQL query that will return the number of complaints by type. The columns should be named `type` and `freq`, and the results should be sorted in descending order by `freq`. Also, since we know some complaints use an inconsistent case, for your function convert complaints to lowercase.\n",
    "\n",
    "> What is the most common type of complaint? What, if anything, does it tell you about NYC?"
   ]
  },
  {
   "cell_type": "code",
   "execution_count": 25,
   "metadata": {
    "deletable": false,
    "nbgrader": {
     "checksum": "02c545e88c5dbdd207e79390140a6648",
     "grade": false,
     "grade_id": "complaints",
     "locked": false,
     "schema_version": 1,
     "solution": true
    },
    "nbpresent": {
     "id": "e295216c-a5d8-498c-884d-a971991f23a0"
    }
   },
   "outputs": [
    {
     "data": {
      "text/html": [
       "<div>\n",
       "<style scoped>\n",
       "    .dataframe tbody tr th:only-of-type {\n",
       "        vertical-align: middle;\n",
       "    }\n",
       "\n",
       "    .dataframe tbody tr th {\n",
       "        vertical-align: top;\n",
       "    }\n",
       "\n",
       "    .dataframe thead th {\n",
       "        text-align: right;\n",
       "    }\n",
       "</style>\n",
       "<table border=\"1\" class=\"dataframe\">\n",
       "  <thead>\n",
       "    <tr style=\"text-align: right;\">\n",
       "      <th></th>\n",
       "      <th>type</th>\n",
       "      <th>freq</th>\n",
       "    </tr>\n",
       "  </thead>\n",
       "  <tbody>\n",
       "    <tr>\n",
       "      <th>0</th>\n",
       "      <td>heat/hot water</td>\n",
       "      <td>241430</td>\n",
       "    </tr>\n",
       "    <tr>\n",
       "      <th>1</th>\n",
       "      <td>street condition</td>\n",
       "      <td>124347</td>\n",
       "    </tr>\n",
       "    <tr>\n",
       "      <th>2</th>\n",
       "      <td>street light condition</td>\n",
       "      <td>98577</td>\n",
       "    </tr>\n",
       "    <tr>\n",
       "      <th>3</th>\n",
       "      <td>blocked driveway</td>\n",
       "      <td>95080</td>\n",
       "    </tr>\n",
       "    <tr>\n",
       "      <th>4</th>\n",
       "      <td>illegal parking</td>\n",
       "      <td>83961</td>\n",
       "    </tr>\n",
       "  </tbody>\n",
       "</table>\n",
       "</div>"
      ],
      "text/plain": [
       "                     type    freq\n",
       "0          heat/hot water  241430\n",
       "1        street condition  124347\n",
       "2  street light condition   98577\n",
       "3        blocked driveway   95080\n",
       "4         illegal parking   83961"
      ]
     },
     "execution_count": 25,
     "metadata": {},
     "output_type": "execute_result"
    }
   ],
   "source": [
    "del query # clears any existing `query` variable; you should define it, below!\n",
    "\n",
    "# Define a variable named `query` containing your solution\n",
    "\n",
    "query =  '''\n",
    "            SELECT LOWER(ComplaintType) AS type, Count(ComplaintType) AS freq\n",
    "            FROM data\n",
    "            GROUP BY type\n",
    "            ORDER BY -freq\n",
    "        '''\n",
    "\n",
    "# Runs your `query`:\n",
    "df_complaint_freq = pd.read_sql_query(query, disk_engine)\n",
    "\n",
    "df_complaint_freq.head()"
   ]
  },
  {
   "cell_type": "code",
   "execution_count": 26,
   "metadata": {
    "deletable": false,
    "editable": false,
    "nbgrader": {
     "grade": true,
     "grade_id": "complaints_test",
     "locked": true,
     "points": "2",
     "solution": false
    }
   },
   "outputs": [
    {
     "name": "stdout",
     "output_type": "stream",
     "text": [
      "Top 10 complaints:\n"
     ]
    },
    {
     "data": {
      "text/html": [
       "<div>\n",
       "<style scoped>\n",
       "    .dataframe tbody tr th:only-of-type {\n",
       "        vertical-align: middle;\n",
       "    }\n",
       "\n",
       "    .dataframe tbody tr th {\n",
       "        vertical-align: top;\n",
       "    }\n",
       "\n",
       "    .dataframe thead th {\n",
       "        text-align: right;\n",
       "    }\n",
       "</style>\n",
       "<table border=\"1\" class=\"dataframe\">\n",
       "  <thead>\n",
       "    <tr style=\"text-align: right;\">\n",
       "      <th></th>\n",
       "      <th>type</th>\n",
       "      <th>freq</th>\n",
       "    </tr>\n",
       "  </thead>\n",
       "  <tbody>\n",
       "    <tr>\n",
       "      <th>0</th>\n",
       "      <td>heat/hot water</td>\n",
       "      <td>241430</td>\n",
       "    </tr>\n",
       "    <tr>\n",
       "      <th>1</th>\n",
       "      <td>street condition</td>\n",
       "      <td>124347</td>\n",
       "    </tr>\n",
       "    <tr>\n",
       "      <th>2</th>\n",
       "      <td>street light condition</td>\n",
       "      <td>98577</td>\n",
       "    </tr>\n",
       "    <tr>\n",
       "      <th>3</th>\n",
       "      <td>blocked driveway</td>\n",
       "      <td>95080</td>\n",
       "    </tr>\n",
       "    <tr>\n",
       "      <th>4</th>\n",
       "      <td>illegal parking</td>\n",
       "      <td>83961</td>\n",
       "    </tr>\n",
       "    <tr>\n",
       "      <th>5</th>\n",
       "      <td>unsanitary condition</td>\n",
       "      <td>81394</td>\n",
       "    </tr>\n",
       "    <tr>\n",
       "      <th>6</th>\n",
       "      <td>paint/plaster</td>\n",
       "      <td>69929</td>\n",
       "    </tr>\n",
       "    <tr>\n",
       "      <th>7</th>\n",
       "      <td>water system</td>\n",
       "      <td>69209</td>\n",
       "    </tr>\n",
       "    <tr>\n",
       "      <th>8</th>\n",
       "      <td>plumbing</td>\n",
       "      <td>60105</td>\n",
       "    </tr>\n",
       "    <tr>\n",
       "      <th>9</th>\n",
       "      <td>noise</td>\n",
       "      <td>54165</td>\n",
       "    </tr>\n",
       "  </tbody>\n",
       "</table>\n",
       "</div>"
      ],
      "text/plain": [
       "                     type    freq\n",
       "0          heat/hot water  241430\n",
       "1        street condition  124347\n",
       "2  street light condition   98577\n",
       "3        blocked driveway   95080\n",
       "4         illegal parking   83961\n",
       "5    unsanitary condition   81394\n",
       "6           paint/plaster   69929\n",
       "7            water system   69209\n",
       "8                plumbing   60105\n",
       "9                   noise   54165"
      ]
     },
     "metadata": {},
     "output_type": "display_data"
    },
    {
     "name": "stdout",
     "output_type": "stream",
     "text": [
      "\n",
      "(Passed.)\n"
     ]
    }
   ],
   "source": [
    "# Test cell: `complaints_test`\n",
    "\n",
    "print(\"Top 10 complaints:\")\n",
    "display(df_complaint_freq.head(10))\n",
    "\n",
    "assert set(df_complaint_freq.columns) == {'type', 'freq'}, \"Output columns should be named 'type' and 'freq', not {}\".format(set(df_complaint_freq.columns))\n",
    "\n",
    "soln = ['heat/hot water', 'street condition', 'street light condition', 'blocked driveway', 'illegal parking', 'unsanitary condition', 'paint/plaster', 'water system', 'plumbing', 'noise', 'noise - street/sidewalk', 'traffic signal condition', 'noise - commercial', 'door/window', 'water leak', 'dirty conditions', 'sewer', 'sanitation condition', 'dof literature request', 'electric', 'rodent', 'flooring/stairs', 'general construction/plumbing', 'building/use', 'broken muni meter', 'general', 'missed collection (all materials)', 'benefit card replacement', 'derelict vehicle', 'noise - vehicle', 'damaged tree', 'consumer complaint', 'derelict vehicles', 'taxi complaint', 'overgrown tree/branches', 'graffiti', 'snow', 'opinion for the mayor', 'appliance', 'maintenance or facility', 'animal abuse', 'dead tree', 'elevator', 'hpd literature request', 'root/sewer/sidewalk condition', 'safety', 'food establishment', 'scrie', 'air quality', 'agency issues', 'construction', 'highway condition', 'other enforcement', 'water conservation', 'sidewalk condition', 'indoor air quality', 'street sign - damaged', 'traffic', 'fire safety director - f58', 'homeless person assistance', 'homeless encampment', 'special enforcement', 'street sign - missing', 'noise - park', 'vending', 'for hire vehicle complaint', 'food poisoning', 'special projects inspection team (spit)', 'hazardous materials', 'electrical', 'dot literature request', 'litter basket / request', 'taxi report', 'illegal tree damage', 'dof property - reduction issue', 'unsanitary animal pvt property', 'asbestos', 'lead', 'vacant lot', 'dca / doh new license application request', 'street sign - dangling', 'smoking', 'violation of park rules', 'outside building', 'animal in a park', 'noise - helicopter', 'school maintenance', 'dpr internal', 'boilers', 'industrial waste', 'sweeping/missed', 'overflowing litter baskets', 'non-residential heat', 'curb condition', 'drinking', 'standing water', 'indoor sewage', 'water quality', 'eap inspection - f59', 'derelict bicycle', 'noise - house of worship', 'dca literature request', 'recycling enforcement', 'dof parking - tax exemption', 'broken parking meter', 'request for information', 'taxi compliment', 'unleashed dog', 'urinating in public', 'unsanitary pigeon condition', 'investigations and discipline (iad)', 'bridge condition', 'ferry inquiry', 'bike/roller/skate chronic', 'public payphone complaint', 'vector', 'best/site safety', 'sweeping/inadequate', 'disorderly youth', 'found property', 'mold', 'senior center complaint', 'fire alarm - reinspection', 'for hire vehicle report', 'city vehicle placard complaint', 'cranes and derricks', 'ferry complaint', 'illegal animal kept as pet', 'posting advertisement', 'harboring bees/wasps', 'panhandling', 'scaffold safety', 'oem literature request', 'plant', 'bus stop shelter placement', 'collection truck noise', 'beach/pool/sauna complaint', 'complaint', 'compliment', 'illegal fireworks', 'fire alarm - modification', 'dep literature request', 'drinking water', 'fire alarm - new system', 'poison ivy', 'bike rack condition', 'emergency response team (ert)', 'municipal parking facility', 'tattooing', 'unsanitary animal facility', 'animal facility - no permit', 'miscellaneous categories', 'misc. comments', 'literature request', 'special natural area district (snad)', 'highway sign - damaged', 'public toilet', 'adopt-a-basket', 'ferry permit', 'invitation', 'window guard', 'parking card', 'illegal animal sold', 'stalled sites', 'open flame permit', 'overflowing recycling baskets', 'highway sign - missing', 'public assembly', 'dpr literature request', 'fire alarm - addition', 'lifeguard', 'transportation provider complaint', 'dfta literature request', 'bottled water', 'highway sign - dangling', 'dhs income savings requirement', 'legal services provider complaint', 'foam ban enforcement', 'tunnel condition', 'calorie labeling', 'fire alarm - replacement', 'x-ray machine/equipment', 'sprinkler - mechanical', 'hazmat storage/use', 'tanning', 'radioactive material', 'rangehood', 'squeegee', 'srde', 'building condition', 'sg-98', 'standpipe - mechanical', 'agency', 'forensic engineering', 'public assembly - temporary', 'vacant apartment', 'laboratory', 'sg-99']\n",
    "assert all(soln[:25] == df_complaint_freq['type'].iloc[:25])\n",
    "assert df_complaint_freq.shape[0] == len(soln), 'Output has {} rows while the instructor solution has {} rows'.format(df_complaint_freq.shape[0], len(soln))\n",
    "\n",
    "print(\"\\n(Passed.)\")"
   ]
  },
  {
   "cell_type": "markdown",
   "metadata": {
    "deletable": false,
    "editable": false,
    "nbgrader": {
     "grade": false,
     "locked": true,
     "solution": false
    },
    "nbpresent": {
     "id": "044baaf9-9926-4afb-9e03-85073ca711c3"
    }
   },
   "source": [
    "Let's also visualize the result, as a bar chart showing complaint types on the x-axis and the number of complaints on the y-axis."
   ]
  },
  {
   "cell_type": "code",
   "execution_count": 27,
   "metadata": {
    "deletable": false,
    "editable": false,
    "nbgrader": {
     "grade": false,
     "locked": true,
     "solution": false
    },
    "nbpresent": {
     "id": "e61968e4-5052-4825-9c07-d5221f507ed2"
    }
   },
   "outputs": [
    {
     "data": {
      "text/html": [
       "\n",
       "\n",
       "\n",
       "\n",
       "\n",
       "\n",
       "  <div class=\"bk-root\" id=\"6916f2ed-eee4-4058-a579-14b30d9a1175\" data-root-id=\"1362\"></div>\n"
      ]
     },
     "metadata": {},
     "output_type": "display_data"
    },
    {
     "data": {
      "application/javascript": [
       "(function(root) {\n",
       "  function embed_document(root) {\n",
       "    \n",
       "  var docs_json = {\"b9d6ad03-81f2-44eb-b0c7-3a4ac3065bfb\":{\"roots\":{\"references\":[{\"attributes\":{\"below\":[{\"id\":\"1373\"}],\"center\":[{\"id\":\"1375\"},{\"id\":\"1379\"}],\"left\":[{\"id\":\"1376\"}],\"plot_height\":320,\"plot_width\":800,\"renderers\":[{\"id\":\"1397\"}],\"title\":{\"id\":\"1363\"},\"toolbar\":{\"id\":\"1387\"},\"x_range\":{\"id\":\"1365\"},\"x_scale\":{\"id\":\"1369\"},\"y_range\":{\"id\":\"1367\"},\"y_scale\":{\"id\":\"1371\"}},\"id\":\"1362\",\"subtype\":\"Figure\",\"type\":\"Plot\"},{\"attributes\":{\"text\":\"Top 25 complaints by type\"},\"id\":\"1363\",\"type\":\"Title\"},{\"attributes\":{\"fill_color\":{\"value\":\"#1f77b4\"},\"line_color\":{\"value\":\"#1f77b4\"},\"top\":{\"field\":\"top\"},\"width\":{\"value\":0.9},\"x\":{\"field\":\"x\"}},\"id\":\"1395\",\"type\":\"VBar\"},{\"attributes\":{\"factors\":[\"heat/hot water\",\"street condition\",\"street light condition\",\"blocked driveway\",\"illegal parking\",\"unsanitary condition\",\"paint/plaster\",\"water system\",\"plumbing\",\"noise\",\"noise - street/sidewalk\",\"traffic signal condition\",\"noise - commercial\",\"door/window\",\"water leak\",\"dirty conditions\",\"sewer\",\"sanitation condition\",\"dof literature request\",\"electric\",\"rodent\",\"flooring/stairs\",\"general construction/plumbing\",\"building/use\",\"broken muni meter\"]},\"id\":\"1365\",\"type\":\"FactorRange\"},{\"attributes\":{\"formatter\":{\"id\":\"1431\"},\"ticker\":{\"id\":\"1377\"}},\"id\":\"1376\",\"type\":\"LinearAxis\"},{\"attributes\":{\"source\":{\"id\":\"1394\"}},\"id\":\"1398\",\"type\":\"CDSView\"},{\"attributes\":{},\"id\":\"1384\",\"type\":\"ResetTool\"},{\"attributes\":{\"bottom_units\":\"screen\",\"fill_alpha\":0.5,\"fill_color\":\"lightgrey\",\"left_units\":\"screen\",\"level\":\"overlay\",\"line_alpha\":1.0,\"line_color\":\"black\",\"line_dash\":[4,4],\"line_width\":2,\"right_units\":\"screen\",\"top_units\":\"screen\"},\"id\":\"1386\",\"type\":\"BoxAnnotation\"},{\"attributes\":{},\"id\":\"1429\",\"type\":\"CategoricalTickFormatter\"},{\"attributes\":{},\"id\":\"1367\",\"type\":\"DataRange1d\"},{\"attributes\":{},\"id\":\"1374\",\"type\":\"CategoricalTicker\"},{\"attributes\":{},\"id\":\"1381\",\"type\":\"WheelZoomTool\"},{\"attributes\":{},\"id\":\"1369\",\"type\":\"CategoricalScale\"},{\"attributes\":{\"formatter\":{\"id\":\"1429\"},\"major_label_orientation\":0.66,\"ticker\":{\"id\":\"1374\"}},\"id\":\"1373\",\"type\":\"CategoricalAxis\"},{\"attributes\":{},\"id\":\"1434\",\"type\":\"Selection\"},{\"attributes\":{},\"id\":\"1431\",\"type\":\"BasicTickFormatter\"},{\"attributes\":{},\"id\":\"1380\",\"type\":\"PanTool\"},{\"attributes\":{\"overlay\":{\"id\":\"1386\"}},\"id\":\"1382\",\"type\":\"BoxZoomTool\"},{\"attributes\":{\"active_drag\":\"auto\",\"active_inspect\":\"auto\",\"active_multi\":null,\"active_scroll\":\"auto\",\"active_tap\":\"auto\",\"tools\":[{\"id\":\"1380\"},{\"id\":\"1381\"},{\"id\":\"1382\"},{\"id\":\"1383\"},{\"id\":\"1384\"},{\"id\":\"1385\"}]},\"id\":\"1387\",\"type\":\"Toolbar\"},{\"attributes\":{\"data_source\":{\"id\":\"1394\"},\"glyph\":{\"id\":\"1395\"},\"hover_glyph\":null,\"muted_glyph\":null,\"nonselection_glyph\":{\"id\":\"1396\"},\"selection_glyph\":null,\"view\":{\"id\":\"1398\"}},\"id\":\"1397\",\"type\":\"GlyphRenderer\"},{\"attributes\":{},\"id\":\"1371\",\"type\":\"LinearScale\"},{\"attributes\":{},\"id\":\"1433\",\"type\":\"UnionRenderers\"},{\"attributes\":{},\"id\":\"1383\",\"type\":\"SaveTool\"},{\"attributes\":{\"axis\":{\"id\":\"1373\"},\"ticker\":null},\"id\":\"1375\",\"type\":\"Grid\"},{\"attributes\":{},\"id\":\"1377\",\"type\":\"BasicTicker\"},{\"attributes\":{\"fill_alpha\":{\"value\":0.1},\"fill_color\":{\"value\":\"#1f77b4\"},\"line_alpha\":{\"value\":0.1},\"line_color\":{\"value\":\"#1f77b4\"},\"top\":{\"field\":\"top\"},\"width\":{\"value\":0.9},\"x\":{\"field\":\"x\"}},\"id\":\"1396\",\"type\":\"VBar\"},{\"attributes\":{},\"id\":\"1385\",\"type\":\"HelpTool\"},{\"attributes\":{\"axis\":{\"id\":\"1376\"},\"dimension\":1,\"ticker\":null},\"id\":\"1379\",\"type\":\"Grid\"},{\"attributes\":{\"data\":{\"top\":[241430,124347,98577,95080,83961,81394,69929,69209,60105,54165,48436,44229,42422,39695,36149,35122,33628,31260,30326,30248,28454,27007,26861,25807,25428],\"x\":[\"heat/hot water\",\"street condition\",\"street light condition\",\"blocked driveway\",\"illegal parking\",\"unsanitary condition\",\"paint/plaster\",\"water system\",\"plumbing\",\"noise\",\"noise - street/sidewalk\",\"traffic signal condition\",\"noise - commercial\",\"door/window\",\"water leak\",\"dirty conditions\",\"sewer\",\"sanitation condition\",\"dof literature request\",\"electric\",\"rodent\",\"flooring/stairs\",\"general construction/plumbing\",\"building/use\",\"broken muni meter\"]},\"selected\":{\"id\":\"1434\"},\"selection_policy\":{\"id\":\"1433\"}},\"id\":\"1394\",\"type\":\"ColumnDataSource\"}],\"root_ids\":[\"1362\"]},\"title\":\"Bokeh Application\",\"version\":\"2.2.3\"}};\n",
       "  var render_items = [{\"docid\":\"b9d6ad03-81f2-44eb-b0c7-3a4ac3065bfb\",\"root_ids\":[\"1362\"],\"roots\":{\"1362\":\"6916f2ed-eee4-4058-a579-14b30d9a1175\"}}];\n",
       "  root.Bokeh.embed.embed_items_notebook(docs_json, render_items);\n",
       "\n",
       "  }\n",
       "  if (root.Bokeh !== undefined) {\n",
       "    embed_document(root);\n",
       "  } else {\n",
       "    var attempts = 0;\n",
       "    var timer = setInterval(function(root) {\n",
       "      if (root.Bokeh !== undefined) {\n",
       "        clearInterval(timer);\n",
       "        embed_document(root);\n",
       "      } else {\n",
       "        attempts++;\n",
       "        if (attempts > 100) {\n",
       "          clearInterval(timer);\n",
       "          console.log(\"Bokeh: ERROR: Unable to run BokehJS code because BokehJS library is missing\");\n",
       "        }\n",
       "      }\n",
       "    }, 10, root)\n",
       "  }\n",
       "})(window);"
      ],
      "application/vnd.bokehjs_exec.v0+json": ""
     },
     "metadata": {
      "application/vnd.bokehjs_exec.v0+json": {
       "id": "1362"
      }
     },
     "output_type": "display_data"
    }
   ],
   "source": [
    "p = make_barchart(df_complaint_freq[:25], 'type', 'freq',\n",
    "                  {'title': 'Top 25 complaints by type',\n",
    "                   'plot_width': 800, 'plot_height': 320})\n",
    "p.xaxis.major_label_orientation = 0.66\n",
    "show(p)"
   ]
  },
  {
   "cell_type": "markdown",
   "metadata": {
    "deletable": false,
    "editable": false,
    "nbgrader": {
     "grade": false,
     "locked": true,
     "solution": false
    },
    "nbpresent": {
     "id": "887dcef2-10b4-4cbb-a282-ad93dd89332c"
    }
   },
   "source": [
    "# Lesson 3: More SQL stuff"
   ]
  },
  {
   "cell_type": "markdown",
   "metadata": {
    "deletable": false,
    "editable": false,
    "nbgrader": {
     "grade": false,
     "locked": true,
     "solution": false
    },
    "nbpresent": {
     "id": "13ad6402-b7cf-4426-8a8f-6758fa07aec0"
    }
   },
   "source": [
    "**Simple substring matching: the `LIKE` operator.** Suppose we just want to look at the counts for all complaints that have the word `noise` in them. You can use the `LIKE` operator combined with the string wildcard, `%`, to look for case-insensitive substring matches."
   ]
  },
  {
   "cell_type": "code",
   "execution_count": 28,
   "metadata": {
    "deletable": false,
    "editable": false,
    "nbgrader": {
     "grade": false,
     "locked": true,
     "solution": false
    },
    "nbpresent": {
     "id": "cdc97977-5b18-4e09-aa88-49458e4f6921"
    }
   },
   "outputs": [
    {
     "name": "stdout",
     "output_type": "stream",
     "text": [
      "Found 8 queries with 'noise' in them.\n"
     ]
    },
    {
     "data": {
      "text/html": [
       "<div>\n",
       "<style scoped>\n",
       "    .dataframe tbody tr th:only-of-type {\n",
       "        vertical-align: middle;\n",
       "    }\n",
       "\n",
       "    .dataframe tbody tr th {\n",
       "        vertical-align: top;\n",
       "    }\n",
       "\n",
       "    .dataframe thead th {\n",
       "        text-align: right;\n",
       "    }\n",
       "</style>\n",
       "<table border=\"1\" class=\"dataframe\">\n",
       "  <thead>\n",
       "    <tr style=\"text-align: right;\">\n",
       "      <th></th>\n",
       "      <th>type</th>\n",
       "      <th>freq</th>\n",
       "    </tr>\n",
       "  </thead>\n",
       "  <tbody>\n",
       "    <tr>\n",
       "      <th>0</th>\n",
       "      <td>noise</td>\n",
       "      <td>54165</td>\n",
       "    </tr>\n",
       "    <tr>\n",
       "      <th>1</th>\n",
       "      <td>noise - street/sidewalk</td>\n",
       "      <td>48436</td>\n",
       "    </tr>\n",
       "    <tr>\n",
       "      <th>2</th>\n",
       "      <td>noise - commercial</td>\n",
       "      <td>42422</td>\n",
       "    </tr>\n",
       "    <tr>\n",
       "      <th>3</th>\n",
       "      <td>noise - vehicle</td>\n",
       "      <td>18370</td>\n",
       "    </tr>\n",
       "    <tr>\n",
       "      <th>4</th>\n",
       "      <td>noise - park</td>\n",
       "      <td>4020</td>\n",
       "    </tr>\n",
       "    <tr>\n",
       "      <th>5</th>\n",
       "      <td>noise - helicopter</td>\n",
       "      <td>1715</td>\n",
       "    </tr>\n",
       "    <tr>\n",
       "      <th>6</th>\n",
       "      <td>noise - house of worship</td>\n",
       "      <td>1143</td>\n",
       "    </tr>\n",
       "    <tr>\n",
       "      <th>7</th>\n",
       "      <td>collection truck noise</td>\n",
       "      <td>184</td>\n",
       "    </tr>\n",
       "  </tbody>\n",
       "</table>\n",
       "</div>"
      ],
      "text/plain": [
       "                       type   freq\n",
       "0                     noise  54165\n",
       "1   noise - street/sidewalk  48436\n",
       "2        noise - commercial  42422\n",
       "3           noise - vehicle  18370\n",
       "4              noise - park   4020\n",
       "5        noise - helicopter   1715\n",
       "6  noise - house of worship   1143\n",
       "7    collection truck noise    184"
      ]
     },
     "execution_count": 28,
     "metadata": {},
     "output_type": "execute_result"
    }
   ],
   "source": [
    "query = '''\n",
    "  SELECT LOWER(ComplaintType) AS type, COUNT(*) AS freq\n",
    "    FROM data\n",
    "    WHERE LOWER(ComplaintType) LIKE '%noise%'\n",
    "    GROUP BY type\n",
    "    ORDER BY -freq\n",
    "'''\n",
    "\n",
    "df_noisy = pd.read_sql_query(query, disk_engine)\n",
    "print(\"Found {} queries with 'noise' in them.\".format(len(df_noisy)))\n",
    "df_noisy"
   ]
  },
  {
   "cell_type": "markdown",
   "metadata": {
    "deletable": false,
    "editable": false,
    "nbgrader": {
     "grade": false,
     "locked": true,
     "solution": false
    },
    "nbpresent": {
     "id": "e86be66c-aec9-4135-8f3e-b7fabaa2e800"
    }
   },
   "source": [
    "**Exercise 2** (2 points). Create a string variable, `query`, that contains an SQL query that will return the top 10 cities with the largest number of complaints, in descending order. It should return a table with two columns, one named `name` holding the name of the city, and one named `freq` holding the number of complaints by that city. \n",
    "\n",
    "Like complaint types, cities are not capitalized consistently. Therefore, standardize the city names by converting them to **uppercase**."
   ]
  },
  {
   "cell_type": "code",
   "execution_count": 29,
   "metadata": {
    "deletable": false,
    "nbgrader": {
     "checksum": "1360beba933bca514fb725bb499e512a",
     "grade": false,
     "grade_id": "whiny_cities",
     "locked": false,
     "schema_version": 1,
     "solution": false
    },
    "nbpresent": {
     "id": "c18e68d3-61ed-4258-8e1b-aac0e538bca4"
    }
   },
   "outputs": [
    {
     "data": {
      "text/html": [
       "<div>\n",
       "<style scoped>\n",
       "    .dataframe tbody tr th:only-of-type {\n",
       "        vertical-align: middle;\n",
       "    }\n",
       "\n",
       "    .dataframe tbody tr th {\n",
       "        vertical-align: top;\n",
       "    }\n",
       "\n",
       "    .dataframe thead th {\n",
       "        text-align: right;\n",
       "    }\n",
       "</style>\n",
       "<table border=\"1\" class=\"dataframe\">\n",
       "  <thead>\n",
       "    <tr style=\"text-align: right;\">\n",
       "      <th></th>\n",
       "      <th>name</th>\n",
       "      <th>freq</th>\n",
       "    </tr>\n",
       "  </thead>\n",
       "  <tbody>\n",
       "    <tr>\n",
       "      <th>0</th>\n",
       "      <td>BROOKLYN</td>\n",
       "      <td>579363</td>\n",
       "    </tr>\n",
       "    <tr>\n",
       "      <th>1</th>\n",
       "      <td>NEW YORK</td>\n",
       "      <td>385655</td>\n",
       "    </tr>\n",
       "    <tr>\n",
       "      <th>2</th>\n",
       "      <td>BRONX</td>\n",
       "      <td>342533</td>\n",
       "    </tr>\n",
       "    <tr>\n",
       "      <th>3</th>\n",
       "      <td>None</td>\n",
       "      <td>168692</td>\n",
       "    </tr>\n",
       "    <tr>\n",
       "      <th>4</th>\n",
       "      <td>STATEN ISLAND</td>\n",
       "      <td>92509</td>\n",
       "    </tr>\n",
       "    <tr>\n",
       "      <th>5</th>\n",
       "      <td>JAMAICA</td>\n",
       "      <td>46683</td>\n",
       "    </tr>\n",
       "    <tr>\n",
       "      <th>6</th>\n",
       "      <td>FLUSHING</td>\n",
       "      <td>35504</td>\n",
       "    </tr>\n",
       "    <tr>\n",
       "      <th>7</th>\n",
       "      <td>ASTORIA</td>\n",
       "      <td>31873</td>\n",
       "    </tr>\n",
       "    <tr>\n",
       "      <th>8</th>\n",
       "      <td>RIDGEWOOD</td>\n",
       "      <td>21618</td>\n",
       "    </tr>\n",
       "    <tr>\n",
       "      <th>9</th>\n",
       "      <td>WOODSIDE</td>\n",
       "      <td>15932</td>\n",
       "    </tr>\n",
       "  </tbody>\n",
       "</table>\n",
       "</div>"
      ],
      "text/plain": [
       "            name    freq\n",
       "0       BROOKLYN  579363\n",
       "1       NEW YORK  385655\n",
       "2          BRONX  342533\n",
       "3           None  168692\n",
       "4  STATEN ISLAND   92509\n",
       "5        JAMAICA   46683\n",
       "6       FLUSHING   35504\n",
       "7        ASTORIA   31873\n",
       "8      RIDGEWOOD   21618\n",
       "9       WOODSIDE   15932"
      ]
     },
     "execution_count": 29,
     "metadata": {},
     "output_type": "execute_result"
    }
   ],
   "source": [
    "del query # define a new `query` variable, below\n",
    "\n",
    "# Define your `query`, here:\n",
    "\n",
    "query = '''\n",
    "  SELECT UPPER(City) AS name, COUNT(*) AS freq\n",
    "    FROM data\n",
    "    GROUP BY name\n",
    "    ORDER BY -freq\n",
    "    LIMIT 10\n",
    "'''\n",
    "\n",
    "# Runs your `query`:\n",
    "df_whiny_cities = pd.read_sql_query(query, disk_engine)\n",
    "df_whiny_cities"
   ]
  },
  {
   "cell_type": "markdown",
   "metadata": {
    "deletable": false,
    "editable": false,
    "nbgrader": {
     "grade": false,
     "locked": true,
     "solution": false
    }
   },
   "source": [
    "Brooklynites are \"vocal\" about their issues, evidently."
   ]
  },
  {
   "cell_type": "code",
   "execution_count": 30,
   "metadata": {
    "deletable": false,
    "editable": false,
    "nbgrader": {
     "checksum": "134dd8ec7fdcb89fca3685b9a4cc7722",
     "grade": true,
     "grade_id": "whiny_cities__test",
     "locked": true,
     "points": 2,
     "schema_version": 1,
     "solution": false
    },
    "nbpresent": {
     "id": "2cb6a7f7-2e1c-4d88-aef6-ea93a256fc17"
    }
   },
   "outputs": [
    {
     "name": "stdout",
     "output_type": "stream",
     "text": [
      "\n",
      "(Passed partial test.)\n"
     ]
    }
   ],
   "source": [
    "# Test cell: `whiny_cities__test`\n",
    "\n",
    "assert df_whiny_cities['name'][0] == 'BROOKLYN'\n",
    "assert df_whiny_cities['name'][1] == 'NEW YORK'\n",
    "assert df_whiny_cities['name'][2] == 'BRONX'\n",
    "assert df_whiny_cities['name'][3] is None\n",
    "assert df_whiny_cities['name'][4] == 'STATEN ISLAND'\n",
    "\n",
    "print (\"\\n(Passed partial test.)\")"
   ]
  },
  {
   "cell_type": "markdown",
   "metadata": {
    "deletable": false,
    "editable": false,
    "nbgrader": {
     "grade": false,
     "locked": true,
     "solution": false
    },
    "nbpresent": {
     "id": "dc4f178f-e10c-48e3-9b89-e3864b1bd2b9"
    }
   },
   "source": [
    "**Case-insensitive grouping: `COLLATE NOCASE`.** Another way to carry out the preceding query in a case-insensitive way is to add a `COLLATE NOCASE` qualifier to the `GROUP BY` clause.\n",
    "\n",
    "The next example demonstrates this clause. Note that it also filters out the 'None' cases, where the `<>` operator denotes \"not equal to.\" Lastly, this query ensures that the returned city names are uppercase.\n",
    "\n",
    "> The `COLLATE NOCASE` clause modifies the column next to which it appears. So if you are grouping by more than one key and want to be case-insensitive, you need to write, `... GROUP BY ColumnA COLLATE NOCASE, ColumnB COLLATE NOCASE ...`."
   ]
  },
  {
   "cell_type": "code",
   "execution_count": 31,
   "metadata": {
    "deletable": false,
    "editable": false,
    "nbgrader": {
     "grade": false,
     "locked": true,
     "solution": false
    },
    "nbpresent": {
     "id": "224ca27b-cf76-47d5-a914-918d217aa2d4"
    }
   },
   "outputs": [
    {
     "data": {
      "text/html": [
       "<div>\n",
       "<style scoped>\n",
       "    .dataframe tbody tr th:only-of-type {\n",
       "        vertical-align: middle;\n",
       "    }\n",
       "\n",
       "    .dataframe tbody tr th {\n",
       "        vertical-align: top;\n",
       "    }\n",
       "\n",
       "    .dataframe thead th {\n",
       "        text-align: right;\n",
       "    }\n",
       "</style>\n",
       "<table border=\"1\" class=\"dataframe\">\n",
       "  <thead>\n",
       "    <tr style=\"text-align: right;\">\n",
       "      <th></th>\n",
       "      <th>name</th>\n",
       "      <th>freq</th>\n",
       "    </tr>\n",
       "  </thead>\n",
       "  <tbody>\n",
       "    <tr>\n",
       "      <th>0</th>\n",
       "      <td>BROOKLYN</td>\n",
       "      <td>579363</td>\n",
       "    </tr>\n",
       "    <tr>\n",
       "      <th>1</th>\n",
       "      <td>NEW YORK</td>\n",
       "      <td>385655</td>\n",
       "    </tr>\n",
       "    <tr>\n",
       "      <th>2</th>\n",
       "      <td>BRONX</td>\n",
       "      <td>342533</td>\n",
       "    </tr>\n",
       "    <tr>\n",
       "      <th>3</th>\n",
       "      <td>STATEN ISLAND</td>\n",
       "      <td>92509</td>\n",
       "    </tr>\n",
       "    <tr>\n",
       "      <th>4</th>\n",
       "      <td>JAMAICA</td>\n",
       "      <td>46683</td>\n",
       "    </tr>\n",
       "    <tr>\n",
       "      <th>5</th>\n",
       "      <td>FLUSHING</td>\n",
       "      <td>35504</td>\n",
       "    </tr>\n",
       "    <tr>\n",
       "      <th>6</th>\n",
       "      <td>ASTORIA</td>\n",
       "      <td>31873</td>\n",
       "    </tr>\n",
       "    <tr>\n",
       "      <th>7</th>\n",
       "      <td>RIDGEWOOD</td>\n",
       "      <td>21618</td>\n",
       "    </tr>\n",
       "    <tr>\n",
       "      <th>8</th>\n",
       "      <td>WOODSIDE</td>\n",
       "      <td>15932</td>\n",
       "    </tr>\n",
       "    <tr>\n",
       "      <th>9</th>\n",
       "      <td>CORONA</td>\n",
       "      <td>15740</td>\n",
       "    </tr>\n",
       "  </tbody>\n",
       "</table>\n",
       "</div>"
      ],
      "text/plain": [
       "            name    freq\n",
       "0       BROOKLYN  579363\n",
       "1       NEW YORK  385655\n",
       "2          BRONX  342533\n",
       "3  STATEN ISLAND   92509\n",
       "4        JAMAICA   46683\n",
       "5       FLUSHING   35504\n",
       "6        ASTORIA   31873\n",
       "7      RIDGEWOOD   21618\n",
       "8       WOODSIDE   15932\n",
       "9         CORONA   15740"
      ]
     },
     "execution_count": 31,
     "metadata": {},
     "output_type": "execute_result"
    }
   ],
   "source": [
    "query = '''\n",
    "  SELECT UPPER(City) AS name, COUNT(*) AS freq\n",
    "    FROM data\n",
    "    WHERE name <> 'None'\n",
    "    GROUP BY City COLLATE NOCASE\n",
    "    ORDER BY -freq\n",
    "    LIMIT 10\n",
    "'''\n",
    "df_whiny_cities2 = pd.read_sql_query(query, disk_engine)\n",
    "df_whiny_cities2"
   ]
  },
  {
   "cell_type": "markdown",
   "metadata": {
    "deletable": false,
    "editable": false,
    "nbgrader": {
     "grade": false,
     "locked": true,
     "solution": false
    },
    "nbpresent": {
     "id": "806365e8-6902-48d4-b0b8-eef52f8149eb"
    }
   },
   "source": [
    "Lastly, for later use, let's save the names of just the top seven (7) cities by numbers of complaints."
   ]
  },
  {
   "cell_type": "code",
   "execution_count": 32,
   "metadata": {
    "deletable": false,
    "editable": false,
    "nbgrader": {
     "grade": false,
     "locked": true,
     "solution": false
    },
    "nbpresent": {
     "id": "1d631691-ecf6-4b06-b040-ccdef6216d7f"
    }
   },
   "outputs": [
    {
     "data": {
      "text/plain": [
       "['BROOKLYN',\n",
       " 'NEW YORK',\n",
       " 'BRONX',\n",
       " 'STATEN ISLAND',\n",
       " 'JAMAICA',\n",
       " 'FLUSHING',\n",
       " 'ASTORIA']"
      ]
     },
     "execution_count": 32,
     "metadata": {},
     "output_type": "execute_result"
    }
   ],
   "source": [
    "TOP_CITIES = list(df_whiny_cities2.head(7)['name'])\n",
    "TOP_CITIES"
   ]
  },
  {
   "cell_type": "markdown",
   "metadata": {
    "deletable": false,
    "editable": false,
    "nbgrader": {
     "grade": false,
     "locked": true,
     "solution": false
    },
    "nbpresent": {
     "id": "28e3107b-1c28-4cb5-b939-ceb17b2b7797"
    }
   },
   "source": [
    "**Exercise 3** (1 point). Implement a function that takes a list of strings, `str_list`, and returns a single string consisting of each value, `str_list[i]`, enclosed by double-quotes and separated by a comma-space delimiters. For example, if\n",
    "\n",
    "```python\n",
    "   assert str_list == ['a', 'b', 'c', 'd']\n",
    "```\n",
    "\n",
    "then\n",
    "\n",
    "```python\n",
    "   assert strs_to_args(str_list) == '\"a\", \"b\", \"c\", \"d\"'\n",
    "```\n",
    "\n",
    "> **Tip.** Try to avoid manipulating the input `str_list` directly and returning the updated `str_list`. This may result in your function adding `\"\"` to the strings in your list each time the function is used (which will be more than once in this notebook!)"
   ]
  },
  {
   "cell_type": "code",
   "execution_count": 33,
   "metadata": {
    "collapsed": true,
    "deletable": false,
    "nbgrader": {
     "checksum": "7442fc9df222086ca28971e94bfd9f74",
     "grade": false,
     "grade_id": "strs_to_args",
     "locked": false,
     "schema_version": 1,
     "solution": true
    },
    "nbpresent": {
     "id": "c43f2173-4a9f-48c2-8c3f-2a0fafaa8487"
    }
   },
   "outputs": [],
   "source": [
    "def strs_to_args(str_list):\n",
    "    assert type (str_list) is list\n",
    "    assert all ([type (s) is str for s in str_list])\n",
    "    \n",
    "    result = \"\"\n",
    "    \n",
    "    for x in str_list:\n",
    "        result += '\"' + x + '\"' + \", \"\n",
    "    return result.strip(\", \")\n",
    "\n",
    "       \n",
    "    "
   ]
  },
  {
   "cell_type": "code",
   "execution_count": 34,
   "metadata": {
    "deletable": false,
    "editable": false,
    "nbgrader": {
     "checksum": "97d71d1cd959303e8da89843e4a57623",
     "grade": true,
     "grade_id": "strs_to_args__test",
     "locked": true,
     "points": 1,
     "schema_version": 1,
     "solution": false
    },
    "nbpresent": {
     "id": "8e2b525d-2a5e-466f-928a-d41cc00caa49"
    },
    "scrolled": true
   },
   "outputs": [
    {
     "name": "stdout",
     "output_type": "stream",
     "text": [
      "Your solution, applied to TOP_CITIES: \"BROOKLYN\", \"NEW YORK\", \"BRONX\", \"STATEN ISLAND\", \"JAMAICA\", \"FLUSHING\", \"ASTORIA\"\n",
      "\n",
      "(Passed.)\n"
     ]
    }
   ],
   "source": [
    "# Test cell: `strs_to_args__test`\n",
    "\n",
    "print (\"Your solution, applied to TOP_CITIES:\", strs_to_args(TOP_CITIES))\n",
    "\n",
    "TOP_CITIES_as_args = strs_to_args(TOP_CITIES)\n",
    "assert TOP_CITIES_as_args == \\\n",
    "       '\"BROOKLYN\", \"NEW YORK\", \"BRONX\", \"STATEN ISLAND\", \"Jamaica\", \"Flushing\", \"ASTORIA\"'.upper()\n",
    "assert TOP_CITIES == list(df_whiny_cities2.head(7)['name']), \\\n",
    "       \"Does your implementation cause the `TOP_CITIES` variable to change? If so, you need to fix that.\"\n",
    "    \n",
    "print (\"\\n(Passed.)\")"
   ]
  },
  {
   "cell_type": "markdown",
   "metadata": {
    "deletable": false,
    "editable": false,
    "nbgrader": {
     "grade": false,
     "locked": true,
     "solution": false
    },
    "nbpresent": {
     "id": "3286ec81-ea7b-4693-a5d9-84100e1cf922"
    }
   },
   "source": [
    "**Exercise 4** (3 points). Suppose we want to look at the number of complaints by type _and_ by city **for only the top cities**, i.e., those in the list `TOP_CITIES` computed above. Execute an SQL query to produce a tibble named `df_complaints_by_city` with the variables {`complaint_type`, `city_name`, `complaint_count`}.\n",
    "\n",
    "In your output `DataFrame`, convert all city names to uppercase and convert all complaint types to lowercase."
   ]
  },
  {
   "cell_type": "code",
   "execution_count": 35,
   "metadata": {
    "deletable": false,
    "nbgrader": {
     "checksum": "678fce2c1c227a8e94d34045f548da32",
     "grade": false,
     "grade_id": "df_complaints_by_city",
     "locked": false,
     "schema_version": 1,
     "solution": true
    },
    "nbpresent": {
     "id": "2e529060-0407-4e54-871c-e8220c567e7d"
    },
    "scrolled": true
   },
   "outputs": [
    {
     "name": "stdout",
     "output_type": "stream",
     "text": [
      "Found 1042 records.\n"
     ]
    }
   ],
   "source": [
    "query = '''\n",
    "  SELECT UPPER(City) AS city_name, LOWER(ComplaintType) AS complaint_type, COUNT(*) AS complaint_count\n",
    "    FROM data\n",
    "    WHERE city_name in ({})\n",
    "    GROUP BY city_name, complaint_type\n",
    "    ORDER BY city_name, complaint_count\n",
    "'''.format(strs_to_args(TOP_CITIES))\n",
    "\n",
    "df_complaints_by_city = pd.read_sql_query(query, disk_engine)\n",
    "# Previews the results of your query:\n",
    "print(\"Found {} records.\".format(len(df_complaints_by_city)))\n",
    "           "
   ]
  },
  {
   "cell_type": "code",
   "execution_count": 121,
   "metadata": {
    "deletable": false,
    "editable": false,
    "nbgrader": {
     "checksum": "2c60ed9d8fd234544a16c52da1931414",
     "grade": true,
     "grade_id": "df_complaints_by_city__test",
     "locked": true,
     "points": 3,
     "schema_version": 1,
     "solution": false
    },
    "nbpresent": {
     "id": "e025ec55-5163-496d-881d-e35ab0730926"
    }
   },
   "outputs": [
    {
     "name": "stdout",
     "output_type": "stream",
     "text": [
      "Reading instructor's solution...\n",
      "Checking...\n",
      "\n",
      "(Passed.)\n"
     ]
    }
   ],
   "source": [
    "# Test cell: `df_complaints_by_city__test`\n",
    "\n",
    "print(\"Reading instructor's solution...\")\n",
    "if False:\n",
    "    df_complaints_by_city.to_csv(get_path('df_complaints_by_city_soln.csv'), index=False)\n",
    "df_complaints_by_city_soln = pd.read_csv(get_path('df_complaints_by_city_soln.csv'))\n",
    "\n",
    "print(\"Checking...\")\n",
    "assert tibbles_are_equivalent(df_complaints_by_city,\n",
    "                              df_complaints_by_city_soln)\n",
    "\n",
    "print(\"\\n(Passed.)\")\n",
    "del df_complaints_by_city_soln"
   ]
  },
  {
   "cell_type": "markdown",
   "metadata": {
    "deletable": false,
    "editable": false,
    "nbgrader": {
     "grade": false,
     "locked": true,
     "solution": false
    },
    "nbpresent": {
     "id": "6a9f7704-ce8d-421d-8831-e67a1041a54d"
    }
   },
   "source": [
    "Let's use Bokeh to visualize the results as a stacked bar chart."
   ]
  },
  {
   "cell_type": "code",
   "execution_count": 122,
   "metadata": {
    "deletable": false,
    "editable": false,
    "nbgrader": {
     "grade": false,
     "locked": true,
     "solution": false
    },
    "nbpresent": {
     "id": "9ed520ef-1f82-42c9-9cc1-feba81254403"
    }
   },
   "outputs": [
    {
     "name": "stdout",
     "output_type": "stream",
     "text": [
      "Top complaints:\n"
     ]
    },
    {
     "data": {
      "text/html": [
       "<div>\n",
       "<style scoped>\n",
       "    .dataframe tbody tr th:only-of-type {\n",
       "        vertical-align: middle;\n",
       "    }\n",
       "\n",
       "    .dataframe tbody tr th {\n",
       "        vertical-align: top;\n",
       "    }\n",
       "\n",
       "    .dataframe thead th {\n",
       "        text-align: right;\n",
       "    }\n",
       "</style>\n",
       "<table border=\"1\" class=\"dataframe\">\n",
       "  <thead>\n",
       "    <tr style=\"text-align: right;\">\n",
       "      <th></th>\n",
       "      <th>type</th>\n",
       "      <th>freq</th>\n",
       "    </tr>\n",
       "  </thead>\n",
       "  <tbody>\n",
       "    <tr>\n",
       "      <th>0</th>\n",
       "      <td>heat/hot water</td>\n",
       "      <td>241430</td>\n",
       "    </tr>\n",
       "    <tr>\n",
       "      <th>1</th>\n",
       "      <td>street condition</td>\n",
       "      <td>124347</td>\n",
       "    </tr>\n",
       "    <tr>\n",
       "      <th>2</th>\n",
       "      <td>street light condition</td>\n",
       "      <td>98577</td>\n",
       "    </tr>\n",
       "    <tr>\n",
       "      <th>3</th>\n",
       "      <td>blocked driveway</td>\n",
       "      <td>95080</td>\n",
       "    </tr>\n",
       "    <tr>\n",
       "      <th>4</th>\n",
       "      <td>illegal parking</td>\n",
       "      <td>83961</td>\n",
       "    </tr>\n",
       "    <tr>\n",
       "      <th>5</th>\n",
       "      <td>unsanitary condition</td>\n",
       "      <td>81394</td>\n",
       "    </tr>\n",
       "    <tr>\n",
       "      <th>6</th>\n",
       "      <td>paint/plaster</td>\n",
       "      <td>69929</td>\n",
       "    </tr>\n",
       "    <tr>\n",
       "      <th>7</th>\n",
       "      <td>water system</td>\n",
       "      <td>69209</td>\n",
       "    </tr>\n",
       "    <tr>\n",
       "      <th>8</th>\n",
       "      <td>plumbing</td>\n",
       "      <td>60105</td>\n",
       "    </tr>\n",
       "    <tr>\n",
       "      <th>9</th>\n",
       "      <td>noise</td>\n",
       "      <td>54165</td>\n",
       "    </tr>\n",
       "    <tr>\n",
       "      <th>10</th>\n",
       "      <td>noise - street/sidewalk</td>\n",
       "      <td>48436</td>\n",
       "    </tr>\n",
       "    <tr>\n",
       "      <th>11</th>\n",
       "      <td>traffic signal condition</td>\n",
       "      <td>44229</td>\n",
       "    </tr>\n",
       "    <tr>\n",
       "      <th>12</th>\n",
       "      <td>noise - commercial</td>\n",
       "      <td>42422</td>\n",
       "    </tr>\n",
       "    <tr>\n",
       "      <th>13</th>\n",
       "      <td>door/window</td>\n",
       "      <td>39695</td>\n",
       "    </tr>\n",
       "    <tr>\n",
       "      <th>14</th>\n",
       "      <td>water leak</td>\n",
       "      <td>36149</td>\n",
       "    </tr>\n",
       "    <tr>\n",
       "      <th>15</th>\n",
       "      <td>dirty conditions</td>\n",
       "      <td>35122</td>\n",
       "    </tr>\n",
       "    <tr>\n",
       "      <th>16</th>\n",
       "      <td>sewer</td>\n",
       "      <td>33628</td>\n",
       "    </tr>\n",
       "    <tr>\n",
       "      <th>17</th>\n",
       "      <td>sanitation condition</td>\n",
       "      <td>31260</td>\n",
       "    </tr>\n",
       "    <tr>\n",
       "      <th>18</th>\n",
       "      <td>dof literature request</td>\n",
       "      <td>30326</td>\n",
       "    </tr>\n",
       "    <tr>\n",
       "      <th>19</th>\n",
       "      <td>electric</td>\n",
       "      <td>30248</td>\n",
       "    </tr>\n",
       "    <tr>\n",
       "      <th>20</th>\n",
       "      <td>rodent</td>\n",
       "      <td>28454</td>\n",
       "    </tr>\n",
       "    <tr>\n",
       "      <th>21</th>\n",
       "      <td>flooring/stairs</td>\n",
       "      <td>27007</td>\n",
       "    </tr>\n",
       "    <tr>\n",
       "      <th>22</th>\n",
       "      <td>general construction/plumbing</td>\n",
       "      <td>26861</td>\n",
       "    </tr>\n",
       "    <tr>\n",
       "      <th>23</th>\n",
       "      <td>building/use</td>\n",
       "      <td>25807</td>\n",
       "    </tr>\n",
       "    <tr>\n",
       "      <th>24</th>\n",
       "      <td>broken muni meter</td>\n",
       "      <td>25428</td>\n",
       "    </tr>\n",
       "  </tbody>\n",
       "</table>\n",
       "</div>"
      ],
      "text/plain": [
       "                             type    freq\n",
       "0                  heat/hot water  241430\n",
       "1                street condition  124347\n",
       "2          street light condition   98577\n",
       "3                blocked driveway   95080\n",
       "4                 illegal parking   83961\n",
       "5            unsanitary condition   81394\n",
       "6                   paint/plaster   69929\n",
       "7                    water system   69209\n",
       "8                        plumbing   60105\n",
       "9                           noise   54165\n",
       "10        noise - street/sidewalk   48436\n",
       "11       traffic signal condition   44229\n",
       "12             noise - commercial   42422\n",
       "13                    door/window   39695\n",
       "14                     water leak   36149\n",
       "15               dirty conditions   35122\n",
       "16                          sewer   33628\n",
       "17           sanitation condition   31260\n",
       "18         dof literature request   30326\n",
       "19                       electric   30248\n",
       "20                         rodent   28454\n",
       "21                flooring/stairs   27007\n",
       "22  general construction/plumbing   26861\n",
       "23                   building/use   25807\n",
       "24              broken muni meter   25428"
      ]
     },
     "metadata": {},
     "output_type": "display_data"
    }
   ],
   "source": [
    "# Let's consider only the top 25 complaints (by total)\n",
    "top_complaints = df_complaint_freq[:25]\n",
    "print(\"Top complaints:\")\n",
    "display(top_complaints)"
   ]
  },
  {
   "cell_type": "code",
   "execution_count": 129,
   "metadata": {
    "deletable": false,
    "editable": false,
    "nbgrader": {
     "grade": false,
     "locked": true,
     "solution": false
    }
   },
   "outputs": [
    {
     "name": "stdout",
     "output_type": "stream",
     "text": [
      "Data to plot (first few rows):\n"
     ]
    },
    {
     "data": {
      "text/html": [
       "<div>\n",
       "<style scoped>\n",
       "    .dataframe tbody tr th:only-of-type {\n",
       "        vertical-align: middle;\n",
       "    }\n",
       "\n",
       "    .dataframe tbody tr th {\n",
       "        vertical-align: top;\n",
       "    }\n",
       "\n",
       "    .dataframe thead th {\n",
       "        text-align: right;\n",
       "    }\n",
       "</style>\n",
       "<table border=\"1\" class=\"dataframe\">\n",
       "  <thead>\n",
       "    <tr style=\"text-align: right;\">\n",
       "      <th></th>\n",
       "      <th>type</th>\n",
       "      <th>freq</th>\n",
       "      <th>city_name</th>\n",
       "      <th>complaint_type</th>\n",
       "      <th>complaint_count</th>\n",
       "    </tr>\n",
       "  </thead>\n",
       "  <tbody>\n",
       "    <tr>\n",
       "      <th>0</th>\n",
       "      <td>heat/hot water</td>\n",
       "      <td>241430</td>\n",
       "      <td>ASTORIA</td>\n",
       "      <td>heat/hot water</td>\n",
       "      <td>3396.0</td>\n",
       "    </tr>\n",
       "    <tr>\n",
       "      <th>1</th>\n",
       "      <td>heat/hot water</td>\n",
       "      <td>241430</td>\n",
       "      <td>BRONX</td>\n",
       "      <td>heat/hot water</td>\n",
       "      <td>79690.0</td>\n",
       "    </tr>\n",
       "    <tr>\n",
       "      <th>2</th>\n",
       "      <td>heat/hot water</td>\n",
       "      <td>241430</td>\n",
       "      <td>BROOKLYN</td>\n",
       "      <td>heat/hot water</td>\n",
       "      <td>72410.0</td>\n",
       "    </tr>\n",
       "    <tr>\n",
       "      <th>3</th>\n",
       "      <td>heat/hot water</td>\n",
       "      <td>241430</td>\n",
       "      <td>FLUSHING</td>\n",
       "      <td>heat/hot water</td>\n",
       "      <td>2741.0</td>\n",
       "    </tr>\n",
       "    <tr>\n",
       "      <th>4</th>\n",
       "      <td>heat/hot water</td>\n",
       "      <td>241430</td>\n",
       "      <td>JAMAICA</td>\n",
       "      <td>heat/hot water</td>\n",
       "      <td>3376.0</td>\n",
       "    </tr>\n",
       "  </tbody>\n",
       "</table>\n",
       "</div>"
      ],
      "text/plain": [
       "             type    freq city_name  complaint_type  complaint_count\n",
       "0  heat/hot water  241430   ASTORIA  heat/hot water           3396.0\n",
       "1  heat/hot water  241430     BRONX  heat/hot water          79690.0\n",
       "2  heat/hot water  241430  BROOKLYN  heat/hot water          72410.0\n",
       "3  heat/hot water  241430  FLUSHING  heat/hot water           2741.0\n",
       "4  heat/hot water  241430   JAMAICA  heat/hot water           3376.0"
      ]
     },
     "metadata": {},
     "output_type": "display_data"
    },
    {
     "name": "stdout",
     "output_type": "stream",
     "text": [
      "...\n"
     ]
    }
   ],
   "source": [
    "# Plot subset of data corresponding to the top complaints\n",
    "df_plot = top_complaints.merge(df_complaints_by_city,\n",
    "                               left_on=['type'],\n",
    "                               right_on=['complaint_type'],\n",
    "                               how='left')\n",
    "df_plot.dropna(inplace=True)\n",
    "print(\"Data to plot (first few rows):\")\n",
    "display(df_plot.head())\n",
    "print(\"...\")"
   ]
  },
  {
   "cell_type": "code",
   "execution_count": 130,
   "metadata": {
    "deletable": false,
    "editable": false,
    "nbgrader": {
     "grade": false,
     "locked": true,
     "solution": false
    },
    "scrolled": true
   },
   "outputs": [
    {
     "name": "stderr",
     "output_type": "stream",
     "text": [
      "BokehDeprecationWarning: 'legend' keyword is deprecated, use explicit 'legend_label', 'legend_field', or 'legend_group' keywords instead\n",
      "BokehDeprecationWarning: 'legend' keyword is deprecated, use explicit 'legend_label', 'legend_field', or 'legend_group' keywords instead\n",
      "BokehDeprecationWarning: 'legend' keyword is deprecated, use explicit 'legend_label', 'legend_field', or 'legend_group' keywords instead\n",
      "BokehDeprecationWarning: 'legend' keyword is deprecated, use explicit 'legend_label', 'legend_field', or 'legend_group' keywords instead\n",
      "BokehDeprecationWarning: 'legend' keyword is deprecated, use explicit 'legend_label', 'legend_field', or 'legend_group' keywords instead\n",
      "BokehDeprecationWarning: 'legend' keyword is deprecated, use explicit 'legend_label', 'legend_field', or 'legend_group' keywords instead\n",
      "BokehDeprecationWarning: 'legend' keyword is deprecated, use explicit 'legend_label', 'legend_field', or 'legend_group' keywords instead\n"
     ]
    },
    {
     "data": {
      "text/html": [
       "\n",
       "\n",
       "\n",
       "\n",
       "\n",
       "\n",
       "  <div class=\"bk-root\" id=\"ffc0ac29-4047-45d4-9a36-f92ecce2421d\" data-root-id=\"3074\"></div>\n"
      ]
     },
     "metadata": {},
     "output_type": "display_data"
    },
    {
     "data": {
      "application/javascript": [
       "(function(root) {\n",
       "  function embed_document(root) {\n",
       "    \n",
       "  var docs_json = {\"e2754a5f-4f4d-45ac-b778-c3f1b5705342\":{\"roots\":{\"references\":[{\"attributes\":{\"below\":[{\"id\":\"3085\"}],\"center\":[{\"id\":\"3087\"},{\"id\":\"3091\"},{\"id\":\"3123\"}],\"left\":[{\"id\":\"3088\"}],\"plot_height\":400,\"plot_width\":800,\"renderers\":[{\"id\":\"3113\"},{\"id\":\"3128\"},{\"id\":\"3144\"},{\"id\":\"3162\"},{\"id\":\"3182\"},{\"id\":\"3204\"},{\"id\":\"3228\"}],\"title\":{\"id\":\"3075\"},\"toolbar\":{\"id\":\"3101\"},\"x_range\":{\"id\":\"3077\"},\"x_scale\":{\"id\":\"3081\"},\"y_range\":{\"id\":\"3079\"},\"y_scale\":{\"id\":\"3083\"}},\"id\":\"3074\",\"subtype\":\"Figure\",\"type\":\"Plot\"},{\"attributes\":{\"data\":{\"bottom\":{\"__ndarray__\":\"AAAAAICA0kAAAAAAAGKqQAAAAAAACqtAAAAAAABktUAAAAAAgJ7IQAAAAAAAa8FAAAAAAIA+wEAAAAAAAPimQAAAAADgSPRAAAAAAIDIxEAAAAAAACCvQAAAAAAAlLJAAAAAAAAVwkAAAAAAQG/WQAAAAABAz9FAAAAAAAAQu0AAAAAAAFqvQAAAAAAAQK5AAAAAAIDqykAAAAAAgHjCQAAAAAAA7KNAAAAAAICp10AAAAAAgPbFQAAAAACAtMdA\",\"dtype\":\"float64\",\"order\":\"little\",\"shape\":[24]},\"top\":{\"__ndarray__\":\"AAAAACAG6kAAAAAAAMbAQAAAAAAAksVAAAAAAMCa0EAAAAAAwDPaQAAAAADAstNAAAAAAICD0UAAAAAAAD3IQAAAAABA+wJBAAAAAAAW5EAAAAAAgOrRQAAAAADAndFAAAAAAACl1UAAAAAAoA3nQAAAAADAveJAAAAAAAA/z0AAAAAAgBzOQAAAAAAAn8lAAAAAAOCJ50AAAAAAQN7bQAAAAACACs1AAAAAAEDU6UAAAAAAwEXYQAAAAACApd5A\",\"dtype\":\"float64\",\"order\":\"little\",\"shape\":[24]},\"x\":[\"blocked driveway\",\"broken muni meter\",\"building/use\",\"dirty conditions\",\"door/window\",\"electric\",\"flooring/stairs\",\"general construction/plumbing\",\"heat/hot water\",\"illegal parking\",\"noise\",\"noise - commercial\",\"noise - street/sidewalk\",\"paint/plaster\",\"plumbing\",\"rodent\",\"sanitation condition\",\"sewer\",\"street condition\",\"street light condition\",\"traffic signal condition\",\"unsanitary condition\",\"water leak\",\"water system\"]},\"selected\":{\"id\":\"3157\"},\"selection_policy\":{\"id\":\"3156\"}},\"id\":\"3141\",\"type\":\"ColumnDataSource\"},{\"attributes\":{\"bottom\":{\"field\":\"bottom\"},\"fill_alpha\":{\"value\":0.1},\"fill_color\":{\"value\":\"#7570b3\"},\"line_alpha\":{\"value\":0.1},\"line_color\":{\"value\":\"#7570b3\"},\"top\":{\"field\":\"top\"},\"width\":{\"value\":0.25},\"x\":{\"field\":\"x\"}},\"id\":\"3143\",\"type\":\"VBar\"},{\"attributes\":{\"label\":{\"value\":\"BROOKLYN\"},\"renderers\":[{\"id\":\"3144\"}]},\"id\":\"3158\",\"type\":\"LegendItem\"},{\"attributes\":{\"bottom\":{\"field\":\"bottom\"},\"fill_alpha\":{\"value\":0.1},\"fill_color\":{\"value\":\"#66a61e\"},\"line_alpha\":{\"value\":0.1},\"line_color\":{\"value\":\"#66a61e\"},\"top\":{\"field\":\"top\"},\"width\":{\"value\":0.25},\"x\":{\"field\":\"x\"}},\"id\":\"3181\",\"type\":\"VBar\"},{\"attributes\":{},\"id\":\"3119\",\"type\":\"BasicTickFormatter\"},{\"attributes\":{\"source\":{\"id\":\"3141\"}},\"id\":\"3145\",\"type\":\"CDSView\"},{\"attributes\":{\"data_source\":{\"id\":\"3141\"},\"glyph\":{\"id\":\"3142\"},\"hover_glyph\":null,\"muted_glyph\":null,\"nonselection_glyph\":{\"id\":\"3143\"},\"selection_glyph\":null,\"view\":{\"id\":\"3145\"}},\"id\":\"3144\",\"type\":\"GlyphRenderer\"},{\"attributes\":{\"label\":{\"value\":\"JAMAICA\"},\"renderers\":[{\"id\":\"3182\"}]},\"id\":\"3200\",\"type\":\"LegendItem\"},{\"attributes\":{\"active_drag\":\"auto\",\"active_inspect\":\"auto\",\"active_multi\":null,\"active_scroll\":\"auto\",\"active_tap\":\"auto\",\"tools\":[{\"id\":\"3092\"},{\"id\":\"3093\"},{\"id\":\"3094\"},{\"id\":\"3095\"},{\"id\":\"3096\"},{\"id\":\"3097\"},{\"id\":\"3098\"},{\"id\":\"3099\"}]},\"id\":\"3101\",\"type\":\"Toolbar\"},{\"attributes\":{\"text\":\"Distribution of the top 25 complaints among top 7 cities with the most complaints\"},\"id\":\"3075\",\"type\":\"Title\"},{\"attributes\":{},\"id\":\"3157\",\"type\":\"Selection\"},{\"attributes\":{},\"id\":\"3156\",\"type\":\"UnionRenderers\"},{\"attributes\":{},\"id\":\"3121\",\"type\":\"UnionRenderers\"},{\"attributes\":{},\"id\":\"3081\",\"type\":\"CategoricalScale\"},{\"attributes\":{},\"id\":\"3122\",\"type\":\"Selection\"},{\"attributes\":{\"data_source\":{\"id\":\"3110\"},\"glyph\":{\"id\":\"3111\"},\"hover_glyph\":null,\"muted_glyph\":null,\"nonselection_glyph\":{\"id\":\"3112\"},\"selection_glyph\":null,\"view\":{\"id\":\"3114\"}},\"id\":\"3113\",\"type\":\"GlyphRenderer\"},{\"attributes\":{},\"id\":\"3099\",\"type\":\"HelpTool\"},{\"attributes\":{},\"id\":\"3083\",\"type\":\"LinearScale\"},{\"attributes\":{\"data\":{\"bottom\":{\"__ndarray__\":\"AAAAACAG6kAAAAAAAMbAQAAAAAAAksVAAAAAAMCa0EAAAAAAwDPaQAAAAADAstNAAAAAAICD0UAAAAAAAD3IQAAAAABA+wJBAAAAAAAW5EAAAAAAgOrRQAAAAADAndFAAAAAAACl1UAAAAAAoA3nQAAAAADAveJAAAAAAAA/z0AAAAAAgBzOQAAAAAAAn8lAAAAAAOCJ50AAAAAAQN7bQAAAAACACs1AAAAAAEDU6UAAAAAAwEXYQAAAAACApd5A\",\"dtype\":\"float64\",\"order\":\"little\",\"shape\":[24]},\"top\":{\"__ndarray__\":\"AAAAAACw60AAAAAAgPPCQAAAAAAAvcdAAAAAAMBx0UAAAAAAwH7aQAAAAACA6NNAAAAAAECs0UAAAAAAgFbJQAAAAADoUANBAAAAAED/5EAAAAAAwKnSQAAAAADA1NFAAAAAAIDh1UAAAAAAoGPnQAAAAACg/eJAAAAAAACmz0AAAAAAgJvPQAAAAAAABctAAAAAAOA66UAAAAAAQJfdQAAAAAAAQM5AAAAAAAAr6kAAAAAAgKbYQAAAAAAAAeBA\",\"dtype\":\"float64\",\"order\":\"little\",\"shape\":[24]},\"x\":[\"blocked driveway\",\"broken muni meter\",\"building/use\",\"dirty conditions\",\"door/window\",\"electric\",\"flooring/stairs\",\"general construction/plumbing\",\"heat/hot water\",\"illegal parking\",\"noise\",\"noise - commercial\",\"noise - street/sidewalk\",\"paint/plaster\",\"plumbing\",\"rodent\",\"sanitation condition\",\"sewer\",\"street condition\",\"street light condition\",\"traffic signal condition\",\"unsanitary condition\",\"water leak\",\"water system\"]},\"selected\":{\"id\":\"3177\"},\"selection_policy\":{\"id\":\"3176\"}},\"id\":\"3159\",\"type\":\"ColumnDataSource\"},{\"attributes\":{},\"id\":\"3079\",\"type\":\"DataRange1d\"},{\"attributes\":{\"axis\":{\"id\":\"3085\"},\"ticker\":null},\"id\":\"3087\",\"type\":\"Grid\"},{\"attributes\":{\"bottom\":{\"field\":\"bottom\"},\"fill_color\":{\"value\":\"#e7298a\"},\"line_color\":{\"value\":\"#e7298a\"},\"top\":{\"field\":\"top\"},\"width\":{\"value\":0.25},\"x\":{\"field\":\"x\"}},\"id\":\"3160\",\"type\":\"VBar\"},{\"attributes\":{\"callback\":null,\"tooltips\":[[\"y\",\"$y{int}\"]]},\"id\":\"3092\",\"type\":\"HoverTool\"},{\"attributes\":{\"label\":{\"value\":\"ASTORIA\"},\"renderers\":[{\"id\":\"3113\"}]},\"id\":\"3124\",\"type\":\"LegendItem\"},{\"attributes\":{\"bottom\":{\"field\":\"bottom\"},\"fill_alpha\":{\"value\":0.1},\"fill_color\":{\"value\":\"#e7298a\"},\"line_alpha\":{\"value\":0.1},\"line_color\":{\"value\":\"#e7298a\"},\"top\":{\"field\":\"top\"},\"width\":{\"value\":0.25},\"x\":{\"field\":\"x\"}},\"id\":\"3161\",\"type\":\"VBar\"},{\"attributes\":{\"data\":{\"bottom\":{\"__ndarray__\":\"AAAAAACw60AAAAAAgPPCQAAAAAAAvcdAAAAAAMBx0UAAAAAAwH7aQAAAAACA6NNAAAAAAECs0UAAAAAAgFbJQAAAAADoUANBAAAAAED/5EAAAAAAwKnSQAAAAADA1NFAAAAAAIDh1UAAAAAAoGPnQAAAAACg/eJAAAAAAACmz0AAAAAAgJvPQAAAAAAABctAAAAAAOA66UAAAAAAQJfdQAAAAAAAQM5AAAAAAAAr6kAAAAAAgKbYQAAAAAAAAeBA\",\"dtype\":\"float64\",\"order\":\"little\",\"shape\":[24]},\"top\":{\"__ndarray__\":\"AAAAAMBc7UAAAAAAAMfDQAAAAACARMpAAAAAAACS0kAAAAAAACvbQAAAAAAAl9RAAAAAAEAZ0kAAAAAAAJbKQAAAAABougNBAAAAAODD5UAAAAAAAB7TQAAAAACAV9JAAAAAAIA81kAAAAAAwOXnQAAAAAAgoeNAAAAAAIB40EAAAAAAwBPRQAAAAAAAfc9AAAAAAODi6kAAAAAAgADgQAAAAABAItBAAAAAAIDs6kAAAAAAADbZQAAAAADgF+FA\",\"dtype\":\"float64\",\"order\":\"little\",\"shape\":[24]},\"x\":[\"blocked driveway\",\"broken muni meter\",\"building/use\",\"dirty conditions\",\"door/window\",\"electric\",\"flooring/stairs\",\"general construction/plumbing\",\"heat/hot water\",\"illegal parking\",\"noise\",\"noise - commercial\",\"noise - street/sidewalk\",\"paint/plaster\",\"plumbing\",\"rodent\",\"sanitation condition\",\"sewer\",\"street condition\",\"street light condition\",\"traffic signal condition\",\"unsanitary condition\",\"water leak\",\"water system\"]},\"selected\":{\"id\":\"3199\"},\"selection_policy\":{\"id\":\"3198\"}},\"id\":\"3179\",\"type\":\"ColumnDataSource\"},{\"attributes\":{},\"id\":\"3097\",\"type\":\"SaveTool\"},{\"attributes\":{\"data\":{\"top\":{\"__ndarray__\":\"AAAAAAAUqkAAAAAAABiKQAAAAAAAMHtAAAAAAABwgUAAAAAAAPB0QAAAAAAA0HNAAAAAAACAaUAAAAAAAGB7QAAAAAAAiKpAAAAAAAC8lkAAAAAAAPCQQAAAAAAACqBAAAAAAADYgEAAAAAAAKiBQAAAAAAAkIRAAAAAAAAAdkAAAAAAAPB9QAAAAAAAIHpAAAAAAAAUmkAAAAAAAPSXQAAAAAAAaIlAAAAAAACwiEAAAAAAAPByQAAAAAAAUJJA\",\"dtype\":\"float64\",\"order\":\"little\",\"shape\":[24]},\"x\":[\"blocked driveway\",\"broken muni meter\",\"building/use\",\"dirty conditions\",\"door/window\",\"electric\",\"flooring/stairs\",\"general construction/plumbing\",\"heat/hot water\",\"illegal parking\",\"noise\",\"noise - commercial\",\"noise - street/sidewalk\",\"paint/plaster\",\"plumbing\",\"rodent\",\"sanitation condition\",\"sewer\",\"street condition\",\"street light condition\",\"traffic signal condition\",\"unsanitary condition\",\"water leak\",\"water system\"]},\"selected\":{\"id\":\"3122\"},\"selection_policy\":{\"id\":\"3121\"}},\"id\":\"3110\",\"type\":\"ColumnDataSource\"},{\"attributes\":{\"data\":{\"bottom\":{\"__ndarray__\":\"AAAAAAAUqkAAAAAAABiKQAAAAAAAMHtAAAAAAABwgUAAAAAAAPB0QAAAAAAA0HNAAAAAAACAaUAAAAAAAGB7QAAAAAAAiKpAAAAAAAC8lkAAAAAAAPCQQAAAAAAACqBAAAAAAADYgEAAAAAAAKiBQAAAAAAAkIRAAAAAAAAAdkAAAAAAAPB9QAAAAAAAIHpAAAAAAAAUmkAAAAAAAPSXQAAAAAAAaIlAAAAAAACwiEAAAAAAAPByQAAAAAAAUJJA\",\"dtype\":\"float64\",\"order\":\"little\",\"shape\":[24]},\"top\":{\"__ndarray__\":\"AAAAAICA0kAAAAAAAGKqQAAAAAAACqtAAAAAAABktUAAAAAAgJ7IQAAAAAAAa8FAAAAAAIA+wEAAAAAAAPimQAAAAADgSPRAAAAAAIDIxEAAAAAAACCvQAAAAAAAlLJAAAAAAAAVwkAAAAAAQG/WQAAAAABAz9FAAAAAAAAQu0AAAAAAAFqvQAAAAAAAQK5AAAAAAIDqykAAAAAAgHjCQAAAAAAA7KNAAAAAAICp10AAAAAAgPbFQAAAAACAtMdA\",\"dtype\":\"float64\",\"order\":\"little\",\"shape\":[24]},\"x\":[\"blocked driveway\",\"broken muni meter\",\"building/use\",\"dirty conditions\",\"door/window\",\"electric\",\"flooring/stairs\",\"general construction/plumbing\",\"heat/hot water\",\"illegal parking\",\"noise\",\"noise - commercial\",\"noise - street/sidewalk\",\"paint/plaster\",\"plumbing\",\"rodent\",\"sanitation condition\",\"sewer\",\"street condition\",\"street light condition\",\"traffic signal condition\",\"unsanitary condition\",\"water leak\",\"water system\"]},\"selected\":{\"id\":\"3139\"},\"selection_policy\":{\"id\":\"3138\"}},\"id\":\"3125\",\"type\":\"ColumnDataSource\"},{\"attributes\":{},\"id\":\"3093\",\"type\":\"CrosshairTool\"},{\"attributes\":{\"fill_alpha\":{\"value\":0.1},\"fill_color\":{\"value\":\"#1b9e77\"},\"line_alpha\":{\"value\":0.1},\"line_color\":{\"value\":\"#1b9e77\"},\"top\":{\"field\":\"top\"},\"width\":{\"value\":0.25},\"x\":{\"field\":\"x\"}},\"id\":\"3112\",\"type\":\"VBar\"},{\"attributes\":{\"source\":{\"id\":\"3159\"}},\"id\":\"3163\",\"type\":\"CDSView\"},{\"attributes\":{\"bottom\":{\"field\":\"bottom\"},\"fill_color\":{\"value\":\"#d95f02\"},\"line_color\":{\"value\":\"#d95f02\"},\"top\":{\"field\":\"top\"},\"width\":{\"value\":0.25},\"x\":{\"field\":\"x\"}},\"id\":\"3126\",\"type\":\"VBar\"},{\"attributes\":{\"data_source\":{\"id\":\"3159\"},\"glyph\":{\"id\":\"3160\"},\"hover_glyph\":null,\"muted_glyph\":null,\"nonselection_glyph\":{\"id\":\"3161\"},\"selection_glyph\":null,\"view\":{\"id\":\"3163\"}},\"id\":\"3162\",\"type\":\"GlyphRenderer\"},{\"attributes\":{\"overlay\":{\"id\":\"3100\"}},\"id\":\"3095\",\"type\":\"BoxZoomTool\"},{\"attributes\":{\"bottom\":{\"field\":\"bottom\"},\"fill_color\":{\"value\":\"#66a61e\"},\"line_color\":{\"value\":\"#66a61e\"},\"top\":{\"field\":\"top\"},\"width\":{\"value\":0.25},\"x\":{\"field\":\"x\"}},\"id\":\"3180\",\"type\":\"VBar\"},{\"attributes\":{},\"id\":\"3089\",\"type\":\"BasicTicker\"},{\"attributes\":{\"bottom\":{\"field\":\"bottom\"},\"fill_alpha\":{\"value\":0.1},\"fill_color\":{\"value\":\"#d95f02\"},\"line_alpha\":{\"value\":0.1},\"line_color\":{\"value\":\"#d95f02\"},\"top\":{\"field\":\"top\"},\"width\":{\"value\":0.25},\"x\":{\"field\":\"x\"}},\"id\":\"3127\",\"type\":\"VBar\"},{\"attributes\":{\"label\":{\"value\":\"BRONX\"},\"renderers\":[{\"id\":\"3128\"}]},\"id\":\"3140\",\"type\":\"LegendItem\"},{\"attributes\":{},\"id\":\"3177\",\"type\":\"Selection\"},{\"attributes\":{},\"id\":\"3176\",\"type\":\"UnionRenderers\"},{\"attributes\":{\"label\":{\"value\":\"FLUSHING\"},\"renderers\":[{\"id\":\"3162\"}]},\"id\":\"3178\",\"type\":\"LegendItem\"},{\"attributes\":{\"source\":{\"id\":\"3125\"}},\"id\":\"3129\",\"type\":\"CDSView\"},{\"attributes\":{\"data_source\":{\"id\":\"3125\"},\"glyph\":{\"id\":\"3126\"},\"hover_glyph\":null,\"muted_glyph\":null,\"nonselection_glyph\":{\"id\":\"3127\"},\"selection_glyph\":null,\"view\":{\"id\":\"3129\"}},\"id\":\"3128\",\"type\":\"GlyphRenderer\"},{\"attributes\":{\"bottom_units\":\"screen\",\"fill_alpha\":0.5,\"fill_color\":\"lightgrey\",\"left_units\":\"screen\",\"level\":\"overlay\",\"line_alpha\":1.0,\"line_color\":\"black\",\"line_dash\":[4,4],\"line_width\":2,\"right_units\":\"screen\",\"top_units\":\"screen\"},\"id\":\"3100\",\"type\":\"BoxAnnotation\"},{\"attributes\":{},\"id\":\"3139\",\"type\":\"Selection\"},{\"attributes\":{},\"id\":\"3117\",\"type\":\"CategoricalTickFormatter\"},{\"attributes\":{},\"id\":\"3138\",\"type\":\"UnionRenderers\"},{\"attributes\":{},\"id\":\"3096\",\"type\":\"WheelZoomTool\"},{\"attributes\":{\"source\":{\"id\":\"3110\"}},\"id\":\"3114\",\"type\":\"CDSView\"},{\"attributes\":{\"source\":{\"id\":\"3179\"}},\"id\":\"3183\",\"type\":\"CDSView\"},{\"attributes\":{\"factors\":[\"heat/hot water\",\"street condition\",\"street light condition\",\"blocked driveway\",\"illegal parking\",\"unsanitary condition\",\"paint/plaster\",\"water system\",\"plumbing\",\"noise\",\"noise - street/sidewalk\",\"traffic signal condition\",\"noise - commercial\",\"door/window\",\"water leak\",\"dirty conditions\",\"sewer\",\"sanitation condition\",\"dof literature request\",\"electric\",\"rodent\",\"flooring/stairs\",\"general construction/plumbing\",\"building/use\",\"broken muni meter\"]},\"id\":\"3077\",\"type\":\"FactorRange\"},{\"attributes\":{\"data_source\":{\"id\":\"3179\"},\"glyph\":{\"id\":\"3180\"},\"hover_glyph\":null,\"muted_glyph\":null,\"nonselection_glyph\":{\"id\":\"3181\"},\"selection_glyph\":null,\"view\":{\"id\":\"3183\"}},\"id\":\"3182\",\"type\":\"GlyphRenderer\"},{\"attributes\":{\"items\":[{\"id\":\"3124\"},{\"id\":\"3140\"},{\"id\":\"3158\"},{\"id\":\"3178\"},{\"id\":\"3200\"},{\"id\":\"3224\"},{\"id\":\"3250\"}]},\"id\":\"3123\",\"type\":\"Legend\"},{\"attributes\":{},\"id\":\"3199\",\"type\":\"Selection\"},{\"attributes\":{\"formatter\":{\"id\":\"3119\"},\"ticker\":{\"id\":\"3089\"}},\"id\":\"3088\",\"type\":\"LinearAxis\"},{\"attributes\":{},\"id\":\"3198\",\"type\":\"UnionRenderers\"},{\"attributes\":{},\"id\":\"3098\",\"type\":\"ResetTool\"},{\"attributes\":{\"bottom\":{\"field\":\"bottom\"},\"fill_color\":{\"value\":\"#7570b3\"},\"line_color\":{\"value\":\"#7570b3\"},\"top\":{\"field\":\"top\"},\"width\":{\"value\":0.25},\"x\":{\"field\":\"x\"}},\"id\":\"3142\",\"type\":\"VBar\"},{\"attributes\":{\"axis\":{\"id\":\"3088\"},\"dimension\":1,\"ticker\":null},\"id\":\"3091\",\"type\":\"Grid\"},{\"attributes\":{\"fill_color\":{\"value\":\"#1b9e77\"},\"line_color\":{\"value\":\"#1b9e77\"},\"top\":{\"field\":\"top\"},\"width\":{\"value\":0.25},\"x\":{\"field\":\"x\"}},\"id\":\"3111\",\"type\":\"VBar\"},{\"attributes\":{},\"id\":\"3094\",\"type\":\"PanTool\"},{\"attributes\":{\"data\":{\"bottom\":{\"__ndarray__\":\"AAAAAMBc7UAAAAAAAMfDQAAAAACARMpAAAAAAACS0kAAAAAAACvbQAAAAAAAl9RAAAAAAEAZ0kAAAAAAAJbKQAAAAABougNBAAAAAODD5UAAAAAAAB7TQAAAAACAV9JAAAAAAIA81kAAAAAAwOXnQAAAAAAgoeNAAAAAAIB40EAAAAAAwBPRQAAAAAAAfc9AAAAAAODi6kAAAAAAgADgQAAAAABAItBAAAAAAIDs6kAAAAAAADbZQAAAAADgF+FA\",\"dtype\":\"float64\",\"order\":\"little\",\"shape\":[24]},\"top\":{\"__ndarray__\":\"AAAAAICv7kAAAAAAwJ3UQAAAAACA1s1AAAAAAIDK10AAAAAAoFPhQAAAAADAitlAAAAAAEDo10AAAAAAACTUQAAAAAAwggpBAAAAAIBE7EAAAAAA4DnmQAAAAAAAAeJAAAAAACBD5UAAAAAAIOvuQAAAAAAA9+lAAAAAAMAc10AAAAAAwE3UQAAAAAAAG9NAAAAAANAb8kAAAAAA4AbhQAAAAAAAW9FAAAAAAMBC8UAAAAAAAOjfQAAAAAAgMOdA\",\"dtype\":\"float64\",\"order\":\"little\",\"shape\":[24]},\"x\":[\"blocked driveway\",\"broken muni meter\",\"building/use\",\"dirty conditions\",\"door/window\",\"electric\",\"flooring/stairs\",\"general construction/plumbing\",\"heat/hot water\",\"illegal parking\",\"noise\",\"noise - commercial\",\"noise - street/sidewalk\",\"paint/plaster\",\"plumbing\",\"rodent\",\"sanitation condition\",\"sewer\",\"street condition\",\"street light condition\",\"traffic signal condition\",\"unsanitary condition\",\"water leak\",\"water system\"]},\"selected\":{\"id\":\"3223\"},\"selection_policy\":{\"id\":\"3222\"}},\"id\":\"3201\",\"type\":\"ColumnDataSource\"},{\"attributes\":{},\"id\":\"3086\",\"type\":\"CategoricalTicker\"},{\"attributes\":{\"formatter\":{\"id\":\"3117\"},\"major_label_orientation\":0.66,\"ticker\":{\"id\":\"3086\"}},\"id\":\"3085\",\"type\":\"CategoricalAxis\"},{\"attributes\":{\"bottom\":{\"field\":\"bottom\"},\"fill_color\":{\"value\":\"#e6ab02\"},\"line_color\":{\"value\":\"#e6ab02\"},\"top\":{\"field\":\"top\"},\"width\":{\"value\":0.25},\"x\":{\"field\":\"x\"}},\"id\":\"3202\",\"type\":\"VBar\"},{\"attributes\":{\"bottom\":{\"field\":\"bottom\"},\"fill_alpha\":{\"value\":0.1},\"fill_color\":{\"value\":\"#e6ab02\"},\"line_alpha\":{\"value\":0.1},\"line_color\":{\"value\":\"#e6ab02\"},\"top\":{\"field\":\"top\"},\"width\":{\"value\":0.25},\"x\":{\"field\":\"x\"}},\"id\":\"3203\",\"type\":\"VBar\"},{\"attributes\":{},\"id\":\"3249\",\"type\":\"Selection\"},{\"attributes\":{\"source\":{\"id\":\"3201\"}},\"id\":\"3205\",\"type\":\"CDSView\"},{\"attributes\":{\"label\":{\"value\":\"NEW YORK\"},\"renderers\":[{\"id\":\"3204\"}]},\"id\":\"3224\",\"type\":\"LegendItem\"},{\"attributes\":{\"data_source\":{\"id\":\"3201\"},\"glyph\":{\"id\":\"3202\"},\"hover_glyph\":null,\"muted_glyph\":null,\"nonselection_glyph\":{\"id\":\"3203\"},\"selection_glyph\":null,\"view\":{\"id\":\"3205\"}},\"id\":\"3204\",\"type\":\"GlyphRenderer\"},{\"attributes\":{},\"id\":\"3223\",\"type\":\"Selection\"},{\"attributes\":{},\"id\":\"3222\",\"type\":\"UnionRenderers\"},{\"attributes\":{\"data\":{\"bottom\":{\"__ndarray__\":\"AAAAAICv7kAAAAAAwJ3UQAAAAACA1s1AAAAAAIDK10AAAAAAoFPhQAAAAADAitlAAAAAAEDo10AAAAAAACTUQAAAAAAwggpBAAAAAIBE7EAAAAAA4DnmQAAAAAAAAeJAAAAAACBD5UAAAAAAIOvuQAAAAAAA9+lAAAAAAMAc10AAAAAAwE3UQAAAAAAAG9NAAAAAANAb8kAAAAAA4AbhQAAAAAAAW9FAAAAAAMBC8UAAAAAAAOjfQAAAAAAgMOdA\",\"dtype\":\"float64\",\"order\":\"little\",\"shape\":[24]},\"top\":{\"__ndarray__\":\"AAAAAKAA8EAAAAAAQN/UQAAAAAAAa9BAAAAAAACa2kAAAAAAwLHhQAAAAAAAL9pAAAAAAIBv2EAAAAAAwHXVQAAAAABwyQpBAAAAACAe70AAAAAAYPnmQAAAAABgYOJAAAAAAAC15UAAAAAAwGXvQAAAAADAo+pAAAAAAMBu2EAAAAAAwAHXQAAAAABAxdZAAAAAAGA79kAAAAAAgA3kQAAAAABA7tJAAAAAAOC48UAAAAAAwDzgQAAAAAAANepA\",\"dtype\":\"float64\",\"order\":\"little\",\"shape\":[24]},\"x\":[\"blocked driveway\",\"broken muni meter\",\"building/use\",\"dirty conditions\",\"door/window\",\"electric\",\"flooring/stairs\",\"general construction/plumbing\",\"heat/hot water\",\"illegal parking\",\"noise\",\"noise - commercial\",\"noise - street/sidewalk\",\"paint/plaster\",\"plumbing\",\"rodent\",\"sanitation condition\",\"sewer\",\"street condition\",\"street light condition\",\"traffic signal condition\",\"unsanitary condition\",\"water leak\",\"water system\"]},\"selected\":{\"id\":\"3249\"},\"selection_policy\":{\"id\":\"3248\"}},\"id\":\"3225\",\"type\":\"ColumnDataSource\"},{\"attributes\":{\"label\":{\"value\":\"STATEN ISLAND\"},\"renderers\":[{\"id\":\"3228\"}]},\"id\":\"3250\",\"type\":\"LegendItem\"},{\"attributes\":{\"bottom\":{\"field\":\"bottom\"},\"fill_color\":{\"value\":\"#a6761d\"},\"line_color\":{\"value\":\"#a6761d\"},\"top\":{\"field\":\"top\"},\"width\":{\"value\":0.25},\"x\":{\"field\":\"x\"}},\"id\":\"3226\",\"type\":\"VBar\"},{\"attributes\":{\"bottom\":{\"field\":\"bottom\"},\"fill_alpha\":{\"value\":0.1},\"fill_color\":{\"value\":\"#a6761d\"},\"line_alpha\":{\"value\":0.1},\"line_color\":{\"value\":\"#a6761d\"},\"top\":{\"field\":\"top\"},\"width\":{\"value\":0.25},\"x\":{\"field\":\"x\"}},\"id\":\"3227\",\"type\":\"VBar\"},{\"attributes\":{\"source\":{\"id\":\"3225\"}},\"id\":\"3229\",\"type\":\"CDSView\"},{\"attributes\":{\"data_source\":{\"id\":\"3225\"},\"glyph\":{\"id\":\"3226\"},\"hover_glyph\":null,\"muted_glyph\":null,\"nonselection_glyph\":{\"id\":\"3227\"},\"selection_glyph\":null,\"view\":{\"id\":\"3229\"}},\"id\":\"3228\",\"type\":\"GlyphRenderer\"},{\"attributes\":{},\"id\":\"3248\",\"type\":\"UnionRenderers\"}],\"root_ids\":[\"3074\"]},\"title\":\"Bokeh Application\",\"version\":\"2.2.3\"}};\n",
       "  var render_items = [{\"docid\":\"e2754a5f-4f4d-45ac-b778-c3f1b5705342\",\"root_ids\":[\"3074\"],\"roots\":{\"3074\":\"ffc0ac29-4047-45d4-9a36-f92ecce2421d\"}}];\n",
       "  root.Bokeh.embed.embed_items_notebook(docs_json, render_items);\n",
       "\n",
       "  }\n",
       "  if (root.Bokeh !== undefined) {\n",
       "    embed_document(root);\n",
       "  } else {\n",
       "    var attempts = 0;\n",
       "    var timer = setInterval(function(root) {\n",
       "      if (root.Bokeh !== undefined) {\n",
       "        clearInterval(timer);\n",
       "        embed_document(root);\n",
       "      } else {\n",
       "        attempts++;\n",
       "        if (attempts > 100) {\n",
       "          clearInterval(timer);\n",
       "          console.log(\"Bokeh: ERROR: Unable to run BokehJS code because BokehJS library is missing\");\n",
       "        }\n",
       "      }\n",
       "    }, 10, root)\n",
       "  }\n",
       "})(window);"
      ],
      "application/vnd.bokehjs_exec.v0+json": ""
     },
     "metadata": {
      "application/vnd.bokehjs_exec.v0+json": {
       "id": "3074"
      }
     },
     "output_type": "display_data"
    }
   ],
   "source": [
    "# Some code to render a Bokeh stacked bar chart\n",
    "\n",
    "kwargs_figure = {'title': \"Distribution of the top 25 complaints among top 7 cities with the most complaints\",\n",
    "                 'width': 800,\n",
    "                 'height': 400,\n",
    "                 'tools': \"hover,crosshair,pan,box_zoom,wheel_zoom,save,reset,help\"}\n",
    "\n",
    "def plot_complaints_stacked_by_city(df, y='complaint_count'):\n",
    "    p = make_stacked_barchart(df, 'complaint_type', 'city_name', y,\n",
    "                              x_labels=list(top_complaints['type']), bar_labels=TOP_CITIES,\n",
    "                              kwargs_figure=kwargs_figure)\n",
    "    p.xaxis.major_label_orientation = 0.66\n",
    "    from bokeh.models import HoverTool\n",
    "    hover_tool = p.select(dict(type=HoverTool))\n",
    "    hover_tool.tooltips = [(\"y\", \"$y{int}\")]\n",
    "    return p\n",
    "\n",
    "show(plot_complaints_stacked_by_city(df_plot))"
   ]
  },
  {
   "cell_type": "markdown",
   "metadata": {
    "deletable": false,
    "editable": false,
    "nbgrader": {
     "grade": false,
     "locked": true,
     "solution": false
    }
   },
   "source": [
    "**Exercise 5** (2 points). Suppose we want to create a different stacked bar plot that shows, for each complaint type $t$ and city $c$, the fraction of all complaints of type $t$ (across all cities, not just the top ones) that occurred in city $c$. Store your result in a dataframe named `df_plot_fraction`. It should have the same columns as `df_plot`, **except** that the `complaint_count` column should be replaced by one named `complaint_frac`, which holds the fractional values.\n",
    "\n",
    "> **Hint.** Everything you need is already in `df_plot`.\n",
    ">\n",
    "> **Note.** The test cell will create the chart in addition to checking your result. Note that the normalized bars will not necessarily add up to 1; why not?"
   ]
  },
  {
   "cell_type": "code",
   "execution_count": 133,
   "metadata": {
    "deletable": false,
    "nbgrader": {
     "checksum": "f31f52055dbb5923365c3082b1a64e26",
     "grade": false,
     "grade_id": "norm_above",
     "locked": false,
     "schema_version": 1,
     "solution": true
    },
    "nbpresent": {
     "id": "e8ec1c8f-181e-435b-8c52-73efad01e0df"
    }
   },
   "outputs": [
    {
     "data": {
      "text/html": [
       "<div>\n",
       "<style scoped>\n",
       "    .dataframe tbody tr th:only-of-type {\n",
       "        vertical-align: middle;\n",
       "    }\n",
       "\n",
       "    .dataframe tbody tr th {\n",
       "        vertical-align: top;\n",
       "    }\n",
       "\n",
       "    .dataframe thead th {\n",
       "        text-align: right;\n",
       "    }\n",
       "</style>\n",
       "<table border=\"1\" class=\"dataframe\">\n",
       "  <thead>\n",
       "    <tr style=\"text-align: right;\">\n",
       "      <th></th>\n",
       "      <th>type</th>\n",
       "      <th>freq</th>\n",
       "      <th>city_name</th>\n",
       "      <th>complaint_type</th>\n",
       "      <th>complaint_frac</th>\n",
       "    </tr>\n",
       "  </thead>\n",
       "  <tbody>\n",
       "    <tr>\n",
       "      <th>0</th>\n",
       "      <td>heat/hot water</td>\n",
       "      <td>241430</td>\n",
       "      <td>ASTORIA</td>\n",
       "      <td>heat/hot water</td>\n",
       "      <td>0.014066</td>\n",
       "    </tr>\n",
       "    <tr>\n",
       "      <th>1</th>\n",
       "      <td>heat/hot water</td>\n",
       "      <td>241430</td>\n",
       "      <td>BRONX</td>\n",
       "      <td>heat/hot water</td>\n",
       "      <td>0.330075</td>\n",
       "    </tr>\n",
       "    <tr>\n",
       "      <th>2</th>\n",
       "      <td>heat/hot water</td>\n",
       "      <td>241430</td>\n",
       "      <td>BROOKLYN</td>\n",
       "      <td>heat/hot water</td>\n",
       "      <td>0.299921</td>\n",
       "    </tr>\n",
       "    <tr>\n",
       "      <th>3</th>\n",
       "      <td>heat/hot water</td>\n",
       "      <td>241430</td>\n",
       "      <td>FLUSHING</td>\n",
       "      <td>heat/hot water</td>\n",
       "      <td>0.011353</td>\n",
       "    </tr>\n",
       "    <tr>\n",
       "      <th>4</th>\n",
       "      <td>heat/hot water</td>\n",
       "      <td>241430</td>\n",
       "      <td>JAMAICA</td>\n",
       "      <td>heat/hot water</td>\n",
       "      <td>0.013983</td>\n",
       "    </tr>\n",
       "  </tbody>\n",
       "</table>\n",
       "</div>"
      ],
      "text/plain": [
       "             type    freq city_name  complaint_type  complaint_frac\n",
       "0  heat/hot water  241430   ASTORIA  heat/hot water        0.014066\n",
       "1  heat/hot water  241430     BRONX  heat/hot water        0.330075\n",
       "2  heat/hot water  241430  BROOKLYN  heat/hot water        0.299921\n",
       "3  heat/hot water  241430  FLUSHING  heat/hot water        0.011353\n",
       "4  heat/hot water  241430   JAMAICA  heat/hot water        0.013983"
      ]
     },
     "execution_count": 133,
     "metadata": {},
     "output_type": "execute_result"
    }
   ],
   "source": [
    "df_plot_fraction = df_plot.copy()\n",
    "df_plot_fraction['complaint_frac'] = df_plot_fraction['complaint_count']/df_plot_fraction['freq']\n",
    "df_plot_fraction.drop(columns = ['complaint_count'], inplace = True)\n",
    "\n",
    "df_plot_fraction.head()"
   ]
  },
  {
   "cell_type": "code",
   "execution_count": 134,
   "metadata": {
    "deletable": false,
    "editable": false,
    "nbgrader": {
     "grade": true,
     "grade_id": "norm_above_test",
     "locked": true,
     "points": 2,
     "schema_version": 1,
     "solution": false
    },
    "scrolled": true
   },
   "outputs": [
    {
     "name": "stderr",
     "output_type": "stream",
     "text": [
      "BokehDeprecationWarning: 'legend' keyword is deprecated, use explicit 'legend_label', 'legend_field', or 'legend_group' keywords instead\n",
      "BokehDeprecationWarning: 'legend' keyword is deprecated, use explicit 'legend_label', 'legend_field', or 'legend_group' keywords instead\n",
      "BokehDeprecationWarning: 'legend' keyword is deprecated, use explicit 'legend_label', 'legend_field', or 'legend_group' keywords instead\n",
      "BokehDeprecationWarning: 'legend' keyword is deprecated, use explicit 'legend_label', 'legend_field', or 'legend_group' keywords instead\n",
      "BokehDeprecationWarning: 'legend' keyword is deprecated, use explicit 'legend_label', 'legend_field', or 'legend_group' keywords instead\n",
      "BokehDeprecationWarning: 'legend' keyword is deprecated, use explicit 'legend_label', 'legend_field', or 'legend_group' keywords instead\n",
      "BokehDeprecationWarning: 'legend' keyword is deprecated, use explicit 'legend_label', 'legend_field', or 'legend_group' keywords instead\n"
     ]
    },
    {
     "data": {
      "text/html": [
       "\n",
       "\n",
       "\n",
       "\n",
       "\n",
       "\n",
       "  <div class=\"bk-root\" id=\"2d3247af-fe88-408f-bf62-091702fa9132\" data-root-id=\"3974\"></div>\n"
      ]
     },
     "metadata": {},
     "output_type": "display_data"
    },
    {
     "data": {
      "application/javascript": [
       "(function(root) {\n",
       "  function embed_document(root) {\n",
       "    \n",
       "  var docs_json = {\"6f786c15-4020-470e-b4d7-2e5ffb52bfb5\":{\"roots\":{\"references\":[{\"attributes\":{\"below\":[{\"id\":\"3985\"}],\"center\":[{\"id\":\"3987\"},{\"id\":\"3991\"},{\"id\":\"4023\"}],\"left\":[{\"id\":\"3988\"}],\"plot_height\":400,\"plot_width\":800,\"renderers\":[{\"id\":\"4013\"},{\"id\":\"4028\"},{\"id\":\"4044\"},{\"id\":\"4062\"},{\"id\":\"4082\"},{\"id\":\"4104\"},{\"id\":\"4128\"}],\"title\":{\"id\":\"3975\"},\"toolbar\":{\"id\":\"4001\"},\"x_range\":{\"id\":\"3977\"},\"x_scale\":{\"id\":\"3981\"},\"y_range\":{\"id\":\"3979\"},\"y_scale\":{\"id\":\"3983\"}},\"id\":\"3974\",\"subtype\":\"Figure\",\"type\":\"Plot\"},{\"attributes\":{\"data\":{\"bottom\":{\"__ndarray__\":\"AgSeuHmByT/e6yN0zP/AP16SE8WLKsE/ybXarfr0wz9HyyCtrVLUP2vEryx83tI/DXamGZK10z8Co/D7EQW8PwVts6NoBtY/TEa5e+44wD++FK8cX9SyP5ZPGjRZs7w/lg6Gpzx3yD9Cti8/dAbVPwU0c5g3a9M/I10YMmAqzz/keZHhlm7AP3BmhJz0eb0/Szfi2CdfvD9h6BbbNI+4P4Cc7VTjhK0/0gbkFlEN0z/yo4pLoejTPwWr1hVwcsY/\",\"dtype\":\"float64\",\"order\":\"little\",\"shape\":[24]},\"top\":{\"__ndarray__\":\"5ezyegTw4T/ShXGJf53VP2Cg1zl3Y9s/9t12FrP73j9SJUvENaHlP+C21zbeVuU/qPPp6eU/5T9qjgV9ipHdP2Sm6eAonOQ/Ra6crTRb3z9IdUoeW63VPzgGB07tNts/njiyWjZJ3T/sOeI84ZrlPz1Ox4ZEb+Q/g0NIcOD94T+ZLfDEXJDfP9R+vbdC99g/awUbAcXP2D9QaJix/obSP1u3WhsChNU/yNyWGfzL5D+ASUGplADmP4pI7WMhBd0/\",\"dtype\":\"float64\",\"order\":\"little\",\"shape\":[24]},\"x\":[\"blocked driveway\",\"broken muni meter\",\"building/use\",\"dirty conditions\",\"door/window\",\"electric\",\"flooring/stairs\",\"general construction/plumbing\",\"heat/hot water\",\"illegal parking\",\"noise\",\"noise - commercial\",\"noise - street/sidewalk\",\"paint/plaster\",\"plumbing\",\"rodent\",\"sanitation condition\",\"sewer\",\"street condition\",\"street light condition\",\"traffic signal condition\",\"unsanitary condition\",\"water leak\",\"water system\"]},\"selected\":{\"id\":\"4057\"},\"selection_policy\":{\"id\":\"4056\"}},\"id\":\"4041\",\"type\":\"ColumnDataSource\"},{\"attributes\":{\"bottom\":{\"field\":\"bottom\"},\"fill_color\":{\"value\":\"#7570b3\"},\"line_color\":{\"value\":\"#7570b3\"},\"top\":{\"field\":\"top\"},\"width\":{\"value\":0.25},\"x\":{\"field\":\"x\"}},\"id\":\"4042\",\"type\":\"VBar\"},{\"attributes\":{\"bottom\":{\"field\":\"bottom\"},\"fill_alpha\":{\"value\":0.1},\"fill_color\":{\"value\":\"#7570b3\"},\"line_alpha\":{\"value\":0.1},\"line_color\":{\"value\":\"#7570b3\"},\"top\":{\"field\":\"top\"},\"width\":{\"value\":0.25},\"x\":{\"field\":\"x\"}},\"id\":\"4043\",\"type\":\"VBar\"},{\"attributes\":{\"label\":{\"value\":\"BROOKLYN\"},\"renderers\":[{\"id\":\"4044\"}]},\"id\":\"4058\",\"type\":\"LegendItem\"},{\"attributes\":{\"source\":{\"id\":\"4041\"}},\"id\":\"4045\",\"type\":\"CDSView\"},{\"attributes\":{\"data_source\":{\"id\":\"4041\"},\"glyph\":{\"id\":\"4042\"},\"hover_glyph\":null,\"muted_glyph\":null,\"nonselection_glyph\":{\"id\":\"4043\"},\"selection_glyph\":null,\"view\":{\"id\":\"4045\"}},\"id\":\"4044\",\"type\":\"GlyphRenderer\"},{\"attributes\":{\"source\":{\"id\":\"4059\"}},\"id\":\"4063\",\"type\":\"CDSView\"},{\"attributes\":{},\"id\":\"4057\",\"type\":\"Selection\"},{\"attributes\":{},\"id\":\"4056\",\"type\":\"UnionRenderers\"},{\"attributes\":{\"factors\":[\"heat/hot water\",\"street condition\",\"street light condition\",\"blocked driveway\",\"illegal parking\",\"unsanitary condition\",\"paint/plaster\",\"water system\",\"plumbing\",\"noise\",\"noise - street/sidewalk\",\"traffic signal condition\",\"noise - commercial\",\"door/window\",\"water leak\",\"dirty conditions\",\"sewer\",\"sanitation condition\",\"dof literature request\",\"electric\",\"rodent\",\"flooring/stairs\",\"general construction/plumbing\",\"building/use\",\"broken muni meter\"]},\"id\":\"3977\",\"type\":\"FactorRange\"},{\"attributes\":{\"data\":{\"bottom\":{\"__ndarray__\":\"5ezyegTw4T/ShXGJf53VP2Cg1zl3Y9s/9t12FrP73j9SJUvENaHlP+C21zbeVuU/qPPp6eU/5T9qjgV9ipHdP2Sm6eAonOQ/Ra6crTRb3z9IdUoeW63VPzgGB07tNts/njiyWjZJ3T/sOeI84ZrlPz1Ox4ZEb+Q/g0NIcOD94T+ZLfDEXJDfP9R+vbdC99g/awUbAcXP2D9QaJix/obSP1u3WhsChNU/yNyWGfzL5D+ASUGplADmP4pI7WMhBd0/\",\"dtype\":\"float64\",\"order\":\"little\",\"shape\":[24]},\"top\":{\"__ndarray__\":\"sw0UsY8V4z+DKMrU7GvYPzCxpuQqJN4/LQ/HkXBG4D/AuFdCH9/lP9Y635MYkeU/ooFsN1dx5T9QWmwT8ujeP+wh6Twq+eQ/Xf1ftqpj4D+qQkhrwZTWPxF4rOrki9s/cYmHSRKb3T/+uXoseuvlPwVvvhHqtOQ/yRldTi854j+fTHtU65DgPyYlJOsaVNo/e6i88S+Y2j+M5sdBLqzTP4G/2tNOadY/cOI7UNUR5T/nbf0eSFjmP88toJgiT94/\",\"dtype\":\"float64\",\"order\":\"little\",\"shape\":[24]},\"x\":[\"blocked driveway\",\"broken muni meter\",\"building/use\",\"dirty conditions\",\"door/window\",\"electric\",\"flooring/stairs\",\"general construction/plumbing\",\"heat/hot water\",\"illegal parking\",\"noise\",\"noise - commercial\",\"noise - street/sidewalk\",\"paint/plaster\",\"plumbing\",\"rodent\",\"sanitation condition\",\"sewer\",\"street condition\",\"street light condition\",\"traffic signal condition\",\"unsanitary condition\",\"water leak\",\"water system\"]},\"selected\":{\"id\":\"4077\"},\"selection_policy\":{\"id\":\"4076\"}},\"id\":\"4059\",\"type\":\"ColumnDataSource\"},{\"attributes\":{},\"id\":\"3986\",\"type\":\"CategoricalTicker\"},{\"attributes\":{\"data\":{\"bottom\":{\"__ndarray__\":\"sw0UsY8V4z+DKMrU7GvYPzCxpuQqJN4/LQ/HkXBG4D/AuFdCH9/lP9Y635MYkeU/ooFsN1dx5T9QWmwT8ujeP+wh6Twq+eQ/Xf1ftqpj4D+qQkhrwZTWPxF4rOrki9s/cYmHSRKb3T/+uXoseuvlPwVvvhHqtOQ/yRldTi854j+fTHtU65DgPyYlJOsaVNo/e6i88S+Y2j+M5sdBLqzTP4G/2tNOadY/cOI7UNUR5T/nbf0eSFjmP88toJgiT94/\",\"dtype\":\"float64\",\"order\":\"little\",\"shape\":[24]},\"top\":{\"__ndarray__\":\"OfYdNRY95D+in3TweXzZP2ciTOsoreA/+9QexV5T4T9ONI5CUG3mP678fEIiTuY/T6Jjj5f15T/eoDV5WjfgPx24WnK3a+U/nng4nyT94D/lI34DaSHXPycfMW7iVdw/jPoJyDIW3j/kbDd8bWXmP3LJxx0wZ+U/2CPo2cb34j8lA2BLpebhP9TicTzZrt4/FyQyRx5X3D95XQad30bVP0su2s3359c/zEnVNaKt5T9avh04XNrmP/rdnXGkL+A/\",\"dtype\":\"float64\",\"order\":\"little\",\"shape\":[24]},\"x\":[\"blocked driveway\",\"broken muni meter\",\"building/use\",\"dirty conditions\",\"door/window\",\"electric\",\"flooring/stairs\",\"general construction/plumbing\",\"heat/hot water\",\"illegal parking\",\"noise\",\"noise - commercial\",\"noise - street/sidewalk\",\"paint/plaster\",\"plumbing\",\"rodent\",\"sanitation condition\",\"sewer\",\"street condition\",\"street light condition\",\"traffic signal condition\",\"unsanitary condition\",\"water leak\",\"water system\"]},\"selected\":{\"id\":\"4099\"},\"selection_policy\":{\"id\":\"4098\"}},\"id\":\"4079\",\"type\":\"ColumnDataSource\"},{\"attributes\":{\"axis\":{\"id\":\"3985\"},\"ticker\":null},\"id\":\"3987\",\"type\":\"Grid\"},{\"attributes\":{\"bottom\":{\"field\":\"bottom\"},\"fill_color\":{\"value\":\"#66a61e\"},\"line_color\":{\"value\":\"#66a61e\"},\"top\":{\"field\":\"top\"},\"width\":{\"value\":0.25},\"x\":{\"field\":\"x\"}},\"id\":\"4080\",\"type\":\"VBar\"},{\"attributes\":{\"bottom\":{\"field\":\"bottom\"},\"fill_alpha\":{\"value\":0.1},\"fill_color\":{\"value\":\"#66a61e\"},\"line_alpha\":{\"value\":0.1},\"line_color\":{\"value\":\"#66a61e\"},\"top\":{\"field\":\"top\"},\"width\":{\"value\":0.25},\"x\":{\"field\":\"x\"}},\"id\":\"4081\",\"type\":\"VBar\"},{\"attributes\":{\"formatter\":{\"id\":\"4017\"},\"major_label_orientation\":0.66,\"ticker\":{\"id\":\"3986\"}},\"id\":\"3985\",\"type\":\"CategoricalAxis\"},{\"attributes\":{\"label\":{\"value\":\"JAMAICA\"},\"renderers\":[{\"id\":\"4082\"}]},\"id\":\"4100\",\"type\":\"LegendItem\"},{\"attributes\":{\"label\":{\"value\":\"NEW YORK\"},\"renderers\":[{\"id\":\"4104\"}]},\"id\":\"4124\",\"type\":\"LegendItem\"},{\"attributes\":{\"bottom\":{\"field\":\"bottom\"},\"fill_color\":{\"value\":\"#e7298a\"},\"line_color\":{\"value\":\"#e7298a\"},\"top\":{\"field\":\"top\"},\"width\":{\"value\":0.25},\"x\":{\"field\":\"x\"}},\"id\":\"4060\",\"type\":\"VBar\"},{\"attributes\":{\"source\":{\"id\":\"4079\"}},\"id\":\"4083\",\"type\":\"CDSView\"},{\"attributes\":{\"data_source\":{\"id\":\"4079\"},\"glyph\":{\"id\":\"4080\"},\"hover_glyph\":null,\"muted_glyph\":null,\"nonselection_glyph\":{\"id\":\"4081\"},\"selection_glyph\":null,\"view\":{\"id\":\"4083\"}},\"id\":\"4082\",\"type\":\"GlyphRenderer\"},{\"attributes\":{},\"id\":\"4099\",\"type\":\"Selection\"},{\"attributes\":{\"data_source\":{\"id\":\"4059\"},\"glyph\":{\"id\":\"4060\"},\"hover_glyph\":null,\"muted_glyph\":null,\"nonselection_glyph\":{\"id\":\"4061\"},\"selection_glyph\":null,\"view\":{\"id\":\"4063\"}},\"id\":\"4062\",\"type\":\"GlyphRenderer\"},{\"attributes\":{},\"id\":\"4098\",\"type\":\"UnionRenderers\"},{\"attributes\":{},\"id\":\"3983\",\"type\":\"LinearScale\"},{\"attributes\":{\"bottom\":{\"field\":\"bottom\"},\"fill_alpha\":{\"value\":0.1},\"fill_color\":{\"value\":\"#e7298a\"},\"line_alpha\":{\"value\":0.1},\"line_color\":{\"value\":\"#e7298a\"},\"top\":{\"field\":\"top\"},\"width\":{\"value\":0.25},\"x\":{\"field\":\"x\"}},\"id\":\"4061\",\"type\":\"VBar\"},{\"attributes\":{\"data\":{\"bottom\":{\"__ndarray__\":\"OfYdNRY95D+in3TweXzZP2ciTOsoreA/+9QexV5T4T9ONI5CUG3mP678fEIiTuY/T6Jjj5f15T/eoDV5WjfgPx24WnK3a+U/nng4nyT94D/lI34DaSHXPycfMW7iVdw/jPoJyDIW3j/kbDd8bWXmP3LJxx0wZ+U/2CPo2cb34j8lA2BLpebhP9TicTzZrt4/FyQyRx5X3D95XQad30bVP0su2s3359c/zEnVNaKt5T9avh04XNrmP/rdnXGkL+A/\",\"dtype\":\"float64\",\"order\":\"little\",\"shape\":[24]},\"top\":{\"__ndarray__\":\"ystX5JMm5T+RuQA2N5HqPwiYPoZt8eI/fsZQE0sy5j+yhE/KKpvsP3IUqnCAq+s/ooUSosoB7T+alp4A25HoP8XF4kFsyOw/OUHwi3gQ5j9yhCWGXeTqPyLewRNB0Os/DucLgcjE7D/9qBfZ4/nsP/Q8WPucT+w/826uls6d6j8TmQkNfkjlP+oGK/3qneI/lbCcaYcW4z/m0wTtvKPWP1syNA5it9k/ZQH7abDL6z/EUQ7yDOzsP7a0UY8W9eU/\",\"dtype\":\"float64\",\"order\":\"little\",\"shape\":[24]},\"x\":[\"blocked driveway\",\"broken muni meter\",\"building/use\",\"dirty conditions\",\"door/window\",\"electric\",\"flooring/stairs\",\"general construction/plumbing\",\"heat/hot water\",\"illegal parking\",\"noise\",\"noise - commercial\",\"noise - street/sidewalk\",\"paint/plaster\",\"plumbing\",\"rodent\",\"sanitation condition\",\"sewer\",\"street condition\",\"street light condition\",\"traffic signal condition\",\"unsanitary condition\",\"water leak\",\"water system\"]},\"selected\":{\"id\":\"4123\"},\"selection_policy\":{\"id\":\"4122\"}},\"id\":\"4101\",\"type\":\"ColumnDataSource\"},{\"attributes\":{\"bottom\":{\"field\":\"bottom\"},\"fill_color\":{\"value\":\"#e6ab02\"},\"line_color\":{\"value\":\"#e6ab02\"},\"top\":{\"field\":\"top\"},\"width\":{\"value\":0.25},\"x\":{\"field\":\"x\"}},\"id\":\"4102\",\"type\":\"VBar\"},{\"attributes\":{\"bottom\":{\"field\":\"bottom\"},\"fill_alpha\":{\"value\":0.1},\"fill_color\":{\"value\":\"#e6ab02\"},\"line_alpha\":{\"value\":0.1},\"line_color\":{\"value\":\"#e6ab02\"},\"top\":{\"field\":\"top\"},\"width\":{\"value\":0.25},\"x\":{\"field\":\"x\"}},\"id\":\"4103\",\"type\":\"VBar\"},{\"attributes\":{\"bottom\":{\"field\":\"bottom\"},\"fill_color\":{\"value\":\"#a6761d\"},\"line_color\":{\"value\":\"#a6761d\"},\"top\":{\"field\":\"top\"},\"width\":{\"value\":0.25},\"x\":{\"field\":\"x\"}},\"id\":\"4126\",\"type\":\"VBar\"},{\"attributes\":{\"data\":{\"bottom\":{\"__ndarray__\":\"ystX5JMm5T+RuQA2N5HqPwiYPoZt8eI/fsZQE0sy5j+yhE/KKpvsP3IUqnCAq+s/ooUSosoB7T+alp4A25HoP8XF4kFsyOw/OUHwi3gQ5j9yhCWGXeTqPyLewRNB0Os/DucLgcjE7D/9qBfZ4/nsP/Q8WPucT+w/826uls6d6j8TmQkNfkjlP+oGK/3qneI/lbCcaYcW4z/m0wTtvKPWP1syNA5it9k/ZQH7abDL6z/EUQ7yDOzsP7a0UY8W9eU/\",\"dtype\":\"float64\",\"order\":\"little\",\"shape\":[24]},\"top\":{\"__ndarray__\":\"Xi9tH2EP5j9HsmFun+XqPzPgmRiw2OQ/OcAu4ZHR6D+pSCIEkTbtP8ZQa4NvXew/RHw2dOSl7T8+i+ZK4S3qP9hTajLJFe0/tAzBVftJ6D/2hKxCEczrP4FYgVmYY+w/XzBQa9xe7T9HCYrGz2ztP/9Xc//4C+0/8x6YXg0j7D+O2pD23x3oP15qHVYsMOY/tvUxzy1v5z8TWEQDtqnaPwDOpVLlDNw/tHAkF+mJ7D+2bhMo8W/tP7MLLR7y0Og/\",\"dtype\":\"float64\",\"order\":\"little\",\"shape\":[24]},\"x\":[\"blocked driveway\",\"broken muni meter\",\"building/use\",\"dirty conditions\",\"door/window\",\"electric\",\"flooring/stairs\",\"general construction/plumbing\",\"heat/hot water\",\"illegal parking\",\"noise\",\"noise - commercial\",\"noise - street/sidewalk\",\"paint/plaster\",\"plumbing\",\"rodent\",\"sanitation condition\",\"sewer\",\"street condition\",\"street light condition\",\"traffic signal condition\",\"unsanitary condition\",\"water leak\",\"water system\"]},\"selected\":{\"id\":\"4149\"},\"selection_policy\":{\"id\":\"4148\"}},\"id\":\"4125\",\"type\":\"ColumnDataSource\"},{\"attributes\":{\"source\":{\"id\":\"4101\"}},\"id\":\"4105\",\"type\":\"CDSView\"},{\"attributes\":{},\"id\":\"4019\",\"type\":\"BasicTickFormatter\"},{\"attributes\":{\"active_drag\":\"auto\",\"active_inspect\":\"auto\",\"active_multi\":null,\"active_scroll\":\"auto\",\"active_tap\":\"auto\",\"tools\":[{\"id\":\"3992\"},{\"id\":\"3993\"},{\"id\":\"3994\"},{\"id\":\"3995\"},{\"id\":\"3996\"},{\"id\":\"3997\"},{\"id\":\"3998\"},{\"id\":\"3999\"}]},\"id\":\"4001\",\"type\":\"Toolbar\"},{\"attributes\":{\"data_source\":{\"id\":\"4101\"},\"glyph\":{\"id\":\"4102\"},\"hover_glyph\":null,\"muted_glyph\":null,\"nonselection_glyph\":{\"id\":\"4103\"},\"selection_glyph\":null,\"view\":{\"id\":\"4105\"}},\"id\":\"4104\",\"type\":\"GlyphRenderer\"},{\"attributes\":{},\"id\":\"4123\",\"type\":\"Selection\"},{\"attributes\":{},\"id\":\"4122\",\"type\":\"UnionRenderers\"},{\"attributes\":{\"bottom_units\":\"screen\",\"fill_alpha\":0.5,\"fill_color\":\"lightgrey\",\"left_units\":\"screen\",\"level\":\"overlay\",\"line_alpha\":1.0,\"line_color\":\"black\",\"line_dash\":[4,4],\"line_width\":2,\"right_units\":\"screen\",\"top_units\":\"screen\"},\"id\":\"4000\",\"type\":\"BoxAnnotation\"},{\"attributes\":{\"overlay\":{\"id\":\"4000\"}},\"id\":\"3995\",\"type\":\"BoxZoomTool\"},{\"attributes\":{},\"id\":\"4021\",\"type\":\"UnionRenderers\"},{\"attributes\":{},\"id\":\"4022\",\"type\":\"Selection\"},{\"attributes\":{\"text\":\"Distribution of the top 25 complaints among top 7 cities with the most complaints\"},\"id\":\"3975\",\"type\":\"Title\"},{\"attributes\":{\"label\":{\"value\":\"FLUSHING\"},\"renderers\":[{\"id\":\"4062\"}]},\"id\":\"4078\",\"type\":\"LegendItem\"},{\"attributes\":{},\"id\":\"4077\",\"type\":\"Selection\"},{\"attributes\":{\"bottom\":{\"field\":\"bottom\"},\"fill_alpha\":{\"value\":0.1},\"fill_color\":{\"value\":\"#a6761d\"},\"line_alpha\":{\"value\":0.1},\"line_color\":{\"value\":\"#a6761d\"},\"top\":{\"field\":\"top\"},\"width\":{\"value\":0.25},\"x\":{\"field\":\"x\"}},\"id\":\"4127\",\"type\":\"VBar\"},{\"attributes\":{},\"id\":\"4076\",\"type\":\"UnionRenderers\"},{\"attributes\":{\"source\":{\"id\":\"4125\"}},\"id\":\"4129\",\"type\":\"CDSView\"},{\"attributes\":{},\"id\":\"3993\",\"type\":\"CrosshairTool\"},{\"attributes\":{\"label\":{\"value\":\"STATEN ISLAND\"},\"renderers\":[{\"id\":\"4128\"}]},\"id\":\"4150\",\"type\":\"LegendItem\"},{\"attributes\":{\"data_source\":{\"id\":\"4125\"},\"glyph\":{\"id\":\"4126\"},\"hover_glyph\":null,\"muted_glyph\":null,\"nonselection_glyph\":{\"id\":\"4127\"},\"selection_glyph\":null,\"view\":{\"id\":\"4129\"}},\"id\":\"4128\",\"type\":\"GlyphRenderer\"},{\"attributes\":{},\"id\":\"3994\",\"type\":\"PanTool\"},{\"attributes\":{\"label\":{\"value\":\"ASTORIA\"},\"renderers\":[{\"id\":\"4013\"}]},\"id\":\"4024\",\"type\":\"LegendItem\"},{\"attributes\":{\"axis\":{\"id\":\"3988\"},\"dimension\":1,\"ticker\":null},\"id\":\"3991\",\"type\":\"Grid\"},{\"attributes\":{\"data\":{\"bottom\":{\"__ndarray__\":\"fJpsxpT5oT/US5FIHtCgP8igUMCrQpE/oCCSmM5EkD/MwYJjpkiBPzXvlwyOdoU/9U0gUIXwfj8G6sl2kLKQP/TJaey7zow/HQgzV9G+kT8uUUiPRH6UPwKxArMwx6g/8lFMflLKhj/SeqK5DIyAP7+pwrila4Y/MnwOmeJViT/eynk2t2GPPzJBFSr2dIk/T+BFEQ59iz+w//d4W9mPP0l7XJ6g0pI/8J71gazggz+eTXCWkSqBP5UYGtkzV5E/\",\"dtype\":\"float64\",\"order\":\"little\",\"shape\":[24]},\"top\":{\"__ndarray__\":\"AgSeuHmByT/e6yN0zP/AP16SE8WLKsE/ybXarfr0wz9HyyCtrVLUP2vEryx83tI/DXamGZK10z8Co/D7EQW8PwVts6NoBtY/TEa5e+44wD++FK8cX9SyP5ZPGjRZs7w/lg6Gpzx3yD9Cti8/dAbVPwU0c5g3a9M/I10YMmAqzz/keZHhlm7AP3BmhJz0eb0/Szfi2CdfvD9h6BbbNI+4P4Cc7VTjhK0/0gbkFlEN0z/yo4pLoejTPwWr1hVwcsY/\",\"dtype\":\"float64\",\"order\":\"little\",\"shape\":[24]},\"x\":[\"blocked driveway\",\"broken muni meter\",\"building/use\",\"dirty conditions\",\"door/window\",\"electric\",\"flooring/stairs\",\"general construction/plumbing\",\"heat/hot water\",\"illegal parking\",\"noise\",\"noise - commercial\",\"noise - street/sidewalk\",\"paint/plaster\",\"plumbing\",\"rodent\",\"sanitation condition\",\"sewer\",\"street condition\",\"street light condition\",\"traffic signal condition\",\"unsanitary condition\",\"water leak\",\"water system\"]},\"selected\":{\"id\":\"4039\"},\"selection_policy\":{\"id\":\"4038\"}},\"id\":\"4025\",\"type\":\"ColumnDataSource\"},{\"attributes\":{},\"id\":\"3997\",\"type\":\"SaveTool\"},{\"attributes\":{},\"id\":\"4149\",\"type\":\"Selection\"},{\"attributes\":{},\"id\":\"4148\",\"type\":\"UnionRenderers\"},{\"attributes\":{\"bottom\":{\"field\":\"bottom\"},\"fill_color\":{\"value\":\"#d95f02\"},\"line_color\":{\"value\":\"#d95f02\"},\"top\":{\"field\":\"top\"},\"width\":{\"value\":0.25},\"x\":{\"field\":\"x\"}},\"id\":\"4026\",\"type\":\"VBar\"},{\"attributes\":{},\"id\":\"3981\",\"type\":\"CategoricalScale\"},{\"attributes\":{},\"id\":\"3999\",\"type\":\"HelpTool\"},{\"attributes\":{},\"id\":\"3996\",\"type\":\"WheelZoomTool\"},{\"attributes\":{\"data\":{\"top\":{\"__ndarray__\":\"fJpsxpT5oT/US5FIHtCgP8igUMCrQpE/oCCSmM5EkD/MwYJjpkiBPzXvlwyOdoU/9U0gUIXwfj8G6sl2kLKQP/TJaey7zow/HQgzV9G+kT8uUUiPRH6UPwKxArMwx6g/8lFMflLKhj/SeqK5DIyAP7+pwrila4Y/MnwOmeJViT/eynk2t2GPPzJBFSr2dIk/T+BFEQ59iz+w//d4W9mPP0l7XJ6g0pI/8J71gazggz+eTXCWkSqBP5UYGtkzV5E/\",\"dtype\":\"float64\",\"order\":\"little\",\"shape\":[24]},\"x\":[\"blocked driveway\",\"broken muni meter\",\"building/use\",\"dirty conditions\",\"door/window\",\"electric\",\"flooring/stairs\",\"general construction/plumbing\",\"heat/hot water\",\"illegal parking\",\"noise\",\"noise - commercial\",\"noise - street/sidewalk\",\"paint/plaster\",\"plumbing\",\"rodent\",\"sanitation condition\",\"sewer\",\"street condition\",\"street light condition\",\"traffic signal condition\",\"unsanitary condition\",\"water leak\",\"water system\"]},\"selected\":{\"id\":\"4022\"},\"selection_policy\":{\"id\":\"4021\"}},\"id\":\"4010\",\"type\":\"ColumnDataSource\"},{\"attributes\":{\"fill_color\":{\"value\":\"#1b9e77\"},\"line_color\":{\"value\":\"#1b9e77\"},\"top\":{\"field\":\"top\"},\"width\":{\"value\":0.25},\"x\":{\"field\":\"x\"}},\"id\":\"4011\",\"type\":\"VBar\"},{\"attributes\":{\"bottom\":{\"field\":\"bottom\"},\"fill_alpha\":{\"value\":0.1},\"fill_color\":{\"value\":\"#d95f02\"},\"line_alpha\":{\"value\":0.1},\"line_color\":{\"value\":\"#d95f02\"},\"top\":{\"field\":\"top\"},\"width\":{\"value\":0.25},\"x\":{\"field\":\"x\"}},\"id\":\"4027\",\"type\":\"VBar\"},{\"attributes\":{\"label\":{\"value\":\"BRONX\"},\"renderers\":[{\"id\":\"4028\"}]},\"id\":\"4040\",\"type\":\"LegendItem\"},{\"attributes\":{},\"id\":\"3989\",\"type\":\"BasicTicker\"},{\"attributes\":{\"fill_alpha\":{\"value\":0.1},\"fill_color\":{\"value\":\"#1b9e77\"},\"line_alpha\":{\"value\":0.1},\"line_color\":{\"value\":\"#1b9e77\"},\"top\":{\"field\":\"top\"},\"width\":{\"value\":0.25},\"x\":{\"field\":\"x\"}},\"id\":\"4012\",\"type\":\"VBar\"},{\"attributes\":{\"data_source\":{\"id\":\"4010\"},\"glyph\":{\"id\":\"4011\"},\"hover_glyph\":null,\"muted_glyph\":null,\"nonselection_glyph\":{\"id\":\"4012\"},\"selection_glyph\":null,\"view\":{\"id\":\"4014\"}},\"id\":\"4013\",\"type\":\"GlyphRenderer\"},{\"attributes\":{\"source\":{\"id\":\"4025\"}},\"id\":\"4029\",\"type\":\"CDSView\"},{\"attributes\":{\"source\":{\"id\":\"4010\"}},\"id\":\"4014\",\"type\":\"CDSView\"},{\"attributes\":{\"data_source\":{\"id\":\"4025\"},\"glyph\":{\"id\":\"4026\"},\"hover_glyph\":null,\"muted_glyph\":null,\"nonselection_glyph\":{\"id\":\"4027\"},\"selection_glyph\":null,\"view\":{\"id\":\"4029\"}},\"id\":\"4028\",\"type\":\"GlyphRenderer\"},{\"attributes\":{\"items\":[{\"id\":\"4024\"},{\"id\":\"4040\"},{\"id\":\"4058\"},{\"id\":\"4078\"},{\"id\":\"4100\"},{\"id\":\"4124\"},{\"id\":\"4150\"}]},\"id\":\"4023\",\"type\":\"Legend\"},{\"attributes\":{},\"id\":\"3998\",\"type\":\"ResetTool\"},{\"attributes\":{\"callback\":null,\"tooltips\":[[\"y\",\"$y{int}\"]]},\"id\":\"3992\",\"type\":\"HoverTool\"},{\"attributes\":{},\"id\":\"4017\",\"type\":\"CategoricalTickFormatter\"},{\"attributes\":{},\"id\":\"4039\",\"type\":\"Selection\"},{\"attributes\":{},\"id\":\"4038\",\"type\":\"UnionRenderers\"},{\"attributes\":{\"formatter\":{\"id\":\"4019\"},\"ticker\":{\"id\":\"3989\"}},\"id\":\"3988\",\"type\":\"LinearAxis\"},{\"attributes\":{},\"id\":\"3979\",\"type\":\"DataRange1d\"}],\"root_ids\":[\"3974\"]},\"title\":\"Bokeh Application\",\"version\":\"2.2.3\"}};\n",
       "  var render_items = [{\"docid\":\"6f786c15-4020-470e-b4d7-2e5ffb52bfb5\",\"root_ids\":[\"3974\"],\"roots\":{\"3974\":\"2d3247af-fe88-408f-bf62-091702fa9132\"}}];\n",
       "  root.Bokeh.embed.embed_items_notebook(docs_json, render_items);\n",
       "\n",
       "  }\n",
       "  if (root.Bokeh !== undefined) {\n",
       "    embed_document(root);\n",
       "  } else {\n",
       "    var attempts = 0;\n",
       "    var timer = setInterval(function(root) {\n",
       "      if (root.Bokeh !== undefined) {\n",
       "        clearInterval(timer);\n",
       "        embed_document(root);\n",
       "      } else {\n",
       "        attempts++;\n",
       "        if (attempts > 100) {\n",
       "          clearInterval(timer);\n",
       "          console.log(\"Bokeh: ERROR: Unable to run BokehJS code because BokehJS library is missing\");\n",
       "        }\n",
       "      }\n",
       "    }, 10, root)\n",
       "  }\n",
       "})(window);"
      ],
      "application/vnd.bokehjs_exec.v0+json": ""
     },
     "metadata": {
      "application/vnd.bokehjs_exec.v0+json": {
       "id": "3974"
      }
     },
     "output_type": "display_data"
    },
    {
     "name": "stdout",
     "output_type": "stream",
     "text": [
      "\n",
      "(Passed!)\n"
     ]
    }
   ],
   "source": [
    "# Test cell: `norm_above_test`\n",
    "\n",
    "df_plot_stacked_fraction = cast(df_plot_fraction, key='city_name', value='complaint_frac')\n",
    "\n",
    "\n",
    "if False:\n",
    "    df_plot_stacked_fraction.to_csv(get_path('df_plot_stacked_fraction_soln.csv'), index=False)\n",
    "\n",
    "show(plot_complaints_stacked_by_city(df_plot_fraction, y='complaint_frac'))\n",
    "\n",
    "def all_tol(x, tol=1e-14):\n",
    "    return all([abs(i) <= tol for i in x])\n",
    "\n",
    "df_plot_fraction_soln = canonicalize_tibble(pd.read_csv(get_path('df_plot_stacked_fraction_soln.csv')))\n",
    "df_plot_fraction_yours = canonicalize_tibble(df_plot_stacked_fraction)\n",
    "\n",
    "nonfloat_cols = df_plot_stacked_fraction.columns.difference(TOP_CITIES)\n",
    "assert tibbles_are_equivalent(df_plot_fraction_yours[nonfloat_cols],\n",
    "                              df_plot_fraction_soln[nonfloat_cols])\n",
    "for c in TOP_CITIES:\n",
    "    assert all(abs(df_plot_fraction_yours[c] - df_plot_fraction_soln[c]) <= 1e-13), \\\n",
    "           \"Fractions for city {} do not match the values we are expecting.\".format(c)\n",
    "\n",
    "print(\"\\n(Passed!)\")"
   ]
  },
  {
   "cell_type": "markdown",
   "metadata": {
    "deletable": false,
    "editable": false,
    "nbgrader": {
     "grade": false,
     "locked": true,
     "solution": false
    },
    "nbpresent": {
     "id": "7bf18d88-66cb-449d-8590-a49337d7a7ab"
    }
   },
   "source": [
    "## Dates and times in SQL\n",
    "\n",
    "Recall that the input data had a column with timestamps corresponding to when someone submitted a complaint. Let's quickly summarize some of the features in SQL and Python for reasoning about these timestamps."
   ]
  },
  {
   "cell_type": "markdown",
   "metadata": {
    "deletable": false,
    "editable": false,
    "nbgrader": {
     "grade": false,
     "locked": true,
     "solution": false
    },
    "nbpresent": {
     "id": "37eacdc8-84ad-4d67-8408-9884b7854dbd"
    }
   },
   "source": [
    "The `CreatedDate` column is actually a specially formatted date and time stamp, where you can query against by comparing to strings of the form, `YYYY-MM-DD hh:mm:ss`.\n",
    "\n",
    "For example, let's look for all complaints on September 15, 2015."
   ]
  },
  {
   "cell_type": "code",
   "execution_count": 135,
   "metadata": {
    "deletable": false,
    "editable": false,
    "nbgrader": {
     "grade": false,
     "locked": true,
     "solution": false
    },
    "nbpresent": {
     "id": "cc53c4a5-e993-45ac-8714-a68df87625cd"
    }
   },
   "outputs": [
    {
     "data": {
      "text/html": [
       "<div>\n",
       "<style scoped>\n",
       "    .dataframe tbody tr th:only-of-type {\n",
       "        vertical-align: middle;\n",
       "    }\n",
       "\n",
       "    .dataframe tbody tr th {\n",
       "        vertical-align: top;\n",
       "    }\n",
       "\n",
       "    .dataframe thead th {\n",
       "        text-align: right;\n",
       "    }\n",
       "</style>\n",
       "<table border=\"1\" class=\"dataframe\">\n",
       "  <thead>\n",
       "    <tr style=\"text-align: right;\">\n",
       "      <th></th>\n",
       "      <th>LOWER(ComplaintType)</th>\n",
       "      <th>CreatedDate</th>\n",
       "      <th>UPPER(City)</th>\n",
       "    </tr>\n",
       "  </thead>\n",
       "  <tbody>\n",
       "    <tr>\n",
       "      <th>0</th>\n",
       "      <td>illegal parking</td>\n",
       "      <td>2015-09-15 00:01:23.000000</td>\n",
       "      <td>None</td>\n",
       "    </tr>\n",
       "    <tr>\n",
       "      <th>1</th>\n",
       "      <td>blocked driveway</td>\n",
       "      <td>2015-09-15 00:02:29.000000</td>\n",
       "      <td>REGO PARK</td>\n",
       "    </tr>\n",
       "    <tr>\n",
       "      <th>2</th>\n",
       "      <td>taxi complaint</td>\n",
       "      <td>2015-09-15 00:02:34.000000</td>\n",
       "      <td>NEW YORK</td>\n",
       "    </tr>\n",
       "    <tr>\n",
       "      <th>3</th>\n",
       "      <td>opinion for the mayor</td>\n",
       "      <td>2015-09-15 00:03:07.000000</td>\n",
       "      <td>None</td>\n",
       "    </tr>\n",
       "    <tr>\n",
       "      <th>4</th>\n",
       "      <td>opinion for the mayor</td>\n",
       "      <td>2015-09-15 00:03:07.000000</td>\n",
       "      <td>None</td>\n",
       "    </tr>\n",
       "    <tr>\n",
       "      <th>...</th>\n",
       "      <td>...</td>\n",
       "      <td>...</td>\n",
       "      <td>...</td>\n",
       "    </tr>\n",
       "    <tr>\n",
       "      <th>113</th>\n",
       "      <td>homeless person assistance</td>\n",
       "      <td>2015-09-15 02:08:01.000000</td>\n",
       "      <td>NEW YORK</td>\n",
       "    </tr>\n",
       "    <tr>\n",
       "      <th>114</th>\n",
       "      <td>noise - commercial</td>\n",
       "      <td>2015-09-15 02:09:46.000000</td>\n",
       "      <td>BRONX</td>\n",
       "    </tr>\n",
       "    <tr>\n",
       "      <th>115</th>\n",
       "      <td>noise - street/sidewalk</td>\n",
       "      <td>2015-09-15 02:11:19.000000</td>\n",
       "      <td>NEW YORK</td>\n",
       "    </tr>\n",
       "    <tr>\n",
       "      <th>116</th>\n",
       "      <td>noise - street/sidewalk</td>\n",
       "      <td>2015-09-15 02:12:49.000000</td>\n",
       "      <td>NEW YORK</td>\n",
       "    </tr>\n",
       "    <tr>\n",
       "      <th>117</th>\n",
       "      <td>illegal parking</td>\n",
       "      <td>2015-09-15 02:14:04.000000</td>\n",
       "      <td>None</td>\n",
       "    </tr>\n",
       "  </tbody>\n",
       "</table>\n",
       "<p>118 rows × 3 columns</p>\n",
       "</div>"
      ],
      "text/plain": [
       "           LOWER(ComplaintType)                 CreatedDate UPPER(City)\n",
       "0               illegal parking  2015-09-15 00:01:23.000000        None\n",
       "1              blocked driveway  2015-09-15 00:02:29.000000   REGO PARK\n",
       "2                taxi complaint  2015-09-15 00:02:34.000000    NEW YORK\n",
       "3         opinion for the mayor  2015-09-15 00:03:07.000000        None\n",
       "4         opinion for the mayor  2015-09-15 00:03:07.000000        None\n",
       "..                          ...                         ...         ...\n",
       "113  homeless person assistance  2015-09-15 02:08:01.000000    NEW YORK\n",
       "114          noise - commercial  2015-09-15 02:09:46.000000       BRONX\n",
       "115     noise - street/sidewalk  2015-09-15 02:11:19.000000    NEW YORK\n",
       "116     noise - street/sidewalk  2015-09-15 02:12:49.000000    NEW YORK\n",
       "117             illegal parking  2015-09-15 02:14:04.000000        None\n",
       "\n",
       "[118 rows x 3 columns]"
      ]
     },
     "execution_count": 135,
     "metadata": {},
     "output_type": "execute_result"
    }
   ],
   "source": [
    "query = '''\n",
    "  SELECT LOWER(ComplaintType), CreatedDate, UPPER(City)\n",
    "    from data\n",
    "    where CreatedDate >= \"2015-09-15 00:00:00.0\"\n",
    "      and CreatedDate < \"2015-09-16 00:00:00.0\"\n",
    "    order by CreatedDate\n",
    "'''\n",
    "df = pd.read_sql_query (query, disk_engine)\n",
    "df"
   ]
  },
  {
   "cell_type": "markdown",
   "metadata": {
    "deletable": false,
    "editable": false,
    "nbgrader": {
     "grade": false,
     "locked": true,
     "solution": false
    },
    "nbpresent": {
     "id": "0d24847f-3ca6-4458-ac02-8fcb70d382e0"
    }
   },
   "source": [
    "This next example shows how to extract just the hour from the time stamp, using SQL's `strftime()`."
   ]
  },
  {
   "cell_type": "code",
   "execution_count": 136,
   "metadata": {
    "deletable": false,
    "editable": false,
    "nbgrader": {
     "grade": false,
     "locked": true,
     "solution": false
    },
    "nbpresent": {
     "id": "53acb2a8-c0d6-4f11-8512-5de7404fef2a"
    }
   },
   "outputs": [
    {
     "data": {
      "text/html": [
       "<div>\n",
       "<style scoped>\n",
       "    .dataframe tbody tr th:only-of-type {\n",
       "        vertical-align: middle;\n",
       "    }\n",
       "\n",
       "    .dataframe tbody tr th {\n",
       "        vertical-align: top;\n",
       "    }\n",
       "\n",
       "    .dataframe thead th {\n",
       "        text-align: right;\n",
       "    }\n",
       "</style>\n",
       "<table border=\"1\" class=\"dataframe\">\n",
       "  <thead>\n",
       "    <tr style=\"text-align: right;\">\n",
       "      <th></th>\n",
       "      <th>CreatedDate</th>\n",
       "      <th>Hour</th>\n",
       "      <th>LOWER(ComplaintType)</th>\n",
       "    </tr>\n",
       "  </thead>\n",
       "  <tbody>\n",
       "    <tr>\n",
       "      <th>0</th>\n",
       "      <td>2015-09-15 02:14:04.000000</td>\n",
       "      <td>02</td>\n",
       "      <td>illegal parking</td>\n",
       "    </tr>\n",
       "    <tr>\n",
       "      <th>1</th>\n",
       "      <td>2015-09-15 02:12:49.000000</td>\n",
       "      <td>02</td>\n",
       "      <td>noise - street/sidewalk</td>\n",
       "    </tr>\n",
       "    <tr>\n",
       "      <th>2</th>\n",
       "      <td>2015-09-15 02:11:19.000000</td>\n",
       "      <td>02</td>\n",
       "      <td>noise - street/sidewalk</td>\n",
       "    </tr>\n",
       "    <tr>\n",
       "      <th>3</th>\n",
       "      <td>2015-09-15 02:09:46.000000</td>\n",
       "      <td>02</td>\n",
       "      <td>noise - commercial</td>\n",
       "    </tr>\n",
       "    <tr>\n",
       "      <th>4</th>\n",
       "      <td>2015-09-15 02:08:01.000000</td>\n",
       "      <td>02</td>\n",
       "      <td>homeless person assistance</td>\n",
       "    </tr>\n",
       "  </tbody>\n",
       "</table>\n",
       "</div>"
      ],
      "text/plain": [
       "                  CreatedDate Hour        LOWER(ComplaintType)\n",
       "0  2015-09-15 02:14:04.000000   02             illegal parking\n",
       "1  2015-09-15 02:12:49.000000   02     noise - street/sidewalk\n",
       "2  2015-09-15 02:11:19.000000   02     noise - street/sidewalk\n",
       "3  2015-09-15 02:09:46.000000   02          noise - commercial\n",
       "4  2015-09-15 02:08:01.000000   02  homeless person assistance"
      ]
     },
     "execution_count": 136,
     "metadata": {},
     "output_type": "execute_result"
    }
   ],
   "source": [
    "query = '''\n",
    "  SELECT CreatedDate, STRFTIME('%H', CreatedDate) AS Hour, LOWER(ComplaintType)\n",
    "    FROM data\n",
    "    LIMIT 5\n",
    "'''\n",
    "df = pd.read_sql_query (query, disk_engine)\n",
    "df"
   ]
  },
  {
   "cell_type": "markdown",
   "metadata": {
    "deletable": false,
    "editable": false,
    "nbgrader": {
     "grade": false,
     "locked": true,
     "solution": false
    },
    "nbpresent": {
     "id": "44ed4db0-df35-4547-93aa-5680ad1d5cdf"
    }
   },
   "source": [
    "**Exercise 6** (3 points). Construct a tibble called `df_complaints_by_hour`, which contains the total number of complaints during a given hour of the day. That is, the variables or column names should be {`hour`, `count`} where each observation is the total number of complaints (`count`) that occurred during a given `hour`.\n",
    "\n",
    "> Interpret `hour` as follows: when `hour` is `02`, that corresponds to the open time interval [`02:00:00`, `03:00:00.0`)."
   ]
  },
  {
   "cell_type": "code",
   "execution_count": 39,
   "metadata": {
    "deletable": false,
    "nbgrader": {
     "checksum": "0973d1f3d797d1b39d338d2c73905626",
     "grade": false,
     "grade_id": "df_complaints_by_hour",
     "locked": false,
     "schema_version": 1,
     "solution": true
    },
    "nbpresent": {
     "id": "eb10399f-fc01-4283-b1e5-1817de4b7539"
    }
   },
   "outputs": [
    {
     "data": {
      "text/html": [
       "<div>\n",
       "<style scoped>\n",
       "    .dataframe tbody tr th:only-of-type {\n",
       "        vertical-align: middle;\n",
       "    }\n",
       "\n",
       "    .dataframe tbody tr th {\n",
       "        vertical-align: top;\n",
       "    }\n",
       "\n",
       "    .dataframe thead th {\n",
       "        text-align: right;\n",
       "    }\n",
       "</style>\n",
       "<table border=\"1\" class=\"dataframe\">\n",
       "  <thead>\n",
       "    <tr style=\"text-align: right;\">\n",
       "      <th></th>\n",
       "      <th>hour</th>\n",
       "      <th>count</th>\n",
       "    </tr>\n",
       "  </thead>\n",
       "  <tbody>\n",
       "    <tr>\n",
       "      <th>0</th>\n",
       "      <td>00</td>\n",
       "      <td>564703</td>\n",
       "    </tr>\n",
       "    <tr>\n",
       "      <th>1</th>\n",
       "      <td>01</td>\n",
       "      <td>23489</td>\n",
       "    </tr>\n",
       "    <tr>\n",
       "      <th>2</th>\n",
       "      <td>02</td>\n",
       "      <td>15226</td>\n",
       "    </tr>\n",
       "    <tr>\n",
       "      <th>3</th>\n",
       "      <td>03</td>\n",
       "      <td>10164</td>\n",
       "    </tr>\n",
       "    <tr>\n",
       "      <th>4</th>\n",
       "      <td>04</td>\n",
       "      <td>8692</td>\n",
       "    </tr>\n",
       "    <tr>\n",
       "      <th>5</th>\n",
       "      <td>05</td>\n",
       "      <td>10224</td>\n",
       "    </tr>\n",
       "    <tr>\n",
       "      <th>6</th>\n",
       "      <td>06</td>\n",
       "      <td>23051</td>\n",
       "    </tr>\n",
       "    <tr>\n",
       "      <th>7</th>\n",
       "      <td>07</td>\n",
       "      <td>42273</td>\n",
       "    </tr>\n",
       "    <tr>\n",
       "      <th>8</th>\n",
       "      <td>08</td>\n",
       "      <td>73811</td>\n",
       "    </tr>\n",
       "    <tr>\n",
       "      <th>9</th>\n",
       "      <td>09</td>\n",
       "      <td>100077</td>\n",
       "    </tr>\n",
       "    <tr>\n",
       "      <th>10</th>\n",
       "      <td>10</td>\n",
       "      <td>114079</td>\n",
       "    </tr>\n",
       "    <tr>\n",
       "      <th>11</th>\n",
       "      <td>11</td>\n",
       "      <td>115849</td>\n",
       "    </tr>\n",
       "    <tr>\n",
       "      <th>12</th>\n",
       "      <td>12</td>\n",
       "      <td>102392</td>\n",
       "    </tr>\n",
       "    <tr>\n",
       "      <th>13</th>\n",
       "      <td>13</td>\n",
       "      <td>100970</td>\n",
       "    </tr>\n",
       "    <tr>\n",
       "      <th>14</th>\n",
       "      <td>14</td>\n",
       "      <td>105425</td>\n",
       "    </tr>\n",
       "    <tr>\n",
       "      <th>15</th>\n",
       "      <td>15</td>\n",
       "      <td>100271</td>\n",
       "    </tr>\n",
       "    <tr>\n",
       "      <th>16</th>\n",
       "      <td>16</td>\n",
       "      <td>86968</td>\n",
       "    </tr>\n",
       "    <tr>\n",
       "      <th>17</th>\n",
       "      <td>17</td>\n",
       "      <td>69920</td>\n",
       "    </tr>\n",
       "    <tr>\n",
       "      <th>18</th>\n",
       "      <td>18</td>\n",
       "      <td>67467</td>\n",
       "    </tr>\n",
       "    <tr>\n",
       "      <th>19</th>\n",
       "      <td>19</td>\n",
       "      <td>57637</td>\n",
       "    </tr>\n",
       "    <tr>\n",
       "      <th>20</th>\n",
       "      <td>20</td>\n",
       "      <td>54997</td>\n",
       "    </tr>\n",
       "    <tr>\n",
       "      <th>21</th>\n",
       "      <td>21</td>\n",
       "      <td>53126</td>\n",
       "    </tr>\n",
       "    <tr>\n",
       "      <th>22</th>\n",
       "      <td>22</td>\n",
       "      <td>52076</td>\n",
       "    </tr>\n",
       "    <tr>\n",
       "      <th>23</th>\n",
       "      <td>23</td>\n",
       "      <td>47113</td>\n",
       "    </tr>\n",
       "  </tbody>\n",
       "</table>\n",
       "</div>"
      ],
      "text/plain": [
       "   hour   count\n",
       "0    00  564703\n",
       "1    01   23489\n",
       "2    02   15226\n",
       "3    03   10164\n",
       "4    04    8692\n",
       "5    05   10224\n",
       "6    06   23051\n",
       "7    07   42273\n",
       "8    08   73811\n",
       "9    09  100077\n",
       "10   10  114079\n",
       "11   11  115849\n",
       "12   12  102392\n",
       "13   13  100970\n",
       "14   14  105425\n",
       "15   15  100271\n",
       "16   16   86968\n",
       "17   17   69920\n",
       "18   18   67467\n",
       "19   19   57637\n",
       "20   20   54997\n",
       "21   21   53126\n",
       "22   22   52076\n",
       "23   23   47113"
      ]
     },
     "metadata": {},
     "output_type": "display_data"
    }
   ],
   "source": [
    "query = '''\n",
    "    SELECT STRFTIME('%H', CreatedDate) AS hour, Count (*) AS count\n",
    "    FROM data\n",
    "    GROUP BY hour\n",
    "'''\n",
    "df_complaints_by_hour = pd.read_sql_query (query, disk_engine)\n",
    "\n",
    "# Displays your answer:\n",
    "display(df_complaints_by_hour)"
   ]
  },
  {
   "cell_type": "code",
   "execution_count": null,
   "metadata": {
    "deletable": false,
    "editable": false,
    "nbgrader": {
     "checksum": "393bdbc3a48e5291e1339710c16ed86a",
     "grade": true,
     "grade_id": "df_complaints_by_hour_test",
     "locked": true,
     "points": 3,
     "schema_version": 1,
     "solution": false
    },
    "nbpresent": {
     "id": "24e3056d-62c6-4a24-9f3f-b76201cf8754"
    }
   },
   "outputs": [],
   "source": [
    "# Test cell: `df_complaints_by_hour_test`\n",
    "    \n",
    "print (\"Reading instructor's solution...\")\n",
    "if False:\n",
    "    df_complaints_by_hour_soln.to_csv(get_path('df_complaints_by_hour_soln.csv'), index=False)\n",
    "df_complaints_by_hour_soln = pd.read_csv (get_path('df_complaints_by_hour_soln.csv'))\n",
    "display (df_complaints_by_hour_soln)\n",
    "\n",
    "df_complaints_by_hour_norm = df_complaints_by_hour.copy ()\n",
    "df_complaints_by_hour_norm['hour'] = \\\n",
    "    df_complaints_by_hour_norm['hour'].apply (int)\n",
    "assert tibbles_are_equivalent (df_complaints_by_hour_norm,\n",
    "                               df_complaints_by_hour_soln)\n",
    "print (\"\\n(Passed.)\")"
   ]
  },
  {
   "cell_type": "markdown",
   "metadata": {
    "deletable": false,
    "editable": false,
    "nbgrader": {
     "grade": false,
     "locked": true,
     "solution": false
    }
   },
   "source": [
    "Let's take a quick look at the hour-by-hour breakdown above."
   ]
  },
  {
   "cell_type": "code",
   "execution_count": 41,
   "metadata": {
    "deletable": false,
    "editable": false,
    "nbgrader": {
     "grade": false,
     "locked": true,
     "solution": false
    },
    "nbpresent": {
     "id": "60bd03aa-679c-4be1-aaed-ec5d22115272"
    }
   },
   "outputs": [
    {
     "data": {
      "text/html": [
       "\n",
       "\n",
       "\n",
       "\n",
       "\n",
       "\n",
       "  <div class=\"bk-root\" id=\"6ee56071-f8ba-4072-b9cc-d190c68c6055\" data-root-id=\"1476\"></div>\n"
      ]
     },
     "metadata": {},
     "output_type": "display_data"
    },
    {
     "data": {
      "application/javascript": [
       "(function(root) {\n",
       "  function embed_document(root) {\n",
       "    \n",
       "  var docs_json = {\"c46fef4a-daf3-4705-b14d-54a6255bf362\":{\"roots\":{\"references\":[{\"attributes\":{\"below\":[{\"id\":\"1487\"}],\"center\":[{\"id\":\"1489\"},{\"id\":\"1493\"}],\"left\":[{\"id\":\"1490\"}],\"plot_height\":320,\"plot_width\":800,\"renderers\":[{\"id\":\"1511\"}],\"title\":{\"id\":\"1477\"},\"toolbar\":{\"id\":\"1501\"},\"x_range\":{\"id\":\"1479\"},\"x_scale\":{\"id\":\"1483\"},\"y_range\":{\"id\":\"1481\"},\"y_scale\":{\"id\":\"1485\"}},\"id\":\"1476\",\"subtype\":\"Figure\",\"type\":\"Plot\"},{\"attributes\":{},\"id\":\"1556\",\"type\":\"Selection\"},{\"attributes\":{\"text\":\"Complaints by hour\"},\"id\":\"1477\",\"type\":\"Title\"},{\"attributes\":{},\"id\":\"1553\",\"type\":\"BasicTickFormatter\"},{\"attributes\":{\"formatter\":{\"id\":\"1551\"},\"ticker\":{\"id\":\"1488\"}},\"id\":\"1487\",\"type\":\"CategoricalAxis\"},{\"attributes\":{\"factors\":[\"00\",\"01\",\"02\",\"03\",\"04\",\"05\",\"06\",\"07\",\"08\",\"09\",\"10\",\"11\",\"12\",\"13\",\"14\",\"15\",\"16\",\"17\",\"18\",\"19\",\"20\",\"21\",\"22\",\"23\"]},\"id\":\"1479\",\"type\":\"FactorRange\"},{\"attributes\":{},\"id\":\"1488\",\"type\":\"CategoricalTicker\"},{\"attributes\":{\"bottom_units\":\"screen\",\"fill_alpha\":0.5,\"fill_color\":\"lightgrey\",\"left_units\":\"screen\",\"level\":\"overlay\",\"line_alpha\":1.0,\"line_color\":\"black\",\"line_dash\":[4,4],\"line_width\":2,\"right_units\":\"screen\",\"top_units\":\"screen\"},\"id\":\"1500\",\"type\":\"BoxAnnotation\"},{\"attributes\":{},\"id\":\"1481\",\"type\":\"DataRange1d\"},{\"attributes\":{},\"id\":\"1499\",\"type\":\"HelpTool\"},{\"attributes\":{},\"id\":\"1483\",\"type\":\"CategoricalScale\"},{\"attributes\":{\"formatter\":{\"id\":\"1553\"},\"ticker\":{\"id\":\"1491\"}},\"id\":\"1490\",\"type\":\"LinearAxis\"},{\"attributes\":{},\"id\":\"1485\",\"type\":\"LinearScale\"},{\"attributes\":{\"axis\":{\"id\":\"1487\"},\"ticker\":null},\"id\":\"1489\",\"type\":\"Grid\"},{\"attributes\":{\"data\":{\"top\":[564703,23489,15226,10164,8692,10224,23051,42273,73811,100077,114079,115849,102392,100970,105425,100271,86968,69920,67467,57637,54997,53126,52076,47113],\"x\":[\"00\",\"01\",\"02\",\"03\",\"04\",\"05\",\"06\",\"07\",\"08\",\"09\",\"10\",\"11\",\"12\",\"13\",\"14\",\"15\",\"16\",\"17\",\"18\",\"19\",\"20\",\"21\",\"22\",\"23\"]},\"selected\":{\"id\":\"1556\"},\"selection_policy\":{\"id\":\"1555\"}},\"id\":\"1508\",\"type\":\"ColumnDataSource\"},{\"attributes\":{\"axis\":{\"id\":\"1490\"},\"dimension\":1,\"ticker\":null},\"id\":\"1493\",\"type\":\"Grid\"},{\"attributes\":{},\"id\":\"1491\",\"type\":\"BasicTicker\"},{\"attributes\":{},\"id\":\"1495\",\"type\":\"WheelZoomTool\"},{\"attributes\":{},\"id\":\"1494\",\"type\":\"PanTool\"},{\"attributes\":{\"data_source\":{\"id\":\"1508\"},\"glyph\":{\"id\":\"1509\"},\"hover_glyph\":null,\"muted_glyph\":null,\"nonselection_glyph\":{\"id\":\"1510\"},\"selection_glyph\":null,\"view\":{\"id\":\"1512\"}},\"id\":\"1511\",\"type\":\"GlyphRenderer\"},{\"attributes\":{\"overlay\":{\"id\":\"1500\"}},\"id\":\"1496\",\"type\":\"BoxZoomTool\"},{\"attributes\":{\"fill_alpha\":{\"value\":0.1},\"fill_color\":{\"value\":\"#1f77b4\"},\"line_alpha\":{\"value\":0.1},\"line_color\":{\"value\":\"#1f77b4\"},\"top\":{\"field\":\"top\"},\"width\":{\"value\":0.9},\"x\":{\"field\":\"x\"}},\"id\":\"1510\",\"type\":\"VBar\"},{\"attributes\":{},\"id\":\"1497\",\"type\":\"SaveTool\"},{\"attributes\":{},\"id\":\"1551\",\"type\":\"CategoricalTickFormatter\"},{\"attributes\":{},\"id\":\"1498\",\"type\":\"ResetTool\"},{\"attributes\":{},\"id\":\"1555\",\"type\":\"UnionRenderers\"},{\"attributes\":{\"source\":{\"id\":\"1508\"}},\"id\":\"1512\",\"type\":\"CDSView\"},{\"attributes\":{\"active_drag\":\"auto\",\"active_inspect\":\"auto\",\"active_multi\":null,\"active_scroll\":\"auto\",\"active_tap\":\"auto\",\"tools\":[{\"id\":\"1494\"},{\"id\":\"1495\"},{\"id\":\"1496\"},{\"id\":\"1497\"},{\"id\":\"1498\"},{\"id\":\"1499\"}]},\"id\":\"1501\",\"type\":\"Toolbar\"},{\"attributes\":{\"fill_color\":{\"value\":\"#1f77b4\"},\"line_color\":{\"value\":\"#1f77b4\"},\"top\":{\"field\":\"top\"},\"width\":{\"value\":0.9},\"x\":{\"field\":\"x\"}},\"id\":\"1509\",\"type\":\"VBar\"}],\"root_ids\":[\"1476\"]},\"title\":\"Bokeh Application\",\"version\":\"2.2.3\"}};\n",
       "  var render_items = [{\"docid\":\"c46fef4a-daf3-4705-b14d-54a6255bf362\",\"root_ids\":[\"1476\"],\"roots\":{\"1476\":\"6ee56071-f8ba-4072-b9cc-d190c68c6055\"}}];\n",
       "  root.Bokeh.embed.embed_items_notebook(docs_json, render_items);\n",
       "\n",
       "  }\n",
       "  if (root.Bokeh !== undefined) {\n",
       "    embed_document(root);\n",
       "  } else {\n",
       "    var attempts = 0;\n",
       "    var timer = setInterval(function(root) {\n",
       "      if (root.Bokeh !== undefined) {\n",
       "        clearInterval(timer);\n",
       "        embed_document(root);\n",
       "      } else {\n",
       "        attempts++;\n",
       "        if (attempts > 100) {\n",
       "          clearInterval(timer);\n",
       "          console.log(\"Bokeh: ERROR: Unable to run BokehJS code because BokehJS library is missing\");\n",
       "        }\n",
       "      }\n",
       "    }, 10, root)\n",
       "  }\n",
       "})(window);"
      ],
      "application/vnd.bokehjs_exec.v0+json": ""
     },
     "metadata": {
      "application/vnd.bokehjs_exec.v0+json": {
       "id": "1476"
      }
     },
     "output_type": "display_data"
    }
   ],
   "source": [
    "p = make_barchart(df_complaints_by_hour, 'hour', 'count',\n",
    "                  {'title': 'Complaints by hour',\n",
    "                   'plot_width': 800, 'plot_height': 320})\n",
    "show(p)"
   ]
  },
  {
   "cell_type": "markdown",
   "metadata": {
    "deletable": false,
    "editable": false,
    "nbgrader": {
     "grade": false,
     "locked": true,
     "solution": false
    },
    "nbpresent": {
     "id": "674c54f7-dd78-4f01-af25-9bef67a44833"
    }
   },
   "source": [
    "An unusual aspect of these data are the excessively large number of reports associated with hour 0 (midnight up to but excluding 1 am), which would probably strike you as suspicious. Indeed, the reason is that there are some complaints that are dated but with no associated time, which was recorded in the data as exactly `00:00:00.000`."
   ]
  },
  {
   "cell_type": "code",
   "execution_count": 42,
   "metadata": {
    "deletable": false,
    "editable": false,
    "nbgrader": {
     "grade": false,
     "locked": true,
     "solution": false
    },
    "nbpresent": {
     "id": "20a45c3b-927f-4085-bcd8-9ee389d78219"
    }
   },
   "outputs": [
    {
     "data": {
      "text/html": [
       "<div>\n",
       "<style scoped>\n",
       "    .dataframe tbody tr th:only-of-type {\n",
       "        vertical-align: middle;\n",
       "    }\n",
       "\n",
       "    .dataframe tbody tr th {\n",
       "        vertical-align: top;\n",
       "    }\n",
       "\n",
       "    .dataframe thead th {\n",
       "        text-align: right;\n",
       "    }\n",
       "</style>\n",
       "<table border=\"1\" class=\"dataframe\">\n",
       "  <thead>\n",
       "    <tr style=\"text-align: right;\">\n",
       "      <th></th>\n",
       "      <th>COUNT(*)</th>\n",
       "    </tr>\n",
       "  </thead>\n",
       "  <tbody>\n",
       "    <tr>\n",
       "      <th>0</th>\n",
       "      <td>532285</td>\n",
       "    </tr>\n",
       "  </tbody>\n",
       "</table>\n",
       "</div>"
      ],
      "text/plain": [
       "   COUNT(*)\n",
       "0    532285"
      ]
     },
     "execution_count": 42,
     "metadata": {},
     "output_type": "execute_result"
    }
   ],
   "source": [
    "query = '''\n",
    "  SELECT COUNT(*)\n",
    "    FROM data\n",
    "    WHERE STRFTIME('%H:%M:%f', CreatedDate) = '00:00:00.000'\n",
    "'''\n",
    "\n",
    "pd.read_sql_query(query, disk_engine)"
   ]
  },
  {
   "cell_type": "markdown",
   "metadata": {
    "deletable": false,
    "editable": false,
    "nbgrader": {
     "grade": false,
     "locked": true,
     "solution": false
    },
    "nbpresent": {
     "id": "e9ec9d63-dcdc-4df7-a0c9-aeefd333cd66"
    }
   },
   "source": [
    "**Exercise 7** (2 points). What is the most common hour for noise complaints? Compute a tibble called `df_noisy_by_hour` whose variables are {`hour`, `count`} and whose observations are the number of noise complaints that occurred during a given `hour`. Consider a \"noise complaint\" to be any complaint string containing the word `noise`. Be sure to filter out any dates _without_ an associated time, i.e., a timestamp of `00:00:00.000`."
   ]
  },
  {
   "cell_type": "code",
   "execution_count": 46,
   "metadata": {
    "deletable": false,
    "nbgrader": {
     "checksum": "2519d05a9f7b18466b152d20b0be88c9",
     "grade": false,
     "grade_id": "df_noisy_by_hour",
     "locked": false,
     "schema_version": 1,
     "solution": true
    },
    "nbpresent": {
     "id": "d61ad646-a163-4de6-a1ff-e3b983f00d99"
    }
   },
   "outputs": [
    {
     "data": {
      "text/html": [
       "<div>\n",
       "<style scoped>\n",
       "    .dataframe tbody tr th:only-of-type {\n",
       "        vertical-align: middle;\n",
       "    }\n",
       "\n",
       "    .dataframe tbody tr th {\n",
       "        vertical-align: top;\n",
       "    }\n",
       "\n",
       "    .dataframe thead th {\n",
       "        text-align: right;\n",
       "    }\n",
       "</style>\n",
       "<table border=\"1\" class=\"dataframe\">\n",
       "  <thead>\n",
       "    <tr style=\"text-align: right;\">\n",
       "      <th></th>\n",
       "      <th>hour</th>\n",
       "      <th>count</th>\n",
       "    </tr>\n",
       "  </thead>\n",
       "  <tbody>\n",
       "    <tr>\n",
       "      <th>0</th>\n",
       "      <td>00</td>\n",
       "      <td>15349</td>\n",
       "    </tr>\n",
       "    <tr>\n",
       "      <th>1</th>\n",
       "      <td>01</td>\n",
       "      <td>11284</td>\n",
       "    </tr>\n",
       "    <tr>\n",
       "      <th>2</th>\n",
       "      <td>02</td>\n",
       "      <td>7170</td>\n",
       "    </tr>\n",
       "    <tr>\n",
       "      <th>3</th>\n",
       "      <td>03</td>\n",
       "      <td>4241</td>\n",
       "    </tr>\n",
       "    <tr>\n",
       "      <th>4</th>\n",
       "      <td>04</td>\n",
       "      <td>3083</td>\n",
       "    </tr>\n",
       "    <tr>\n",
       "      <th>5</th>\n",
       "      <td>05</td>\n",
       "      <td>2084</td>\n",
       "    </tr>\n",
       "    <tr>\n",
       "      <th>6</th>\n",
       "      <td>06</td>\n",
       "      <td>2832</td>\n",
       "    </tr>\n",
       "    <tr>\n",
       "      <th>7</th>\n",
       "      <td>07</td>\n",
       "      <td>3708</td>\n",
       "    </tr>\n",
       "    <tr>\n",
       "      <th>8</th>\n",
       "      <td>08</td>\n",
       "      <td>4553</td>\n",
       "    </tr>\n",
       "    <tr>\n",
       "      <th>9</th>\n",
       "      <td>09</td>\n",
       "      <td>5122</td>\n",
       "    </tr>\n",
       "    <tr>\n",
       "      <th>10</th>\n",
       "      <td>10</td>\n",
       "      <td>4672</td>\n",
       "    </tr>\n",
       "    <tr>\n",
       "      <th>11</th>\n",
       "      <td>11</td>\n",
       "      <td>4745</td>\n",
       "    </tr>\n",
       "    <tr>\n",
       "      <th>12</th>\n",
       "      <td>12</td>\n",
       "      <td>4316</td>\n",
       "    </tr>\n",
       "    <tr>\n",
       "      <th>13</th>\n",
       "      <td>13</td>\n",
       "      <td>4364</td>\n",
       "    </tr>\n",
       "    <tr>\n",
       "      <th>14</th>\n",
       "      <td>14</td>\n",
       "      <td>4505</td>\n",
       "    </tr>\n",
       "    <tr>\n",
       "      <th>15</th>\n",
       "      <td>15</td>\n",
       "      <td>4576</td>\n",
       "    </tr>\n",
       "    <tr>\n",
       "      <th>16</th>\n",
       "      <td>16</td>\n",
       "      <td>4957</td>\n",
       "    </tr>\n",
       "    <tr>\n",
       "      <th>17</th>\n",
       "      <td>17</td>\n",
       "      <td>5126</td>\n",
       "    </tr>\n",
       "    <tr>\n",
       "      <th>18</th>\n",
       "      <td>18</td>\n",
       "      <td>6797</td>\n",
       "    </tr>\n",
       "    <tr>\n",
       "      <th>19</th>\n",
       "      <td>19</td>\n",
       "      <td>7958</td>\n",
       "    </tr>\n",
       "    <tr>\n",
       "      <th>20</th>\n",
       "      <td>20</td>\n",
       "      <td>9790</td>\n",
       "    </tr>\n",
       "    <tr>\n",
       "      <th>21</th>\n",
       "      <td>21</td>\n",
       "      <td>12659</td>\n",
       "    </tr>\n",
       "    <tr>\n",
       "      <th>22</th>\n",
       "      <td>22</td>\n",
       "      <td>17155</td>\n",
       "    </tr>\n",
       "    <tr>\n",
       "      <th>23</th>\n",
       "      <td>23</td>\n",
       "      <td>19343</td>\n",
       "    </tr>\n",
       "  </tbody>\n",
       "</table>\n",
       "</div>"
      ],
      "text/plain": [
       "   hour  count\n",
       "0    00  15349\n",
       "1    01  11284\n",
       "2    02   7170\n",
       "3    03   4241\n",
       "4    04   3083\n",
       "5    05   2084\n",
       "6    06   2832\n",
       "7    07   3708\n",
       "8    08   4553\n",
       "9    09   5122\n",
       "10   10   4672\n",
       "11   11   4745\n",
       "12   12   4316\n",
       "13   13   4364\n",
       "14   14   4505\n",
       "15   15   4576\n",
       "16   16   4957\n",
       "17   17   5126\n",
       "18   18   6797\n",
       "19   19   7958\n",
       "20   20   9790\n",
       "21   21  12659\n",
       "22   22  17155\n",
       "23   23  19343"
      ]
     },
     "metadata": {},
     "output_type": "display_data"
    }
   ],
   "source": [
    "query = '''\n",
    "  SELECT STRFTIME('%H', CreatedDate) AS hour, Count (*) AS count\n",
    "    from data\n",
    "    WHERE STRFTIME('%H:%M:%f', CreatedDate) <> '00:00:00.000'\n",
    "      AND LOWER(ComplaintType) LIKE '%noise%'\n",
    "    GROUP BY hour'''\n",
    "\n",
    "df_noisy_by_hour = pd.read_sql_query (query, disk_engine)\n",
    "\n",
    "display(df_noisy_by_hour)"
   ]
  },
  {
   "cell_type": "code",
   "execution_count": 47,
   "metadata": {
    "deletable": false,
    "editable": false,
    "nbgrader": {
     "checksum": "bb7bf35e08281fcf0d874bbcf5f1d4fa",
     "grade": true,
     "grade_id": "df_noisy_by_hour_test",
     "locked": true,
     "points": 2,
     "schema_version": 1,
     "solution": false
    },
    "nbpresent": {
     "id": "2a0c6d57-1438-496d-8ad0-c9e691a2e464"
    }
   },
   "outputs": [
    {
     "name": "stdout",
     "output_type": "stream",
     "text": [
      "Reading instructor's solution...\n"
     ]
    },
    {
     "data": {
      "text/html": [
       "<div>\n",
       "<style scoped>\n",
       "    .dataframe tbody tr th:only-of-type {\n",
       "        vertical-align: middle;\n",
       "    }\n",
       "\n",
       "    .dataframe tbody tr th {\n",
       "        vertical-align: top;\n",
       "    }\n",
       "\n",
       "    .dataframe thead th {\n",
       "        text-align: right;\n",
       "    }\n",
       "</style>\n",
       "<table border=\"1\" class=\"dataframe\">\n",
       "  <thead>\n",
       "    <tr style=\"text-align: right;\">\n",
       "      <th></th>\n",
       "      <th>hour</th>\n",
       "      <th>count</th>\n",
       "    </tr>\n",
       "  </thead>\n",
       "  <tbody>\n",
       "    <tr>\n",
       "      <th>0</th>\n",
       "      <td>0</td>\n",
       "      <td>15349</td>\n",
       "    </tr>\n",
       "    <tr>\n",
       "      <th>1</th>\n",
       "      <td>1</td>\n",
       "      <td>11284</td>\n",
       "    </tr>\n",
       "    <tr>\n",
       "      <th>2</th>\n",
       "      <td>2</td>\n",
       "      <td>7170</td>\n",
       "    </tr>\n",
       "    <tr>\n",
       "      <th>3</th>\n",
       "      <td>3</td>\n",
       "      <td>4241</td>\n",
       "    </tr>\n",
       "    <tr>\n",
       "      <th>4</th>\n",
       "      <td>4</td>\n",
       "      <td>3083</td>\n",
       "    </tr>\n",
       "    <tr>\n",
       "      <th>5</th>\n",
       "      <td>5</td>\n",
       "      <td>2084</td>\n",
       "    </tr>\n",
       "    <tr>\n",
       "      <th>6</th>\n",
       "      <td>6</td>\n",
       "      <td>2832</td>\n",
       "    </tr>\n",
       "    <tr>\n",
       "      <th>7</th>\n",
       "      <td>7</td>\n",
       "      <td>3708</td>\n",
       "    </tr>\n",
       "    <tr>\n",
       "      <th>8</th>\n",
       "      <td>8</td>\n",
       "      <td>4553</td>\n",
       "    </tr>\n",
       "    <tr>\n",
       "      <th>9</th>\n",
       "      <td>9</td>\n",
       "      <td>5122</td>\n",
       "    </tr>\n",
       "    <tr>\n",
       "      <th>10</th>\n",
       "      <td>10</td>\n",
       "      <td>4672</td>\n",
       "    </tr>\n",
       "    <tr>\n",
       "      <th>11</th>\n",
       "      <td>11</td>\n",
       "      <td>4745</td>\n",
       "    </tr>\n",
       "    <tr>\n",
       "      <th>12</th>\n",
       "      <td>12</td>\n",
       "      <td>4316</td>\n",
       "    </tr>\n",
       "    <tr>\n",
       "      <th>13</th>\n",
       "      <td>13</td>\n",
       "      <td>4364</td>\n",
       "    </tr>\n",
       "    <tr>\n",
       "      <th>14</th>\n",
       "      <td>14</td>\n",
       "      <td>4505</td>\n",
       "    </tr>\n",
       "    <tr>\n",
       "      <th>15</th>\n",
       "      <td>15</td>\n",
       "      <td>4576</td>\n",
       "    </tr>\n",
       "    <tr>\n",
       "      <th>16</th>\n",
       "      <td>16</td>\n",
       "      <td>4957</td>\n",
       "    </tr>\n",
       "    <tr>\n",
       "      <th>17</th>\n",
       "      <td>17</td>\n",
       "      <td>5126</td>\n",
       "    </tr>\n",
       "    <tr>\n",
       "      <th>18</th>\n",
       "      <td>18</td>\n",
       "      <td>6797</td>\n",
       "    </tr>\n",
       "    <tr>\n",
       "      <th>19</th>\n",
       "      <td>19</td>\n",
       "      <td>7958</td>\n",
       "    </tr>\n",
       "    <tr>\n",
       "      <th>20</th>\n",
       "      <td>20</td>\n",
       "      <td>9790</td>\n",
       "    </tr>\n",
       "    <tr>\n",
       "      <th>21</th>\n",
       "      <td>21</td>\n",
       "      <td>12659</td>\n",
       "    </tr>\n",
       "    <tr>\n",
       "      <th>22</th>\n",
       "      <td>22</td>\n",
       "      <td>17155</td>\n",
       "    </tr>\n",
       "    <tr>\n",
       "      <th>23</th>\n",
       "      <td>23</td>\n",
       "      <td>19343</td>\n",
       "    </tr>\n",
       "  </tbody>\n",
       "</table>\n",
       "</div>"
      ],
      "text/plain": [
       "    hour  count\n",
       "0      0  15349\n",
       "1      1  11284\n",
       "2      2   7170\n",
       "3      3   4241\n",
       "4      4   3083\n",
       "5      5   2084\n",
       "6      6   2832\n",
       "7      7   3708\n",
       "8      8   4553\n",
       "9      9   5122\n",
       "10    10   4672\n",
       "11    11   4745\n",
       "12    12   4316\n",
       "13    13   4364\n",
       "14    14   4505\n",
       "15    15   4576\n",
       "16    16   4957\n",
       "17    17   5126\n",
       "18    18   6797\n",
       "19    19   7958\n",
       "20    20   9790\n",
       "21    21  12659\n",
       "22    22  17155\n",
       "23    23  19343"
      ]
     },
     "metadata": {},
     "output_type": "display_data"
    },
    {
     "name": "stdout",
     "output_type": "stream",
     "text": [
      "\n",
      "(Passed.)\n"
     ]
    }
   ],
   "source": [
    "# Test cell: `df_noisy_by_hour_test`\n",
    "\n",
    "print (\"Reading instructor's solution...\")\n",
    "if False:\n",
    "    df_noisy_by_hour.to_csv(get_path('df_noisy_by_hour_soln.csv'), index=False)\n",
    "df_noisy_by_hour_soln = pd.read_csv (get_path('df_noisy_by_hour_soln.csv'))\n",
    "display(df_noisy_by_hour_soln)\n",
    "\n",
    "df_noisy_by_hour_norm = df_noisy_by_hour.copy()\n",
    "df_noisy_by_hour_norm['hour'] = \\\n",
    "    df_noisy_by_hour_norm['hour'].apply(int)\n",
    "assert tibbles_are_equivalent (df_noisy_by_hour_norm,\n",
    "                               df_noisy_by_hour_soln)\n",
    "print (\"\\n(Passed.)\")"
   ]
  },
  {
   "cell_type": "code",
   "execution_count": 48,
   "metadata": {
    "deletable": false,
    "editable": false,
    "nbgrader": {
     "grade": false,
     "locked": true,
     "solution": false
    },
    "nbpresent": {
     "id": "9850fa6b-d951-4f9f-9d23-c8243a75487c"
    }
   },
   "outputs": [
    {
     "data": {
      "text/html": [
       "\n",
       "\n",
       "\n",
       "\n",
       "\n",
       "\n",
       "  <div class=\"bk-root\" id=\"ac561455-c20d-450e-84be-c15461971048\" data-root-id=\"1728\"></div>\n"
      ]
     },
     "metadata": {},
     "output_type": "display_data"
    },
    {
     "data": {
      "application/javascript": [
       "(function(root) {\n",
       "  function embed_document(root) {\n",
       "    \n",
       "  var docs_json = {\"cc85613e-c885-444c-b846-44469fa9ab34\":{\"roots\":{\"references\":[{\"attributes\":{\"below\":[{\"id\":\"1739\"}],\"center\":[{\"id\":\"1741\"},{\"id\":\"1745\"}],\"left\":[{\"id\":\"1742\"}],\"plot_height\":320,\"plot_width\":800,\"renderers\":[{\"id\":\"1763\"}],\"title\":{\"id\":\"1729\"},\"toolbar\":{\"id\":\"1753\"},\"x_range\":{\"id\":\"1731\"},\"x_scale\":{\"id\":\"1735\"},\"y_range\":{\"id\":\"1733\"},\"y_scale\":{\"id\":\"1737\"}},\"id\":\"1728\",\"subtype\":\"Figure\",\"type\":\"Plot\"},{\"attributes\":{\"formatter\":{\"id\":\"1821\"},\"ticker\":{\"id\":\"1743\"}},\"id\":\"1742\",\"type\":\"LinearAxis\"},{\"attributes\":{},\"id\":\"1737\",\"type\":\"LinearScale\"},{\"attributes\":{\"text\":\"Noise complaints by hour\"},\"id\":\"1729\",\"type\":\"Title\"},{\"attributes\":{\"bottom_units\":\"screen\",\"fill_alpha\":0.5,\"fill_color\":\"lightgrey\",\"left_units\":\"screen\",\"level\":\"overlay\",\"line_alpha\":1.0,\"line_color\":\"black\",\"line_dash\":[4,4],\"line_width\":2,\"right_units\":\"screen\",\"top_units\":\"screen\"},\"id\":\"1752\",\"type\":\"BoxAnnotation\"},{\"attributes\":{},\"id\":\"1746\",\"type\":\"PanTool\"},{\"attributes\":{\"axis\":{\"id\":\"1742\"},\"dimension\":1,\"ticker\":null},\"id\":\"1745\",\"type\":\"Grid\"},{\"attributes\":{},\"id\":\"1819\",\"type\":\"CategoricalTickFormatter\"},{\"attributes\":{\"data_source\":{\"id\":\"1760\"},\"glyph\":{\"id\":\"1761\"},\"hover_glyph\":null,\"muted_glyph\":null,\"nonselection_glyph\":{\"id\":\"1762\"},\"selection_glyph\":null,\"view\":{\"id\":\"1764\"}},\"id\":\"1763\",\"type\":\"GlyphRenderer\"},{\"attributes\":{},\"id\":\"1750\",\"type\":\"ResetTool\"},{\"attributes\":{},\"id\":\"1824\",\"type\":\"Selection\"},{\"attributes\":{},\"id\":\"1747\",\"type\":\"WheelZoomTool\"},{\"attributes\":{\"data\":{\"top\":[15349,11284,7170,4241,3083,2084,2832,3708,4553,5122,4672,4745,4316,4364,4505,4576,4957,5126,6797,7958,9790,12659,17155,19343],\"x\":[\"00\",\"01\",\"02\",\"03\",\"04\",\"05\",\"06\",\"07\",\"08\",\"09\",\"10\",\"11\",\"12\",\"13\",\"14\",\"15\",\"16\",\"17\",\"18\",\"19\",\"20\",\"21\",\"22\",\"23\"]},\"selected\":{\"id\":\"1824\"},\"selection_policy\":{\"id\":\"1823\"}},\"id\":\"1760\",\"type\":\"ColumnDataSource\"},{\"attributes\":{},\"id\":\"1821\",\"type\":\"BasicTickFormatter\"},{\"attributes\":{\"source\":{\"id\":\"1760\"}},\"id\":\"1764\",\"type\":\"CDSView\"},{\"attributes\":{\"axis\":{\"id\":\"1739\"},\"ticker\":null},\"id\":\"1741\",\"type\":\"Grid\"},{\"attributes\":{\"fill_color\":{\"value\":\"#1f77b4\"},\"line_color\":{\"value\":\"#1f77b4\"},\"top\":{\"field\":\"top\"},\"width\":{\"value\":0.9},\"x\":{\"field\":\"x\"}},\"id\":\"1761\",\"type\":\"VBar\"},{\"attributes\":{},\"id\":\"1733\",\"type\":\"DataRange1d\"},{\"attributes\":{\"active_drag\":\"auto\",\"active_inspect\":\"auto\",\"active_multi\":null,\"active_scroll\":\"auto\",\"active_tap\":\"auto\",\"tools\":[{\"id\":\"1746\"},{\"id\":\"1747\"},{\"id\":\"1748\"},{\"id\":\"1749\"},{\"id\":\"1750\"},{\"id\":\"1751\"}]},\"id\":\"1753\",\"type\":\"Toolbar\"},{\"attributes\":{\"overlay\":{\"id\":\"1752\"}},\"id\":\"1748\",\"type\":\"BoxZoomTool\"},{\"attributes\":{\"factors\":[\"00\",\"01\",\"02\",\"03\",\"04\",\"05\",\"06\",\"07\",\"08\",\"09\",\"10\",\"11\",\"12\",\"13\",\"14\",\"15\",\"16\",\"17\",\"18\",\"19\",\"20\",\"21\",\"22\",\"23\"]},\"id\":\"1731\",\"type\":\"FactorRange\"},{\"attributes\":{},\"id\":\"1743\",\"type\":\"BasicTicker\"},{\"attributes\":{},\"id\":\"1751\",\"type\":\"HelpTool\"},{\"attributes\":{\"fill_alpha\":{\"value\":0.1},\"fill_color\":{\"value\":\"#1f77b4\"},\"line_alpha\":{\"value\":0.1},\"line_color\":{\"value\":\"#1f77b4\"},\"top\":{\"field\":\"top\"},\"width\":{\"value\":0.9},\"x\":{\"field\":\"x\"}},\"id\":\"1762\",\"type\":\"VBar\"},{\"attributes\":{},\"id\":\"1749\",\"type\":\"SaveTool\"},{\"attributes\":{\"formatter\":{\"id\":\"1819\"},\"ticker\":{\"id\":\"1740\"}},\"id\":\"1739\",\"type\":\"CategoricalAxis\"},{\"attributes\":{},\"id\":\"1740\",\"type\":\"CategoricalTicker\"},{\"attributes\":{},\"id\":\"1735\",\"type\":\"CategoricalScale\"},{\"attributes\":{},\"id\":\"1823\",\"type\":\"UnionRenderers\"}],\"root_ids\":[\"1728\"]},\"title\":\"Bokeh Application\",\"version\":\"2.2.3\"}};\n",
       "  var render_items = [{\"docid\":\"cc85613e-c885-444c-b846-44469fa9ab34\",\"root_ids\":[\"1728\"],\"roots\":{\"1728\":\"ac561455-c20d-450e-84be-c15461971048\"}}];\n",
       "  root.Bokeh.embed.embed_items_notebook(docs_json, render_items);\n",
       "\n",
       "  }\n",
       "  if (root.Bokeh !== undefined) {\n",
       "    embed_document(root);\n",
       "  } else {\n",
       "    var attempts = 0;\n",
       "    var timer = setInterval(function(root) {\n",
       "      if (root.Bokeh !== undefined) {\n",
       "        clearInterval(timer);\n",
       "        embed_document(root);\n",
       "      } else {\n",
       "        attempts++;\n",
       "        if (attempts > 100) {\n",
       "          clearInterval(timer);\n",
       "          console.log(\"Bokeh: ERROR: Unable to run BokehJS code because BokehJS library is missing\");\n",
       "        }\n",
       "      }\n",
       "    }, 10, root)\n",
       "  }\n",
       "})(window);"
      ],
      "application/vnd.bokehjs_exec.v0+json": ""
     },
     "metadata": {
      "application/vnd.bokehjs_exec.v0+json": {
       "id": "1728"
      }
     },
     "output_type": "display_data"
    }
   ],
   "source": [
    "p = make_barchart(df_noisy_by_hour, 'hour', 'count',\n",
    "                  {'title': 'Noise complaints by hour',\n",
    "                   'plot_width': 800, 'plot_height': 320})\n",
    "show(p)"
   ]
  },
  {
   "cell_type": "markdown",
   "metadata": {
    "deletable": false,
    "editable": false,
    "nbgrader": {
     "grade": false,
     "locked": true,
     "solution": false
    },
    "nbpresent": {
     "id": "5e81087c-d19d-497b-9d5c-1a614527a025"
    }
   },
   "source": [
    "**Exercise 8** (ungraded). Create a line chart to show the fraction of complaints (y-axis) associated with each hour of the day (x-axis), with each complaint type shown as a differently colored line. Show just the top 5 complaints (`top_complaints[:5]`). Remember to exclude complaints with a zero-timestamp (i.e., `00:00:00.000`).\n",
    "\n",
    "> **Note.** This exercise is ungraded but if your time permits, please give it a try! Feel free to discuss your approaches to this problem on the discussion forums (but do try to do it yourself first). One library you may find useful to try out is holoviews (http://holoviews.org/index.html)"
   ]
  },
  {
   "cell_type": "code",
   "execution_count": null,
   "metadata": {
    "collapsed": true,
    "deletable": false,
    "nbgrader": {
     "checksum": "280124f2ac984097c40d682f7a7af997",
     "grade": false,
     "grade_id": "complaint_types_by_hour",
     "locked": false,
     "points": 0,
     "schema_version": 1,
     "solution": false
    },
    "nbpresent": {
     "id": "396c64c5-fcdb-49dc-9c7b-dddd10cc8d2e"
    }
   },
   "outputs": [],
   "source": [
    "import holoviews as hv\n",
    "hv.extension('bokeh')\n",
    "from holoviews import Bars\n",
    "\n",
    "###\n",
    "### YOUR CODE HERE\n",
    "###\n"
   ]
  },
  {
   "cell_type": "markdown",
   "metadata": {
    "deletable": false,
    "editable": false,
    "nbgrader": {
     "grade": false,
     "locked": true,
     "solution": false
    },
    "nbpresent": {
     "id": "5f08feb8-ec73-4c71-9f22-9c9f2d00b418"
    }
   },
   "source": [
    "### Learn more\n",
    "\n",
    "- Find more open data sets on [Data.gov](https://data.gov) and [NYC Open Data](https://nycopendata.socrata.com)\n",
    "- Learn how to setup [MySql with Pandas and Plotly](http://moderndata.plot.ly/graph-data-from-mysql-database-in-python/)\n",
    "- Big data workflows with [HDF5 and Pandas](http://stackoverflow.com/questions/14262433/large-data-work-flows-using-pandas)"
   ]
  }
 ],
 "metadata": {
  "anaconda-cloud": [],
  "celltoolbar": "Create Assignment",
  "kernelspec": {
   "display_name": "Python 3.8",
   "language": "python",
   "name": "python38"
  },
  "language_info": {
   "codemirror_mode": {
    "name": "ipython",
    "version": 3
   },
   "file_extension": ".py",
   "mimetype": "text/x-python",
   "name": "python",
   "nbconvert_exporter": "python",
   "pygments_lexer": "ipython3",
   "version": "3.8.7"
  },
  "nbpresent": {
   "slides": {
    "44693b5c-1b6d-4a8a-93dd-9c739ac5f85b": {
     "id": "44693b5c-1b6d-4a8a-93dd-9c739ac5f85b",
     "prev": null,
     "regions": {
      "f1a0724d-d92a-4c41-8b5c-9d5becd385c6": {
       "attrs": {
        "height": 1,
        "width": 1,
        "x": 0.024495214835409,
        "y": -0.019794140456002
       },
       "id": "f1a0724d-d92a-4c41-8b5c-9d5becd385c6"
      }
     }
    }
   },
   "themes": []
  }
 },
 "nbformat": 4,
 "nbformat_minor": 1
}
