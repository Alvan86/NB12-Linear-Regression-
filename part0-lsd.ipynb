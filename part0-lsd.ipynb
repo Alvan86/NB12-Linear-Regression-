{
 "cells": [
  {
   "cell_type": "markdown",
   "metadata": {},
   "source": [
    "# Part 0: Sample dataset (LSD)\n",
    "\n",
    "In 1968, Wagner Agahajanian, and Bing conducted a study to determine whether you could improve a student's math test scores using lysergic acid diethylamide, also known as \"LSD.\"\n",
    "\n",
    "Here is the original data sources. The code cell below downloads the file from an alternative location.\n",
    "* Raw data: https://www.stat.ufl.edu/~winner/data/lsd.dat\n",
    "* Data file description: http://www.stat.ufl.edu/~winner/data/lsd.txt"
   ]
  },
  {
   "cell_type": "code",
   "execution_count": 1,
   "metadata": {
    "deletable": false,
    "editable": false,
    "nbgrader": {
     "grade": false,
     "grade_id": "cell-76b054c5e03cf88c",
     "locked": true,
     "schema_version": 1,
     "solution": false
    },
    "scrolled": true
   },
   "outputs": [
    {
     "name": "stdout",
     "output_type": "stream",
     "text": [
      "'../resource/asnlib/publicdata/lsd.dat' is ready!\n",
      "\n",
      "(All data appears to be ready.)\n"
     ]
    }
   ],
   "source": [
    "from pandas import read_fwf\n",
    "from IPython.display import display\n",
    "from cse6040utils import download_dataset, localize_file\n",
    "\n",
    "dataset = {'lsd.dat': '4c119057baf86cff8da03d825d7ce141'}\n",
    "download_dataset(dataset)\n",
    "print(\"\\n(All data appears to be ready.)\")"
   ]
  },
  {
   "cell_type": "markdown",
   "metadata": {
    "deletable": false,
    "editable": false,
    "nbgrader": {
     "grade": false,
     "grade_id": "cell-a670f140a2557a90",
     "locked": true,
     "schema_version": 1,
     "solution": false
    }
   },
   "source": [
    "Let's take a look at the data, first as a table and then using a scatter plot."
   ]
  },
  {
   "cell_type": "code",
   "execution_count": 2,
   "metadata": {
    "deletable": false,
    "editable": false,
    "nbgrader": {
     "grade": false,
     "grade_id": "cell-7cb6aa091a1adb09",
     "locked": true,
     "schema_version": 1,
     "solution": false
    }
   },
   "outputs": [
    {
     "data": {
      "text/html": [
       "<div>\n",
       "<style scoped>\n",
       "    .dataframe tbody tr th:only-of-type {\n",
       "        vertical-align: middle;\n",
       "    }\n",
       "\n",
       "    .dataframe tbody tr th {\n",
       "        vertical-align: top;\n",
       "    }\n",
       "\n",
       "    .dataframe thead th {\n",
       "        text-align: right;\n",
       "    }\n",
       "</style>\n",
       "<table border=\"1\" class=\"dataframe\">\n",
       "  <thead>\n",
       "    <tr style=\"text-align: right;\">\n",
       "      <th></th>\n",
       "      <th>lsd_concentration</th>\n",
       "      <th>exam_score</th>\n",
       "    </tr>\n",
       "  </thead>\n",
       "  <tbody>\n",
       "    <tr>\n",
       "      <th>0</th>\n",
       "      <td>1.17</td>\n",
       "      <td>78.93</td>\n",
       "    </tr>\n",
       "    <tr>\n",
       "      <th>1</th>\n",
       "      <td>2.97</td>\n",
       "      <td>58.20</td>\n",
       "    </tr>\n",
       "    <tr>\n",
       "      <th>2</th>\n",
       "      <td>3.26</td>\n",
       "      <td>67.47</td>\n",
       "    </tr>\n",
       "    <tr>\n",
       "      <th>3</th>\n",
       "      <td>4.69</td>\n",
       "      <td>37.47</td>\n",
       "    </tr>\n",
       "    <tr>\n",
       "      <th>4</th>\n",
       "      <td>5.83</td>\n",
       "      <td>45.65</td>\n",
       "    </tr>\n",
       "    <tr>\n",
       "      <th>5</th>\n",
       "      <td>6.00</td>\n",
       "      <td>32.92</td>\n",
       "    </tr>\n",
       "    <tr>\n",
       "      <th>6</th>\n",
       "      <td>6.41</td>\n",
       "      <td>29.97</td>\n",
       "    </tr>\n",
       "  </tbody>\n",
       "</table>\n",
       "</div>"
      ],
      "text/plain": [
       "   lsd_concentration  exam_score\n",
       "0               1.17       78.93\n",
       "1               2.97       58.20\n",
       "2               3.26       67.47\n",
       "3               4.69       37.47\n",
       "4               5.83       45.65\n",
       "5               6.00       32.92\n",
       "6               6.41       29.97"
      ]
     },
     "metadata": {},
     "output_type": "display_data"
    }
   ],
   "source": [
    "df = read_fwf(localize_file('lsd.dat'),\n",
    "              colspecs=[(0, 4), (7, 13)],\n",
    "              names=['lsd_concentration', 'exam_score'])\n",
    "display(df)"
   ]
  },
  {
   "cell_type": "code",
   "execution_count": 3,
   "metadata": {
    "deletable": false,
    "editable": false,
    "nbgrader": {
     "grade": false,
     "grade_id": "cell-d64034b22dfccc1e",
     "locked": true,
     "schema_version": 1,
     "solution": false
    }
   },
   "outputs": [
    {
     "name": "stderr",
     "output_type": "stream",
     "text": [
      "Matplotlib is building the font cache; this may take a moment.\n"
     ]
    },
    {
     "data": {
      "image/png": "[encoded data removed]",
      "text/plain": [
       "<Figure size 432x288 with 1 Axes>"
      ]
     },
     "metadata": {
      "needs_background": "light"
     },
     "output_type": "display_data"
    }
   ],
   "source": [
    "from matplotlib.pyplot import scatter, xlabel, title, plot\n",
    "%matplotlib inline\n",
    "\n",
    "scatter(df['lsd_concentration'], df['exam_score'])\n",
    "xlabel ('LSD Tissue Concentration')\n",
    "title ('Shocking news: Math scores degrade with increasing LSD!');"
   ]
  },
  {
   "cell_type": "markdown",
   "metadata": {},
   "source": [
    "## Fitting a model\n",
    "\n",
    "**Exercise 0** (2 points). Complete the function below so that it computes $\\alpha$ and $\\beta$ for the univariate model, $y \\sim \\alpha \\cdot x + \\beta$, given observations stored as NumPy arrays `y[:]` for the responses and `x[:]` for the predictor.\n",
    "\n",
    "According to the formulas derived in class (on-campus students) or in the lecture videos (online students), the parameters may be estimated by\n",
    "\n",
    "$$\\begin{eqnarray}\n",
    "  \\alpha & = & \\dfrac{x^T y - \\frac{1}{m}(u^T x)(u^T y)}\n",
    "                     {x^T x - \\frac{1}{m}(u^T x)^2} \\\\\n",
    "   \\beta & = & \\frac{1}{m} u^T (y - \\alpha x)\n",
    "\\end{eqnarray}$$\n",
    "\n",
    "where $u$ is a vector of all ones."
   ]
  },
  {
   "cell_type": "code",
   "execution_count": 7,
   "metadata": {
    "nbgrader": {
     "grade": false,
     "grade_id": "linreg_fit",
     "locked": false,
     "schema_version": 1,
     "solution": true
    }
   },
   "outputs": [
    {
     "name": "stdout",
     "output_type": "stream",
     "text": [
      "alpha: -9.0094664152968\n",
      "beta: 89.12387376799313\n"
     ]
    }
   ],
   "source": [
    "def linreg_fit(x, y):\n",
    "    \"\"\"Returns (alpha, beta) s.t. y ~ alpha*x + beta.\"\"\"\n",
    "    from numpy import ones\n",
    "    m = len(x) ; assert len(y) == m\n",
    "    \n",
    "    u = ones(m)\n",
    "    \n",
    "    alpha = (x.dot(y) - ((u.dot(x)*u.dot(y))/m)) / (x.dot(x)-(((u.dot(x))**2)/m))\n",
    "    \n",
    "    beta = (u.dot(y - alpha*x)) / m\n",
    "\n",
    "    return (alpha, beta)\n",
    "\n",
    "# Compute the coefficients for the LSD data:\n",
    "x, y = df['lsd_concentration'], df['exam_score']\n",
    "alpha, beta = linreg_fit(x, y)\n",
    "\n",
    "print(\"alpha:\", alpha)\n",
    "print(\"beta:\", beta)"
   ]
  },
  {
   "cell_type": "code",
   "execution_count": 8,
   "metadata": {
    "deletable": false,
    "editable": false,
    "nbgrader": {
     "grade": true,
     "grade_id": "linreg_fit_test",
     "locked": true,
     "points": 2,
     "schema_version": 1,
     "solution": false
    }
   },
   "outputs": [
    {
     "name": "stdout",
     "output_type": "stream",
     "text": [
      "\n",
      "(Passed!)\n"
     ]
    }
   ],
   "source": [
    "# Test cell: `linreg_fit_test`\n",
    "\n",
    "x, y = df['lsd_concentration'], df['exam_score']\n",
    "alpha, beta = linreg_fit(x, y)\n",
    "\n",
    "r = alpha*x + beta - y\n",
    "ssqr = r.dot(r)\n",
    "ssqr_ex = 253.88132881\n",
    "\n",
    "from numpy import isclose\n",
    "assert isclose(ssqr, ssqr_ex, rtol=.01), \\\n",
    "       f\"Sum-of-squared residuals is {ssqr} instead of {ssqr_ex}.\"\n",
    "\n",
    "print(\"\\n(Passed!)\")"
   ]
  },
  {
   "cell_type": "code",
   "execution_count": null,
   "metadata": {
    "collapsed": true,
    "deletable": false,
    "editable": false,
    "nbgrader": {
     "grade": false,
     "grade_id": "cell-69616e165207d4bd",
     "locked": true,
     "schema_version": 1,
     "solution": false
    }
   },
   "outputs": [],
   "source": [
    "from numpy import linspace, floor, ceil\n",
    "\n",
    "# Two points make a line:\n",
    "x_fit = linspace(floor(x.min()), ceil(x.max()), 2)\n",
    "y_fit = alpha*x_fit + beta\n",
    "\n",
    "scatter(x, y, marker='o')\n",
    "plot(x_fit, y_fit, 'r--')\n",
    "xlabel('LSD Tissue Concentration')\n",
    "title('Best-fit linear model');"
   ]
  },
  {
   "cell_type": "markdown",
   "metadata": {
    "collapsed": true,
    "deletable": false,
    "editable": false,
    "nbgrader": {
     "grade": false,
     "grade_id": "cell-4ee64498f42f4081",
     "locked": true,
     "schema_version": 1,
     "solution": false
    }
   },
   "source": [
    "**Fin!** If you've gotten this far without errors, your notebook is ready to submit."
   ]
  }
 ],
 "metadata": {
  "celltoolbar": "Create Assignment",
  "kernelspec": {
   "display_name": "Python 3.8",
   "language": "python",
   "name": "python38"
  },
  "language_info": {
   "codemirror_mode": {
    "name": "ipython",
    "version": 3
   },
   "file_extension": ".py",
   "mimetype": "text/x-python",
   "name": "python",
   "nbconvert_exporter": "python",
   "pygments_lexer": "ipython3",
   "version": "3.8.7"
  }
 },
 "nbformat": 4,
 "nbformat_minor": 2
}
